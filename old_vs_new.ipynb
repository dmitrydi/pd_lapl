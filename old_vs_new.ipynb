{
 "cells": [
  {
   "cell_type": "markdown",
   "metadata": {},
   "source": [
    "### Here I finally checked that full-fracture-length solution gives reference results with high accuracy. I used mid-point approximation for integral equation. It is important that in front of fracture green fuction should be multiplier 0.5 and integral over sources should be equal 2/s"
   ]
  },
  {
   "cell_type": "code",
   "execution_count": 1,
   "metadata": {},
   "outputs": [],
   "source": [
    "import numpy as np\n",
    "from source_helper import *\n",
    "import matplotlib.pyplot as plt\n",
    "% matplotlib inline\n",
    "from time import time\n",
    "from lapl_well import LaplWell\n",
    "from helper import Helper\n",
    "from old_helper import OldHelper"
   ]
  },
  {
   "cell_type": "code",
   "execution_count": 2,
   "metadata": {
    "collapsed": true
   },
   "outputs": [],
   "source": [
    "xwd = 0.\n",
    "ywd = 0.\n",
    "zwd = 0.\n",
    "outer_bound = \"infinite\"\n",
    "top_bound = \"imp\"\n",
    "bottom_bound = \"imp\"\n",
    "wtype = \"frac\"\n",
    "params = {\"nseg\": 10, \"kx\": 1., \"ky\": 1., \"kz\": 1., \"omega\": 1, \"lambda\": 1, \"Fcd\":1}\n",
    "well = LaplWell(xwd, ywd, zwd, outer_bound, top_bound, bottom_bound, wtype, params)"
   ]
  },
  {
   "cell_type": "markdown",
   "metadata": {},
   "source": [
    "### Here I cheked right parts"
   ]
  },
  {
   "cell_type": "code",
   "execution_count": 3,
   "metadata": {
    "collapsed": true
   },
   "outputs": [],
   "source": [
    "from well import Well\n",
    "import pandas as pd"
   ]
  },
  {
   "cell_type": "code",
   "execution_count": 8,
   "metadata": {},
   "outputs": [
    {
     "name": "stdout",
     "output_type": "stream",
     "text": [
      "Fcd = 0.628318531\n"
     ]
    }
   ],
   "source": [
    "ref_df = pd.read_csv('./calibration_points.csv', sep=\";\", decimal=',')\n",
    "y_true = ref_df.iloc[:,[1]]\n",
    "Fcd = float(y_true.columns[0].replace(',', '.'))\n",
    "ts = np.array(ref_df[\"Td_xf\"])\n",
    "print(\"Fcd = {}\".format(Fcd))"
   ]
  },
  {
   "cell_type": "code",
   "execution_count": 9,
   "metadata": {
    "collapsed": true
   },
   "outputs": [],
   "source": [
    "xw = 0\n",
    "yw = 0\n",
    "outer_bound = \"infinite\"\n",
    "top_bound = \"imp\"\n",
    "bottom_bound = \"imp\"\n",
    "wtype = \"frac\"\n",
    "n_stehf = 12\n",
    "params = {\"nseg\": 20, \"kx\": 1., \"ky\": 1., \"kz\": 1., \"omega\": 1, \"lambda\": 1, \"Fcd\":Fcd, \"ref_length\":1.,\n",
    "         \"z_ref_length\": 1}\n",
    "real_well = Well(xw, yw, outer_bound, top_bound, bottom_bound, wtype, params, n_stehf)"
   ]
  },
  {
   "cell_type": "code",
   "execution_count": 10,
   "metadata": {
    "collapsed": true
   },
   "outputs": [],
   "source": [
    "y_pred_new = []\n",
    "for t in ts:\n",
    "    y_pred_new.append(real_well.get_pw(t))"
   ]
  },
  {
   "cell_type": "code",
   "execution_count": 11,
   "metadata": {},
   "outputs": [
    {
     "data": {
      "text/plain": [
       "[<matplotlib.lines.Line2D at 0x81cf5f0>]"
      ]
     },
     "execution_count": 11,
     "metadata": {},
     "output_type": "execute_result"
    },
    {
     "data": {
      "image/png": "[encoded data removed]",
      "text/plain": [
       "<matplotlib.figure.Figure at 0x7ee4b90>"
      ]
     },
     "metadata": {},
     "output_type": "display_data"
    }
   ],
   "source": [
    "plt.xscale(\"log\")\n",
    "plt.plot(ts,y_true)\n",
    "plt.plot(ts, y_pred_new)"
   ]
  },
  {
   "cell_type": "code",
   "execution_count": 17,
   "metadata": {},
   "outputs": [
    {
     "data": {
      "text/plain": [
       "array([ -3.69129806e-03,  -9.22954319e-03,  -7.96626024e-03,\n",
       "        -6.68066612e-03,  -5.76428573e-03,  -4.93726975e-03,\n",
       "        -4.34889237e-03,  -3.88408689e-03,  -3.51240001e-03,\n",
       "        -3.20465206e-03,  -2.59847107e-02,  -5.81828023e-03,\n",
       "        -4.67735611e-03,  -3.78777433e-03,  -3.17312992e-03,\n",
       "        -2.67545500e-03,  -2.26870767e-03,  -1.95340833e-03,\n",
       "        -1.70770455e-03,  -2.87011682e-03,  -1.93318838e-03,\n",
       "        -1.33915324e-03,  -9.38585238e-04,  -7.27613977e-04,\n",
       "        -5.44753337e-04,  -4.28310104e-04,  -3.44535951e-04,\n",
       "        -2.97777781e-04,  -3.21795213e-04,  -1.61405387e-04,\n",
       "        -1.02026956e-04,  -9.55819236e-05,  -6.27081612e-05,\n",
       "        -4.47809363e-05,  -3.42579721e-05,  -3.78314309e-05,\n",
       "        -2.56018383e-05,  -1.82543472e-05,  -4.93619988e-03,\n",
       "        -1.26781670e-05,  -1.10744553e-05,  -5.45391461e-06,\n",
       "         7.16209450e-06,  -7.56326292e-06,  -1.06427554e-05,\n",
       "         6.78774617e-06,   6.80415047e-06,  -1.22722603e-06,\n",
       "        -2.89739983e-07,  -8.33979718e-06,   2.10809231e-06,\n",
       "        -8.91581025e-06,  -1.10532285e-06,   1.69241956e-06,\n",
       "        -4.52793504e-05])"
      ]
     },
     "execution_count": 17,
     "metadata": {},
     "output_type": "execute_result"
    }
   ],
   "source": [
    "y_ = np.array(y_true).flatten()\n",
    "(y_ - y_pred_new)/y_"
   ]
  },
  {
   "cell_type": "code",
   "execution_count": 22,
   "metadata": {},
   "outputs": [
    {
     "data": {
      "text/plain": [
       "[<matplotlib.lines.Line2D at 0x93b6e30>]"
      ]
     },
     "execution_count": 22,
     "metadata": {},
     "output_type": "execute_result"
    },
    {
     "data": {
      "image/png": "[encoded data removed]",
      "text/plain": [
       "<matplotlib.figure.Figure at 0x94ddc90>"
      ]
     },
     "metadata": {},
     "output_type": "display_data"
    }
   ],
   "source": [
    "dx = (np.array(y_true).flatten() - y_pred_new)/np.array(y_true).flatten()\n",
    "dx.shape\n",
    "plt.plot(dx)"
   ]
  },
  {
   "cell_type": "code",
   "execution_count": 18,
   "metadata": {
    "collapsed": true
   },
   "outputs": [],
   "source": [
    "ss = np.log(2.)/np.logspace(-3,1,5)"
   ]
  },
  {
   "cell_type": "code",
   "execution_count": 24,
   "metadata": {
    "collapsed": true
   },
   "outputs": [],
   "source": [
    "s = ss[2]\n",
    "real_well.lapl_well.recalc(s)\n",
    "new_src = real_well.lapl_well.source_distrib"
   ]
  },
  {
   "cell_type": "code",
   "execution_count": 25,
   "metadata": {},
   "outputs": [
    {
     "data": {
      "text/plain": [
       "[<matplotlib.lines.Line2D at 0x889dd10>]"
      ]
     },
     "execution_count": 25,
     "metadata": {},
     "output_type": "execute_result"
    },
    {
     "data": {
      "image/png": "[encoded data removed]",
      "text/plain": [
       "<matplotlib.figure.Figure at 0x821f390>"
      ]
     },
     "metadata": {},
     "output_type": "display_data"
    }
   ],
   "source": [
    "#plt.plot(old_src)\n",
    "plt.plot(new_src)"
   ]
  },
  {
   "cell_type": "code",
   "execution_count": null,
   "metadata": {
    "collapsed": true
   },
   "outputs": [],
   "source": []
  }
 ],
 "metadata": {
  "kernelspec": {
   "display_name": "Python 3",
   "language": "python",
   "name": "python3"
  },
  "language_info": {
   "codemirror_mode": {
    "name": "ipython",
    "version": 3
   },
   "file_extension": ".py",
   "mimetype": "text/x-python",
   "name": "python",
   "nbconvert_exporter": "python",
   "pygments_lexer": "ipython3",
   "version": "3.6.1"
  }
 },
 "nbformat": 4,
 "nbformat_minor": 2
}
