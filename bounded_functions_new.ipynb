{
 "cells": [
  {
   "cell_type": "code",
   "execution_count": 1,
   "metadata": {
    "collapsed": true
   },
   "outputs": [],
   "source": [
    "import numpy as np\n",
    "import matplotlib.pyplot as plt\n",
    "from scipy.integrate import quad\n",
    "from scipy.special import k0, iti0k0\n",
    "import matplotlib.pyplot as plt\n",
    "% matplotlib inline\n",
    "from time import time\n",
    "from new_struct.well import Well as NewWell"
   ]
  },
  {
   "cell_type": "code",
   "execution_count": 2,
   "metadata": {
    "collapsed": true
   },
   "outputs": [],
   "source": [
    "top_bound = \"imp\"\n",
    "bottom_bound = \"imp\"\n",
    "wtype = \"frac\"\n",
    "n_stehf = 10\n",
    "xwd = 2.5\n",
    "xed = 5.\n",
    "ywd = 2.5\n",
    "yed = 5.\n",
    "N = 20\n",
    "Fcd = 10\n",
    "new_well_nnnn = NewWell(\"nnnn\", top_bound, bottom_bound, \"frac\", N, 1, [xwd], [ywd], x_lengths = 1,\n",
    "                     xed = xed, yed = yed, attrs = {\"Fcd\":Fcd})\n",
    "new_well_inf = NewWell(\"inf\", top_bound, bottom_bound, \"frac\", N, 1, [0.], [0.], x_lengths = 1,\n",
    "                     xed = xed, yed = yed, attrs = {\"Fcd\":Fcd})"
   ]
  },
  {
   "cell_type": "markdown",
   "metadata": {},
   "source": [
    "### playing with new containers"
   ]
  },
  {
   "cell_type": "code",
   "execution_count": 3,
   "metadata": {
    "collapsed": true
   },
   "outputs": [],
   "source": [
    "_, xjs, xj1s, yws, _, _, _ = new_well_nnnn.lapl_well.matrixizer.raw"
   ]
  },
  {
   "cell_type": "code",
   "execution_count": 4,
   "metadata": {},
   "outputs": [],
   "source": [
    "xjs = xjs[0,...]\n",
    "xj1s = xj1s[0,...]\n",
    "yws = yws[0,...]\n",
    "xis = 3*np.ones_like(xjs)\n",
    "yds = 3*np.ones_like(xjs)\n",
    "buf_k = {\"dyds_0\":{}, \"dyds_nnz\":{}}\n",
    "buf_fb_1_2 = {}"
   ]
  },
  {
   "cell_type": "markdown",
   "metadata": {},
   "source": [
    "### test_calc"
   ]
  },
  {
   "cell_type": "code",
   "execution_count": 5,
   "metadata": {
    "collapsed": true
   },
   "outputs": [],
   "source": [
    "ts = np.logspace(-3, 1, 41)"
   ]
  },
  {
   "cell_type": "code",
   "execution_count": 6,
   "metadata": {},
   "outputs": [],
   "source": [
    "p_inf_new = []\n",
    "for t in ts:\n",
    "    p_inf_new.append(new_well_inf.pw(t))"
   ]
  },
  {
   "cell_type": "code",
   "execution_count": 7,
   "metadata": {},
   "outputs": [
    {
     "data": {
      "text/plain": [
       "[<matplotlib.lines.Line2D at 0x5f559f0>]"
      ]
     },
     "execution_count": 7,
     "metadata": {},
     "output_type": "execute_result"
    },
    {
     "data": {
      "image/png": "[encoded data removed]",
      "text/plain": [
       "<matplotlib.figure.Figure at 0x31483b0>"
      ]
     },
     "metadata": {},
     "output_type": "display_data"
    }
   ],
   "source": [
    "plt.plot(ts, p_inf_new)"
   ]
  },
  {
   "cell_type": "code",
   "execution_count": 8,
   "metadata": {},
   "outputs": [
    {
     "name": "stdout",
     "output_type": "stream",
     "text": [
      "6.20735502243042\n"
     ]
    }
   ],
   "source": [
    "t1 = time()\n",
    "p_nnnn_new = []\n",
    "for t in ts:\n",
    "    p_nnnn_new.append(new_well_nnnn.pw(t))\n",
    "print(time() - t1)"
   ]
  },
  {
   "cell_type": "code",
   "execution_count": 9,
   "metadata": {},
   "outputs": [
    {
     "data": {
      "text/plain": [
       "[<matplotlib.lines.Line2D at 0x6fbd5d0>]"
      ]
     },
     "execution_count": 9,
     "metadata": {},
     "output_type": "execute_result"
    },
    {
     "data": {
      "image/png": "[encoded data removed]",
      "text/plain": [
       "<matplotlib.figure.Figure at 0x317d7f0>"
      ]
     },
     "metadata": {},
     "output_type": "display_data"
    }
   ],
   "source": [
    "plt.plot(ts, p_nnnn_new)"
   ]
  },
  {
   "cell_type": "code",
   "execution_count": 18,
   "metadata": {},
   "outputs": [],
   "source": [
    "yds = np.linspace(1, yed-1, 21)\n",
    "xds = xwd*np.ones_like(yds)\n",
    "t = 5\n",
    "coords = np.vstack([xds, yds]).T\n",
    "pxys = []\n",
    "for xd, yd in coords:\n",
    "    pxys.append(new_well_nnnn.pxy(t, xd, yd))"
   ]
  },
  {
   "cell_type": "code",
   "execution_count": 19,
   "metadata": {},
   "outputs": [
    {
     "name": "stdout",
     "output_type": "stream",
     "text": [
      "2.4427003286\n",
      "2.44878098657\n"
     ]
    }
   ],
   "source": [
    "print(pxys[np.argwhere(coords[:,1]==ywd)[0,0]])\n",
    "print(new_well_nnnn.pw(t))"
   ]
  },
  {
   "cell_type": "code",
   "execution_count": 20,
   "metadata": {},
   "outputs": [],
   "source": [
    "yds_inf = np.linspace(-2, 2, 21)\n",
    "xds_inf = np.zeros_like(yds_inf)\n",
    "t = 5\n",
    "coords_inf = np.vstack([xds_inf, yds_inf]).T\n",
    "pxys_inf = []\n",
    "for xd, yd in coords_inf:\n",
    "    pxys_inf.append(new_well_inf.pxy(t, xd, yd))"
   ]
  },
  {
   "cell_type": "code",
   "execution_count": 21,
   "metadata": {},
   "outputs": [
    {
     "data": {
      "text/plain": [
       "[<matplotlib.lines.Line2D at 0x2d86bad0>]"
      ]
     },
     "execution_count": 21,
     "metadata": {},
     "output_type": "execute_result"
    },
    {
     "data": {
      "image/png": "[encoded data removed]",
      "text/plain": [
       "<matplotlib.figure.Figure at 0x2c465e90>"
      ]
     },
     "metadata": {},
     "output_type": "display_data"
    }
   ],
   "source": [
    "plt.plot(coords[:,1], pxys)\n",
    "plt.plot(coords_inf[:,1]+ywd, pxys_inf)"
   ]
  },
  {
   "cell_type": "code",
   "execution_count": null,
   "metadata": {
    "collapsed": true
   },
   "outputs": [],
   "source": []
  },
  {
   "cell_type": "code",
   "execution_count": 14,
   "metadata": {},
   "outputs": [],
   "source": [
    "from new_struct.integrators import frac_inf, frac_nnnn"
   ]
  },
  {
   "cell_type": "code",
   "execution_count": 18,
   "metadata": {},
   "outputs": [],
   "source": [
    "u = 7\n",
    "xd = 3\n",
    "yd = 4\n",
    "_, xjs_, xj1s_, yws_, _, zws_, zds_ = new_well_nnnn.lapl_well.matrixizer.raw\n",
    "xjs = xjs_[0,...]\n",
    "xj1s = xj1s_[0,...]\n",
    "yws = yws_[0,...]\n",
    "xis = xd*np.ones_like(xjs, dtype=np.float)\n",
    "yds = yd*np.ones_like(xjs, dtype=np.float)\n",
    "buf = {\"dyds_0\": {}, \"dyds_nnz\": {}}\n",
    "m = frac_nnnn.integrate_matrix_(u, buf, buf, xed, yed, xis, xjs, xj1s, yws, yds, zws_, zds_)"
   ]
  },
  {
   "cell_type": "code",
   "execution_count": 20,
   "metadata": {},
   "outputs": [
    {
     "data": {
      "text/plain": [
       "[<matplotlib.lines.Line2D at 0x61b19d0>]"
      ]
     },
     "execution_count": 20,
     "metadata": {},
     "output_type": "execute_result"
    },
    {
     "data": {
      "image/png": "[encoded data removed]",
      "text/plain": [
       "<matplotlib.figure.Figure at 0x6011e50>"
      ]
     },
     "metadata": {},
     "output_type": "display_data"
    }
   ],
   "source": [
    "plt.plot(m)"
   ]
  },
  {
   "cell_type": "code",
   "execution_count": 22,
   "metadata": {},
   "outputs": [],
   "source": [
    "del buf['dyds_0']"
   ]
  },
  {
   "cell_type": "code",
   "execution_count": 23,
   "metadata": {},
   "outputs": [
    {
     "data": {
      "text/plain": [
       "{'dyds_nnz': {'-1+': (array([ 0,  1,  2,  3,  4,  5,  6,  7,  8,  9, 10, 11, 12, 13, 14, 15, 16,\n",
       "          17, 18, 19, 20, 21, 22, 23, 24, 25, 26, 27, 28, 29, 30, 31, 32, 33,\n",
       "          34, 35, 36, 37, 38, 39], dtype=int32),\n",
       "   array([[ 14.55,   0.05,   1.5 ],\n",
       "          [ 14.6 ,   0.05,   1.5 ],\n",
       "          [ 14.65,   0.05,   1.5 ],\n",
       "          [ 14.7 ,   0.05,   1.5 ],\n",
       "          [ 14.75,   0.05,   1.5 ],\n",
       "          [ 14.8 ,   0.05,   1.5 ],\n",
       "          [ 14.85,   0.05,   1.5 ],\n",
       "          [ 14.9 ,   0.05,   1.5 ],\n",
       "          [ 14.95,   0.05,   1.5 ],\n",
       "          [ 15.  ,   0.05,   1.5 ],\n",
       "          [ 15.05,   0.05,   1.5 ],\n",
       "          [ 15.1 ,   0.05,   1.5 ],\n",
       "          [ 15.15,   0.05,   1.5 ],\n",
       "          [ 15.2 ,   0.05,   1.5 ],\n",
       "          [ 15.25,   0.05,   1.5 ],\n",
       "          [ 15.3 ,   0.05,   1.5 ],\n",
       "          [ 15.35,   0.05,   1.5 ],\n",
       "          [ 15.4 ,   0.05,   1.5 ],\n",
       "          [ 15.45,   0.05,   1.5 ],\n",
       "          [ 15.5 ,   0.05,   1.5 ],\n",
       "          [ 15.55,   0.05,   1.5 ],\n",
       "          [ 15.6 ,   0.05,   1.5 ],\n",
       "          [ 15.65,   0.05,   1.5 ],\n",
       "          [ 15.7 ,   0.05,   1.5 ],\n",
       "          [ 15.75,   0.05,   1.5 ],\n",
       "          [ 15.8 ,   0.05,   1.5 ],\n",
       "          [ 15.85,   0.05,   1.5 ],\n",
       "          [ 15.9 ,   0.05,   1.5 ],\n",
       "          [ 15.95,   0.05,   1.5 ],\n",
       "          [ 16.  ,   0.05,   1.5 ],\n",
       "          [ 16.05,   0.05,   1.5 ],\n",
       "          [ 16.1 ,   0.05,   1.5 ],\n",
       "          [ 16.15,   0.05,   1.5 ],\n",
       "          [ 16.2 ,   0.05,   1.5 ],\n",
       "          [ 16.25,   0.05,   1.5 ],\n",
       "          [ 16.3 ,   0.05,   1.5 ],\n",
       "          [ 16.35,   0.05,   1.5 ],\n",
       "          [ 16.4 ,   0.05,   1.5 ],\n",
       "          [ 16.45,   0.05,   1.5 ],\n",
       "          [ 16.5 ,   0.05,   1.5 ]]),\n",
       "   array([ 0,  1,  2,  3,  4,  5,  6,  7,  8,  9, 10, 11, 12, 13, 14, 15, 16,\n",
       "          17, 18, 19, 20, 21, 22, 23, 24, 25, 26, 27, 28, 29, 30, 31, 32, 33,\n",
       "          34, 35, 36, 37, 38, 39], dtype=int32)),\n",
       "  '-1-': (array([ 0,  1,  2,  3,  4,  5,  6,  7,  8,  9, 10, 11, 12, 13, 14, 15, 16,\n",
       "          17, 18, 19, 20, 21, 22, 23, 24, 25, 26, 27, 28, 29, 30, 31, 32, 33,\n",
       "          34, 35, 36, 37, 38, 39], dtype=int32),\n",
       "   array([[  8.55,   0.05,   1.5 ],\n",
       "          [  8.6 ,   0.05,   1.5 ],\n",
       "          [  8.65,   0.05,   1.5 ],\n",
       "          [  8.7 ,   0.05,   1.5 ],\n",
       "          [  8.75,   0.05,   1.5 ],\n",
       "          [  8.8 ,   0.05,   1.5 ],\n",
       "          [  8.85,   0.05,   1.5 ],\n",
       "          [  8.9 ,   0.05,   1.5 ],\n",
       "          [  8.95,   0.05,   1.5 ],\n",
       "          [  9.  ,   0.05,   1.5 ],\n",
       "          [  9.05,   0.05,   1.5 ],\n",
       "          [  9.1 ,   0.05,   1.5 ],\n",
       "          [  9.15,   0.05,   1.5 ],\n",
       "          [  9.2 ,   0.05,   1.5 ],\n",
       "          [  9.25,   0.05,   1.5 ],\n",
       "          [  9.3 ,   0.05,   1.5 ],\n",
       "          [  9.35,   0.05,   1.5 ],\n",
       "          [  9.4 ,   0.05,   1.5 ],\n",
       "          [  9.45,   0.05,   1.5 ],\n",
       "          [  9.5 ,   0.05,   1.5 ],\n",
       "          [  9.55,   0.05,   1.5 ],\n",
       "          [  9.6 ,   0.05,   1.5 ],\n",
       "          [  9.65,   0.05,   1.5 ],\n",
       "          [  9.7 ,   0.05,   1.5 ],\n",
       "          [  9.75,   0.05,   1.5 ],\n",
       "          [  9.8 ,   0.05,   1.5 ],\n",
       "          [  9.85,   0.05,   1.5 ],\n",
       "          [  9.9 ,   0.05,   1.5 ],\n",
       "          [  9.95,   0.05,   1.5 ],\n",
       "          [ 10.  ,   0.05,   1.5 ],\n",
       "          [ 10.05,   0.05,   1.5 ],\n",
       "          [ 10.1 ,   0.05,   1.5 ],\n",
       "          [ 10.15,   0.05,   1.5 ],\n",
       "          [ 10.2 ,   0.05,   1.5 ],\n",
       "          [ 10.25,   0.05,   1.5 ],\n",
       "          [ 10.3 ,   0.05,   1.5 ],\n",
       "          [ 10.35,   0.05,   1.5 ],\n",
       "          [ 10.4 ,   0.05,   1.5 ],\n",
       "          [ 10.45,   0.05,   1.5 ],\n",
       "          [ 10.5 ,   0.05,   1.5 ]]),\n",
       "   array([ 0,  1,  2,  3,  4,  5,  6,  7,  8,  9, 10, 11, 12, 13, 14, 15, 16,\n",
       "          17, 18, 19, 20, 21, 22, 23, 24, 25, 26, 27, 28, 29, 30, 31, 32, 33,\n",
       "          34, 35, 36, 37, 38, 39], dtype=int32)),\n",
       "  '-2+': (array([ 0,  1,  2,  3,  4,  5,  6,  7,  8,  9, 10, 11, 12, 13, 14, 15, 16,\n",
       "          17, 18, 19, 20, 21, 22, 23, 24, 25, 26, 27, 28, 29, 30, 31, 32, 33,\n",
       "          34, 35, 36, 37, 38, 39], dtype=int32),\n",
       "   array([[ 24.55,   0.05,   1.5 ],\n",
       "          [ 24.6 ,   0.05,   1.5 ],\n",
       "          [ 24.65,   0.05,   1.5 ],\n",
       "          [ 24.7 ,   0.05,   1.5 ],\n",
       "          [ 24.75,   0.05,   1.5 ],\n",
       "          [ 24.8 ,   0.05,   1.5 ],\n",
       "          [ 24.85,   0.05,   1.5 ],\n",
       "          [ 24.9 ,   0.05,   1.5 ],\n",
       "          [ 24.95,   0.05,   1.5 ],\n",
       "          [ 25.  ,   0.05,   1.5 ],\n",
       "          [ 25.05,   0.05,   1.5 ],\n",
       "          [ 25.1 ,   0.05,   1.5 ],\n",
       "          [ 25.15,   0.05,   1.5 ],\n",
       "          [ 25.2 ,   0.05,   1.5 ],\n",
       "          [ 25.25,   0.05,   1.5 ],\n",
       "          [ 25.3 ,   0.05,   1.5 ],\n",
       "          [ 25.35,   0.05,   1.5 ],\n",
       "          [ 25.4 ,   0.05,   1.5 ],\n",
       "          [ 25.45,   0.05,   1.5 ],\n",
       "          [ 25.5 ,   0.05,   1.5 ],\n",
       "          [ 25.55,   0.05,   1.5 ],\n",
       "          [ 25.6 ,   0.05,   1.5 ],\n",
       "          [ 25.65,   0.05,   1.5 ],\n",
       "          [ 25.7 ,   0.05,   1.5 ],\n",
       "          [ 25.75,   0.05,   1.5 ],\n",
       "          [ 25.8 ,   0.05,   1.5 ],\n",
       "          [ 25.85,   0.05,   1.5 ],\n",
       "          [ 25.9 ,   0.05,   1.5 ],\n",
       "          [ 25.95,   0.05,   1.5 ],\n",
       "          [ 26.  ,   0.05,   1.5 ],\n",
       "          [ 26.05,   0.05,   1.5 ],\n",
       "          [ 26.1 ,   0.05,   1.5 ],\n",
       "          [ 26.15,   0.05,   1.5 ],\n",
       "          [ 26.2 ,   0.05,   1.5 ],\n",
       "          [ 26.25,   0.05,   1.5 ],\n",
       "          [ 26.3 ,   0.05,   1.5 ],\n",
       "          [ 26.35,   0.05,   1.5 ],\n",
       "          [ 26.4 ,   0.05,   1.5 ],\n",
       "          [ 26.45,   0.05,   1.5 ],\n",
       "          [ 26.5 ,   0.05,   1.5 ]]),\n",
       "   array([ 0,  1,  2,  3,  4,  5,  6,  7,  8,  9, 10, 11, 12, 13, 14, 15, 16,\n",
       "          17, 18, 19, 20, 21, 22, 23, 24, 25, 26, 27, 28, 29, 30, 31, 32, 33,\n",
       "          34, 35, 36, 37, 38, 39], dtype=int32)),\n",
       "  '-2-': (array([ 0,  1,  2,  3,  4,  5,  6,  7,  8,  9, 10, 11, 12, 13, 14, 15, 16,\n",
       "          17, 18, 19, 20, 21, 22, 23, 24, 25, 26, 27, 28, 29, 30, 31, 32, 33,\n",
       "          34, 35, 36, 37, 38, 39], dtype=int32),\n",
       "   array([[ 18.55,   0.05,   1.5 ],\n",
       "          [ 18.6 ,   0.05,   1.5 ],\n",
       "          [ 18.65,   0.05,   1.5 ],\n",
       "          [ 18.7 ,   0.05,   1.5 ],\n",
       "          [ 18.75,   0.05,   1.5 ],\n",
       "          [ 18.8 ,   0.05,   1.5 ],\n",
       "          [ 18.85,   0.05,   1.5 ],\n",
       "          [ 18.9 ,   0.05,   1.5 ],\n",
       "          [ 18.95,   0.05,   1.5 ],\n",
       "          [ 19.  ,   0.05,   1.5 ],\n",
       "          [ 19.05,   0.05,   1.5 ],\n",
       "          [ 19.1 ,   0.05,   1.5 ],\n",
       "          [ 19.15,   0.05,   1.5 ],\n",
       "          [ 19.2 ,   0.05,   1.5 ],\n",
       "          [ 19.25,   0.05,   1.5 ],\n",
       "          [ 19.3 ,   0.05,   1.5 ],\n",
       "          [ 19.35,   0.05,   1.5 ],\n",
       "          [ 19.4 ,   0.05,   1.5 ],\n",
       "          [ 19.45,   0.05,   1.5 ],\n",
       "          [ 19.5 ,   0.05,   1.5 ],\n",
       "          [ 19.55,   0.05,   1.5 ],\n",
       "          [ 19.6 ,   0.05,   1.5 ],\n",
       "          [ 19.65,   0.05,   1.5 ],\n",
       "          [ 19.7 ,   0.05,   1.5 ],\n",
       "          [ 19.75,   0.05,   1.5 ],\n",
       "          [ 19.8 ,   0.05,   1.5 ],\n",
       "          [ 19.85,   0.05,   1.5 ],\n",
       "          [ 19.9 ,   0.05,   1.5 ],\n",
       "          [ 19.95,   0.05,   1.5 ],\n",
       "          [ 20.  ,   0.05,   1.5 ],\n",
       "          [ 20.05,   0.05,   1.5 ],\n",
       "          [ 20.1 ,   0.05,   1.5 ],\n",
       "          [ 20.15,   0.05,   1.5 ],\n",
       "          [ 20.2 ,   0.05,   1.5 ],\n",
       "          [ 20.25,   0.05,   1.5 ],\n",
       "          [ 20.3 ,   0.05,   1.5 ],\n",
       "          [ 20.35,   0.05,   1.5 ],\n",
       "          [ 20.4 ,   0.05,   1.5 ],\n",
       "          [ 20.45,   0.05,   1.5 ],\n",
       "          [ 20.5 ,   0.05,   1.5 ]]),\n",
       "   array([ 0,  1,  2,  3,  4,  5,  6,  7,  8,  9, 10, 11, 12, 13, 14, 15, 16,\n",
       "          17, 18, 19, 20, 21, 22, 23, 24, 25, 26, 27, 28, 29, 30, 31, 32, 33,\n",
       "          34, 35, 36, 37, 38, 39], dtype=int32)),\n",
       "  '0+': (array([ 0,  1,  2,  3,  4,  5,  6,  7,  8,  9, 10, 11, 12, 13, 14, 15, 16,\n",
       "          17, 18, 19, 20, 21, 22, 23, 24, 25, 26, 27, 28, 29, 30, 31, 32, 33,\n",
       "          34, 35, 36, 37, 38, 39], dtype=int32), array([[ 4.55,  0.05,  1.5 ],\n",
       "          [ 4.6 ,  0.05,  1.5 ],\n",
       "          [ 4.65,  0.05,  1.5 ],\n",
       "          [ 4.7 ,  0.05,  1.5 ],\n",
       "          [ 4.75,  0.05,  1.5 ],\n",
       "          [ 4.8 ,  0.05,  1.5 ],\n",
       "          [ 4.85,  0.05,  1.5 ],\n",
       "          [ 4.9 ,  0.05,  1.5 ],\n",
       "          [ 4.95,  0.05,  1.5 ],\n",
       "          [ 5.  ,  0.05,  1.5 ],\n",
       "          [ 5.05,  0.05,  1.5 ],\n",
       "          [ 5.1 ,  0.05,  1.5 ],\n",
       "          [ 5.15,  0.05,  1.5 ],\n",
       "          [ 5.2 ,  0.05,  1.5 ],\n",
       "          [ 5.25,  0.05,  1.5 ],\n",
       "          [ 5.3 ,  0.05,  1.5 ],\n",
       "          [ 5.35,  0.05,  1.5 ],\n",
       "          [ 5.4 ,  0.05,  1.5 ],\n",
       "          [ 5.45,  0.05,  1.5 ],\n",
       "          [ 5.5 ,  0.05,  1.5 ],\n",
       "          [ 5.55,  0.05,  1.5 ],\n",
       "          [ 5.6 ,  0.05,  1.5 ],\n",
       "          [ 5.65,  0.05,  1.5 ],\n",
       "          [ 5.7 ,  0.05,  1.5 ],\n",
       "          [ 5.75,  0.05,  1.5 ],\n",
       "          [ 5.8 ,  0.05,  1.5 ],\n",
       "          [ 5.85,  0.05,  1.5 ],\n",
       "          [ 5.9 ,  0.05,  1.5 ],\n",
       "          [ 5.95,  0.05,  1.5 ],\n",
       "          [ 6.  ,  0.05,  1.5 ],\n",
       "          [ 6.05,  0.05,  1.5 ],\n",
       "          [ 6.1 ,  0.05,  1.5 ],\n",
       "          [ 6.15,  0.05,  1.5 ],\n",
       "          [ 6.2 ,  0.05,  1.5 ],\n",
       "          [ 6.25,  0.05,  1.5 ],\n",
       "          [ 6.3 ,  0.05,  1.5 ],\n",
       "          [ 6.35,  0.05,  1.5 ],\n",
       "          [ 6.4 ,  0.05,  1.5 ],\n",
       "          [ 6.45,  0.05,  1.5 ],\n",
       "          [ 6.5 ,  0.05,  1.5 ]]), array([ 0,  1,  2,  3,  4,  5,  6,  7,  8,  9, 10, 11, 12, 13, 14, 15, 16,\n",
       "          17, 18, 19, 20, 21, 22, 23, 24, 25, 26, 27, 28, 29, 30, 31, 32, 33,\n",
       "          34, 35, 36, 37, 38, 39], dtype=int32)),\n",
       "  '0-': (array([ 0,  1,  2,  3,  4,  5,  6,  7,  8,  9, 10, 11, 12, 13, 14, 15, 16,\n",
       "          17, 18, 19, 20, 21, 22, 23, 24, 25, 26, 27, 28, 29, 30, 31, 32, 33,\n",
       "          34, 35, 36, 37, 38, 39], dtype=int32), array([[ 0.05,  0.05,  1.5 ],\n",
       "          [ 0.1 ,  0.05,  1.5 ],\n",
       "          [ 0.15,  0.05,  1.5 ],\n",
       "          [ 0.2 ,  0.05,  1.5 ],\n",
       "          [ 0.25,  0.05,  1.5 ],\n",
       "          [ 0.3 ,  0.05,  1.5 ],\n",
       "          [ 0.35,  0.05,  1.5 ],\n",
       "          [ 0.4 ,  0.05,  1.5 ],\n",
       "          [ 0.45,  0.05,  1.5 ],\n",
       "          [ 0.5 ,  0.05,  1.5 ],\n",
       "          [ 0.55,  0.05,  1.5 ],\n",
       "          [ 0.6 ,  0.05,  1.5 ],\n",
       "          [ 0.65,  0.05,  1.5 ],\n",
       "          [ 0.7 ,  0.05,  1.5 ],\n",
       "          [ 0.75,  0.05,  1.5 ],\n",
       "          [ 0.8 ,  0.05,  1.5 ],\n",
       "          [ 0.85,  0.05,  1.5 ],\n",
       "          [ 0.9 ,  0.05,  1.5 ],\n",
       "          [ 0.95,  0.05,  1.5 ],\n",
       "          [ 1.  ,  0.05,  1.5 ],\n",
       "          [ 1.05,  0.05,  1.5 ],\n",
       "          [ 1.1 ,  0.05,  1.5 ],\n",
       "          [ 1.15,  0.05,  1.5 ],\n",
       "          [ 1.2 ,  0.05,  1.5 ],\n",
       "          [ 1.25,  0.05,  1.5 ],\n",
       "          [ 1.3 ,  0.05,  1.5 ],\n",
       "          [ 1.35,  0.05,  1.5 ],\n",
       "          [ 1.4 ,  0.05,  1.5 ],\n",
       "          [ 1.45,  0.05,  1.5 ],\n",
       "          [ 1.5 ,  0.05,  1.5 ]]), array([29, 28, 27, 26, 25, 24, 23, 22, 21, 20, 19, 18, 17, 16, 15, 14, 13,\n",
       "          12, 11, 10,  9,  8,  7,  6,  5,  4,  3,  2,  1,  0,  0,  1,  2,  3,\n",
       "           4,  5,  6,  7,  8,  9], dtype=int32)),\n",
       "  '1+': (array([ 0,  1,  2,  3,  4,  5,  6,  7,  8,  9, 10, 11, 12, 13, 14, 15, 16,\n",
       "          17, 18, 19, 20, 21, 22, 23, 24, 25, 26, 27, 28, 29, 30, 31, 32, 33,\n",
       "          34, 35, 36, 37, 38, 39], dtype=int32), array([[ 3.55,  0.05,  1.5 ],\n",
       "          [ 3.6 ,  0.05,  1.5 ],\n",
       "          [ 3.65,  0.05,  1.5 ],\n",
       "          [ 3.7 ,  0.05,  1.5 ],\n",
       "          [ 3.75,  0.05,  1.5 ],\n",
       "          [ 3.8 ,  0.05,  1.5 ],\n",
       "          [ 3.85,  0.05,  1.5 ],\n",
       "          [ 3.9 ,  0.05,  1.5 ],\n",
       "          [ 3.95,  0.05,  1.5 ],\n",
       "          [ 4.  ,  0.05,  1.5 ],\n",
       "          [ 4.05,  0.05,  1.5 ],\n",
       "          [ 4.1 ,  0.05,  1.5 ],\n",
       "          [ 4.15,  0.05,  1.5 ],\n",
       "          [ 4.2 ,  0.05,  1.5 ],\n",
       "          [ 4.25,  0.05,  1.5 ],\n",
       "          [ 4.3 ,  0.05,  1.5 ],\n",
       "          [ 4.35,  0.05,  1.5 ],\n",
       "          [ 4.4 ,  0.05,  1.5 ],\n",
       "          [ 4.45,  0.05,  1.5 ],\n",
       "          [ 4.5 ,  0.05,  1.5 ],\n",
       "          [ 4.55,  0.05,  1.5 ],\n",
       "          [ 4.6 ,  0.05,  1.5 ],\n",
       "          [ 4.65,  0.05,  1.5 ],\n",
       "          [ 4.7 ,  0.05,  1.5 ],\n",
       "          [ 4.75,  0.05,  1.5 ],\n",
       "          [ 4.8 ,  0.05,  1.5 ],\n",
       "          [ 4.85,  0.05,  1.5 ],\n",
       "          [ 4.9 ,  0.05,  1.5 ],\n",
       "          [ 4.95,  0.05,  1.5 ],\n",
       "          [ 5.  ,  0.05,  1.5 ],\n",
       "          [ 5.05,  0.05,  1.5 ],\n",
       "          [ 5.1 ,  0.05,  1.5 ],\n",
       "          [ 5.15,  0.05,  1.5 ],\n",
       "          [ 5.2 ,  0.05,  1.5 ],\n",
       "          [ 5.25,  0.05,  1.5 ],\n",
       "          [ 5.3 ,  0.05,  1.5 ],\n",
       "          [ 5.35,  0.05,  1.5 ],\n",
       "          [ 5.4 ,  0.05,  1.5 ],\n",
       "          [ 5.45,  0.05,  1.5 ],\n",
       "          [ 5.5 ,  0.05,  1.5 ]]), array([39, 38, 37, 36, 35, 34, 33, 32, 31, 30, 29, 28, 27, 26, 25, 24, 23,\n",
       "          22, 21, 20, 19, 18, 17, 16, 15, 14, 13, 12, 11, 10,  9,  8,  7,  6,\n",
       "           5,  4,  3,  2,  1,  0], dtype=int32)),\n",
       "  '1-': (array([ 0,  1,  2,  3,  4,  5,  6,  7,  8,  9, 10, 11, 12, 13, 14, 15, 16,\n",
       "          17, 18, 19, 20, 21, 22, 23, 24, 25, 26, 27, 28, 29, 30, 31, 32, 33,\n",
       "          34, 35, 36, 37, 38, 39], dtype=int32),\n",
       "   array([[  9.55,   0.05,   1.5 ],\n",
       "          [  9.6 ,   0.05,   1.5 ],\n",
       "          [  9.65,   0.05,   1.5 ],\n",
       "          [  9.7 ,   0.05,   1.5 ],\n",
       "          [  9.75,   0.05,   1.5 ],\n",
       "          [  9.8 ,   0.05,   1.5 ],\n",
       "          [  9.85,   0.05,   1.5 ],\n",
       "          [  9.9 ,   0.05,   1.5 ],\n",
       "          [  9.95,   0.05,   1.5 ],\n",
       "          [ 10.  ,   0.05,   1.5 ],\n",
       "          [ 10.05,   0.05,   1.5 ],\n",
       "          [ 10.1 ,   0.05,   1.5 ],\n",
       "          [ 10.15,   0.05,   1.5 ],\n",
       "          [ 10.2 ,   0.05,   1.5 ],\n",
       "          [ 10.25,   0.05,   1.5 ],\n",
       "          [ 10.3 ,   0.05,   1.5 ],\n",
       "          [ 10.35,   0.05,   1.5 ],\n",
       "          [ 10.4 ,   0.05,   1.5 ],\n",
       "          [ 10.45,   0.05,   1.5 ],\n",
       "          [ 10.5 ,   0.05,   1.5 ],\n",
       "          [ 10.55,   0.05,   1.5 ],\n",
       "          [ 10.6 ,   0.05,   1.5 ],\n",
       "          [ 10.65,   0.05,   1.5 ],\n",
       "          [ 10.7 ,   0.05,   1.5 ],\n",
       "          [ 10.75,   0.05,   1.5 ],\n",
       "          [ 10.8 ,   0.05,   1.5 ],\n",
       "          [ 10.85,   0.05,   1.5 ],\n",
       "          [ 10.9 ,   0.05,   1.5 ],\n",
       "          [ 10.95,   0.05,   1.5 ],\n",
       "          [ 11.  ,   0.05,   1.5 ],\n",
       "          [ 11.05,   0.05,   1.5 ],\n",
       "          [ 11.1 ,   0.05,   1.5 ],\n",
       "          [ 11.15,   0.05,   1.5 ],\n",
       "          [ 11.2 ,   0.05,   1.5 ],\n",
       "          [ 11.25,   0.05,   1.5 ],\n",
       "          [ 11.3 ,   0.05,   1.5 ],\n",
       "          [ 11.35,   0.05,   1.5 ],\n",
       "          [ 11.4 ,   0.05,   1.5 ],\n",
       "          [ 11.45,   0.05,   1.5 ],\n",
       "          [ 11.5 ,   0.05,   1.5 ]]),\n",
       "   array([39, 38, 37, 36, 35, 34, 33, 32, 31, 30, 29, 28, 27, 26, 25, 24, 23,\n",
       "          22, 21, 20, 19, 18, 17, 16, 15, 14, 13, 12, 11, 10,  9,  8,  7,  6,\n",
       "           5,  4,  3,  2,  1,  0], dtype=int32)),\n",
       "  '2+': (array([ 0,  1,  2,  3,  4,  5,  6,  7,  8,  9, 10, 11, 12, 13, 14, 15, 16,\n",
       "          17, 18, 19, 20, 21, 22, 23, 24, 25, 26, 27, 28, 29, 30, 31, 32, 33,\n",
       "          34, 35, 36, 37, 38, 39], dtype=int32),\n",
       "   array([[ 13.55,   0.05,   1.5 ],\n",
       "          [ 13.6 ,   0.05,   1.5 ],\n",
       "          [ 13.65,   0.05,   1.5 ],\n",
       "          [ 13.7 ,   0.05,   1.5 ],\n",
       "          [ 13.75,   0.05,   1.5 ],\n",
       "          [ 13.8 ,   0.05,   1.5 ],\n",
       "          [ 13.85,   0.05,   1.5 ],\n",
       "          [ 13.9 ,   0.05,   1.5 ],\n",
       "          [ 13.95,   0.05,   1.5 ],\n",
       "          [ 14.  ,   0.05,   1.5 ],\n",
       "          [ 14.05,   0.05,   1.5 ],\n",
       "          [ 14.1 ,   0.05,   1.5 ],\n",
       "          [ 14.15,   0.05,   1.5 ],\n",
       "          [ 14.2 ,   0.05,   1.5 ],\n",
       "          [ 14.25,   0.05,   1.5 ],\n",
       "          [ 14.3 ,   0.05,   1.5 ],\n",
       "          [ 14.35,   0.05,   1.5 ],\n",
       "          [ 14.4 ,   0.05,   1.5 ],\n",
       "          [ 14.45,   0.05,   1.5 ],\n",
       "          [ 14.5 ,   0.05,   1.5 ],\n",
       "          [ 14.55,   0.05,   1.5 ],\n",
       "          [ 14.6 ,   0.05,   1.5 ],\n",
       "          [ 14.65,   0.05,   1.5 ],\n",
       "          [ 14.7 ,   0.05,   1.5 ],\n",
       "          [ 14.75,   0.05,   1.5 ],\n",
       "          [ 14.8 ,   0.05,   1.5 ],\n",
       "          [ 14.85,   0.05,   1.5 ],\n",
       "          [ 14.9 ,   0.05,   1.5 ],\n",
       "          [ 14.95,   0.05,   1.5 ],\n",
       "          [ 15.  ,   0.05,   1.5 ],\n",
       "          [ 15.05,   0.05,   1.5 ],\n",
       "          [ 15.1 ,   0.05,   1.5 ],\n",
       "          [ 15.15,   0.05,   1.5 ],\n",
       "          [ 15.2 ,   0.05,   1.5 ],\n",
       "          [ 15.25,   0.05,   1.5 ],\n",
       "          [ 15.3 ,   0.05,   1.5 ],\n",
       "          [ 15.35,   0.05,   1.5 ],\n",
       "          [ 15.4 ,   0.05,   1.5 ],\n",
       "          [ 15.45,   0.05,   1.5 ],\n",
       "          [ 15.5 ,   0.05,   1.5 ]]),\n",
       "   array([39, 38, 37, 36, 35, 34, 33, 32, 31, 30, 29, 28, 27, 26, 25, 24, 23,\n",
       "          22, 21, 20, 19, 18, 17, 16, 15, 14, 13, 12, 11, 10,  9,  8,  7,  6,\n",
       "           5,  4,  3,  2,  1,  0], dtype=int32)),\n",
       "  '2-': (array([ 0,  1,  2,  3,  4,  5,  6,  7,  8,  9, 10, 11, 12, 13, 14, 15, 16,\n",
       "          17, 18, 19, 20, 21, 22, 23, 24, 25, 26, 27, 28, 29, 30, 31, 32, 33,\n",
       "          34, 35, 36, 37, 38, 39], dtype=int32),\n",
       "   array([[ 19.55,   0.05,   1.5 ],\n",
       "          [ 19.6 ,   0.05,   1.5 ],\n",
       "          [ 19.65,   0.05,   1.5 ],\n",
       "          [ 19.7 ,   0.05,   1.5 ],\n",
       "          [ 19.75,   0.05,   1.5 ],\n",
       "          [ 19.8 ,   0.05,   1.5 ],\n",
       "          [ 19.85,   0.05,   1.5 ],\n",
       "          [ 19.9 ,   0.05,   1.5 ],\n",
       "          [ 19.95,   0.05,   1.5 ],\n",
       "          [ 20.  ,   0.05,   1.5 ],\n",
       "          [ 20.05,   0.05,   1.5 ],\n",
       "          [ 20.1 ,   0.05,   1.5 ],\n",
       "          [ 20.15,   0.05,   1.5 ],\n",
       "          [ 20.2 ,   0.05,   1.5 ],\n",
       "          [ 20.25,   0.05,   1.5 ],\n",
       "          [ 20.3 ,   0.05,   1.5 ],\n",
       "          [ 20.35,   0.05,   1.5 ],\n",
       "          [ 20.4 ,   0.05,   1.5 ],\n",
       "          [ 20.45,   0.05,   1.5 ],\n",
       "          [ 20.5 ,   0.05,   1.5 ],\n",
       "          [ 20.55,   0.05,   1.5 ],\n",
       "          [ 20.6 ,   0.05,   1.5 ],\n",
       "          [ 20.65,   0.05,   1.5 ],\n",
       "          [ 20.7 ,   0.05,   1.5 ],\n",
       "          [ 20.75,   0.05,   1.5 ],\n",
       "          [ 20.8 ,   0.05,   1.5 ],\n",
       "          [ 20.85,   0.05,   1.5 ],\n",
       "          [ 20.9 ,   0.05,   1.5 ],\n",
       "          [ 20.95,   0.05,   1.5 ],\n",
       "          [ 21.  ,   0.05,   1.5 ],\n",
       "          [ 21.05,   0.05,   1.5 ],\n",
       "          [ 21.1 ,   0.05,   1.5 ],\n",
       "          [ 21.15,   0.05,   1.5 ],\n",
       "          [ 21.2 ,   0.05,   1.5 ],\n",
       "          [ 21.25,   0.05,   1.5 ],\n",
       "          [ 21.3 ,   0.05,   1.5 ],\n",
       "          [ 21.35,   0.05,   1.5 ],\n",
       "          [ 21.4 ,   0.05,   1.5 ],\n",
       "          [ 21.45,   0.05,   1.5 ],\n",
       "          [ 21.5 ,   0.05,   1.5 ]]),\n",
       "   array([39, 38, 37, 36, 35, 34, 33, 32, 31, 30, 29, 28, 27, 26, 25, 24, 23,\n",
       "          22, 21, 20, 19, 18, 17, 16, 15, 14, 13, 12, 11, 10,  9,  8,  7,  6,\n",
       "           5,  4,  3,  2,  1,  0], dtype=int32))},\n",
       " 'fb_1_2_nnnn': (array([ 0.05,  0.05,  0.05,  0.05,  0.05,  0.05,  0.05,  0.05,  0.05,\n",
       "          0.05,  0.05,  0.05,  0.05,  0.05,  0.05,  0.05,  0.05,  0.05,\n",
       "          0.05,  0.05,  0.05,  0.05,  0.05,  0.05,  0.05,  0.05,  0.05,\n",
       "          0.05,  0.05,  0.05,  0.05,  0.05,  0.05,  0.05,  0.05,  0.05,\n",
       "          0.05,  0.05,  0.05,  0.05]),\n",
       "  array([ 1.88495559,  1.88495559,  1.88495559,  1.88495559,  1.88495559,\n",
       "          1.88495559,  1.88495559,  1.88495559,  1.88495559,  1.88495559,\n",
       "          1.88495559,  1.88495559,  1.88495559,  1.88495559,  1.88495559,\n",
       "          1.88495559,  1.88495559,  1.88495559,  1.88495559,  1.88495559,\n",
       "          1.88495559,  1.88495559,  1.88495559,  1.88495559,  1.88495559,\n",
       "          1.88495559,  1.88495559,  1.88495559,  1.88495559,  1.88495559,\n",
       "          1.88495559,  1.88495559,  1.88495559,  1.88495559,  1.88495559,\n",
       "          1.88495559,  1.88495559,  1.88495559,  1.88495559,  1.88495559]),\n",
       "  array([ 0.01570796,  0.01570796,  0.01570796,  0.01570796,  0.01570796,\n",
       "          0.01570796,  0.01570796,  0.01570796,  0.01570796,  0.01570796,\n",
       "          0.01570796,  0.01570796,  0.01570796,  0.01570796,  0.01570796,\n",
       "          0.01570796,  0.01570796,  0.01570796,  0.01570796,  0.01570796,\n",
       "          0.01570796,  0.01570796,  0.01570796,  0.01570796,  0.01570796,\n",
       "          0.01570796,  0.01570796,  0.01570796,  0.01570796,  0.01570796,\n",
       "          0.01570796,  0.01570796,  0.01570796,  0.01570796,  0.01570796,\n",
       "          0.01570796,  0.01570796,  0.01570796,  0.01570796,  0.01570796]),\n",
       "  array([ 0.92676983,  0.89535391,  0.86393798,  0.83252205,  0.80110613,\n",
       "          0.7696902 ,  0.73827427,  0.70685835,  0.67544242,  0.64402649,\n",
       "          0.61261057,  0.58119464,  0.54977871,  0.51836279,  0.48694686,\n",
       "          0.45553093,  0.42411501,  0.39269908,  0.36128316,  0.32986723,\n",
       "          0.2984513 ,  0.26703538,  0.23561945,  0.20420352,  0.1727876 ,\n",
       "          0.14137167,  0.10995574,  0.07853982,  0.04712389,  0.01570796,\n",
       "         -0.01570796, -0.04712389, -0.07853982, -0.10995574, -0.14137167,\n",
       "         -0.1727876 , -0.20420352, -0.23561945, -0.26703538, -0.2984513 ]),\n",
       "  array([ 6.5,  6.5,  6.5,  6.5,  6.5,  6.5,  6.5,  6.5,  6.5,  6.5,  6.5,\n",
       "          6.5,  6.5,  6.5,  6.5,  6.5,  6.5,  6.5,  6.5,  6.5,  6.5,  6.5,\n",
       "          6.5,  6.5,  6.5,  6.5,  6.5,  6.5,  6.5,  6.5,  6.5,  6.5,  6.5,\n",
       "          6.5,  6.5,  6.5,  6.5,  6.5,  6.5,  6.5]),\n",
       "  array([ 8.5,  8.5,  8.5,  8.5,  8.5,  8.5,  8.5,  8.5,  8.5,  8.5,  8.5,\n",
       "          8.5,  8.5,  8.5,  8.5,  8.5,  8.5,  8.5,  8.5,  8.5,  8.5,  8.5,\n",
       "          8.5,  8.5,  8.5,  8.5,  8.5,  8.5,  8.5,  8.5,  8.5,  8.5,  8.5,\n",
       "          8.5,  8.5,  8.5,  8.5,  8.5,  8.5,  8.5]),\n",
       "  array([ 3.5,  3.5,  3.5,  3.5,  3.5,  3.5,  3.5,  3.5,  3.5,  3.5,  3.5,\n",
       "          3.5,  3.5,  3.5,  3.5,  3.5,  3.5,  3.5,  3.5,  3.5,  3.5,  3.5,\n",
       "          3.5,  3.5,  3.5,  3.5,  3.5,  3.5,  3.5,  3.5,  3.5,  3.5,  3.5,\n",
       "          3.5,  3.5,  3.5,  3.5,  3.5,  3.5,  3.5]),\n",
       "  array([ 1.5,  1.5,  1.5,  1.5,  1.5,  1.5,  1.5,  1.5,  1.5,  1.5,  1.5,\n",
       "          1.5,  1.5,  1.5,  1.5,  1.5,  1.5,  1.5,  1.5,  1.5,  1.5,  1.5,\n",
       "          1.5,  1.5,  1.5,  1.5,  1.5,  1.5,  1.5,  1.5,  1.5,  1.5,  1.5,\n",
       "          1.5,  1.5,  1.5,  1.5,  1.5,  1.5,  1.5]))}"
      ]
     },
     "execution_count": 23,
     "metadata": {},
     "output_type": "execute_result"
    }
   ],
   "source": [
    "buf"
   ]
  },
  {
   "cell_type": "markdown",
   "metadata": {},
   "source": [
    "## Try to improve speed"
   ]
  },
  {
   "cell_type": "code",
   "execution_count": 12,
   "metadata": {
    "collapsed": true
   },
   "outputs": [],
   "source": [
    "# made dlm in fb2 - slightly improved speed from 6.18 to 4.63 s /41 pts"
   ]
  },
  {
   "cell_type": "code",
   "execution_count": 14,
   "metadata": {
    "collapsed": true
   },
   "outputs": [],
   "source": [
    "arg_x_0, arg_x_1, arg_x_2, arg_x_3, arg_y_1, arg_y_2, arg_y_3, arg_y_4 = new_well_nnnn.lapl_well.matrixizer.m_cache[\"fb_1_2_nnnn\"]\n",
    "u = 7"
   ]
  },
  {
   "cell_type": "code",
   "execution_count": 10,
   "metadata": {
    "collapsed": true
   },
   "outputs": [],
   "source": [
    "from new_struct.integrators.frac_nnnn import ifb2"
   ]
  },
  {
   "cell_type": "code",
   "execution_count": 11,
   "metadata": {
    "collapsed": true
   },
   "outputs": [],
   "source": [
    "from numba import jit"
   ]
  },
  {
   "cell_type": "code",
   "execution_count": 12,
   "metadata": {
    "collapsed": true
   },
   "outputs": [],
   "source": [
    "@jit(nopython=True)\n",
    "def n_ifb2(u, arg_x_1, arg_x_2, arg_x_3, arg_y_1, arg_y_2, arg_y_3, arg_y_4, xed, yed, dlm = None):\n",
    "    blk_size = 10\n",
    "    MAXITER = 1000\n",
    "    TINY = 1e-20\n",
    "    EPS = 1e-12\n",
    "    sum_ = np.zeros_like(arg_x_1)\n",
    "    if dlm is None:\n",
    "        dlm = 0.\n",
    "    for i in range(MAXITER):\n",
    "        blk = np.arange(1+i*blk_size, 1+(i+1)*blk_size)\n",
    "        d = np.zeros_like(arg_x_1)\n",
    "        for k in blk:\n",
    "            d += ifb2_k(k, u, arg_x_1, arg_x_2, arg_x_3, arg_y_1, arg_y_2, arg_y_3, arg_y_4, xed, yed)\n",
    "        sum_ += d\n",
    "        if np.linalg.norm(d)/(np.linalg.norm(sum_)+ dlm + TINY) < EPS:\n",
    "            return sum_\n",
    "    return sum_\n",
    "\n",
    "@jit(nopython=True)\n",
    "def ifb2_k(k, u, arg_x_1, arg_x_2, arg_x_3, arg_y_1, arg_y_2, arg_y_3, arg_y_4, xed, yed):\n",
    "    ek = (u + k*k*np.pi*np.pi/xed/xed)**0.5\n",
    "    sexp = calc_sexp(ek, yed)\n",
    "    p1 = 2./k/ek*np.cos(k*arg_x_1) # arg_x_1\n",
    "    p1 *= np.sin(k*arg_x_2) # arg_x_2\n",
    "    p1 *= np.cos(k*arg_x_3) # arg_x_3\n",
    "    p1 *= (np.exp(-ek*arg_y_1) + np.exp(-ek*arg_y_2) + np.exp(-ek*arg_y_3))*(1 + sexp) + np.exp(-ek*arg_y_4)*sexp # arg_y_1, arg_y_2, arg_y3, arg_y_4\n",
    "    return p1\n",
    "\n",
    "@jit(nopython=True)\n",
    "def calc_sexp(ek, yed):\n",
    "    ek_ = ek*yed\n",
    "    MAXITER = 300\n",
    "    blk_size = 3\n",
    "    TINY = 1e-20\n",
    "    EPS = 1e-12\n",
    "    sum_ = 0.\n",
    "    for i in range(1, MAXITER):\n",
    "        blk = np.arange(1+i*blk_size, 1+(i+1)*blk_size)\n",
    "        d = np.sum(np.exp(-2*blk*ek_))\n",
    "        sum_ += d\n",
    "        if d/(sum_ + TINY) < EPS:\n",
    "            return sum_\n",
    "    return sum_\n",
    "    #raise RuntimeWarning(\"calc_sexp did not converge in {} steps\".format(MAXITER))"
   ]
  },
  {
   "cell_type": "code",
   "execution_count": 23,
   "metadata": {
    "collapsed": true
   },
   "outputs": [],
   "source": [
    "@jit(nopython=True)\n",
    "def nn_ifb2(u, arg_x_1, arg_x_2, arg_x_3, arg_y_1, arg_y_2, arg_y_3, arg_y_4, xed, yed, dlm = None):\n",
    "    blk_size = 10\n",
    "    MAXITER = 1000\n",
    "    TINY = 1e-20\n",
    "    EPS = 1e-12\n",
    "    sum_ = np.zeros_like(arg_x_1)\n",
    "    if dlm is None:\n",
    "        dlm = 0.\n",
    "    for i in range(MAXITER):\n",
    "        blk = np.arange(1+i*blk_size, 1+(i+1)*blk_size)\n",
    "        d = np.zeros_like(arg_x_1)\n",
    "        for k in blk:\n",
    "            ek = (u + k*k*np.pi*np.pi/xed/xed)**0.5\n",
    "            MAXITER_ = 300\n",
    "            blk_size_ = 3\n",
    "            TINY_ = 1e-20\n",
    "            EPS_ = 1e-12\n",
    "            sexp = 0.\n",
    "            for j in range(1, MAXITER_):\n",
    "                blk_ = np.arange(1+j*blk_size_, 1+(j+1)*blk_size_)\n",
    "                d_ = np.sum(np.exp(-2*blk_*ek))\n",
    "                sexp += d_\n",
    "                if d_/(sexp + TINY_) < EPS_:\n",
    "                    break\n",
    "            p1 = 2./k/ek*np.cos(k*arg_x_1) # arg_x_1\n",
    "            p1 *= np.sin(k*arg_x_2) # arg_x_2\n",
    "            p1 *= np.cos(k*arg_x_3) # arg_x_3\n",
    "            p1 *= (np.exp(-ek*arg_y_1) + np.exp(-ek*arg_y_2) + np.exp(-ek*arg_y_3))*(1 + sexp) + np.exp(-ek*arg_y_4)*sexp\n",
    "            d += p1\n",
    "        sum_ += d\n",
    "        if np.linalg.norm(d)/(np.linalg.norm(sum_)+ dlm + TINY) < EPS:\n",
    "            return sum_\n",
    "    return sum_"
   ]
  },
  {
   "cell_type": "code",
   "execution_count": 34,
   "metadata": {},
   "outputs": [
    {
     "name": "stdout",
     "output_type": "stream",
     "text": [
      "15.771902322769165\n"
     ]
    }
   ],
   "source": [
    "u = 7\n",
    "t1 = time()\n",
    "for _ in range(1000):\n",
    "    nn_ifb2(u, arg_x_1, arg_x_2, arg_x_3, arg_y_1, arg_y_2, arg_y_3, arg_y_4, xed, yed)\n",
    "print(time() - t1)"
   ]
  },
  {
   "cell_type": "code",
   "execution_count": 35,
   "metadata": {},
   "outputs": [
    {
     "name": "stdout",
     "output_type": "stream",
     "text": [
      "18.195040702819824\n"
     ]
    }
   ],
   "source": [
    "t1 = time()\n",
    "for _ in range(1000):\n",
    "    ifb2(u, arg_x_1, arg_x_2, arg_x_3, arg_y_1, arg_y_2, arg_y_3, arg_y_4, xed, yed)\n",
    "print(time() - t1)"
   ]
  },
  {
   "cell_type": "markdown",
   "metadata": {},
   "source": [
    "## Try reimplement ifb2"
   ]
  },
  {
   "cell_type": "code",
   "execution_count": 11,
   "metadata": {
    "collapsed": true
   },
   "outputs": [],
   "source": [
    "def re_ifb2(u, arg_x_1, arg_x_2, arg_x_3, arg_y_1, arg_y_2, arg_y_3, arg_y_4, xed, yed, dlm = None, debug = False):\n",
    "    blk_size = 10\n",
    "    MAXITER = 1000\n",
    "    TINY = 1e-20\n",
    "    EPS = 1e-12\n",
    "    sum_ = np.zeros_like(arg_x_1, dtype=np.float)\n",
    "    if dlm is None:\n",
    "        dlm = 0.\n",
    "    for i in range(MAXITER):\n",
    "        blk = np.arange(1+i*blk_size, 1+(i+1)*blk_size)\n",
    "        d = None\n",
    "        for k in blk:\n",
    "            if d is None:\n",
    "                d = re_ifb2_k(k, u, arg_x_1, arg_x_2, arg_x_3, arg_y_1, arg_y_2, arg_y_3, arg_y_4, xed, yed)\n",
    "            else:\n",
    "                d = np.dstack(\n",
    "                    [d, re_ifb2_k(k, u, arg_x_1, arg_x_2, arg_x_3, arg_y_1, arg_y_2, arg_y_3, arg_y_4, xed, yed)])\n",
    "        d = np.sum(d, axis=-1)\n",
    "        sum_ = np.sum(np.array([sum_, d], dtype=np.float), axis=0)\n",
    "        if np.linalg.norm(d)/(np.linalg.norm(sum_)+ dlm + TINY) < EPS:\n",
    "            if debug:\n",
    "                return sum_, i*blk_size\n",
    "            else:\n",
    "                return sum_\n",
    "    raise RuntimeWarning(\"ifb2 did not converge in {} steps\".format(MAXITER))\n",
    "\n",
    "def re_ifb2_k(k, u, arg_x_1, arg_x_2, arg_x_3, arg_y_1, arg_y_2, arg_y_3, arg_y_4, xed, yed):\n",
    "    ek = (u + k*k*np.pi*np.pi/xed/xed)**0.5\n",
    "    sexp = re_calc_sexp(ek, yed)\n",
    "    p1 = 2./k/ek*np.cos(k*arg_x_1) # arg_x_1\n",
    "    p1 *= np.sin(k*arg_x_2) # arg_x_2\n",
    "    p1 *= np.cos(k*arg_x_3) # arg_x_3\n",
    "    p1 *= (np.exp(-ek*arg_y_1) + np.exp(-ek*arg_y_2) + np.exp(-ek*arg_y_3))*(1 + sexp) + np.exp(-ek*arg_y_4)*sexp # arg_y_1, arg_y_2, arg_y3, arg_y_4\n",
    "    return p1\n",
    "\n",
    "def re_calc_sexp(ek, yed):\n",
    "    ek_ = ek*yed\n",
    "    MAXITER = 300\n",
    "    blk_size = 3\n",
    "    TINY = 1e-20\n",
    "    EPS = 1e-12\n",
    "    sum_ = 0.\n",
    "    for i in range(1, MAXITER):\n",
    "        blk = np.arange(1+i*blk_size, 1+(i+1)*blk_size)\n",
    "        d = np.sum(np.exp(-2*blk*ek_))\n",
    "        sum_ += d\n",
    "        if d/(sum_ + TINY) < EPS:\n",
    "            return sum_\n",
    "    raise RuntimeWarning(\"calc_sexp did not converge in {} steps\".format(MAXITER))"
   ]
  },
  {
   "cell_type": "code",
   "execution_count": 15,
   "metadata": {},
   "outputs": [
    {
     "name": "stdout",
     "output_type": "stream",
     "text": [
      "19.98114275932312\n"
     ]
    }
   ],
   "source": [
    "t1 = time()\n",
    "for _ in range(1000):\n",
    "    re_ifb2(u, arg_x_1, arg_x_2, arg_x_3, arg_y_1, arg_y_2, arg_y_3, arg_y_4, xed, yed)\n",
    "print(time() - t1)"
   ]
  },
  {
   "cell_type": "markdown",
   "metadata": {},
   "source": [
    "## Try Cython"
   ]
  },
  {
   "cell_type": "code",
   "execution_count": 36,
   "metadata": {
    "collapsed": true
   },
   "outputs": [],
   "source": [
    "%load_ext cython"
   ]
  },
  {
   "cell_type": "code",
   "execution_count": 39,
   "metadata": {},
   "outputs": [
    {
     "ename": "DistutilsPlatformError",
     "evalue": "Unable to find vcvarsall.bat",
     "output_type": "error",
     "traceback": [
      "\u001b[1;31m---------------------------------------------------------------------------\u001b[0m",
      "\u001b[1;31mDistutilsPlatformError\u001b[0m                    Traceback (most recent call last)",
      "\u001b[1;32m<ipython-input-39-5792b1a8271e>\u001b[0m in \u001b[0;36m<module>\u001b[1;34m()\u001b[0m\n\u001b[1;32m----> 1\u001b[1;33m \u001b[0mget_ipython\u001b[0m\u001b[1;33m(\u001b[0m\u001b[1;33m)\u001b[0m\u001b[1;33m.\u001b[0m\u001b[0mrun_cell_magic\u001b[0m\u001b[1;33m(\u001b[0m\u001b[1;34m'cython'\u001b[0m\u001b[1;33m,\u001b[0m \u001b[1;34m''\u001b[0m\u001b[1;33m,\u001b[0m \u001b[1;34m'cimport numpy as np\\n\\ndef c_ifb2(u, arg_x_1, arg_x_2, arg_x_3, arg_y_1, arg_y_2, arg_y_3, arg_y_4, xed, yed, dlm = None):\\n    blk_size = 10\\n    MAXITER = 1000\\n    TINY = 1e-20\\n    EPS = 1e-12\\n    sum_ = np.zeros_like(arg_x_1)\\n    if dlm is None:\\n        dlm = 0.\\n    for i in range(MAXITER):\\n        blk = np.arange(1+i*blk_size, 1+(i+1)*blk_size)\\n        d = np.zeros_like(arg_x_1)\\n        for k in blk:\\n            d += ifb2_k(k, u, arg_x_1, arg_x_2, arg_x_3, arg_y_1, arg_y_2, arg_y_3, arg_y_4, xed, yed)\\n        sum_ += d\\n        if np.linalg.norm(d)/(np.linalg.norm(sum_)+ dlm + TINY) < EPS:\\n            return sum_\\n    return sum_\\n\\ndef ifb2_k(k, u, arg_x_1, arg_x_2, arg_x_3, arg_y_1, arg_y_2, arg_y_3, arg_y_4, xed, yed):\\n    ek = (u + k*k*np.pi*np.pi/xed/xed)**0.5\\n    sexp = calc_sexp(ek, yed)\\n    p1 = 2./k/ek*np.cos(k*arg_x_1) # arg_x_1\\n    p1 *= np.sin(k*arg_x_2) # arg_x_2\\n    p1 *= np.cos(k*arg_x_3) # arg_x_3\\n    p1 *= (np.exp(-ek*arg_y_1) + np.exp(-ek*arg_y_2) + np.exp(-ek*arg_y_3))*(1 + sexp) + np.exp(-ek*arg_y_4)*sexp # arg_y_1, arg_y_2, arg_y3, arg_y_4\\n    return p1\\n\\ndef calc_sexp(ek, yed):\\n    ek_ = ek*yed\\n    MAXITER = 300\\n    blk_size = 3\\n    TINY = 1e-20\\n    EPS = 1e-12\\n    sum_ = 0.\\n    for i in range(1, MAXITER):\\n        blk = np.arange(1+i*blk_size, 1+(i+1)*blk_size)\\n        d = np.sum(np.exp(-2*blk*ek_))\\n        sum_ += d\\n        if d/(sum_ + TINY) < EPS:\\n            return sum_\\n    return sum_'\u001b[0m\u001b[1;33m)\u001b[0m\u001b[1;33m\u001b[0m\u001b[0m\n\u001b[0m",
      "\u001b[1;32mC:\\data_sci\\lib\\site-packages\\IPython\\core\\interactiveshell.py\u001b[0m in \u001b[0;36mrun_cell_magic\u001b[1;34m(self, magic_name, line, cell)\u001b[0m\n\u001b[0;32m   2113\u001b[0m             \u001b[0mmagic_arg_s\u001b[0m \u001b[1;33m=\u001b[0m \u001b[0mself\u001b[0m\u001b[1;33m.\u001b[0m\u001b[0mvar_expand\u001b[0m\u001b[1;33m(\u001b[0m\u001b[0mline\u001b[0m\u001b[1;33m,\u001b[0m \u001b[0mstack_depth\u001b[0m\u001b[1;33m)\u001b[0m\u001b[1;33m\u001b[0m\u001b[0m\n\u001b[0;32m   2114\u001b[0m             \u001b[1;32mwith\u001b[0m \u001b[0mself\u001b[0m\u001b[1;33m.\u001b[0m\u001b[0mbuiltin_trap\u001b[0m\u001b[1;33m:\u001b[0m\u001b[1;33m\u001b[0m\u001b[0m\n\u001b[1;32m-> 2115\u001b[1;33m                 \u001b[0mresult\u001b[0m \u001b[1;33m=\u001b[0m \u001b[0mfn\u001b[0m\u001b[1;33m(\u001b[0m\u001b[0mmagic_arg_s\u001b[0m\u001b[1;33m,\u001b[0m \u001b[0mcell\u001b[0m\u001b[1;33m)\u001b[0m\u001b[1;33m\u001b[0m\u001b[0m\n\u001b[0m\u001b[0;32m   2116\u001b[0m             \u001b[1;32mreturn\u001b[0m \u001b[0mresult\u001b[0m\u001b[1;33m\u001b[0m\u001b[0m\n\u001b[0;32m   2117\u001b[0m \u001b[1;33m\u001b[0m\u001b[0m\n",
      "\u001b[1;32m<decorator-gen-125>\u001b[0m in \u001b[0;36mcython\u001b[1;34m(self, line, cell)\u001b[0m\n",
      "\u001b[1;32mC:\\data_sci\\lib\\site-packages\\IPython\\core\\magic.py\u001b[0m in \u001b[0;36m<lambda>\u001b[1;34m(f, *a, **k)\u001b[0m\n\u001b[0;32m    186\u001b[0m     \u001b[1;31m# but it's overkill for just that one bit of state.\u001b[0m\u001b[1;33m\u001b[0m\u001b[1;33m\u001b[0m\u001b[0m\n\u001b[0;32m    187\u001b[0m     \u001b[1;32mdef\u001b[0m \u001b[0mmagic_deco\u001b[0m\u001b[1;33m(\u001b[0m\u001b[0marg\u001b[0m\u001b[1;33m)\u001b[0m\u001b[1;33m:\u001b[0m\u001b[1;33m\u001b[0m\u001b[0m\n\u001b[1;32m--> 188\u001b[1;33m         \u001b[0mcall\u001b[0m \u001b[1;33m=\u001b[0m \u001b[1;32mlambda\u001b[0m \u001b[0mf\u001b[0m\u001b[1;33m,\u001b[0m \u001b[1;33m*\u001b[0m\u001b[0ma\u001b[0m\u001b[1;33m,\u001b[0m \u001b[1;33m**\u001b[0m\u001b[0mk\u001b[0m\u001b[1;33m:\u001b[0m \u001b[0mf\u001b[0m\u001b[1;33m(\u001b[0m\u001b[1;33m*\u001b[0m\u001b[0ma\u001b[0m\u001b[1;33m,\u001b[0m \u001b[1;33m**\u001b[0m\u001b[0mk\u001b[0m\u001b[1;33m)\u001b[0m\u001b[1;33m\u001b[0m\u001b[0m\n\u001b[0m\u001b[0;32m    189\u001b[0m \u001b[1;33m\u001b[0m\u001b[0m\n\u001b[0;32m    190\u001b[0m         \u001b[1;32mif\u001b[0m \u001b[0mcallable\u001b[0m\u001b[1;33m(\u001b[0m\u001b[0marg\u001b[0m\u001b[1;33m)\u001b[0m\u001b[1;33m:\u001b[0m\u001b[1;33m\u001b[0m\u001b[0m\n",
      "\u001b[1;32mC:\\data_sci\\lib\\site-packages\\Cython\\Build\\IpythonMagic.py\u001b[0m in \u001b[0;36mcython\u001b[1;34m(self, line, cell)\u001b[0m\n\u001b[0;32m    289\u001b[0m             \u001b[0mbuild_extension\u001b[0m\u001b[1;33m.\u001b[0m\u001b[0mbuild_temp\u001b[0m \u001b[1;33m=\u001b[0m \u001b[0mos\u001b[0m\u001b[1;33m.\u001b[0m\u001b[0mpath\u001b[0m\u001b[1;33m.\u001b[0m\u001b[0mdirname\u001b[0m\u001b[1;33m(\u001b[0m\u001b[0mpyx_file\u001b[0m\u001b[1;33m)\u001b[0m\u001b[1;33m\u001b[0m\u001b[0m\n\u001b[0;32m    290\u001b[0m             \u001b[0mbuild_extension\u001b[0m\u001b[1;33m.\u001b[0m\u001b[0mbuild_lib\u001b[0m  \u001b[1;33m=\u001b[0m \u001b[0mlib_dir\u001b[0m\u001b[1;33m\u001b[0m\u001b[0m\n\u001b[1;32m--> 291\u001b[1;33m             \u001b[0mbuild_extension\u001b[0m\u001b[1;33m.\u001b[0m\u001b[0mrun\u001b[0m\u001b[1;33m(\u001b[0m\u001b[1;33m)\u001b[0m\u001b[1;33m\u001b[0m\u001b[0m\n\u001b[0m\u001b[0;32m    292\u001b[0m             \u001b[0mself\u001b[0m\u001b[1;33m.\u001b[0m\u001b[0m_code_cache\u001b[0m\u001b[1;33m[\u001b[0m\u001b[0mkey\u001b[0m\u001b[1;33m]\u001b[0m \u001b[1;33m=\u001b[0m \u001b[0mmodule_name\u001b[0m\u001b[1;33m\u001b[0m\u001b[0m\n\u001b[0;32m    293\u001b[0m \u001b[1;33m\u001b[0m\u001b[0m\n",
      "\u001b[1;32mC:\\data_sci\\lib\\distutils\\command\\build_ext.py\u001b[0m in \u001b[0;36mrun\u001b[1;34m(self)\u001b[0m\n\u001b[0;32m    337\u001b[0m \u001b[1;33m\u001b[0m\u001b[0m\n\u001b[0;32m    338\u001b[0m         \u001b[1;31m# Now actually compile and link everything.\u001b[0m\u001b[1;33m\u001b[0m\u001b[1;33m\u001b[0m\u001b[0m\n\u001b[1;32m--> 339\u001b[1;33m         \u001b[0mself\u001b[0m\u001b[1;33m.\u001b[0m\u001b[0mbuild_extensions\u001b[0m\u001b[1;33m(\u001b[0m\u001b[1;33m)\u001b[0m\u001b[1;33m\u001b[0m\u001b[0m\n\u001b[0m\u001b[0;32m    340\u001b[0m \u001b[1;33m\u001b[0m\u001b[0m\n\u001b[0;32m    341\u001b[0m     \u001b[1;32mdef\u001b[0m \u001b[0mcheck_extensions_list\u001b[0m\u001b[1;33m(\u001b[0m\u001b[0mself\u001b[0m\u001b[1;33m,\u001b[0m \u001b[0mextensions\u001b[0m\u001b[1;33m)\u001b[0m\u001b[1;33m:\u001b[0m\u001b[1;33m\u001b[0m\u001b[0m\n",
      "\u001b[1;32mC:\\data_sci\\lib\\distutils\\command\\build_ext.py\u001b[0m in \u001b[0;36mbuild_extensions\u001b[1;34m(self)\u001b[0m\n\u001b[0;32m    446\u001b[0m             \u001b[0mself\u001b[0m\u001b[1;33m.\u001b[0m\u001b[0m_build_extensions_parallel\u001b[0m\u001b[1;33m(\u001b[0m\u001b[1;33m)\u001b[0m\u001b[1;33m\u001b[0m\u001b[0m\n\u001b[0;32m    447\u001b[0m         \u001b[1;32melse\u001b[0m\u001b[1;33m:\u001b[0m\u001b[1;33m\u001b[0m\u001b[0m\n\u001b[1;32m--> 448\u001b[1;33m             \u001b[0mself\u001b[0m\u001b[1;33m.\u001b[0m\u001b[0m_build_extensions_serial\u001b[0m\u001b[1;33m(\u001b[0m\u001b[1;33m)\u001b[0m\u001b[1;33m\u001b[0m\u001b[0m\n\u001b[0m\u001b[0;32m    449\u001b[0m \u001b[1;33m\u001b[0m\u001b[0m\n\u001b[0;32m    450\u001b[0m     \u001b[1;32mdef\u001b[0m \u001b[0m_build_extensions_parallel\u001b[0m\u001b[1;33m(\u001b[0m\u001b[0mself\u001b[0m\u001b[1;33m)\u001b[0m\u001b[1;33m:\u001b[0m\u001b[1;33m\u001b[0m\u001b[0m\n",
      "\u001b[1;32mC:\\data_sci\\lib\\distutils\\command\\build_ext.py\u001b[0m in \u001b[0;36m_build_extensions_serial\u001b[1;34m(self)\u001b[0m\n\u001b[0;32m    471\u001b[0m         \u001b[1;32mfor\u001b[0m \u001b[0mext\u001b[0m \u001b[1;32min\u001b[0m \u001b[0mself\u001b[0m\u001b[1;33m.\u001b[0m\u001b[0mextensions\u001b[0m\u001b[1;33m:\u001b[0m\u001b[1;33m\u001b[0m\u001b[0m\n\u001b[0;32m    472\u001b[0m             \u001b[1;32mwith\u001b[0m \u001b[0mself\u001b[0m\u001b[1;33m.\u001b[0m\u001b[0m_filter_build_errors\u001b[0m\u001b[1;33m(\u001b[0m\u001b[0mext\u001b[0m\u001b[1;33m)\u001b[0m\u001b[1;33m:\u001b[0m\u001b[1;33m\u001b[0m\u001b[0m\n\u001b[1;32m--> 473\u001b[1;33m                 \u001b[0mself\u001b[0m\u001b[1;33m.\u001b[0m\u001b[0mbuild_extension\u001b[0m\u001b[1;33m(\u001b[0m\u001b[0mext\u001b[0m\u001b[1;33m)\u001b[0m\u001b[1;33m\u001b[0m\u001b[0m\n\u001b[0m\u001b[0;32m    474\u001b[0m \u001b[1;33m\u001b[0m\u001b[0m\n\u001b[0;32m    475\u001b[0m     \u001b[1;33m@\u001b[0m\u001b[0mcontextlib\u001b[0m\u001b[1;33m.\u001b[0m\u001b[0mcontextmanager\u001b[0m\u001b[1;33m\u001b[0m\u001b[0m\n",
      "\u001b[1;32mC:\\data_sci\\lib\\distutils\\command\\build_ext.py\u001b[0m in \u001b[0;36mbuild_extension\u001b[1;34m(self, ext)\u001b[0m\n\u001b[0;32m    531\u001b[0m                                          \u001b[0mdebug\u001b[0m\u001b[1;33m=\u001b[0m\u001b[0mself\u001b[0m\u001b[1;33m.\u001b[0m\u001b[0mdebug\u001b[0m\u001b[1;33m,\u001b[0m\u001b[1;33m\u001b[0m\u001b[0m\n\u001b[0;32m    532\u001b[0m                                          \u001b[0mextra_postargs\u001b[0m\u001b[1;33m=\u001b[0m\u001b[0mextra_args\u001b[0m\u001b[1;33m,\u001b[0m\u001b[1;33m\u001b[0m\u001b[0m\n\u001b[1;32m--> 533\u001b[1;33m                                          depends=ext.depends)\n\u001b[0m\u001b[0;32m    534\u001b[0m \u001b[1;33m\u001b[0m\u001b[0m\n\u001b[0;32m    535\u001b[0m         \u001b[1;31m# XXX outdated variable, kept here in case third-part code\u001b[0m\u001b[1;33m\u001b[0m\u001b[1;33m\u001b[0m\u001b[0m\n",
      "\u001b[1;32mC:\\data_sci\\lib\\distutils\\_msvccompiler.py\u001b[0m in \u001b[0;36mcompile\u001b[1;34m(self, sources, output_dir, macros, include_dirs, debug, extra_preargs, extra_postargs, depends)\u001b[0m\n\u001b[0;32m    302\u001b[0m \u001b[1;33m\u001b[0m\u001b[0m\n\u001b[0;32m    303\u001b[0m         \u001b[1;32mif\u001b[0m \u001b[1;32mnot\u001b[0m \u001b[0mself\u001b[0m\u001b[1;33m.\u001b[0m\u001b[0minitialized\u001b[0m\u001b[1;33m:\u001b[0m\u001b[1;33m\u001b[0m\u001b[0m\n\u001b[1;32m--> 304\u001b[1;33m             \u001b[0mself\u001b[0m\u001b[1;33m.\u001b[0m\u001b[0minitialize\u001b[0m\u001b[1;33m(\u001b[0m\u001b[1;33m)\u001b[0m\u001b[1;33m\u001b[0m\u001b[0m\n\u001b[0m\u001b[0;32m    305\u001b[0m         compile_info = self._setup_compile(output_dir, macros, include_dirs,\n\u001b[0;32m    306\u001b[0m                                            sources, depends, extra_postargs)\n",
      "\u001b[1;32mC:\\data_sci\\lib\\distutils\\_msvccompiler.py\u001b[0m in \u001b[0;36minitialize\u001b[1;34m(self, plat_name)\u001b[0m\n\u001b[0;32m    195\u001b[0m         \u001b[0mplat_spec\u001b[0m \u001b[1;33m=\u001b[0m \u001b[0mPLAT_TO_VCVARS\u001b[0m\u001b[1;33m[\u001b[0m\u001b[0mplat_name\u001b[0m\u001b[1;33m]\u001b[0m\u001b[1;33m\u001b[0m\u001b[0m\n\u001b[0;32m    196\u001b[0m \u001b[1;33m\u001b[0m\u001b[0m\n\u001b[1;32m--> 197\u001b[1;33m         \u001b[0mvc_env\u001b[0m \u001b[1;33m=\u001b[0m \u001b[0m_get_vc_env\u001b[0m\u001b[1;33m(\u001b[0m\u001b[0mplat_spec\u001b[0m\u001b[1;33m)\u001b[0m\u001b[1;33m\u001b[0m\u001b[0m\n\u001b[0m\u001b[0;32m    198\u001b[0m         \u001b[1;32mif\u001b[0m \u001b[1;32mnot\u001b[0m \u001b[0mvc_env\u001b[0m\u001b[1;33m:\u001b[0m\u001b[1;33m\u001b[0m\u001b[0m\n\u001b[0;32m    199\u001b[0m             raise DistutilsPlatformError(\"Unable to find a compatible \"\n",
      "\u001b[1;32mC:\\data_sci\\lib\\distutils\\_msvccompiler.py\u001b[0m in \u001b[0;36m_get_vc_env\u001b[1;34m(plat_spec)\u001b[0m\n\u001b[0;32m     83\u001b[0m     \u001b[0mvcvarsall\u001b[0m\u001b[1;33m,\u001b[0m \u001b[0mvcruntime\u001b[0m \u001b[1;33m=\u001b[0m \u001b[0m_find_vcvarsall\u001b[0m\u001b[1;33m(\u001b[0m\u001b[0mplat_spec\u001b[0m\u001b[1;33m)\u001b[0m\u001b[1;33m\u001b[0m\u001b[0m\n\u001b[0;32m     84\u001b[0m     \u001b[1;32mif\u001b[0m \u001b[1;32mnot\u001b[0m \u001b[0mvcvarsall\u001b[0m\u001b[1;33m:\u001b[0m\u001b[1;33m\u001b[0m\u001b[0m\n\u001b[1;32m---> 85\u001b[1;33m         \u001b[1;32mraise\u001b[0m \u001b[0mDistutilsPlatformError\u001b[0m\u001b[1;33m(\u001b[0m\u001b[1;34m\"Unable to find vcvarsall.bat\"\u001b[0m\u001b[1;33m)\u001b[0m\u001b[1;33m\u001b[0m\u001b[0m\n\u001b[0m\u001b[0;32m     86\u001b[0m \u001b[1;33m\u001b[0m\u001b[0m\n\u001b[0;32m     87\u001b[0m     \u001b[1;32mtry\u001b[0m\u001b[1;33m:\u001b[0m\u001b[1;33m\u001b[0m\u001b[0m\n",
      "\u001b[1;31mDistutilsPlatformError\u001b[0m: Unable to find vcvarsall.bat"
     ]
    }
   ],
   "source": [
    "%%cython\n",
    "cimport numpy as np\n",
    "\n",
    "def c_ifb2(u, arg_x_1, arg_x_2, arg_x_3, arg_y_1, arg_y_2, arg_y_3, arg_y_4, xed, yed, dlm = None):\n",
    "    blk_size = 10\n",
    "    MAXITER = 1000\n",
    "    TINY = 1e-20\n",
    "    EPS = 1e-12\n",
    "    sum_ = np.zeros_like(arg_x_1)\n",
    "    if dlm is None:\n",
    "        dlm = 0.\n",
    "    for i in range(MAXITER):\n",
    "        blk = np.arange(1+i*blk_size, 1+(i+1)*blk_size)\n",
    "        d = np.zeros_like(arg_x_1)\n",
    "        for k in blk:\n",
    "            d += ifb2_k(k, u, arg_x_1, arg_x_2, arg_x_3, arg_y_1, arg_y_2, arg_y_3, arg_y_4, xed, yed)\n",
    "        sum_ += d\n",
    "        if np.linalg.norm(d)/(np.linalg.norm(sum_)+ dlm + TINY) < EPS:\n",
    "            return sum_\n",
    "    return sum_\n",
    "\n",
    "def ifb2_k(k, u, arg_x_1, arg_x_2, arg_x_3, arg_y_1, arg_y_2, arg_y_3, arg_y_4, xed, yed):\n",
    "    ek = (u + k*k*np.pi*np.pi/xed/xed)**0.5\n",
    "    sexp = calc_sexp(ek, yed)\n",
    "    p1 = 2./k/ek*np.cos(k*arg_x_1) # arg_x_1\n",
    "    p1 *= np.sin(k*arg_x_2) # arg_x_2\n",
    "    p1 *= np.cos(k*arg_x_3) # arg_x_3\n",
    "    p1 *= (np.exp(-ek*arg_y_1) + np.exp(-ek*arg_y_2) + np.exp(-ek*arg_y_3))*(1 + sexp) + np.exp(-ek*arg_y_4)*sexp # arg_y_1, arg_y_2, arg_y3, arg_y_4\n",
    "    return p1\n",
    "\n",
    "def calc_sexp(ek, yed):\n",
    "    ek_ = ek*yed\n",
    "    MAXITER = 300\n",
    "    blk_size = 3\n",
    "    TINY = 1e-20\n",
    "    EPS = 1e-12\n",
    "    sum_ = 0.\n",
    "    for i in range(1, MAXITER):\n",
    "        blk = np.arange(1+i*blk_size, 1+(i+1)*blk_size)\n",
    "        d = np.sum(np.exp(-2*blk*ek_))\n",
    "        sum_ += d\n",
    "        if d/(sum_ + TINY) < EPS:\n",
    "            return sum_\n",
    "    return sum_"
   ]
  },
  {
   "cell_type": "code",
   "execution_count": 3,
   "metadata": {
    "collapsed": true
   },
   "outputs": [],
   "source": [
    "from scipy.special import k0\n",
    "from scipy.integrate import quad"
   ]
  },
  {
   "cell_type": "code",
   "execution_count": 5,
   "metadata": {
    "collapsed": true
   },
   "outputs": [],
   "source": [
    "def f(squ, xd, xwd, dyd):\n",
    "    g = lambda t: k0(squ*((xd-xwd-t)**2 + dyd**2)**0.5)\n",
    "    return quad(g, -1, 1)[0]"
   ]
  },
  {
   "cell_type": "code",
   "execution_count": 6,
   "metadata": {},
   "outputs": [
    {
     "data": {
      "text/plain": [
       "0.4990890378057079"
      ]
     },
     "execution_count": 6,
     "metadata": {},
     "output_type": "execute_result"
    }
   ],
   "source": [
    "f(1, -1, 0, 1)"
   ]
  },
  {
   "cell_type": "code",
   "execution_count": 15,
   "metadata": {
    "collapsed": true
   },
   "outputs": [],
   "source": [
    "def fw(squ, xdw, xwdw, dyd):\n",
    "    g1 = lambda t: k0(squ*((xdw - xwdw - t)**2 + dyd**2)**0.5)\n",
    "    return quad(g1, 0, 2)[0]"
   ]
  },
  {
   "cell_type": "code",
   "execution_count": 16,
   "metadata": {},
   "outputs": [
    {
     "data": {
      "text/plain": [
       "0.4990890378057079"
      ]
     },
     "execution_count": 16,
     "metadata": {},
     "output_type": "execute_result"
    }
   ],
   "source": [
    "fw(1, 0, 0, 1)"
   ]
  },
  {
   "cell_type": "code",
   "execution_count": 19,
   "metadata": {},
   "outputs": [
    {
     "data": {
      "text/plain": [
       "array([ 1.525,  1.575,  1.625,  1.675,  1.725,  1.775,  1.825,  1.875,\n",
       "        1.925,  1.975,  2.025,  2.075,  2.125,  2.175,  2.225,  2.275,\n",
       "        2.325,  2.375,  2.425,  2.475,  2.525,  2.575,  2.625,  2.675,\n",
       "        2.725,  2.775,  2.825,  2.875,  2.925,  2.975,  3.025,  3.075,\n",
       "        3.125,  3.175,  3.225,  3.275,  3.325,  3.375,  3.425,  3.475])"
      ]
     },
     "execution_count": 19,
     "metadata": {},
     "output_type": "execute_result"
    }
   ],
   "source": [
    "new_well_nnnn.lapl_well.sources_[\"sources_list\"][0].xis"
   ]
  },
  {
   "cell_type": "code",
   "execution_count": 27,
   "metadata": {},
   "outputs": [
    {
     "data": {
      "text/plain": [
       "array([ 1.5 ,  1.55,  1.6 ,  1.65,  1.7 ,  1.75,  1.8 ,  1.85,  1.9 ,\n",
       "        1.95,  2.  ,  2.05,  2.1 ,  2.15,  2.2 ,  2.25,  2.3 ,  2.35,\n",
       "        2.4 ,  2.45,  2.5 ,  2.55,  2.6 ,  2.65,  2.7 ,  2.75,  2.8 ,\n",
       "        2.85,  2.9 ,  2.95,  3.  ,  3.05,  3.1 ,  3.15,  3.2 ,  3.25,\n",
       "        3.3 ,  3.35,  3.4 ,  3.45])"
      ]
     },
     "execution_count": 27,
     "metadata": {},
     "output_type": "execute_result"
    }
   ],
   "source": [
    "new_well_nnnn.lapl_well.sources_[\"sources_list\"][0].xjs"
   ]
  },
  {
   "cell_type": "code",
   "execution_count": 20,
   "metadata": {},
   "outputs": [
    {
     "data": {
      "text/plain": [
       "2.5"
      ]
     },
     "execution_count": 20,
     "metadata": {},
     "output_type": "execute_result"
    }
   ],
   "source": [
    "new_well_nnnn.lapl_well.sources_[\"sources_list\"][0].xwd"
   ]
  },
  {
   "cell_type": "code",
   "execution_count": 21,
   "metadata": {},
   "outputs": [
    {
     "data": {
      "text/plain": [
       "array([ 1.,  2.,  3.])"
      ]
     },
     "execution_count": 21,
     "metadata": {},
     "output_type": "execute_result"
    }
   ],
   "source": [
    "np.linspace(1,3,3)"
   ]
  },
  {
   "cell_type": "code",
   "execution_count": 25,
   "metadata": {},
   "outputs": [],
   "source": [
    "xwd = 2.5\n",
    "x0 = -1\n",
    "x1 = 1\n",
    "n = 20\n",
    "dx = 1/n\n",
    "xis = np.linspace(xwd+x0+0.5*dx, xwd+x1-0.5*dx, 2*n)\n",
    "xjs = xis - 0.5*dx\n",
    "xj1s = xis + 0.5*dx"
   ]
  },
  {
   "cell_type": "code",
   "execution_count": 26,
   "metadata": {},
   "outputs": [
    {
     "name": "stdout",
     "output_type": "stream",
     "text": [
      "[ 1.525  1.575  1.625  1.675  1.725  1.775  1.825  1.875  1.925  1.975\n",
      "  2.025  2.075  2.125  2.175  2.225  2.275  2.325  2.375  2.425  2.475\n",
      "  2.525  2.575  2.625  2.675  2.725  2.775  2.825  2.875  2.925  2.975\n",
      "  3.025  3.075  3.125  3.175  3.225  3.275  3.325  3.375  3.425  3.475]\n",
      "[ 1.5   1.55  1.6   1.65  1.7   1.75  1.8   1.85  1.9   1.95  2.    2.05\n",
      "  2.1   2.15  2.2   2.25  2.3   2.35  2.4   2.45  2.5   2.55  2.6   2.65\n",
      "  2.7   2.75  2.8   2.85  2.9   2.95  3.    3.05  3.1   3.15  3.2   3.25\n",
      "  3.3   3.35  3.4   3.45]\n",
      "[ 1.55  1.6   1.65  1.7   1.75  1.8   1.85  1.9   1.95  2.    2.05  2.1\n",
      "  2.15  2.2   2.25  2.3   2.35  2.4   2.45  2.5   2.55  2.6   2.65  2.7\n",
      "  2.75  2.8   2.85  2.9   2.95  3.    3.05  3.1   3.15  3.2   3.25  3.3\n",
      "  3.35  3.4   3.45  3.5 ]\n"
     ]
    }
   ],
   "source": [
    "print(xis)\n",
    "print(xjs)\n",
    "print(xj1s)"
   ]
  },
  {
   "cell_type": "code",
   "execution_count": 30,
   "metadata": {
    "collapsed": true
   },
   "outputs": [],
   "source": [
    "xwd = 1.5\n",
    "x0 = 0\n",
    "x1 = 2\n",
    "n = 20\n",
    "dx = 1/n\n",
    "xis = np.linspace(xwd+x0+0.5*dx, xwd+x1-0.5*dx, 2*n)\n",
    "xjs = xis - 0.5*dx\n",
    "xj1s = xis + 0.5*dx"
   ]
  },
  {
   "cell_type": "code",
   "execution_count": 31,
   "metadata": {},
   "outputs": [
    {
     "name": "stdout",
     "output_type": "stream",
     "text": [
      "[ 1.525  1.575  1.625  1.675  1.725  1.775  1.825  1.875  1.925  1.975\n",
      "  2.025  2.075  2.125  2.175  2.225  2.275  2.325  2.375  2.425  2.475\n",
      "  2.525  2.575  2.625  2.675  2.725  2.775  2.825  2.875  2.925  2.975\n",
      "  3.025  3.075  3.125  3.175  3.225  3.275  3.325  3.375  3.425  3.475]\n",
      "[ 1.5   1.55  1.6   1.65  1.7   1.75  1.8   1.85  1.9   1.95  2.    2.05\n",
      "  2.1   2.15  2.2   2.25  2.3   2.35  2.4   2.45  2.5   2.55  2.6   2.65\n",
      "  2.7   2.75  2.8   2.85  2.9   2.95  3.    3.05  3.1   3.15  3.2   3.25\n",
      "  3.3   3.35  3.4   3.45]\n",
      "[ 1.55  1.6   1.65  1.7   1.75  1.8   1.85  1.9   1.95  2.    2.05  2.1\n",
      "  2.15  2.2   2.25  2.3   2.35  2.4   2.45  2.5   2.55  2.6   2.65  2.7\n",
      "  2.75  2.8   2.85  2.9   2.95  3.    3.05  3.1   3.15  3.2   3.25  3.3\n",
      "  3.35  3.4   3.45  3.5 ]\n"
     ]
    }
   ],
   "source": [
    "print(xis)\n",
    "print(xjs)\n",
    "print(xj1s)"
   ]
  },
  {
   "cell_type": "code",
   "execution_count": null,
   "metadata": {
    "collapsed": true
   },
   "outputs": [],
   "source": []
  }
 ],
 "metadata": {
  "kernelspec": {
   "display_name": "Python 3",
   "language": "python",
   "name": "python3"
  },
  "language_info": {
   "codemirror_mode": {
    "name": "ipython",
    "version": 3
   },
   "file_extension": ".py",
   "mimetype": "text/x-python",
   "name": "python",
   "nbconvert_exporter": "python",
   "pygments_lexer": "ipython3",
   "version": "3.6.1"
  }
 },
 "nbformat": 4,
 "nbformat_minor": 2
}
