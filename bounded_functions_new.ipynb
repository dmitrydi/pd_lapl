{
 "cells": [
  {
   "cell_type": "code",
   "execution_count": 1,
   "metadata": {
    "collapsed": true
   },
   "outputs": [],
   "source": [
    "import numpy as np\n",
    "import matplotlib.pyplot as plt\n",
    "from scipy.integrate import quad\n",
    "from scipy.special import k0, iti0k0\n",
    "import matplotlib.pyplot as plt\n",
    "% matplotlib inline\n",
    "from time import time\n",
    "from new_struct.well import Well as NewWell"
   ]
  },
  {
   "cell_type": "code",
   "execution_count": 2,
   "metadata": {
    "collapsed": true
   },
   "outputs": [],
   "source": [
    "top_bound = \"imp\"\n",
    "bottom_bound = \"imp\"\n",
    "wtype = \"frac\"\n",
    "n_stehf = 10\n",
    "xwd = 2.5\n",
    "xed = 5.\n",
    "ywd = 2.5\n",
    "yed = 5.\n",
    "N = 20\n",
    "Fcd = 10\n",
    "new_well_nnnn = NewWell(\"nnnn\", top_bound, bottom_bound, \"frac\", N, 1, [xwd], [ywd], x_lengths = 1,\n",
    "                     xed = xed, yed = yed, attrs = {\"Fcd\":Fcd})\n",
    "new_well_inf = NewWell(\"inf\", top_bound, bottom_bound, \"frac\", N, 1, [0.], [0.], x_lengths = 1,\n",
    "                     xed = xed, yed = yed, attrs = {\"Fcd\":Fcd})"
   ]
  },
  {
   "cell_type": "markdown",
   "metadata": {},
   "source": [
    "### playing with new containers"
   ]
  },
  {
   "cell_type": "code",
   "execution_count": 3,
   "metadata": {
    "collapsed": true
   },
   "outputs": [],
   "source": [
    "_, xjs, xj1s, yws, _, _, _ = new_well_nnnn.lapl_well.matrixizer.raw"
   ]
  },
  {
   "cell_type": "code",
   "execution_count": 4,
   "metadata": {},
   "outputs": [],
   "source": [
    "xjs = xjs[0,...]\n",
    "xj1s = xj1s[0,...]\n",
    "yws = yws[0,...]\n",
    "xis = 3*np.ones_like(xjs)\n",
    "yds = 3*np.ones_like(xjs)\n",
    "buf_k = {\"dyds_0\":{}, \"dyds_nnz\":{}}\n",
    "buf_fb_1_2 = {}"
   ]
  },
  {
   "cell_type": "markdown",
   "metadata": {},
   "source": [
    "### test_calc"
   ]
  },
  {
   "cell_type": "code",
   "execution_count": 8,
   "metadata": {
    "collapsed": true
   },
   "outputs": [],
   "source": [
    "ts = np.logspace(-3, 1, 41)"
   ]
  },
  {
   "cell_type": "code",
   "execution_count": 9,
   "metadata": {},
   "outputs": [],
   "source": [
    "p_inf_new = []\n",
    "for t in ts:\n",
    "    p_inf_new.append(new_well_inf.pw(t))"
   ]
  },
  {
   "cell_type": "code",
   "execution_count": 10,
   "metadata": {},
   "outputs": [
    {
     "data": {
      "text/plain": [
       "[<matplotlib.lines.Line2D at 0x604d2d0>]"
      ]
     },
     "execution_count": 10,
     "metadata": {},
     "output_type": "execute_result"
    },
    {
     "data": {
      "image/png": "[encoded data removed]",
      "text/plain": [
       "<matplotlib.figure.Figure at 0x3124630>"
      ]
     },
     "metadata": {},
     "output_type": "display_data"
    }
   ],
   "source": [
    "plt.plot(ts, p_inf_new)"
   ]
  },
  {
   "cell_type": "code",
   "execution_count": 11,
   "metadata": {},
   "outputs": [
    {
     "name": "stdout",
     "output_type": "stream",
     "text": [
      "6.183353662490845\n"
     ]
    }
   ],
   "source": [
    "t1 = time()\n",
    "p_nnnn_new = []\n",
    "for t in ts:\n",
    "    p_nnnn_new.append(new_well_nnnn.pw(t))\n",
    "print(time() - t1)"
   ]
  },
  {
   "cell_type": "code",
   "execution_count": 12,
   "metadata": {},
   "outputs": [
    {
     "data": {
      "text/plain": [
       "[<matplotlib.lines.Line2D at 0x62fc7b0>]"
      ]
     },
     "execution_count": 12,
     "metadata": {},
     "output_type": "execute_result"
    },
    {
     "data": {
      "image/png": "[encoded data removed]",
      "text/plain": [
       "<matplotlib.figure.Figure at 0x6011750>"
      ]
     },
     "metadata": {},
     "output_type": "display_data"
    }
   ],
   "source": [
    "plt.plot(ts, p_nnnn_new)"
   ]
  },
  {
   "cell_type": "markdown",
   "metadata": {},
   "source": [
    "## Try to improve speed"
   ]
  },
  {
   "cell_type": "code",
   "execution_count": 12,
   "metadata": {
    "collapsed": true
   },
   "outputs": [],
   "source": [
    "# made dlm in fb2 - slightly improved speed from 6.18 to 4.63 s /41 pts"
   ]
  },
  {
   "cell_type": "code",
   "execution_count": 14,
   "metadata": {
    "collapsed": true
   },
   "outputs": [],
   "source": [
    "arg_x_0, arg_x_1, arg_x_2, arg_x_3, arg_y_1, arg_y_2, arg_y_3, arg_y_4 = new_well_nnnn.lapl_well.matrixizer.m_cache[\"fb_1_2_nnnn\"]\n",
    "u = 7"
   ]
  },
  {
   "cell_type": "code",
   "execution_count": 10,
   "metadata": {
    "collapsed": true
   },
   "outputs": [],
   "source": [
    "from new_struct.integrators.frac_nnnn import ifb2"
   ]
  },
  {
   "cell_type": "code",
   "execution_count": 11,
   "metadata": {
    "collapsed": true
   },
   "outputs": [],
   "source": [
    "from numba import jit"
   ]
  },
  {
   "cell_type": "code",
   "execution_count": 12,
   "metadata": {
    "collapsed": true
   },
   "outputs": [],
   "source": [
    "@jit(nopython=True)\n",
    "def n_ifb2(u, arg_x_1, arg_x_2, arg_x_3, arg_y_1, arg_y_2, arg_y_3, arg_y_4, xed, yed, dlm = None):\n",
    "    blk_size = 10\n",
    "    MAXITER = 1000\n",
    "    TINY = 1e-20\n",
    "    EPS = 1e-12\n",
    "    sum_ = np.zeros_like(arg_x_1)\n",
    "    if dlm is None:\n",
    "        dlm = 0.\n",
    "    for i in range(MAXITER):\n",
    "        blk = np.arange(1+i*blk_size, 1+(i+1)*blk_size)\n",
    "        d = np.zeros_like(arg_x_1)\n",
    "        for k in blk:\n",
    "            d += ifb2_k(k, u, arg_x_1, arg_x_2, arg_x_3, arg_y_1, arg_y_2, arg_y_3, arg_y_4, xed, yed)\n",
    "        sum_ += d\n",
    "        if np.linalg.norm(d)/(np.linalg.norm(sum_)+ dlm + TINY) < EPS:\n",
    "            return sum_\n",
    "    return sum_\n",
    "\n",
    "@jit(nopython=True)\n",
    "def ifb2_k(k, u, arg_x_1, arg_x_2, arg_x_3, arg_y_1, arg_y_2, arg_y_3, arg_y_4, xed, yed):\n",
    "    ek = (u + k*k*np.pi*np.pi/xed/xed)**0.5\n",
    "    sexp = calc_sexp(ek, yed)\n",
    "    p1 = 2./k/ek*np.cos(k*arg_x_1) # arg_x_1\n",
    "    p1 *= np.sin(k*arg_x_2) # arg_x_2\n",
    "    p1 *= np.cos(k*arg_x_3) # arg_x_3\n",
    "    p1 *= (np.exp(-ek*arg_y_1) + np.exp(-ek*arg_y_2) + np.exp(-ek*arg_y_3))*(1 + sexp) + np.exp(-ek*arg_y_4)*sexp # arg_y_1, arg_y_2, arg_y3, arg_y_4\n",
    "    return p1\n",
    "\n",
    "@jit(nopython=True)\n",
    "def calc_sexp(ek, yed):\n",
    "    ek_ = ek*yed\n",
    "    MAXITER = 300\n",
    "    blk_size = 3\n",
    "    TINY = 1e-20\n",
    "    EPS = 1e-12\n",
    "    sum_ = 0.\n",
    "    for i in range(1, MAXITER):\n",
    "        blk = np.arange(1+i*blk_size, 1+(i+1)*blk_size)\n",
    "        d = np.sum(np.exp(-2*blk*ek_))\n",
    "        sum_ += d\n",
    "        if d/(sum_ + TINY) < EPS:\n",
    "            return sum_\n",
    "    return sum_\n",
    "    #raise RuntimeWarning(\"calc_sexp did not converge in {} steps\".format(MAXITER))"
   ]
  },
  {
   "cell_type": "code",
   "execution_count": 23,
   "metadata": {
    "collapsed": true
   },
   "outputs": [],
   "source": [
    "@jit(nopython=True)\n",
    "def nn_ifb2(u, arg_x_1, arg_x_2, arg_x_3, arg_y_1, arg_y_2, arg_y_3, arg_y_4, xed, yed, dlm = None):\n",
    "    blk_size = 10\n",
    "    MAXITER = 1000\n",
    "    TINY = 1e-20\n",
    "    EPS = 1e-12\n",
    "    sum_ = np.zeros_like(arg_x_1)\n",
    "    if dlm is None:\n",
    "        dlm = 0.\n",
    "    for i in range(MAXITER):\n",
    "        blk = np.arange(1+i*blk_size, 1+(i+1)*blk_size)\n",
    "        d = np.zeros_like(arg_x_1)\n",
    "        for k in blk:\n",
    "            ek = (u + k*k*np.pi*np.pi/xed/xed)**0.5\n",
    "            MAXITER_ = 300\n",
    "            blk_size_ = 3\n",
    "            TINY_ = 1e-20\n",
    "            EPS_ = 1e-12\n",
    "            sexp = 0.\n",
    "            for j in range(1, MAXITER_):\n",
    "                blk_ = np.arange(1+j*blk_size_, 1+(j+1)*blk_size_)\n",
    "                d_ = np.sum(np.exp(-2*blk_*ek))\n",
    "                sexp += d_\n",
    "                if d_/(sexp + TINY_) < EPS_:\n",
    "                    break\n",
    "            p1 = 2./k/ek*np.cos(k*arg_x_1) # arg_x_1\n",
    "            p1 *= np.sin(k*arg_x_2) # arg_x_2\n",
    "            p1 *= np.cos(k*arg_x_3) # arg_x_3\n",
    "            p1 *= (np.exp(-ek*arg_y_1) + np.exp(-ek*arg_y_2) + np.exp(-ek*arg_y_3))*(1 + sexp) + np.exp(-ek*arg_y_4)*sexp\n",
    "            d += p1\n",
    "        sum_ += d\n",
    "        if np.linalg.norm(d)/(np.linalg.norm(sum_)+ dlm + TINY) < EPS:\n",
    "            return sum_\n",
    "    return sum_"
   ]
  },
  {
   "cell_type": "code",
   "execution_count": 34,
   "metadata": {},
   "outputs": [
    {
     "name": "stdout",
     "output_type": "stream",
     "text": [
      "15.771902322769165\n"
     ]
    }
   ],
   "source": [
    "u = 7\n",
    "t1 = time()\n",
    "for _ in range(1000):\n",
    "    nn_ifb2(u, arg_x_1, arg_x_2, arg_x_3, arg_y_1, arg_y_2, arg_y_3, arg_y_4, xed, yed)\n",
    "print(time() - t1)"
   ]
  },
  {
   "cell_type": "code",
   "execution_count": 35,
   "metadata": {},
   "outputs": [
    {
     "name": "stdout",
     "output_type": "stream",
     "text": [
      "18.195040702819824\n"
     ]
    }
   ],
   "source": [
    "t1 = time()\n",
    "for _ in range(1000):\n",
    "    ifb2(u, arg_x_1, arg_x_2, arg_x_3, arg_y_1, arg_y_2, arg_y_3, arg_y_4, xed, yed)\n",
    "print(time() - t1)"
   ]
  },
  {
   "cell_type": "markdown",
   "metadata": {},
   "source": [
    "## Try reimplement ifb2"
   ]
  },
  {
   "cell_type": "code",
   "execution_count": 11,
   "metadata": {
    "collapsed": true
   },
   "outputs": [],
   "source": [
    "def re_ifb2(u, arg_x_1, arg_x_2, arg_x_3, arg_y_1, arg_y_2, arg_y_3, arg_y_4, xed, yed, dlm = None, debug = False):\n",
    "    blk_size = 10\n",
    "    MAXITER = 1000\n",
    "    TINY = 1e-20\n",
    "    EPS = 1e-12\n",
    "    sum_ = np.zeros_like(arg_x_1, dtype=np.float)\n",
    "    if dlm is None:\n",
    "        dlm = 0.\n",
    "    for i in range(MAXITER):\n",
    "        blk = np.arange(1+i*blk_size, 1+(i+1)*blk_size)\n",
    "        d = None\n",
    "        for k in blk:\n",
    "            if d is None:\n",
    "                d = re_ifb2_k(k, u, arg_x_1, arg_x_2, arg_x_3, arg_y_1, arg_y_2, arg_y_3, arg_y_4, xed, yed)\n",
    "            else:\n",
    "                d = np.dstack(\n",
    "                    [d, re_ifb2_k(k, u, arg_x_1, arg_x_2, arg_x_3, arg_y_1, arg_y_2, arg_y_3, arg_y_4, xed, yed)])\n",
    "        d = np.sum(d, axis=-1)\n",
    "        sum_ = np.sum(np.array([sum_, d], dtype=np.float), axis=0)\n",
    "        if np.linalg.norm(d)/(np.linalg.norm(sum_)+ dlm + TINY) < EPS:\n",
    "            if debug:\n",
    "                return sum_, i*blk_size\n",
    "            else:\n",
    "                return sum_\n",
    "    raise RuntimeWarning(\"ifb2 did not converge in {} steps\".format(MAXITER))\n",
    "\n",
    "def re_ifb2_k(k, u, arg_x_1, arg_x_2, arg_x_3, arg_y_1, arg_y_2, arg_y_3, arg_y_4, xed, yed):\n",
    "    ek = (u + k*k*np.pi*np.pi/xed/xed)**0.5\n",
    "    sexp = re_calc_sexp(ek, yed)\n",
    "    p1 = 2./k/ek*np.cos(k*arg_x_1) # arg_x_1\n",
    "    p1 *= np.sin(k*arg_x_2) # arg_x_2\n",
    "    p1 *= np.cos(k*arg_x_3) # arg_x_3\n",
    "    p1 *= (np.exp(-ek*arg_y_1) + np.exp(-ek*arg_y_2) + np.exp(-ek*arg_y_3))*(1 + sexp) + np.exp(-ek*arg_y_4)*sexp # arg_y_1, arg_y_2, arg_y3, arg_y_4\n",
    "    return p1\n",
    "\n",
    "def re_calc_sexp(ek, yed):\n",
    "    ek_ = ek*yed\n",
    "    MAXITER = 300\n",
    "    blk_size = 3\n",
    "    TINY = 1e-20\n",
    "    EPS = 1e-12\n",
    "    sum_ = 0.\n",
    "    for i in range(1, MAXITER):\n",
    "        blk = np.arange(1+i*blk_size, 1+(i+1)*blk_size)\n",
    "        d = np.sum(np.exp(-2*blk*ek_))\n",
    "        sum_ += d\n",
    "        if d/(sum_ + TINY) < EPS:\n",
    "            return sum_\n",
    "    raise RuntimeWarning(\"calc_sexp did not converge in {} steps\".format(MAXITER))"
   ]
  },
  {
   "cell_type": "code",
   "execution_count": 15,
   "metadata": {},
   "outputs": [
    {
     "name": "stdout",
     "output_type": "stream",
     "text": [
      "19.98114275932312\n"
     ]
    }
   ],
   "source": [
    "t1 = time()\n",
    "for _ in range(1000):\n",
    "    re_ifb2(u, arg_x_1, arg_x_2, arg_x_3, arg_y_1, arg_y_2, arg_y_3, arg_y_4, xed, yed)\n",
    "print(time() - t1)"
   ]
  },
  {
   "cell_type": "markdown",
   "metadata": {},
   "source": [
    "## Try Cython"
   ]
  },
  {
   "cell_type": "code",
   "execution_count": 36,
   "metadata": {
    "collapsed": true
   },
   "outputs": [],
   "source": [
    "%load_ext cython"
   ]
  },
  {
   "cell_type": "code",
   "execution_count": 39,
   "metadata": {},
   "outputs": [
    {
     "ename": "DistutilsPlatformError",
     "evalue": "Unable to find vcvarsall.bat",
     "output_type": "error",
     "traceback": [
      "\u001b[1;31m---------------------------------------------------------------------------\u001b[0m",
      "\u001b[1;31mDistutilsPlatformError\u001b[0m                    Traceback (most recent call last)",
      "\u001b[1;32m<ipython-input-39-5792b1a8271e>\u001b[0m in \u001b[0;36m<module>\u001b[1;34m()\u001b[0m\n\u001b[1;32m----> 1\u001b[1;33m \u001b[0mget_ipython\u001b[0m\u001b[1;33m(\u001b[0m\u001b[1;33m)\u001b[0m\u001b[1;33m.\u001b[0m\u001b[0mrun_cell_magic\u001b[0m\u001b[1;33m(\u001b[0m\u001b[1;34m'cython'\u001b[0m\u001b[1;33m,\u001b[0m \u001b[1;34m''\u001b[0m\u001b[1;33m,\u001b[0m \u001b[1;34m'cimport numpy as np\\n\\ndef c_ifb2(u, arg_x_1, arg_x_2, arg_x_3, arg_y_1, arg_y_2, arg_y_3, arg_y_4, xed, yed, dlm = None):\\n    blk_size = 10\\n    MAXITER = 1000\\n    TINY = 1e-20\\n    EPS = 1e-12\\n    sum_ = np.zeros_like(arg_x_1)\\n    if dlm is None:\\n        dlm = 0.\\n    for i in range(MAXITER):\\n        blk = np.arange(1+i*blk_size, 1+(i+1)*blk_size)\\n        d = np.zeros_like(arg_x_1)\\n        for k in blk:\\n            d += ifb2_k(k, u, arg_x_1, arg_x_2, arg_x_3, arg_y_1, arg_y_2, arg_y_3, arg_y_4, xed, yed)\\n        sum_ += d\\n        if np.linalg.norm(d)/(np.linalg.norm(sum_)+ dlm + TINY) < EPS:\\n            return sum_\\n    return sum_\\n\\ndef ifb2_k(k, u, arg_x_1, arg_x_2, arg_x_3, arg_y_1, arg_y_2, arg_y_3, arg_y_4, xed, yed):\\n    ek = (u + k*k*np.pi*np.pi/xed/xed)**0.5\\n    sexp = calc_sexp(ek, yed)\\n    p1 = 2./k/ek*np.cos(k*arg_x_1) # arg_x_1\\n    p1 *= np.sin(k*arg_x_2) # arg_x_2\\n    p1 *= np.cos(k*arg_x_3) # arg_x_3\\n    p1 *= (np.exp(-ek*arg_y_1) + np.exp(-ek*arg_y_2) + np.exp(-ek*arg_y_3))*(1 + sexp) + np.exp(-ek*arg_y_4)*sexp # arg_y_1, arg_y_2, arg_y3, arg_y_4\\n    return p1\\n\\ndef calc_sexp(ek, yed):\\n    ek_ = ek*yed\\n    MAXITER = 300\\n    blk_size = 3\\n    TINY = 1e-20\\n    EPS = 1e-12\\n    sum_ = 0.\\n    for i in range(1, MAXITER):\\n        blk = np.arange(1+i*blk_size, 1+(i+1)*blk_size)\\n        d = np.sum(np.exp(-2*blk*ek_))\\n        sum_ += d\\n        if d/(sum_ + TINY) < EPS:\\n            return sum_\\n    return sum_'\u001b[0m\u001b[1;33m)\u001b[0m\u001b[1;33m\u001b[0m\u001b[0m\n\u001b[0m",
      "\u001b[1;32mC:\\data_sci\\lib\\site-packages\\IPython\\core\\interactiveshell.py\u001b[0m in \u001b[0;36mrun_cell_magic\u001b[1;34m(self, magic_name, line, cell)\u001b[0m\n\u001b[0;32m   2113\u001b[0m             \u001b[0mmagic_arg_s\u001b[0m \u001b[1;33m=\u001b[0m \u001b[0mself\u001b[0m\u001b[1;33m.\u001b[0m\u001b[0mvar_expand\u001b[0m\u001b[1;33m(\u001b[0m\u001b[0mline\u001b[0m\u001b[1;33m,\u001b[0m \u001b[0mstack_depth\u001b[0m\u001b[1;33m)\u001b[0m\u001b[1;33m\u001b[0m\u001b[0m\n\u001b[0;32m   2114\u001b[0m             \u001b[1;32mwith\u001b[0m \u001b[0mself\u001b[0m\u001b[1;33m.\u001b[0m\u001b[0mbuiltin_trap\u001b[0m\u001b[1;33m:\u001b[0m\u001b[1;33m\u001b[0m\u001b[0m\n\u001b[1;32m-> 2115\u001b[1;33m                 \u001b[0mresult\u001b[0m \u001b[1;33m=\u001b[0m \u001b[0mfn\u001b[0m\u001b[1;33m(\u001b[0m\u001b[0mmagic_arg_s\u001b[0m\u001b[1;33m,\u001b[0m \u001b[0mcell\u001b[0m\u001b[1;33m)\u001b[0m\u001b[1;33m\u001b[0m\u001b[0m\n\u001b[0m\u001b[0;32m   2116\u001b[0m             \u001b[1;32mreturn\u001b[0m \u001b[0mresult\u001b[0m\u001b[1;33m\u001b[0m\u001b[0m\n\u001b[0;32m   2117\u001b[0m \u001b[1;33m\u001b[0m\u001b[0m\n",
      "\u001b[1;32m<decorator-gen-125>\u001b[0m in \u001b[0;36mcython\u001b[1;34m(self, line, cell)\u001b[0m\n",
      "\u001b[1;32mC:\\data_sci\\lib\\site-packages\\IPython\\core\\magic.py\u001b[0m in \u001b[0;36m<lambda>\u001b[1;34m(f, *a, **k)\u001b[0m\n\u001b[0;32m    186\u001b[0m     \u001b[1;31m# but it's overkill for just that one bit of state.\u001b[0m\u001b[1;33m\u001b[0m\u001b[1;33m\u001b[0m\u001b[0m\n\u001b[0;32m    187\u001b[0m     \u001b[1;32mdef\u001b[0m \u001b[0mmagic_deco\u001b[0m\u001b[1;33m(\u001b[0m\u001b[0marg\u001b[0m\u001b[1;33m)\u001b[0m\u001b[1;33m:\u001b[0m\u001b[1;33m\u001b[0m\u001b[0m\n\u001b[1;32m--> 188\u001b[1;33m         \u001b[0mcall\u001b[0m \u001b[1;33m=\u001b[0m \u001b[1;32mlambda\u001b[0m \u001b[0mf\u001b[0m\u001b[1;33m,\u001b[0m \u001b[1;33m*\u001b[0m\u001b[0ma\u001b[0m\u001b[1;33m,\u001b[0m \u001b[1;33m**\u001b[0m\u001b[0mk\u001b[0m\u001b[1;33m:\u001b[0m \u001b[0mf\u001b[0m\u001b[1;33m(\u001b[0m\u001b[1;33m*\u001b[0m\u001b[0ma\u001b[0m\u001b[1;33m,\u001b[0m \u001b[1;33m**\u001b[0m\u001b[0mk\u001b[0m\u001b[1;33m)\u001b[0m\u001b[1;33m\u001b[0m\u001b[0m\n\u001b[0m\u001b[0;32m    189\u001b[0m \u001b[1;33m\u001b[0m\u001b[0m\n\u001b[0;32m    190\u001b[0m         \u001b[1;32mif\u001b[0m \u001b[0mcallable\u001b[0m\u001b[1;33m(\u001b[0m\u001b[0marg\u001b[0m\u001b[1;33m)\u001b[0m\u001b[1;33m:\u001b[0m\u001b[1;33m\u001b[0m\u001b[0m\n",
      "\u001b[1;32mC:\\data_sci\\lib\\site-packages\\Cython\\Build\\IpythonMagic.py\u001b[0m in \u001b[0;36mcython\u001b[1;34m(self, line, cell)\u001b[0m\n\u001b[0;32m    289\u001b[0m             \u001b[0mbuild_extension\u001b[0m\u001b[1;33m.\u001b[0m\u001b[0mbuild_temp\u001b[0m \u001b[1;33m=\u001b[0m \u001b[0mos\u001b[0m\u001b[1;33m.\u001b[0m\u001b[0mpath\u001b[0m\u001b[1;33m.\u001b[0m\u001b[0mdirname\u001b[0m\u001b[1;33m(\u001b[0m\u001b[0mpyx_file\u001b[0m\u001b[1;33m)\u001b[0m\u001b[1;33m\u001b[0m\u001b[0m\n\u001b[0;32m    290\u001b[0m             \u001b[0mbuild_extension\u001b[0m\u001b[1;33m.\u001b[0m\u001b[0mbuild_lib\u001b[0m  \u001b[1;33m=\u001b[0m \u001b[0mlib_dir\u001b[0m\u001b[1;33m\u001b[0m\u001b[0m\n\u001b[1;32m--> 291\u001b[1;33m             \u001b[0mbuild_extension\u001b[0m\u001b[1;33m.\u001b[0m\u001b[0mrun\u001b[0m\u001b[1;33m(\u001b[0m\u001b[1;33m)\u001b[0m\u001b[1;33m\u001b[0m\u001b[0m\n\u001b[0m\u001b[0;32m    292\u001b[0m             \u001b[0mself\u001b[0m\u001b[1;33m.\u001b[0m\u001b[0m_code_cache\u001b[0m\u001b[1;33m[\u001b[0m\u001b[0mkey\u001b[0m\u001b[1;33m]\u001b[0m \u001b[1;33m=\u001b[0m \u001b[0mmodule_name\u001b[0m\u001b[1;33m\u001b[0m\u001b[0m\n\u001b[0;32m    293\u001b[0m \u001b[1;33m\u001b[0m\u001b[0m\n",
      "\u001b[1;32mC:\\data_sci\\lib\\distutils\\command\\build_ext.py\u001b[0m in \u001b[0;36mrun\u001b[1;34m(self)\u001b[0m\n\u001b[0;32m    337\u001b[0m \u001b[1;33m\u001b[0m\u001b[0m\n\u001b[0;32m    338\u001b[0m         \u001b[1;31m# Now actually compile and link everything.\u001b[0m\u001b[1;33m\u001b[0m\u001b[1;33m\u001b[0m\u001b[0m\n\u001b[1;32m--> 339\u001b[1;33m         \u001b[0mself\u001b[0m\u001b[1;33m.\u001b[0m\u001b[0mbuild_extensions\u001b[0m\u001b[1;33m(\u001b[0m\u001b[1;33m)\u001b[0m\u001b[1;33m\u001b[0m\u001b[0m\n\u001b[0m\u001b[0;32m    340\u001b[0m \u001b[1;33m\u001b[0m\u001b[0m\n\u001b[0;32m    341\u001b[0m     \u001b[1;32mdef\u001b[0m \u001b[0mcheck_extensions_list\u001b[0m\u001b[1;33m(\u001b[0m\u001b[0mself\u001b[0m\u001b[1;33m,\u001b[0m \u001b[0mextensions\u001b[0m\u001b[1;33m)\u001b[0m\u001b[1;33m:\u001b[0m\u001b[1;33m\u001b[0m\u001b[0m\n",
      "\u001b[1;32mC:\\data_sci\\lib\\distutils\\command\\build_ext.py\u001b[0m in \u001b[0;36mbuild_extensions\u001b[1;34m(self)\u001b[0m\n\u001b[0;32m    446\u001b[0m             \u001b[0mself\u001b[0m\u001b[1;33m.\u001b[0m\u001b[0m_build_extensions_parallel\u001b[0m\u001b[1;33m(\u001b[0m\u001b[1;33m)\u001b[0m\u001b[1;33m\u001b[0m\u001b[0m\n\u001b[0;32m    447\u001b[0m         \u001b[1;32melse\u001b[0m\u001b[1;33m:\u001b[0m\u001b[1;33m\u001b[0m\u001b[0m\n\u001b[1;32m--> 448\u001b[1;33m             \u001b[0mself\u001b[0m\u001b[1;33m.\u001b[0m\u001b[0m_build_extensions_serial\u001b[0m\u001b[1;33m(\u001b[0m\u001b[1;33m)\u001b[0m\u001b[1;33m\u001b[0m\u001b[0m\n\u001b[0m\u001b[0;32m    449\u001b[0m \u001b[1;33m\u001b[0m\u001b[0m\n\u001b[0;32m    450\u001b[0m     \u001b[1;32mdef\u001b[0m \u001b[0m_build_extensions_parallel\u001b[0m\u001b[1;33m(\u001b[0m\u001b[0mself\u001b[0m\u001b[1;33m)\u001b[0m\u001b[1;33m:\u001b[0m\u001b[1;33m\u001b[0m\u001b[0m\n",
      "\u001b[1;32mC:\\data_sci\\lib\\distutils\\command\\build_ext.py\u001b[0m in \u001b[0;36m_build_extensions_serial\u001b[1;34m(self)\u001b[0m\n\u001b[0;32m    471\u001b[0m         \u001b[1;32mfor\u001b[0m \u001b[0mext\u001b[0m \u001b[1;32min\u001b[0m \u001b[0mself\u001b[0m\u001b[1;33m.\u001b[0m\u001b[0mextensions\u001b[0m\u001b[1;33m:\u001b[0m\u001b[1;33m\u001b[0m\u001b[0m\n\u001b[0;32m    472\u001b[0m             \u001b[1;32mwith\u001b[0m \u001b[0mself\u001b[0m\u001b[1;33m.\u001b[0m\u001b[0m_filter_build_errors\u001b[0m\u001b[1;33m(\u001b[0m\u001b[0mext\u001b[0m\u001b[1;33m)\u001b[0m\u001b[1;33m:\u001b[0m\u001b[1;33m\u001b[0m\u001b[0m\n\u001b[1;32m--> 473\u001b[1;33m                 \u001b[0mself\u001b[0m\u001b[1;33m.\u001b[0m\u001b[0mbuild_extension\u001b[0m\u001b[1;33m(\u001b[0m\u001b[0mext\u001b[0m\u001b[1;33m)\u001b[0m\u001b[1;33m\u001b[0m\u001b[0m\n\u001b[0m\u001b[0;32m    474\u001b[0m \u001b[1;33m\u001b[0m\u001b[0m\n\u001b[0;32m    475\u001b[0m     \u001b[1;33m@\u001b[0m\u001b[0mcontextlib\u001b[0m\u001b[1;33m.\u001b[0m\u001b[0mcontextmanager\u001b[0m\u001b[1;33m\u001b[0m\u001b[0m\n",
      "\u001b[1;32mC:\\data_sci\\lib\\distutils\\command\\build_ext.py\u001b[0m in \u001b[0;36mbuild_extension\u001b[1;34m(self, ext)\u001b[0m\n\u001b[0;32m    531\u001b[0m                                          \u001b[0mdebug\u001b[0m\u001b[1;33m=\u001b[0m\u001b[0mself\u001b[0m\u001b[1;33m.\u001b[0m\u001b[0mdebug\u001b[0m\u001b[1;33m,\u001b[0m\u001b[1;33m\u001b[0m\u001b[0m\n\u001b[0;32m    532\u001b[0m                                          \u001b[0mextra_postargs\u001b[0m\u001b[1;33m=\u001b[0m\u001b[0mextra_args\u001b[0m\u001b[1;33m,\u001b[0m\u001b[1;33m\u001b[0m\u001b[0m\n\u001b[1;32m--> 533\u001b[1;33m                                          depends=ext.depends)\n\u001b[0m\u001b[0;32m    534\u001b[0m \u001b[1;33m\u001b[0m\u001b[0m\n\u001b[0;32m    535\u001b[0m         \u001b[1;31m# XXX outdated variable, kept here in case third-part code\u001b[0m\u001b[1;33m\u001b[0m\u001b[1;33m\u001b[0m\u001b[0m\n",
      "\u001b[1;32mC:\\data_sci\\lib\\distutils\\_msvccompiler.py\u001b[0m in \u001b[0;36mcompile\u001b[1;34m(self, sources, output_dir, macros, include_dirs, debug, extra_preargs, extra_postargs, depends)\u001b[0m\n\u001b[0;32m    302\u001b[0m \u001b[1;33m\u001b[0m\u001b[0m\n\u001b[0;32m    303\u001b[0m         \u001b[1;32mif\u001b[0m \u001b[1;32mnot\u001b[0m \u001b[0mself\u001b[0m\u001b[1;33m.\u001b[0m\u001b[0minitialized\u001b[0m\u001b[1;33m:\u001b[0m\u001b[1;33m\u001b[0m\u001b[0m\n\u001b[1;32m--> 304\u001b[1;33m             \u001b[0mself\u001b[0m\u001b[1;33m.\u001b[0m\u001b[0minitialize\u001b[0m\u001b[1;33m(\u001b[0m\u001b[1;33m)\u001b[0m\u001b[1;33m\u001b[0m\u001b[0m\n\u001b[0m\u001b[0;32m    305\u001b[0m         compile_info = self._setup_compile(output_dir, macros, include_dirs,\n\u001b[0;32m    306\u001b[0m                                            sources, depends, extra_postargs)\n",
      "\u001b[1;32mC:\\data_sci\\lib\\distutils\\_msvccompiler.py\u001b[0m in \u001b[0;36minitialize\u001b[1;34m(self, plat_name)\u001b[0m\n\u001b[0;32m    195\u001b[0m         \u001b[0mplat_spec\u001b[0m \u001b[1;33m=\u001b[0m \u001b[0mPLAT_TO_VCVARS\u001b[0m\u001b[1;33m[\u001b[0m\u001b[0mplat_name\u001b[0m\u001b[1;33m]\u001b[0m\u001b[1;33m\u001b[0m\u001b[0m\n\u001b[0;32m    196\u001b[0m \u001b[1;33m\u001b[0m\u001b[0m\n\u001b[1;32m--> 197\u001b[1;33m         \u001b[0mvc_env\u001b[0m \u001b[1;33m=\u001b[0m \u001b[0m_get_vc_env\u001b[0m\u001b[1;33m(\u001b[0m\u001b[0mplat_spec\u001b[0m\u001b[1;33m)\u001b[0m\u001b[1;33m\u001b[0m\u001b[0m\n\u001b[0m\u001b[0;32m    198\u001b[0m         \u001b[1;32mif\u001b[0m \u001b[1;32mnot\u001b[0m \u001b[0mvc_env\u001b[0m\u001b[1;33m:\u001b[0m\u001b[1;33m\u001b[0m\u001b[0m\n\u001b[0;32m    199\u001b[0m             raise DistutilsPlatformError(\"Unable to find a compatible \"\n",
      "\u001b[1;32mC:\\data_sci\\lib\\distutils\\_msvccompiler.py\u001b[0m in \u001b[0;36m_get_vc_env\u001b[1;34m(plat_spec)\u001b[0m\n\u001b[0;32m     83\u001b[0m     \u001b[0mvcvarsall\u001b[0m\u001b[1;33m,\u001b[0m \u001b[0mvcruntime\u001b[0m \u001b[1;33m=\u001b[0m \u001b[0m_find_vcvarsall\u001b[0m\u001b[1;33m(\u001b[0m\u001b[0mplat_spec\u001b[0m\u001b[1;33m)\u001b[0m\u001b[1;33m\u001b[0m\u001b[0m\n\u001b[0;32m     84\u001b[0m     \u001b[1;32mif\u001b[0m \u001b[1;32mnot\u001b[0m \u001b[0mvcvarsall\u001b[0m\u001b[1;33m:\u001b[0m\u001b[1;33m\u001b[0m\u001b[0m\n\u001b[1;32m---> 85\u001b[1;33m         \u001b[1;32mraise\u001b[0m \u001b[0mDistutilsPlatformError\u001b[0m\u001b[1;33m(\u001b[0m\u001b[1;34m\"Unable to find vcvarsall.bat\"\u001b[0m\u001b[1;33m)\u001b[0m\u001b[1;33m\u001b[0m\u001b[0m\n\u001b[0m\u001b[0;32m     86\u001b[0m \u001b[1;33m\u001b[0m\u001b[0m\n\u001b[0;32m     87\u001b[0m     \u001b[1;32mtry\u001b[0m\u001b[1;33m:\u001b[0m\u001b[1;33m\u001b[0m\u001b[0m\n",
      "\u001b[1;31mDistutilsPlatformError\u001b[0m: Unable to find vcvarsall.bat"
     ]
    }
   ],
   "source": [
    "%%cython\n",
    "cimport numpy as np\n",
    "\n",
    "def c_ifb2(u, arg_x_1, arg_x_2, arg_x_3, arg_y_1, arg_y_2, arg_y_3, arg_y_4, xed, yed, dlm = None):\n",
    "    blk_size = 10\n",
    "    MAXITER = 1000\n",
    "    TINY = 1e-20\n",
    "    EPS = 1e-12\n",
    "    sum_ = np.zeros_like(arg_x_1)\n",
    "    if dlm is None:\n",
    "        dlm = 0.\n",
    "    for i in range(MAXITER):\n",
    "        blk = np.arange(1+i*blk_size, 1+(i+1)*blk_size)\n",
    "        d = np.zeros_like(arg_x_1)\n",
    "        for k in blk:\n",
    "            d += ifb2_k(k, u, arg_x_1, arg_x_2, arg_x_3, arg_y_1, arg_y_2, arg_y_3, arg_y_4, xed, yed)\n",
    "        sum_ += d\n",
    "        if np.linalg.norm(d)/(np.linalg.norm(sum_)+ dlm + TINY) < EPS:\n",
    "            return sum_\n",
    "    return sum_\n",
    "\n",
    "def ifb2_k(k, u, arg_x_1, arg_x_2, arg_x_3, arg_y_1, arg_y_2, arg_y_3, arg_y_4, xed, yed):\n",
    "    ek = (u + k*k*np.pi*np.pi/xed/xed)**0.5\n",
    "    sexp = calc_sexp(ek, yed)\n",
    "    p1 = 2./k/ek*np.cos(k*arg_x_1) # arg_x_1\n",
    "    p1 *= np.sin(k*arg_x_2) # arg_x_2\n",
    "    p1 *= np.cos(k*arg_x_3) # arg_x_3\n",
    "    p1 *= (np.exp(-ek*arg_y_1) + np.exp(-ek*arg_y_2) + np.exp(-ek*arg_y_3))*(1 + sexp) + np.exp(-ek*arg_y_4)*sexp # arg_y_1, arg_y_2, arg_y3, arg_y_4\n",
    "    return p1\n",
    "\n",
    "def calc_sexp(ek, yed):\n",
    "    ek_ = ek*yed\n",
    "    MAXITER = 300\n",
    "    blk_size = 3\n",
    "    TINY = 1e-20\n",
    "    EPS = 1e-12\n",
    "    sum_ = 0.\n",
    "    for i in range(1, MAXITER):\n",
    "        blk = np.arange(1+i*blk_size, 1+(i+1)*blk_size)\n",
    "        d = np.sum(np.exp(-2*blk*ek_))\n",
    "        sum_ += d\n",
    "        if d/(sum_ + TINY) < EPS:\n",
    "            return sum_\n",
    "    return sum_"
   ]
  },
  {
   "cell_type": "code",
   "execution_count": 3,
   "metadata": {
    "collapsed": true
   },
   "outputs": [],
   "source": [
    "from scipy.special import k0\n",
    "from scipy.integrate import quad"
   ]
  },
  {
   "cell_type": "code",
   "execution_count": 5,
   "metadata": {
    "collapsed": true
   },
   "outputs": [],
   "source": [
    "def f(squ, xd, xwd, dyd):\n",
    "    g = lambda t: k0(squ*((xd-xwd-t)**2 + dyd**2)**0.5)\n",
    "    return quad(g, -1, 1)[0]"
   ]
  },
  {
   "cell_type": "code",
   "execution_count": 6,
   "metadata": {},
   "outputs": [
    {
     "data": {
      "text/plain": [
       "0.4990890378057079"
      ]
     },
     "execution_count": 6,
     "metadata": {},
     "output_type": "execute_result"
    }
   ],
   "source": [
    "f(1, -1, 0, 1)"
   ]
  },
  {
   "cell_type": "code",
   "execution_count": 15,
   "metadata": {
    "collapsed": true
   },
   "outputs": [],
   "source": [
    "def fw(squ, xdw, xwdw, dyd):\n",
    "    g1 = lambda t: k0(squ*((xdw - xwdw - t)**2 + dyd**2)**0.5)\n",
    "    return quad(g1, 0, 2)[0]"
   ]
  },
  {
   "cell_type": "code",
   "execution_count": 16,
   "metadata": {},
   "outputs": [
    {
     "data": {
      "text/plain": [
       "0.4990890378057079"
      ]
     },
     "execution_count": 16,
     "metadata": {},
     "output_type": "execute_result"
    }
   ],
   "source": [
    "fw(1, 0, 0, 1)"
   ]
  },
  {
   "cell_type": "code",
   "execution_count": 19,
   "metadata": {},
   "outputs": [
    {
     "data": {
      "text/plain": [
       "array([ 1.525,  1.575,  1.625,  1.675,  1.725,  1.775,  1.825,  1.875,\n",
       "        1.925,  1.975,  2.025,  2.075,  2.125,  2.175,  2.225,  2.275,\n",
       "        2.325,  2.375,  2.425,  2.475,  2.525,  2.575,  2.625,  2.675,\n",
       "        2.725,  2.775,  2.825,  2.875,  2.925,  2.975,  3.025,  3.075,\n",
       "        3.125,  3.175,  3.225,  3.275,  3.325,  3.375,  3.425,  3.475])"
      ]
     },
     "execution_count": 19,
     "metadata": {},
     "output_type": "execute_result"
    }
   ],
   "source": [
    "new_well_nnnn.lapl_well.sources_[\"sources_list\"][0].xis"
   ]
  },
  {
   "cell_type": "code",
   "execution_count": 27,
   "metadata": {},
   "outputs": [
    {
     "data": {
      "text/plain": [
       "array([ 1.5 ,  1.55,  1.6 ,  1.65,  1.7 ,  1.75,  1.8 ,  1.85,  1.9 ,\n",
       "        1.95,  2.  ,  2.05,  2.1 ,  2.15,  2.2 ,  2.25,  2.3 ,  2.35,\n",
       "        2.4 ,  2.45,  2.5 ,  2.55,  2.6 ,  2.65,  2.7 ,  2.75,  2.8 ,\n",
       "        2.85,  2.9 ,  2.95,  3.  ,  3.05,  3.1 ,  3.15,  3.2 ,  3.25,\n",
       "        3.3 ,  3.35,  3.4 ,  3.45])"
      ]
     },
     "execution_count": 27,
     "metadata": {},
     "output_type": "execute_result"
    }
   ],
   "source": [
    "new_well_nnnn.lapl_well.sources_[\"sources_list\"][0].xjs"
   ]
  },
  {
   "cell_type": "code",
   "execution_count": 20,
   "metadata": {},
   "outputs": [
    {
     "data": {
      "text/plain": [
       "2.5"
      ]
     },
     "execution_count": 20,
     "metadata": {},
     "output_type": "execute_result"
    }
   ],
   "source": [
    "new_well_nnnn.lapl_well.sources_[\"sources_list\"][0].xwd"
   ]
  },
  {
   "cell_type": "code",
   "execution_count": 21,
   "metadata": {},
   "outputs": [
    {
     "data": {
      "text/plain": [
       "array([ 1.,  2.,  3.])"
      ]
     },
     "execution_count": 21,
     "metadata": {},
     "output_type": "execute_result"
    }
   ],
   "source": [
    "np.linspace(1,3,3)"
   ]
  },
  {
   "cell_type": "code",
   "execution_count": 25,
   "metadata": {},
   "outputs": [],
   "source": [
    "xwd = 2.5\n",
    "x0 = -1\n",
    "x1 = 1\n",
    "n = 20\n",
    "dx = 1/n\n",
    "xis = np.linspace(xwd+x0+0.5*dx, xwd+x1-0.5*dx, 2*n)\n",
    "xjs = xis - 0.5*dx\n",
    "xj1s = xis + 0.5*dx"
   ]
  },
  {
   "cell_type": "code",
   "execution_count": 26,
   "metadata": {},
   "outputs": [
    {
     "name": "stdout",
     "output_type": "stream",
     "text": [
      "[ 1.525  1.575  1.625  1.675  1.725  1.775  1.825  1.875  1.925  1.975\n",
      "  2.025  2.075  2.125  2.175  2.225  2.275  2.325  2.375  2.425  2.475\n",
      "  2.525  2.575  2.625  2.675  2.725  2.775  2.825  2.875  2.925  2.975\n",
      "  3.025  3.075  3.125  3.175  3.225  3.275  3.325  3.375  3.425  3.475]\n",
      "[ 1.5   1.55  1.6   1.65  1.7   1.75  1.8   1.85  1.9   1.95  2.    2.05\n",
      "  2.1   2.15  2.2   2.25  2.3   2.35  2.4   2.45  2.5   2.55  2.6   2.65\n",
      "  2.7   2.75  2.8   2.85  2.9   2.95  3.    3.05  3.1   3.15  3.2   3.25\n",
      "  3.3   3.35  3.4   3.45]\n",
      "[ 1.55  1.6   1.65  1.7   1.75  1.8   1.85  1.9   1.95  2.    2.05  2.1\n",
      "  2.15  2.2   2.25  2.3   2.35  2.4   2.45  2.5   2.55  2.6   2.65  2.7\n",
      "  2.75  2.8   2.85  2.9   2.95  3.    3.05  3.1   3.15  3.2   3.25  3.3\n",
      "  3.35  3.4   3.45  3.5 ]\n"
     ]
    }
   ],
   "source": [
    "print(xis)\n",
    "print(xjs)\n",
    "print(xj1s)"
   ]
  },
  {
   "cell_type": "code",
   "execution_count": 30,
   "metadata": {
    "collapsed": true
   },
   "outputs": [],
   "source": [
    "xwd = 1.5\n",
    "x0 = 0\n",
    "x1 = 2\n",
    "n = 20\n",
    "dx = 1/n\n",
    "xis = np.linspace(xwd+x0+0.5*dx, xwd+x1-0.5*dx, 2*n)\n",
    "xjs = xis - 0.5*dx\n",
    "xj1s = xis + 0.5*dx"
   ]
  },
  {
   "cell_type": "code",
   "execution_count": 31,
   "metadata": {},
   "outputs": [
    {
     "name": "stdout",
     "output_type": "stream",
     "text": [
      "[ 1.525  1.575  1.625  1.675  1.725  1.775  1.825  1.875  1.925  1.975\n",
      "  2.025  2.075  2.125  2.175  2.225  2.275  2.325  2.375  2.425  2.475\n",
      "  2.525  2.575  2.625  2.675  2.725  2.775  2.825  2.875  2.925  2.975\n",
      "  3.025  3.075  3.125  3.175  3.225  3.275  3.325  3.375  3.425  3.475]\n",
      "[ 1.5   1.55  1.6   1.65  1.7   1.75  1.8   1.85  1.9   1.95  2.    2.05\n",
      "  2.1   2.15  2.2   2.25  2.3   2.35  2.4   2.45  2.5   2.55  2.6   2.65\n",
      "  2.7   2.75  2.8   2.85  2.9   2.95  3.    3.05  3.1   3.15  3.2   3.25\n",
      "  3.3   3.35  3.4   3.45]\n",
      "[ 1.55  1.6   1.65  1.7   1.75  1.8   1.85  1.9   1.95  2.    2.05  2.1\n",
      "  2.15  2.2   2.25  2.3   2.35  2.4   2.45  2.5   2.55  2.6   2.65  2.7\n",
      "  2.75  2.8   2.85  2.9   2.95  3.    3.05  3.1   3.15  3.2   3.25  3.3\n",
      "  3.35  3.4   3.45  3.5 ]\n"
     ]
    }
   ],
   "source": [
    "print(xis)\n",
    "print(xjs)\n",
    "print(xj1s)"
   ]
  },
  {
   "cell_type": "code",
   "execution_count": null,
   "metadata": {
    "collapsed": true
   },
   "outputs": [],
   "source": []
  }
 ],
 "metadata": {
  "kernelspec": {
   "display_name": "Python 3",
   "language": "python",
   "name": "python3"
  },
  "language_info": {
   "codemirror_mode": {
    "name": "ipython",
    "version": 3
   },
   "file_extension": ".py",
   "mimetype": "text/x-python",
   "name": "python",
   "nbconvert_exporter": "python",
   "pygments_lexer": "ipython3",
   "version": "3.6.1"
  }
 },
 "nbformat": 4,
 "nbformat_minor": 2
}
