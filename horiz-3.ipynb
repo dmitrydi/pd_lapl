{
 "cells": [
  {
   "cell_type": "code",
   "execution_count": 1,
   "metadata": {},
   "outputs": [],
   "source": [
    "from fwell.fwell import FWell\n",
    "import numpy as np\n",
    "import matplotlib.pyplot as plt\n",
    "%matplotlib inline\n",
    "import pandas as pd\n",
    "import cProfile, pstats\n",
    "\n",
    "outer_bound = \"nnnn\"\n",
    "top_bound = \"imp\"\n",
    "bottom_bound = 'imp'\n",
    "wtype = 'hor'\n",
    "nseg = 20\n",
    "nwells = 1\n",
    "Xe = 1000\n",
    "Ye = 1000\n",
    "xw = Xe/2\n",
    "yw = Ye/2\n",
    "k = 10\n",
    "h = 10\n",
    "Lh = 500\n",
    "rw = 0.1\n",
    "xwds = [xw/(Lh/2)]\n",
    "ywds = [yw/(Lh/2)]\n",
    "xed = Xe/(Lh/2)\n",
    "yed = Ye/(Lh/2)\n",
    "hd = 2*h/Lh\n",
    "rwd = rw/h\n",
    "zwds = [0.5]\n",
    "ct = 1e-5\n",
    "mu = 1\n",
    "B = 1\n",
    "fi = 0.1\n",
    "Q = 100\n",
    "ts = np.logspace(-2,3, 100)\n",
    "CT = 0.00036*k/(fi*mu*ct*(Lh/2)*(Lh/2))\n",
    "CP = Q*18.42*mu*B/(k*h)\n",
    "tds = ts*CT\n",
    "fwell = FWell(outer_bound, top_bound, bottom_bound, wtype, nseg, nwells, xwds, ywds, xed=xed, yed=yed,\n",
    "              zwds=zwds, hd=hd, rwd=rwd, attrs={'Fcd': 1e+6})"
   ]
  },
  {
   "cell_type": "code",
   "execution_count": 2,
   "metadata": {},
   "outputs": [
    {
     "name": "stdout",
     "output_type": "stream",
     "text": [
      "255\n"
     ]
    }
   ],
   "source": [
    "df = pd.read_csv('./saphire/hor_test_1.txt', delim_whitespace=True, skiprows = 11)\n",
    "t_saph = np.array(df[\"(hr)\"])\n",
    "p_saph = np.array(df[\"(atm)\"])\n",
    "print(len(t_saph))"
   ]
  },
  {
   "cell_type": "code",
   "execution_count": 3,
   "metadata": {},
   "outputs": [],
   "source": [
    "res = np.array([])\n",
    "for t in t_saph:\n",
    "    if t != 0:\n",
    "        res = np.append(res, CP*fwell.pw(CT*t))"
   ]
  },
  {
   "cell_type": "code",
   "execution_count": 4,
   "metadata": {},
   "outputs": [
    {
     "data": {
      "text/plain": [
       "[<matplotlib.lines.Line2D at 0x7f15672db2e8>]"
      ]
     },
     "execution_count": 4,
     "metadata": {},
     "output_type": "execute_result"
    },
    {
     "data": {
      "image/png": "[encoded data removed]",
      "text/plain": [
       "<Figure size 432x288 with 1 Axes>"
      ]
     },
     "metadata": {
      "needs_background": "light"
     },
     "output_type": "display_data"
    }
   ],
   "source": [
    "plt.yscale(\"log\")\n",
    "plt.plot(t_saph[1:], res)\n",
    "plt.plot(t_saph, p_saph[0]-p_saph)"
   ]
  },
  {
   "cell_type": "code",
   "execution_count": 5,
   "metadata": {},
   "outputs": [
    {
     "data": {
      "text/plain": [
       "array([ 5.13569418e-01,  5.19556378e-01,  5.25323126e-01,  5.31751938e-01,\n",
       "        5.38355814e-01,  5.45013092e-01,  5.51612939e-01,  5.58065145e-01,\n",
       "        5.64301655e-01,  5.70846441e-01,  5.77765523e-01,  5.84959677e-01,\n",
       "        5.92299433e-01,  5.99634358e-01,  6.06784384e-01,  6.13538201e-01,\n",
       "        6.19679261e-01,  6.24978637e-01,  6.29167311e-01,  6.32017880e-01,\n",
       "        6.33364929e-01,  6.32750649e-01,  6.30159105e-01,  6.24403189e-01,\n",
       "        6.17025472e-01,  6.06997428e-01,  5.98886424e-01,  5.82762068e-01,\n",
       "        5.54020144e-01,  5.43252669e-01,  5.18346089e-01,  4.87347348e-01,\n",
       "        4.59753080e-01,  4.28204813e-01,  3.94879517e-01,  3.60126540e-01,\n",
       "        3.24442815e-01,  2.88382767e-01,  2.52533140e-01,  2.17482447e-01,\n",
       "        1.83783739e-01,  1.51904542e-01,  1.22183546e-01,  9.51319879e-02,\n",
       "        6.98867891e-02,  6.72681174e-02,  3.80386202e-02,  3.83077539e-02,\n",
       "        1.80160378e-02, -9.27491926e-03,  2.70604010e-02,  4.34220645e-03,\n",
       "        3.34980264e-03,  7.67408969e-03,  8.62281328e-03,  7.83382734e-03,\n",
       "        2.81368560e-03, -9.44013103e-03, -3.24913466e-02, -7.03508767e-02,\n",
       "       -1.27293164e-01, -2.07220073e-01, -3.13773836e-01, -4.36608915e-01,\n",
       "       -5.69873372e-01, -7.10307233e-01, -8.55328403e-01, -1.00267319e+00,\n",
       "       -1.15069200e+00, -1.29820061e+00, -1.44417536e+00, -1.58787032e+00,\n",
       "       -1.72876518e+00, -1.86652546e+00, -2.00083351e+00, -2.13150582e+00,\n",
       "       -2.25853814e+00, -2.38183313e+00, -2.50150393e+00, -2.61760504e+00,\n",
       "       -2.73002559e+00, -2.83891095e+00, -2.94436090e+00, -3.04633744e+00,\n",
       "       -3.14524297e+00, -3.24088382e+00, -3.33353213e+00, -3.42324278e+00,\n",
       "       -3.51004363e+00, -3.59418415e+00, -3.67560318e+00, -3.75447624e+00,\n",
       "       -3.83098236e+00, -3.90507288e+00, -3.97698247e+00, -4.04685216e+00,\n",
       "       -4.11452396e+00, -4.18028203e+00, -4.24428265e+00, -4.30640221e+00,\n",
       "       -4.36681955e+00, -4.42550355e+00, -4.48273143e+00, -4.53840070e+00,\n",
       "       -4.59248065e+00, -4.64523339e+00, -4.69656833e+00, -4.74647533e+00,\n",
       "       -4.79506511e+00, -4.84231559e+00, -4.88833002e+00, -4.93310039e+00,\n",
       "       -4.97669664e+00, -5.01918260e+00, -5.06075474e+00, -5.10130524e+00,\n",
       "       -5.14087469e+00, -5.17946862e+00, -5.21716992e+00, -5.25412238e+00,\n",
       "       -5.29019247e+00, -5.32544712e+00, -5.35987665e+00, -5.39348049e+00,\n",
       "       -5.42647876e+00, -5.45874161e+00, -5.49026001e+00, -5.52104438e+00,\n",
       "       -5.55113383e+00, -5.58065756e+00, -5.60960295e+00, -5.63791758e+00,\n",
       "       -5.66560662e+00, -5.69274389e+00, -5.71922612e+00, -5.74504081e+00,\n",
       "       -5.77014231e+00, -5.79479175e+00, -5.81924729e+00, -5.84330226e+00,\n",
       "       -5.86717350e+00, -5.89105554e+00, -5.91549013e+00, -5.94000705e+00,\n",
       "       -5.96445009e+00, -5.98887560e+00, -6.01333335e+00, -6.03768918e+00,\n",
       "       -6.06206941e+00, -6.08661621e+00, -6.11112416e+00, -6.13557667e+00,\n",
       "       -6.16003325e+00, -6.18453146e+00, -6.20912655e+00, -6.23350920e+00,\n",
       "       -6.25797769e+00, -6.28255161e+00, -6.30707012e+00, -6.33150424e+00,\n",
       "       -6.35601676e+00, -6.38040274e+00, -6.40482392e+00, -6.42916994e+00,\n",
       "       -6.45360550e+00, -6.47814040e+00, -6.50263031e+00, -6.52706320e+00,\n",
       "       -6.55138403e+00, -6.57582715e+00, -6.60020845e+00, -6.62457835e+00,\n",
       "       -6.64897685e+00, -6.67340599e+00, -6.69791817e+00, -6.72241375e+00,\n",
       "       -6.74686450e+00, -6.77137235e+00, -6.79580464e+00, -6.82024137e+00,\n",
       "       -6.84463066e+00, -6.86906869e+00, -6.89340338e+00, -6.91798916e+00,\n",
       "       -6.94243863e+00, -6.96697211e+00, -6.99150087e+00, -7.01594168e+00,\n",
       "       -7.04036862e+00, -7.06480466e+00, -7.08922418e+00, -7.11356605e+00,\n",
       "       -7.13790995e+00, -7.16230739e+00, -7.18680899e+00, -7.21130689e+00,\n",
       "       -7.23580299e+00, -7.26031054e+00, -7.28474450e+00, -7.30921211e+00,\n",
       "       -7.33359818e+00, -7.35801226e+00, -7.38244146e+00, -7.40678243e+00,\n",
       "       -7.43117336e+00, -7.45570581e+00, -7.48021834e+00, -7.50473258e+00,\n",
       "       -7.52917141e+00, -7.55367219e+00, -7.57807346e+00, -7.60250645e+00,\n",
       "       -7.62699716e+00, -7.65135985e+00, -7.67574103e+00, -7.70016480e+00,\n",
       "       -7.72464978e+00, -7.74917148e+00, -7.77366831e+00, -7.79824959e+00,\n",
       "       -7.82286448e+00, -7.84737230e+00, -7.87184569e+00, -7.89622159e+00,\n",
       "       -7.92072262e+00, -7.94507797e+00, -7.96948841e+00, -7.99390703e+00,\n",
       "       -8.01822114e+00, -8.04273135e+00, -8.06722108e+00, -8.09168178e+00,\n",
       "       -8.11621084e+00, -8.14066375e+00, -8.16520827e+00, -8.18963713e+00,\n",
       "       -8.21408693e+00, -8.23848749e+00, -8.26291344e+00, -8.28737562e+00,\n",
       "       -8.31171156e+00, -8.33616758e+00, -8.36035579e+00, -8.38482813e+00,\n",
       "       -8.40931635e+00, -8.43389772e+00, -8.45813689e+00, -8.48270070e+00,\n",
       "       -8.50703525e+00, -8.53146253e+00, -8.55598091e+00, -8.58036792e+00,\n",
       "       -8.60483754e+00, -8.62876593e+00])"
      ]
     },
     "execution_count": 5,
     "metadata": {},
     "output_type": "execute_result"
    }
   ],
   "source": [
    "((p_saph[0]-p_saph[1:])-res)"
   ]
  },
  {
   "cell_type": "code",
   "execution_count": 5,
   "metadata": {},
   "outputs": [],
   "source": [
    "from fwell.ffunc.ffuncs import *"
   ]
  },
  {
   "cell_type": "code",
   "execution_count": 6,
   "metadata": {},
   "outputs": [],
   "source": [
    "def wtrans_v(vfunc, r, verbose=0):\n",
    "    # returns VanWijngaarden - transformation terms w_r:\n",
    "    # sum[v_r, r=1..oo] = sum[(-1)**(r-1)*w_r, r=1..oo]\n",
    "    # vfunc - lambda-like function to eval with integer r\n",
    "    # returns w_r\n",
    "    MAXIT = 10000\n",
    "    TINY = 1e-30\n",
    "    EPS = 1e-12\n",
    "    psum = vfunc(r)\n",
    "    cpow = 2.\n",
    "    for j in range(1,MAXIT):\n",
    "        d = cpow*vfunc(cpow*r)\n",
    "        psum += d\n",
    "        cpow *= 2.\n",
    "        ad = np.max(np.abs(d))\n",
    "        if ad < (np.min(np.abs(psum))+TINY)*EPS or ad < TINY:\n",
    "            if verbose==0:\n",
    "                return psum\n",
    "            elif verbose == 1:\n",
    "                return psum, j\n",
    "            elif verbose >= 2:\n",
    "                return psum, j, d\n",
    "    raise RuntimeError(\"{}\".format(r))\n",
    "    \n",
    "def eulsum_v_(psum, term, jterm, wksp, nterm):\n",
    "    if jterm == 1:\n",
    "        nterm = 1\n",
    "        wksp[1] = term.copy()\n",
    "        psum = 0.5*wksp[1]\n",
    "    else:\n",
    "        tmp = wksp[1].copy()\n",
    "        wksp[1] = term.copy()\n",
    "        for j in range(1, nterm):\n",
    "            dum = wksp[j+1].copy()\n",
    "            wksp[j+1] = 0.5*(wksp[j]+tmp)\n",
    "            tmp=dum.copy()\n",
    "            wksp[nterm+1] = 0.5*(wksp[nterm]+tmp)\n",
    "            tmp=dum.copy()\n",
    "        wksp[nterm+1] = 0.5*(wksp[nterm]+tmp)\n",
    "        if np.max(np.abs(wksp[nterm+1])) <= np.max(np.abs(wksp[nterm])):\n",
    "            nterm += 1\n",
    "            psum += (0.5*wksp[nterm])\n",
    "        else:\n",
    "            psum += wksp[nterm+1]\n",
    "    return psum, wksp, nterm\n",
    "\n",
    "def eulsum_v(vfunc, vfunc_shape, j_0=False):\n",
    "    # euler's algo for series summation \n",
    "    # vfunc - scalar-valued lambda-like function function\n",
    "    # param: j_0 - whether to account for 0-th term in sum\n",
    "    MAXTERM = 1000\n",
    "    EPS = 1e-9\n",
    "    TINY = 1e-20\n",
    "    wksp = np.zeros((MAXTERM, *vfunc_shape), dtype=np.float)\n",
    "    nterm = 0\n",
    "    sign = 1.\n",
    "    ppsum = np.zeros(vfunc_shape)\n",
    "    # account for 0-th term\n",
    "    if j_0:\n",
    "        psum = vfunc(0)\n",
    "    else:\n",
    "        psum = np.zeros(vfunc_shape)\n",
    "    for j in range(1, MAXTERM):\n",
    "        term = sign*wtrans_v(vfunc, j, verbose=0) \n",
    "        sign *= -1.\n",
    "        psum, wksp, nterm = eulsum_v_(psum, term, j, wksp, nterm) \n",
    "        apsum = np.min(np.abs(psum))+0.5*TINY\n",
    "        if np.max(np.abs(psum-ppsum)) < EPS*apsum or apsum < TINY:\n",
    "            return psum\n",
    "        ppsum = psum.copy()\n",
    "    raise RuntimeWarning(\"In eulsum: series did not converge in {} iterations\".format(MAXTERM))"
   ]
  },
  {
   "cell_type": "code",
   "execution_count": 7,
   "metadata": {},
   "outputs": [],
   "source": [
    "from fwell.ffunc.ffuncs import F2H1k, F2H1\n",
    "# (k, b, u, ksid, ksiwd, ksied, ksiede, a, yd, ywd)"
   ]
  },
  {
   "cell_type": "code",
   "execution_count": 8,
   "metadata": {},
   "outputs": [],
   "source": [
    "zd, zwd, yd, ywd, hd, xd, xwd = fwell.lw.zd, fwell.lw.zwd, fwell.lw.yd, fwell.lw.ywd, fwell.lw.hd, fwell.lw.xd, fwell.lw.xwd\n",
    "x1, x2 = fwell.lw.x1, fwell.lw.x2\n",
    "b = 1\n",
    "u = 1e-4\n",
    "ksid = xd\n",
    "ksiwd = xwd\n",
    "ksied = xed\n",
    "ksiede = xed\n",
    "vfunc = lambda k: F2H1k(k,b,u,ksid,ksiwd,ksied,ksiede,0,yd,ywd)"
   ]
  },
  {
   "cell_type": "code",
   "execution_count": null,
   "metadata": {},
   "outputs": [],
   "source": [
    "term = wtrans_v(vfunc,1, verbose=0)\n",
    "jterm = 1\n",
    "psum = np.zeros_like(xd)\n",
    "wksp = np.zeros((10, *(psum.shape)))\n",
    "nterm=0\n",
    "eulsum_v_(psum, term, jterm, wksp, nterm)"
   ]
  },
  {
   "cell_type": "code",
   "execution_count": 18,
   "metadata": {},
   "outputs": [],
   "source": [
    "from scipy.special import k0\n",
    "from fwell.ffunc.aux import eulsum\n",
    "u = 0.00814443458076589\n",
    "def F2H1_new(u, ksid, ksiwd, ksied, ksiede, a, yd, ywd):\n",
    "    val = np.zeros_like(ksid)\n",
    "    for sx in [-1,1]:\n",
    "        val += k0(np.sqrt((u+a*a)*(np.square(ksiede/ksied*(ksid+sx*ksiwd))+np.square(yd-ywd))))\n",
    "    for sx in [-1,1]:\n",
    "        for sk in [-1,1]:\n",
    "            vfunc = lambda k: k0(np.sqrt((u+a*a)*(np.square(ksiede/ksied*(ksid+sx*ksiwd+sk*2*k*ksied))+np.square(yd-ywd))))\n",
    "            val += eulsum_v(vfunc, xd.shape)\n",
    "    return val"
   ]
  },
  {
   "cell_type": "code",
   "execution_count": 20,
   "metadata": {},
   "outputs": [
    {
     "name": "stdout",
     "output_type": "stream",
     "text": [
      "193 ms ± 0 ns per loop (mean ± std. dev. of 1 run, 10 loops each)\n"
     ]
    }
   ],
   "source": [
    "%timeit -n10 -r1 F2H1_new(0.00814443458076589, zd, zwd, 1, hd, 0, yd, ywd)"
   ]
  },
  {
   "cell_type": "code",
   "execution_count": 22,
   "metadata": {},
   "outputs": [
    {
     "name": "stdout",
     "output_type": "stream",
     "text": [
      "209 ms ± 0 ns per loop (mean ± std. dev. of 1 run, 10 loops each)\n",
      "118 ms ± 0 ns per loop (mean ± std. dev. of 1 run, 10 loops each)\n"
     ]
    }
   ],
   "source": [
    "%timeit -n10 -r1 F2H1(1, zd, zwd, 1, hd, 0, yd, ywd)\n",
    "%timeit -n10 -r1 F2H1_new(1, zd, zwd, 1, hd, 0, yd, ywd)"
   ]
  },
  {
   "cell_type": "code",
   "execution_count": 23,
   "metadata": {},
   "outputs": [
    {
     "data": {
      "text/plain": [
       "True"
      ]
     },
     "execution_count": 23,
     "metadata": {},
     "output_type": "execute_result"
    }
   ],
   "source": [
    "np.allclose(F2H1(1, zd, zwd, 1, hd, 0, yd, ywd), F2H1_new(1, zd, zwd, 1, hd, 0, yd, ywd), rtol=1e-4)"
   ]
  },
  {
   "cell_type": "code",
   "execution_count": 64,
   "metadata": {},
   "outputs": [
    {
     "data": {
      "text/plain": [
       "True"
      ]
     },
     "execution_count": 64,
     "metadata": {},
     "output_type": "execute_result"
    }
   ],
   "source": [
    "np.allclose(val,F2H1(u, ksid, ksiwd, ksied, ksiede, 0, yd, ywd),rtol=1e-4)"
   ]
  },
  {
   "cell_type": "code",
   "execution_count": 39,
   "metadata": {},
   "outputs": [
    {
     "data": {
      "text/plain": [
       "array([[78.21326993, 78.21326993, 78.21326993, ..., 78.21326993,\n",
       "        78.21326993, 78.21326993],\n",
       "       [78.25576223, 78.25576223, 78.25576223, ..., 78.25576223,\n",
       "        78.25576223, 78.25576223],\n",
       "       [78.30175387, 78.30175387, 78.30175387, ..., 78.30175387,\n",
       "        78.30175387, 78.30175387],\n",
       "       ...,\n",
       "       [78.30175387, 78.30175387, 78.30175387, ..., 78.30175387,\n",
       "        78.30175387, 78.30175387],\n",
       "       [78.25576223, 78.25576223, 78.25576223, ..., 78.25576223,\n",
       "        78.25576223, 78.25576223],\n",
       "       [78.21326993, 78.21326993, 78.21326993, ..., 78.21326993,\n",
       "        78.21326993, 78.21326993]])"
      ]
     },
     "execution_count": 39,
     "metadata": {},
     "output_type": "execute_result"
    }
   ],
   "source": [
    "F2H1(u, ksid, ksiwd, ksied, ksiede, 0, yd, ywd)"
   ]
  },
  {
   "cell_type": "code",
   "execution_count": 10,
   "metadata": {},
   "outputs": [
    {
     "ename": "RuntimeError",
     "evalue": "F2H1 did not converge for u = 0.00814443458076589",
     "output_type": "error",
     "traceback": [
      "\u001b[0;31m---------------------------------------------------------------------------\u001b[0m",
      "\u001b[0;31mRuntimeError\u001b[0m                              Traceback (most recent call last)",
      "\u001b[0;32m<ipython-input-10-cec1bb1b6d77>\u001b[0m in \u001b[0;36m<module>\u001b[0;34m\u001b[0m\n\u001b[0;32m----> 1\u001b[0;31m \u001b[0mF2H1\u001b[0m\u001b[0;34m(\u001b[0m\u001b[0;36m0.00814443458076589\u001b[0m\u001b[0;34m,\u001b[0m \u001b[0mzd\u001b[0m\u001b[0;34m,\u001b[0m \u001b[0mzwd\u001b[0m\u001b[0;34m,\u001b[0m \u001b[0;36m1\u001b[0m\u001b[0;34m,\u001b[0m \u001b[0mhd\u001b[0m\u001b[0;34m,\u001b[0m \u001b[0;36m0\u001b[0m\u001b[0;34m,\u001b[0m \u001b[0myd\u001b[0m\u001b[0;34m,\u001b[0m \u001b[0mywd\u001b[0m\u001b[0;34m)\u001b[0m\u001b[0;34m\u001b[0m\u001b[0;34m\u001b[0m\u001b[0m\n\u001b[0m",
      "\u001b[0;32m~/pd_lapl/fwell/ffunc/ffuncs.py\u001b[0m in \u001b[0;36mF2H1\u001b[0;34m(u, ksid, ksiwd, ksied, ksiede, a, yd, ywd)\u001b[0m\n\u001b[1;32m    377\u001b[0m         \u001b[0;32mif\u001b[0m \u001b[0mnp\u001b[0m\u001b[0;34m.\u001b[0m\u001b[0mlinalg\u001b[0m\u001b[0;34m.\u001b[0m\u001b[0mnorm\u001b[0m\u001b[0;34m(\u001b[0m\u001b[0md\u001b[0m\u001b[0;34m)\u001b[0m \u001b[0;34m<\u001b[0m \u001b[0mEPS\u001b[0m\u001b[0;34m*\u001b[0m\u001b[0mnrm\u001b[0m \u001b[0;32mor\u001b[0m \u001b[0mnrm\u001b[0m \u001b[0;34m<\u001b[0m \u001b[0mTINY\u001b[0m\u001b[0;34m:\u001b[0m\u001b[0;34m\u001b[0m\u001b[0;34m\u001b[0m\u001b[0m\n\u001b[1;32m    378\u001b[0m             \u001b[0;32mreturn\u001b[0m \u001b[0msum_\u001b[0m\u001b[0;34m\u001b[0m\u001b[0;34m\u001b[0m\u001b[0m\n\u001b[0;32m--> 379\u001b[0;31m     \u001b[0;32mraise\u001b[0m \u001b[0mRuntimeError\u001b[0m\u001b[0;34m(\u001b[0m\u001b[0;34m\"F2H1 did not converge for u = {}\"\u001b[0m\u001b[0;34m.\u001b[0m\u001b[0mformat\u001b[0m\u001b[0;34m(\u001b[0m\u001b[0mu\u001b[0m\u001b[0;34m)\u001b[0m\u001b[0;34m)\u001b[0m\u001b[0;34m\u001b[0m\u001b[0;34m\u001b[0m\u001b[0m\n\u001b[0m\u001b[1;32m    380\u001b[0m \u001b[0;34m\u001b[0m\u001b[0m\n\u001b[1;32m    381\u001b[0m \u001b[0;32mdef\u001b[0m \u001b[0mF2H1k\u001b[0m\u001b[0;34m(\u001b[0m\u001b[0mk\u001b[0m\u001b[0;34m,\u001b[0m \u001b[0mb\u001b[0m\u001b[0;34m,\u001b[0m \u001b[0mu\u001b[0m\u001b[0;34m,\u001b[0m \u001b[0mksid\u001b[0m\u001b[0;34m,\u001b[0m \u001b[0mksiwd\u001b[0m\u001b[0;34m,\u001b[0m \u001b[0mksied\u001b[0m\u001b[0;34m,\u001b[0m \u001b[0mksiede\u001b[0m\u001b[0;34m,\u001b[0m \u001b[0ma\u001b[0m\u001b[0;34m,\u001b[0m \u001b[0myd\u001b[0m\u001b[0;34m,\u001b[0m \u001b[0mywd\u001b[0m\u001b[0;34m)\u001b[0m\u001b[0;34m:\u001b[0m\u001b[0;34m\u001b[0m\u001b[0;34m\u001b[0m\u001b[0m\n",
      "\u001b[0;31mRuntimeError\u001b[0m: F2H1 did not converge for u = 0.00814443458076589"
     ]
    }
   ],
   "source": [
    "F2H1(0.00814443458076589, zd, zwd, 1, hd, 0, yd, ywd)\n"
   ]
  },
  {
   "cell_type": "code",
   "execution_count": null,
   "metadata": {},
   "outputs": [],
   "source": []
  },
  {
   "cell_type": "code",
   "execution_count": null,
   "metadata": {},
   "outputs": [],
   "source": []
  },
  {
   "cell_type": "code",
   "execution_count": null,
   "metadata": {},
   "outputs": [],
   "source": []
  },
  {
   "cell_type": "code",
   "execution_count": 17,
   "metadata": {},
   "outputs": [],
   "source": [
    "def IF3(u, x1, x2, zd, zwd, hd, xd, xwd, xed, yd, ywd, yed, buf, fid1, fid2):\n",
    "    if3 = IF31(u, x1, x2, zd, zwd, hd, xd, xwd, xed, yd, ywd, yed, buf, fid1) +\\\n",
    "            IF32(u, x1, x2, zd, zwd, hd, xd, xwd, xed, yd, ywd, yed, buf, fid2)\n",
    "    return if3\n",
    "\n",
    "def IF31(u, x1, x2, zd, zwd, hd, xd, xwd, xed, yd, ywd, yed, buf, fid):\n",
    "    return ihF2E(zd, zwd, x1, x2, u, xd, xwd, xed, xed, hd, yd, ywd, yed, buf, fid)\n",
    "\n",
    "def IF32(u, x1, x2, zd, zwd, hd, xd, xwd, xed, yd, ywd, yed, buf, fid):\n",
    "    if32 = IF321(u, x1, x2, zd, zwd, hd, xd, xwd, xed, yd, ywd, yed, buf, fid+\"_1\") +\\\n",
    "        IF322(u, x1, x2, zd, zwd, hd, xd, xwd, xed, yd, ywd, yed, buf, fid+\"_2\")\n",
    "    return if32\n",
    "\n",
    "def IF321(u, x1, x2, zd, zwd, hd, xd, xwd, xed, yd, ywd, yed, buf, fid):\n",
    "    MAXITER = 1000\n",
    "    EPS = 1e-6\n",
    "    coef = 0.5*xed/np.pi\n",
    "    sum1, sum2, m = np.zeros_like(x1), np.zeros_like(x1), np.zeros_like(x1)\n",
    "    for n in range(1, MAXITER):\n",
    "        v1, v2, vm = IF321_n(n, u, x1, x2, zd, zwd, hd, xd, xwd, xed, yd, ywd, yed, buf, fid)\n",
    "        sum1 += v1\n",
    "        sum2 += v2\n",
    "        m += vm\n",
    "        if np.linalg.norm(v1) < EPS*np.linalg.norm(sum1) and np.linalg.norm(v2) < EPS*np.linalg.norm(sum2):\n",
    "            break\n",
    "    ans = sum1 + sum2\n",
    "    ans += IF321_aux_(u, zd, zwd, hd)*np.abs(0.5*m)\n",
    "    return ans\n",
    "\n",
    "def IF321_aux(u,zd, zwd, hd):\n",
    "    MAXITER = 100000\n",
    "    EPS = 1e-9\n",
    "    sum_ = k0(np.sqrt(u*np.square((zd + zwd)*hd)))\n",
    "    sum_ += k0(np.sqrt(u*np.square((zd - zwd)*hd)))\n",
    "    for n in range(1, MAXITER):\n",
    "        d = k0(np.sqrt(u*np.square((zd - zwd - 2*n)*hd))) + k0(np.sqrt(u*np.square((zd + zwd - 2*n)*hd)))\n",
    "        d += k0(np.sqrt(u*np.square((zd - zwd + 2*n)*hd))) + k0(np.sqrt(u*np.square((zd + zwd + 2*n)*hd)))\n",
    "        sum_ += d\n",
    "        if np.linalg.norm(d) < EPS*np.linalg.norm(sum_):\n",
    "            return 0.5*hd*sum_ - 0.5*np.pi/np.sqrt(u), sum_\n",
    "    raise RuntimeWarning(\"IF321_aux did not converge\")\n",
    "    \n",
    "def IF321_aux_(u,zd_, zwd_, hd):\n",
    "    mshape = zd_.shape\n",
    "    assert zwd_.shape == mshape\n",
    "    zd = zd_[0,0]\n",
    "    zwd = zwd_[0,0]\n",
    "    sum_ = k0(np.sqrt(u*np.square((zd + zwd)*hd)))\n",
    "    sum_ += k0(np.sqrt(u*np.square((zd - zwd)*hd)))\n",
    "    for sz in [-1,1]:\n",
    "        for sn in [-1,1]:\n",
    "            vfunc = lambda n: k0(np.sqrt(u*np.square((zd + sz*zwd + sn*2*n)*hd)))\n",
    "            sum_ += eulsum(vfunc)\n",
    "    sum_ *= np.ones_like(zd_)\n",
    "    return 0.5*hd*sum_ - 0.5*np.pi/np.sqrt(u)\n",
    "        \n",
    "def IF321_n(n, u, x1, x2, zd, zwd, hd, xd, xwd, xed, yd, ywd, yed, buf, fid):\n",
    "    MAXITER = 1000\n",
    "    EPS = 1e-6\n",
    "    PI = np.pi\n",
    "    mult = np.cos(n*PI*zd)*np.cos(n*PI*zwd)\n",
    "    sum1, sum2, m = np.zeros_like(x1), np.zeros_like(x1), np.zeros_like(x1)\n",
    "    for b in [-1, 1]:\n",
    "        v1, v2, vm = IF321_nk(0, n, b, u, x1, x2, zd, zwd, hd, xd, xwd, xed, yd, ywd, yed, buf, fid)\n",
    "        sum1 += v1\n",
    "        sum2 += v2\n",
    "        m += vm\n",
    "    for k_ in range(1, MAXITER):\n",
    "        for k in [-k_, k_]:\n",
    "            for b in [-1, 1]:\n",
    "                v1, v2, vm = IF321_nk(k, n, b, u, x1, x2, zd, zwd, hd, xd, xwd, xed, yd, ywd, yed, buf, fid)\n",
    "                sum1 += v1\n",
    "                sum2 += v2\n",
    "                m += vm\n",
    "                if np.linalg.norm(v1) < EPS*np.linalg.norm(sum1) and np.linalg.norm(v2) < EPS*np.linalg.norm(sum2):\n",
    "                    return mult*sum1, mult*sum2, m\n",
    "    raise RuntimeError\n",
    "    \n",
    "def IF321_nk(k, n, b, u, x1, x2, zd, zwd, hd, xd, xwd, xed, yd, ywd, yed, buf, fid):\n",
    "    # prep\n",
    "    NDIGITS = 6\n",
    "    mshape = x1.shape\n",
    "    v_1 = np.zeros(mshape, dtype=np.double)\n",
    "    v_2 = np.zeros(mshape, dtype=np.double)\n",
    "    m1 = np.zeros(mshape, dtype=np.double)\n",
    "    m2 = np.zeros(mshape, dtype=np.double)\n",
    "    # calc\n",
    "    dyd = yd - ywd\n",
    "    inds_0 = np.isclose(dyd,0)\n",
    "    inds_nnz = np.logical_not(inds_0)\n",
    "    su = np.sqrt(u + np.square(n*np.pi/hd))\n",
    "    if np.any(inds_0):\n",
    "        t1 = xd[inds_0] + b*xwd[inds_0] - 2*k*xed - x2[inds_0]\n",
    "        t2 = xd[inds_0] + b*xwd[inds_0] - 2*k*xed - x1[inds_0]\n",
    "        mask1 = -1*(np.ones_like(t1) - 2*(t1>0))\n",
    "        mask2 = -1*(np.ones_like(t1) - 2*(t2<0))\n",
    "        t1 = np.round(np.abs(t1), decimals=NDIGITS).flatten()\n",
    "        t2 = np.round(np.abs(t2), decimals=NDIGITS).flatten()\n",
    "        nt = len(t1)\n",
    "        t = np.append(t1,t2)\n",
    "        ut, inv_t = np.unique(t, return_inverse=True)\n",
    "        uv = ki1(ut*su)/su\n",
    "        v = uv[inv_t]\n",
    "        v1 = v[:nt]\n",
    "        v2 = v[nt:]\n",
    "        v_1[inds_0] = v1\n",
    "        m1[inds_0] = mask1\n",
    "        v_2[inds_0] = v2\n",
    "        m2[inds_0] = mask2\n",
    "    if np.any(inds_nnz):\n",
    "        raise NotImplementedError\n",
    "    return m1*v_1, m2*v_2, m1+m2  \n",
    "\n",
    "def IF322(u, x1, x2, zd_, zwd_, hd, xd, xwd, xed, yd_, ywd_, yed, buf, fid):\n",
    "    zd, zwd, yd, ywd = zd_[0,0], zwd_[0,0], yd_[0,0], ywd_[0,0]\n",
    "    dyd = np.abs(yd-ywd)\n",
    "    psum = k0(np.sqrt(u*(np.square((zd+zwd)*hd) + np.square(dyd)))) + k0(np.sqrt(u*(np.square((zd-zwd)*hd) + np.square(dyd))))\n",
    "    for sz in [-1,1]:\n",
    "        for sn in [-1,1]:\n",
    "            func = lambda n: k0(np.sqrt(u*(np.square((zd+sz*zwd-2*sn*n)*hd) + np.square(dyd))))\n",
    "            psum += eulsum(func)\n",
    "    return 0.5*(x2-x1)*(0.5*hd*np.pi*psum - 0.5*np.exp(-np.sqrt(u)*dyd)/np.sqrt(u))\n",
    "                        \n",
    "    "
   ]
  },
  {
   "cell_type": "code",
   "execution_count": 8,
   "metadata": {},
   "outputs": [
    {
     "name": "stdout",
     "output_type": "stream",
     "text": [
      "255\n"
     ]
    }
   ],
   "source": []
  },
  {
   "cell_type": "code",
   "execution_count": 18,
   "metadata": {},
   "outputs": [],
   "source": []
  },
  {
   "cell_type": "code",
   "execution_count": 20,
   "metadata": {},
   "outputs": [],
   "source": [
    "u = 1e-3\n",
    "v = IF3(u, x1, x2, zd, zwd, hd, xd, xwd, xed, yd, ywd, yed,fwell.lw.buf, \"\", \"\")"
   ]
  },
  {
   "cell_type": "code",
   "execution_count": 21,
   "metadata": {},
   "outputs": [
    {
     "data": {
      "text/plain": [
       "[<matplotlib.lines.Line2D at 0x7f1c49803a90>]"
      ]
     },
     "execution_count": 21,
     "metadata": {},
     "output_type": "execute_result"
    },
    {
     "data": {
      "image/png": "[encoded data removed]",
      "text/plain": [
       "<Figure size 432x288 with 1 Axes>"
      ]
     },
     "metadata": {
      "needs_background": "light"
     },
     "output_type": "display_data"
    }
   ],
   "source": [
    "plt.plot(v[0,:])"
   ]
  },
  {
   "cell_type": "code",
   "execution_count": null,
   "metadata": {},
   "outputs": [],
   "source": []
  }
 ],
 "metadata": {
  "kernelspec": {
   "display_name": "Python [conda env:cython] *",
   "language": "python",
   "name": "conda-env-cython-py"
  },
  "language_info": {
   "codemirror_mode": {
    "name": "ipython",
    "version": 3
   },
   "file_extension": ".py",
   "mimetype": "text/x-python",
   "name": "python",
   "nbconvert_exporter": "python",
   "pygments_lexer": "ipython3",
   "version": "3.7.3"
  }
 },
 "nbformat": 4,
 "nbformat_minor": 2
}
