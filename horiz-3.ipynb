{
 "cells": [
  {
   "cell_type": "code",
   "execution_count": 1,
   "metadata": {},
   "outputs": [],
   "source": [
    "from fwell.fwell import FWell\n",
    "import numpy as np\n",
    "import matplotlib.pyplot as plt\n",
    "%matplotlib inline\n",
    "import pandas as pd\n",
    "import cProfile, pstats\n",
    "\n",
    "outer_bound = \"nnnn\"\n",
    "top_bound = \"imp\"\n",
    "bottom_bound = 'imp'\n",
    "wtype = 'hor'\n",
    "nseg = 20\n",
    "nwells = 1\n",
    "Xe = 1000\n",
    "Ye = 1000\n",
    "xw = Xe/2\n",
    "yw = Ye/2\n",
    "k = 10\n",
    "h = 10\n",
    "Lh = 500\n",
    "rw = 0.1\n",
    "xwds = [xw/(Lh/2)]\n",
    "ywds = [yw/(Lh/2)]\n",
    "xed = Xe/(Lh/2)\n",
    "yed = Ye/(Lh/2)\n",
    "hd = 2*h/Lh\n",
    "rwd = rw/h\n",
    "zwds = [0.5]\n",
    "ct = 1e-5\n",
    "mu = 1\n",
    "B = 1\n",
    "fi = 0.1\n",
    "Q = 100\n",
    "ts = np.logspace(-2,3, 100)\n",
    "CT = 0.00036*k/(fi*mu*ct*(Lh/2)*(Lh/2))\n",
    "CP = Q*18.42*mu*B/(k*h)\n",
    "tds = ts*CT\n",
    "fwell = FWell(outer_bound, top_bound, bottom_bound, wtype, nseg, nwells, xwds, ywds, xed=xed, yed=yed,\n",
    "              zwds=zwds, hd=hd, rwd=rwd, attrs={'Fcd': 1e+6})"
   ]
  },
  {
   "cell_type": "code",
   "execution_count": 2,
   "metadata": {},
   "outputs": [
    {
     "name": "stdout",
     "output_type": "stream",
     "text": [
      "255\n"
     ]
    }
   ],
   "source": [
    "df = pd.read_csv('./saphire/hor_test_1.txt', delim_whitespace=True, skiprows = 11)\n",
    "t_saph = np.array(df[\"(hr)\"])\n",
    "p_saph = np.array(df[\"(atm)\"])\n",
    "print(len(t_saph))"
   ]
  },
  {
   "cell_type": "code",
   "execution_count": null,
   "metadata": {},
   "outputs": [],
   "source": [
    "\n",
    "u = 1/t_saph[-1]/CT\n",
    "cProfile.runctx(\"fwell.lw.recalc(u)\", globals(), locals(), \"Profile.prof\")\n",
    "\n",
    "s = pstats.Stats(\"Profile.prof\")\n",
    "s.strip_dirs().sort_stats(\"time\").print_stats()"
   ]
  },
  {
   "cell_type": "code",
   "execution_count": 2,
   "metadata": {},
   "outputs": [],
   "source": [
    "from fwell.ffunc.ffuncs import *"
   ]
  },
  {
   "cell_type": "code",
   "execution_count": 116,
   "metadata": {},
   "outputs": [],
   "source": [
    "def IF3(u, x1, x2, zd, zwd, hd, xd, xwd, xed, yd, ywd, yed, fid1, fid2):\n",
    "    if3 = IF31(u, x1, x2, zd, zwd, hd, xd, xwd, xed, yd, ywd, yed, buf, fid1) +\\\n",
    "            IF32(u, x1, x2, zd, zwd, hd, xd, xwd, xed, yd, ywd, yed, buf, fid)\n",
    "    return if3\n",
    "\n",
    "def IF31(u, x1, x2, zd, zwd, hd, xd, xwd, xed, yd, ywd, yed, buf, fid):\n",
    "    return ihF2E(zd, zwd, x1, x2, u, xd, xwd, xed, xed, hd, yd, ywd, yed, buf, fid)\n",
    "\n",
    "def IF32(u, x1, x2, zd, zwd, hd, xd, xwd, xed, yd, ywd, yed, buf, fid):\n",
    "    if32 = IF321(u, x1, x2, zd, zwd, hd, xd, xwd, xed, yd, ywd, yed, buf, fid+\"_1\") +\\\n",
    "        IF322(u, x1, x2, zd, zwd, hd, xd, xwd, xed, yd, ywd, yed, buf, fid+\"_2\")\n",
    "    return if32\n",
    "\n",
    "def IF321(u, x1, x2, zd, zwd, hd, xd, xwd, xed, yd, ywd, yed, buf, fid):\n",
    "    MAXITER = 1000\n",
    "    EPS = 1e-6\n",
    "    coef = 0.5*xed/np.pi\n",
    "    sum1, sum2, m = np.zeros_like(x1), np.zeros_like(x1), np.zeros_like(x1)\n",
    "    for n in range(1, MAXITER):\n",
    "        v1, v2, vm = IF321_n(n, u, x1, x2, zd, zwd, hd, xd, xwd, xed, yd, ywd, yed, buf, fid)\n",
    "        sum1 += v1\n",
    "        sum2 += v2\n",
    "        m += vm\n",
    "        if np.linalg.norm(v1) < EPS*np.linalg.norm(sum1) and np.linalg.norm(v2) < EPS*np.linalg.norm(sum2):\n",
    "            break\n",
    "    ans = sum1 + sum2\n",
    "    ans += IF321_aux(u, zd, zwd, hd)*np.abs(0.5*m)\n",
    "    return ans\n",
    "\n",
    "def IF321_aux(u,zd, zwd, hd):\n",
    "    MAXITER = 100000\n",
    "    EPS = 1e-9\n",
    "    sum_ = k0(np.sqrt(u*np.square((zd + zwd)*hd)))\n",
    "    sum_ += k0(np.sqrt(u*np.square((zd - zwd)*hd)))\n",
    "    for n in range(1, MAXITER):\n",
    "        d = k0(np.sqrt(u*np.square((zd - zwd - 2*n)*hd))) + k0(np.sqrt(u*np.square((zd + zwd - 2*n)*hd)))\n",
    "        d += k0(np.sqrt(u*np.square((zd - zwd + 2*n)*hd))) + k0(np.sqrt(u*np.square((zd + zwd + 2*n)*hd)))\n",
    "        sum_ += d\n",
    "        if np.linalg.norm(d) < EPS*np.linalg.norm(sum_):\n",
    "            return 0.5*hd*sum_ - 0.5*np.pi/np.sqrt(u), sum_\n",
    "    raise RuntimeWarning(\"IF321_aux did not converge\")\n",
    "    \n",
    "def IF321_aux_(u,zd_, zwd_, hd):\n",
    "    mshape = zd_.shape\n",
    "    assert zwd_.shape == mshape\n",
    "    zd = zd_[0,0]\n",
    "    zwd = zwd_[0,0]\n",
    "    sum_ = k0(np.sqrt(u*np.square((zd + zwd)*hd)))\n",
    "    sum_ += k0(np.sqrt(u*np.square((zd - zwd)*hd)))\n",
    "    for sz in [-1,1]:\n",
    "        for sn in [-1,1]:\n",
    "            vfunc = lambda n: k0(np.sqrt(u*np.square((zd + sz*zwd + sn*2*n)*hd)))\n",
    "            sum_ += eulsum(vfunc)\n",
    "    sum_ *= np.ones_like(zd_)\n",
    "    return 0.5*hd*sum_ - 0.5*np.pi/np.sqrt(u), sum_\n",
    "        \n",
    "def IF321_n(n, u, x1, x2, zd, zwd, hd, xd, xwd, xed, yd, ywd, yed, buf, fid):\n",
    "    MAXITER = 1000\n",
    "    EPS = 1e-6\n",
    "    PI = np.pi\n",
    "    mult = np.cos(n*PI*zd)*np.cos(n*PI*zwd)\n",
    "    sum1, sum2, m = np.zeros_like(x1), np.zeros_like(x1), np.zeros_like(x1)\n",
    "    for b in [-1, 1]:\n",
    "        v1, v2, vm = IF321_nk(0, n, b, u, x1, x2, zd, zwd, hd, xd, xwd, xed, yd, ywd, yed, buf, fid)\n",
    "        sum1 += v1\n",
    "        sum2 += v2\n",
    "        m += vm\n",
    "    for k_ in range(1, MAXITER):\n",
    "        for k in [-k_, k_]:\n",
    "            for b in [-1, 1]:\n",
    "                v1, v2, vm = IF321_nk(k, n, b, u, x1, x2, zd, zwd, hd, xd, xwd, xed, yd, ywd, yed, buf, fid)\n",
    "                sum1 += v1\n",
    "                sum2 += v2\n",
    "                m += vm\n",
    "                if np.linalg.norm(v1) < EPS*np.linalg.norm(sum1) and np.linalg.norm(v2) < EPS*np.linalg.norm(sum2):\n",
    "                    return mult*sum1, mult*sum2, m\n",
    "    raise RuntimeError\n",
    "    \n",
    "def IF321_nk(k, n, b, u, x1, x2, zd, zwd, hd, xd, xwd, xed, yd, ywd, yed, buf, fid):\n",
    "    # prep\n",
    "    NDIGITS = 6\n",
    "    mshape = x1.shape\n",
    "    v_1 = np.zeros(mshape, dtype=np.double)\n",
    "    v_2 = np.zeros(mshape, dtype=np.double)\n",
    "    m1 = np.zeros(mshape, dtype=np.double)\n",
    "    m2 = np.zeros(mshape, dtype=np.double)\n",
    "    # calc\n",
    "    dyd = yd - ywd\n",
    "    inds_0 = np.isclose(dyd,0)\n",
    "    inds_nnz = np.logical_not(inds_0)\n",
    "    su = np.sqrt(u + np.square(n*np.pi/hd))\n",
    "    if np.any(inds_0):\n",
    "        t1 = xd[inds_0] + b*xwd[inds_0] - 2*k*xed - x2[inds_0]\n",
    "        t2 = xd[inds_0] + b*xwd[inds_0] - 2*k*xed - x1[inds_0]\n",
    "        mask1 = -1*(np.ones_like(t1) - 2*(t1>0))\n",
    "        mask2 = -1*(np.ones_like(t1) - 2*(t2<0))\n",
    "        t1 = np.round(np.abs(t1), decimals=NDIGITS).flatten()\n",
    "        t2 = np.round(np.abs(t2), decimals=NDIGITS).flatten()\n",
    "        nt = len(t1)\n",
    "        t = np.append(t1,t2)\n",
    "        ut, inv_t = np.unique(t, return_inverse=True)\n",
    "        uv = ki1(ut*su)/su\n",
    "        v = uv[inv_t]\n",
    "        v1 = v[:nt]\n",
    "        v2 = v[nt:]\n",
    "        v_1[inds_0] = v1\n",
    "        m1[inds_0] = mask1\n",
    "        v_2[inds_0] = v2\n",
    "        m2[inds_0] = mask2\n",
    "    if np.any(inds_nnz):\n",
    "        raise NotImplementedError\n",
    "    return m1*v_1, m2*v_2, m1+m2  \n",
    "\n",
    "def IF322():\n",
    "    pass\n",
    "    "
   ]
  },
  {
   "cell_type": "code",
   "execution_count": 72,
   "metadata": {},
   "outputs": [],
   "source": [
    "def naive_sum(vfunc):\n",
    "    EPS = 1e-9\n",
    "    TINY = 1e-50\n",
    "    s = 0\n",
    "    d = 0\n",
    "    for j in range(1, 100000):\n",
    "        d = vfunc(j)\n",
    "        s += vfunc(j)\n",
    "        if np.abs(d) < EPS*np.abs(s):\n",
    "            return s"
   ]
  },
  {
   "cell_type": "code",
   "execution_count": 73,
   "metadata": {},
   "outputs": [
    {
     "name": "stdout",
     "output_type": "stream",
     "text": [
      "1.72 ms ± 78.1 µs per loop (mean ± std. dev. of 10 runs, 10 loops each)\n",
      "130 ms ± 1.06 ms per loop (mean ± std. dev. of 10 runs, 10 loops each)\n"
     ]
    }
   ],
   "source": [
    "%timeit -n10 -r10 eulsum(vfunc)\n",
    "%timeit -n10 -r10 naive_sum(vfunc)"
   ]
  },
  {
   "cell_type": "code",
   "execution_count": 106,
   "metadata": {},
   "outputs": [],
   "source": [
    "def eulsum(vfunc, j_0=False):\n",
    "    # euler's algo for series summation \n",
    "    # vfunc - scalar-valued lambda-like function function\n",
    "    # param: j_0 - whether to account for 0-th term in sum\n",
    "    MAXTERM = 1000\n",
    "    EPS = 1e-9\n",
    "    TINY = 1e-50\n",
    "    wksp = np.zeros(MAXTERM, dtype=np.float)\n",
    "    nterm = 0\n",
    "    sign = 1.\n",
    "    ppsum = 0. #previous sum\n",
    "    # account for 0-th term\n",
    "    if j_0:\n",
    "        psum = vfunc(0)\n",
    "    else:\n",
    "        psum = 0\n",
    "    for j in range(1, MAXTERM):\n",
    "        term = sign*wtrans(vfunc, j, verbose=0) # here we continue summation with n+1-th term\n",
    "        sign *= -1.\n",
    "        psum, wksp, nterm = eulsum_(psum, term, j, wksp, nterm) # but here we call eulsum_ with j-n jterm\n",
    "        apsum = np.abs(psum)\n",
    "        if np.abs(psum-ppsum) < EPS*apsum or apsum < TINY:\n",
    "            return psum\n",
    "        ppsum = psum.copy()\n",
    "    raise RuntimeWarning(\"In eulsum: series did not converge in {} iterations\".format(MAXTERM))\n",
    "    \n",
    "def eulsum_(psum, term, jterm, wksp, nterm):\n",
    "    if jterm == 1:\n",
    "        nterm = 1\n",
    "        wksp[1] = term\n",
    "        psum = 0.5*wksp[1]\n",
    "    else:\n",
    "        tmp = wksp[1]\n",
    "        wksp[1] = term\n",
    "        for j in range(1, nterm):\n",
    "            dum = wksp[j+1]\n",
    "            wksp[j+1] = 0.5*(wksp[j]+tmp)\n",
    "            tmp=dum\n",
    "            wksp[nterm+1] = 0.5*(wksp[nterm]+tmp)\n",
    "            tmp=dum\n",
    "        wksp[nterm+1] = 0.5*(wksp[nterm]+tmp)\n",
    "        if (np.abs(wksp[nterm+1]) <= np.abs(wksp[nterm])):\n",
    "            nterm += 1\n",
    "            psum += (0.5*wksp[nterm])\n",
    "        else:\n",
    "            psum += wksp[nterm+1]\n",
    "    return psum, wksp, nterm\n",
    "\n",
    "def wtrans(vfunc, r, verbose=0):\n",
    "    # returns VanWijngaarden - transformation terms w_r:\n",
    "    # sum[v_r, r=1..oo] = sum[(-1)**(r-1)*w_r, r=1..oo]\n",
    "    # vfunc - lambda-like function to eval with integer r\n",
    "    # returns w_r\n",
    "    MAXIT = 10000\n",
    "    TINY = 1e-30\n",
    "    EPS = 1e-12\n",
    "    psum = vfunc(r)\n",
    "    cpow = 2.\n",
    "    for j in range(1,MAXIT):\n",
    "        d = cpow*vfunc(cpow*r)\n",
    "        psum += d\n",
    "        cpow *= 2.\n",
    "        ad = np.abs(d)\n",
    "        if ad < np.abs(psum)*EPS or ad < TINY:\n",
    "            if verbose==0:\n",
    "                return psum\n",
    "            elif verbose == 1:\n",
    "                return psum, j\n",
    "            elif verbose >= 2:\n",
    "                return psum, j, d\n",
    "    raise RuntimeError"
   ]
  },
  {
   "cell_type": "code",
   "execution_count": 126,
   "metadata": {},
   "outputs": [
    {
     "name": "stdout",
     "output_type": "stream",
     "text": [
      "Wed Jun 26 13:10:24 2019    Profile.prof\n",
      "\n",
      "         388 function calls in 0.018 seconds\n",
      "\n",
      "   Ordered by: internal time\n",
      "\n",
      "   ncalls  tottime  percall  cumtime  percall filename:lineno(function)\n",
      "        1    0.018    0.018    0.018    0.018 <ipython-input-116-1485b40cfa39>:30(IF321_aux)\n",
      "       48    0.000    0.000    0.000    0.000 linalg.py:2293(norm)\n",
      "       48    0.000    0.000    0.000    0.000 {built-in method numpy.dot}\n",
      "       48    0.000    0.000    0.000    0.000 {built-in method numpy.array}\n",
      "       48    0.000    0.000    0.000    0.000 {method 'ravel' of 'numpy.ndarray' objects}\n",
      "        1    0.000    0.000    0.018    0.018 {built-in method builtins.exec}\n",
      "       48    0.000    0.000    0.000    0.000 numeric.py:469(asarray)\n",
      "       48    0.000    0.000    0.000    0.000 linalg.py:121(isComplexType)\n",
      "       96    0.000    0.000    0.000    0.000 {built-in method builtins.issubclass}\n",
      "        1    0.000    0.000    0.018    0.018 <string>:1(<module>)\n",
      "        1    0.000    0.000    0.000    0.000 {method 'disable' of '_lsprof.Profiler' objects}\n",
      "\n",
      "\n"
     ]
    },
    {
     "data": {
      "text/plain": [
       "<pstats.Stats at 0x7fab81040e10>"
      ]
     },
     "execution_count": 126,
     "metadata": {},
     "output_type": "execute_result"
    }
   ],
   "source": [
    "u = 100\n",
    "cProfile.runctx(\"IF321_aux(u,zd, zwd, hd)\", globals(), locals(), \"Profile.prof\")\n",
    "\n",
    "s = pstats.Stats(\"Profile.prof\")\n",
    "s.strip_dirs().sort_stats(\"time\").print_stats()"
   ]
  },
  {
   "cell_type": "code",
   "execution_count": 127,
   "metadata": {},
   "outputs": [
    {
     "name": "stdout",
     "output_type": "stream",
     "text": [
      "Wed Jun 26 13:10:27 2019    Profile.prof\n",
      "\n",
      "         543 function calls in 0.003 seconds\n",
      "\n",
      "   Ordered by: internal time\n",
      "\n",
      "   ncalls  tottime  percall  cumtime  percall filename:lineno(function)\n",
      "      304    0.001    0.000    0.001    0.000 <ipython-input-116-1485b40cfa39>:52(<lambda>)\n",
      "       76    0.001    0.000    0.002    0.000 <ipython-input-106-1ecbc868a558>:49(wtrans)\n",
      "       76    0.000    0.000    0.000    0.000 <ipython-input-106-1ecbc868a558>:27(eulsum_)\n",
      "        4    0.000    0.000    0.003    0.001 <ipython-input-106-1ecbc868a558>:1(eulsum)\n",
      "        1    0.000    0.000    0.003    0.003 <ipython-input-116-1485b40cfa39>:43(IF321_aux_)\n",
      "       72    0.000    0.000    0.000    0.000 {method 'copy' of 'numpy.generic' objects}\n",
      "        4    0.000    0.000    0.000    0.000 {built-in method numpy.zeros}\n",
      "        1    0.000    0.000    0.003    0.003 {built-in method builtins.exec}\n",
      "        1    0.000    0.000    0.000    0.000 {built-in method numpy.copyto}\n",
      "        1    0.000    0.000    0.000    0.000 numeric.py:232(ones_like)\n",
      "        1    0.000    0.000    0.000    0.000 {built-in method numpy.empty_like}\n",
      "        1    0.000    0.000    0.003    0.003 <string>:1(<module>)\n",
      "        1    0.000    0.000    0.000    0.000 {method 'disable' of '_lsprof.Profiler' objects}\n",
      "\n",
      "\n"
     ]
    },
    {
     "data": {
      "text/plain": [
       "<pstats.Stats at 0x7fab81002e80>"
      ]
     },
     "execution_count": 127,
     "metadata": {},
     "output_type": "execute_result"
    }
   ],
   "source": [
    "cProfile.run(\"IF321_aux_(u,zd, zwd, hd)\", \"Profile.prof\")\n",
    "\n",
    "s = pstats.Stats(\"Profile.prof\")\n",
    "s.strip_dirs().sort_stats(\"time\").print_stats()"
   ]
  },
  {
   "cell_type": "code",
   "execution_count": 123,
   "metadata": {},
   "outputs": [],
   "source": [
    "v_ = IF321_aux_(100,zd, zwd, hd)[-1]"
   ]
  },
  {
   "cell_type": "code",
   "execution_count": 124,
   "metadata": {},
   "outputs": [],
   "source": [
    "v = IF321_aux(100,zd, zwd, hd)[-1]"
   ]
  },
  {
   "cell_type": "code",
   "execution_count": 125,
   "metadata": {},
   "outputs": [
    {
     "data": {
      "text/plain": [
       "(array([[10.6190268, 10.6190268, 10.6190268, ..., 10.6190268, 10.6190268,\n",
       "         10.6190268],\n",
       "        [10.6190268, 10.6190268, 10.6190268, ..., 10.6190268, 10.6190268,\n",
       "         10.6190268],\n",
       "        [10.6190268, 10.6190268, 10.6190268, ..., 10.6190268, 10.6190268,\n",
       "         10.6190268],\n",
       "        ...,\n",
       "        [10.6190268, 10.6190268, 10.6190268, ..., 10.6190268, 10.6190268,\n",
       "         10.6190268],\n",
       "        [10.6190268, 10.6190268, 10.6190268, ..., 10.6190268, 10.6190268,\n",
       "         10.6190268],\n",
       "        [10.6190268, 10.6190268, 10.6190268, ..., 10.6190268, 10.6190268,\n",
       "         10.6190268]]),\n",
       " array([[10.61902679, 10.61902679, 10.61902679, ..., 10.61902679,\n",
       "         10.61902679, 10.61902679],\n",
       "        [10.61902679, 10.61902679, 10.61902679, ..., 10.61902679,\n",
       "         10.61902679, 10.61902679],\n",
       "        [10.61902679, 10.61902679, 10.61902679, ..., 10.61902679,\n",
       "         10.61902679, 10.61902679],\n",
       "        ...,\n",
       "        [10.61902679, 10.61902679, 10.61902679, ..., 10.61902679,\n",
       "         10.61902679, 10.61902679],\n",
       "        [10.61902679, 10.61902679, 10.61902679, ..., 10.61902679,\n",
       "         10.61902679, 10.61902679],\n",
       "        [10.61902679, 10.61902679, 10.61902679, ..., 10.61902679,\n",
       "         10.61902679, 10.61902679]]))"
      ]
     },
     "execution_count": 125,
     "metadata": {},
     "output_type": "execute_result"
    }
   ],
   "source": [
    "v_, v"
   ]
  },
  {
   "cell_type": "code",
   "execution_count": 5,
   "metadata": {},
   "outputs": [],
   "source": [
    "zd, zwd, yd, ywd, hd, xd, xwd = fwell.lw.zd, fwell.lw.zwd, fwell.lw.yd, fwell.lw.ywd, fwell.lw.hd, fwell.lw.xd, fwell.lw.xwd\n",
    "x1, x2 = fwell.lw.x1, fwell.lw.x2"
   ]
  },
  {
   "cell_type": "code",
   "execution_count": 8,
   "metadata": {},
   "outputs": [],
   "source": [
    "vals = IF321(u, x1, x2, zd, zwd, hd, xd, xwd, xed, yd, ywd, yed, [], \"\")"
   ]
  },
  {
   "cell_type": "code",
   "execution_count": 9,
   "metadata": {},
   "outputs": [
    {
     "data": {
      "text/plain": [
       "[<matplotlib.lines.Line2D at 0x7f49dcd067b8>]"
      ]
     },
     "execution_count": 9,
     "metadata": {},
     "output_type": "execute_result"
    },
    {
     "data": {
      "image/png": "[encoded data removed]",
      "text/plain": [
       "<Figure size 432x288 with 1 Axes>"
      ]
     },
     "metadata": {
      "needs_background": "light"
     },
     "output_type": "display_data"
    }
   ],
   "source": [
    "plt.plot(vals[0,:])"
   ]
  },
  {
   "cell_type": "code",
   "execution_count": 10,
   "metadata": {},
   "outputs": [],
   "source": [
    "n = 12\n",
    "c1, c2, m = IF321_n(n, u, x1, x2, zd, zwd, hd, xd, xwd, xed, yd, ywd, yed, [], \"\")"
   ]
  },
  {
   "cell_type": "code",
   "execution_count": 12,
   "metadata": {},
   "outputs": [
    {
     "data": {
      "text/plain": [
       "array([[1., 0., 0., ..., 0., 0., 0.],\n",
       "       [0., 1., 0., ..., 0., 0., 0.],\n",
       "       [0., 0., 1., ..., 0., 0., 0.],\n",
       "       ...,\n",
       "       [0., 0., 0., ..., 1., 0., 0.],\n",
       "       [0., 0., 0., ..., 0., 1., 0.],\n",
       "       [0., 0., 0., ..., 0., 0., 1.]])"
      ]
     },
     "execution_count": 12,
     "metadata": {},
     "output_type": "execute_result"
    }
   ],
   "source": [
    "np.abs(0.5*m)"
   ]
  },
  {
   "cell_type": "code",
   "execution_count": 13,
   "metadata": {},
   "outputs": [],
   "source": [
    "ki1?"
   ]
  },
  {
   "cell_type": "code",
   "execution_count": 18,
   "metadata": {},
   "outputs": [],
   "source": [
    "x = np.random.random((10,10))"
   ]
  },
  {
   "cell_type": "code",
   "execution_count": 19,
   "metadata": {},
   "outputs": [],
   "source": [
    "n = np.arange(10)"
   ]
  },
  {
   "cell_type": "code",
   "execution_count": 30,
   "metadata": {},
   "outputs": [],
   "source": [
    "u = 0.01\n",
    "su = np.sqrt(u+n**2).reshape(-1,1)"
   ]
  },
  {
   "cell_type": "code",
   "execution_count": 32,
   "metadata": {},
   "outputs": [
    {
     "data": {
      "text/plain": [
       "(10, 10)"
      ]
     },
     "execution_count": 32,
     "metadata": {},
     "output_type": "execute_result"
    }
   ],
   "source": [
    "(x*su).shape"
   ]
  },
  {
   "cell_type": "code",
   "execution_count": 37,
   "metadata": {},
   "outputs": [
    {
     "data": {
      "text/plain": [
       "(1, 10, 10)"
      ]
     },
     "execution_count": 37,
     "metadata": {},
     "output_type": "execute_result"
    }
   ],
   "source": [
    "(x[np.newaxis]*su).shape"
   ]
  },
  {
   "cell_type": "code",
   "execution_count": 38,
   "metadata": {},
   "outputs": [
    {
     "data": {
      "text/plain": [
       "(10, 1)"
      ]
     },
     "execution_count": 38,
     "metadata": {},
     "output_type": "execute_result"
    }
   ],
   "source": [
    "su.shape"
   ]
  },
  {
   "cell_type": "code",
   "execution_count": 43,
   "metadata": {},
   "outputs": [
    {
     "data": {
      "text/plain": [
       "(1, 10, 30)"
      ]
     },
     "execution_count": 43,
     "metadata": {},
     "output_type": "execute_result"
    }
   ],
   "source": [
    "np.tile(x,(1,1,3)).shape"
   ]
  },
  {
   "cell_type": "code",
   "execution_count": 46,
   "metadata": {},
   "outputs": [
    {
     "data": {
      "text/plain": [
       "(10, 10)"
      ]
     },
     "execution_count": 46,
     "metadata": {},
     "output_type": "execute_result"
    }
   ],
   "source": [
    "x.shape"
   ]
  },
  {
   "cell_type": "code",
   "execution_count": 53,
   "metadata": {},
   "outputs": [
    {
     "ename": "ValueError",
     "evalue": "operands could not be broadcast together with shapes (3,10,10) (3,1) ",
     "output_type": "error",
     "traceback": [
      "\u001b[0;31m---------------------------------------------------------------------------\u001b[0m",
      "\u001b[0;31mValueError\u001b[0m                                Traceback (most recent call last)",
      "\u001b[0;32m<ipython-input-53-57f69c17372f>\u001b[0m in \u001b[0;36m<module>\u001b[0;34m\u001b[0m\n\u001b[0;32m----> 1\u001b[0;31m \u001b[0mnp\u001b[0m\u001b[0;34m.\u001b[0m\u001b[0mbroadcast_to\u001b[0m\u001b[0;34m(\u001b[0m\u001b[0mx\u001b[0m\u001b[0;34m,\u001b[0m \u001b[0;34m(\u001b[0m\u001b[0;36m3\u001b[0m\u001b[0;34m,\u001b[0m\u001b[0;36m10\u001b[0m\u001b[0;34m,\u001b[0m\u001b[0;36m10\u001b[0m\u001b[0;34m)\u001b[0m\u001b[0;34m)\u001b[0m\u001b[0;34m*\u001b[0m\u001b[0;34m(\u001b[0m\u001b[0mnp\u001b[0m\u001b[0;34m.\u001b[0m\u001b[0marray\u001b[0m\u001b[0;34m(\u001b[0m\u001b[0;34m[\u001b[0m\u001b[0;36m1\u001b[0m\u001b[0;34m,\u001b[0m\u001b[0;36m2\u001b[0m\u001b[0;34m,\u001b[0m\u001b[0;36m3\u001b[0m\u001b[0;34m]\u001b[0m\u001b[0;34m)\u001b[0m\u001b[0;34m.\u001b[0m\u001b[0mreshape\u001b[0m\u001b[0;34m(\u001b[0m\u001b[0;36m3\u001b[0m\u001b[0;34m,\u001b[0m\u001b[0;36m1\u001b[0m\u001b[0;34m)\u001b[0m\u001b[0;34m)\u001b[0m\u001b[0;34m\u001b[0m\u001b[0;34m\u001b[0m\u001b[0m\n\u001b[0m",
      "\u001b[0;31mValueError\u001b[0m: operands could not be broadcast together with shapes (3,10,10) (3,1) "
     ]
    }
   ],
   "source": [
    "np.broadcast_to(x, (3,10,10))*(np.array([1,2,3]).reshape(3,1))"
   ]
  },
  {
   "cell_type": "code",
   "execution_count": 54,
   "metadata": {},
   "outputs": [
    {
     "data": {
      "text/plain": [
       "array([[1],\n",
       "       [2],\n",
       "       [3]])"
      ]
     },
     "execution_count": 54,
     "metadata": {},
     "output_type": "execute_result"
    }
   ],
   "source": [
    "np.array([1,2,3]).reshape(3,1)"
   ]
  },
  {
   "cell_type": "code",
   "execution_count": 77,
   "metadata": {},
   "outputs": [],
   "source": [
    "xx = np.broadcast_to(x, (3,*x.shape))"
   ]
  },
  {
   "cell_type": "code",
   "execution_count": 75,
   "metadata": {},
   "outputs": [
    {
     "data": {
      "text/plain": [
       "(3, 10, 10)"
      ]
     },
     "execution_count": 75,
     "metadata": {},
     "output_type": "execute_result"
    }
   ],
   "source": [
    "xx.shape"
   ]
  },
  {
   "cell_type": "code",
   "execution_count": 70,
   "metadata": {},
   "outputs": [],
   "source": [
    "a = np.arange(3).reshape(3,1,1)"
   ]
  },
  {
   "cell_type": "code",
   "execution_count": 72,
   "metadata": {},
   "outputs": [
    {
     "data": {
      "text/plain": [
       "array([[[0.        , 0.        , 0.        , 0.        , 0.        ,\n",
       "         0.        , 0.        , 0.        , 0.        , 0.        ],\n",
       "        [0.        , 0.        , 0.        , 0.        , 0.        ,\n",
       "         0.        , 0.        , 0.        , 0.        , 0.        ],\n",
       "        [0.        , 0.        , 0.        , 0.        , 0.        ,\n",
       "         0.        , 0.        , 0.        , 0.        , 0.        ],\n",
       "        [0.        , 0.        , 0.        , 0.        , 0.        ,\n",
       "         0.        , 0.        , 0.        , 0.        , 0.        ],\n",
       "        [0.        , 0.        , 0.        , 0.        , 0.        ,\n",
       "         0.        , 0.        , 0.        , 0.        , 0.        ],\n",
       "        [0.        , 0.        , 0.        , 0.        , 0.        ,\n",
       "         0.        , 0.        , 0.        , 0.        , 0.        ],\n",
       "        [0.        , 0.        , 0.        , 0.        , 0.        ,\n",
       "         0.        , 0.        , 0.        , 0.        , 0.        ],\n",
       "        [0.        , 0.        , 0.        , 0.        , 0.        ,\n",
       "         0.        , 0.        , 0.        , 0.        , 0.        ],\n",
       "        [0.        , 0.        , 0.        , 0.        , 0.        ,\n",
       "         0.        , 0.        , 0.        , 0.        , 0.        ],\n",
       "        [0.        , 0.        , 0.        , 0.        , 0.        ,\n",
       "         0.        , 0.        , 0.        , 0.        , 0.        ]],\n",
       "\n",
       "       [[0.23510306, 0.33596949, 0.2052473 , 0.49177614, 0.55590479,\n",
       "         0.58284225, 0.9205044 , 0.67745897, 0.01867697, 0.80232701],\n",
       "        [0.71648233, 0.31975361, 0.58100186, 0.38650814, 0.30330822,\n",
       "         0.99382964, 0.99417194, 0.19340334, 0.70876877, 0.14043125],\n",
       "        [0.17831145, 0.26614446, 0.86783763, 0.46819461, 0.55323719,\n",
       "         0.91568263, 0.48683819, 0.07485847, 0.33358797, 0.8782613 ],\n",
       "        [0.38634388, 0.84664965, 0.15887885, 0.76672062, 0.44297573,\n",
       "         0.26187269, 0.6700627 , 0.94877592, 0.96404812, 0.68683792],\n",
       "        [0.63096037, 0.09354715, 0.03802837, 0.688019  , 0.08285095,\n",
       "         0.51184928, 0.25397464, 0.9630818 , 0.41536554, 0.09480286],\n",
       "        [0.6838447 , 0.80379999, 0.24324849, 0.52384499, 0.9788578 ,\n",
       "         0.68604709, 0.29784809, 0.51829284, 0.09768273, 0.86100429],\n",
       "        [0.57653617, 0.61803226, 0.76621775, 0.39583032, 0.88120286,\n",
       "         0.87654378, 0.38016208, 0.21237492, 0.11712909, 0.67385512],\n",
       "        [0.53863312, 0.52926237, 0.60529899, 0.05750681, 0.6924205 ,\n",
       "         0.6345467 , 0.19033224, 0.45900012, 0.18604672, 0.14036047],\n",
       "        [0.00443974, 0.51914773, 0.42279579, 0.05700594, 0.39203676,\n",
       "         0.77030371, 0.64375107, 0.60233933, 0.90650931, 0.53772831],\n",
       "        [0.46264684, 0.20970111, 0.43750216, 0.30399908, 0.0784997 ,\n",
       "         0.36795901, 0.11651577, 0.90520297, 0.34682546, 0.80430467]],\n",
       "\n",
       "       [[0.47020613, 0.67193897, 0.4104946 , 0.98355228, 1.11180958,\n",
       "         1.1656845 , 1.84100881, 1.35491793, 0.03735394, 1.60465402],\n",
       "        [1.43296467, 0.63950722, 1.16200371, 0.77301627, 0.60661644,\n",
       "         1.98765927, 1.98834388, 0.38680669, 1.41753754, 0.2808625 ],\n",
       "        [0.3566229 , 0.53228891, 1.73567527, 0.93638922, 1.10647438,\n",
       "         1.83136526, 0.97367638, 0.14971695, 0.66717594, 1.75652261],\n",
       "        [0.77268776, 1.6932993 , 0.3177577 , 1.53344125, 0.88595145,\n",
       "         0.52374539, 1.34012539, 1.89755183, 1.92809625, 1.37367585],\n",
       "        [1.26192074, 0.18709431, 0.07605674, 1.37603801, 0.16570191,\n",
       "         1.02369856, 0.50794929, 1.9261636 , 0.83073108, 0.18960572],\n",
       "        [1.36768939, 1.60759997, 0.48649699, 1.04768998, 1.9577156 ,\n",
       "         1.37209419, 0.59569619, 1.03658568, 0.19536546, 1.72200857],\n",
       "        [1.15307234, 1.23606453, 1.53243549, 0.79166064, 1.76240572,\n",
       "         1.75308757, 0.76032416, 0.42474984, 0.23425817, 1.34771024],\n",
       "        [1.07726625, 1.05852474, 1.21059797, 0.11501361, 1.38484099,\n",
       "         1.2690934 , 0.38066449, 0.91800023, 0.37209344, 0.28072094],\n",
       "        [0.00887948, 1.03829547, 0.84559157, 0.11401189, 0.78407351,\n",
       "         1.54060743, 1.28750215, 1.20467866, 1.81301862, 1.07545663],\n",
       "        [0.92529369, 0.41940222, 0.87500432, 0.60799815, 0.1569994 ,\n",
       "         0.73591802, 0.23303153, 1.81040594, 0.69365091, 1.60860934]]])"
      ]
     },
     "execution_count": 72,
     "metadata": {},
     "output_type": "execute_result"
    }
   ],
   "source": [
    "a*xx"
   ]
  },
  {
   "cell_type": "code",
   "execution_count": 81,
   "metadata": {},
   "outputs": [
    {
     "data": {
      "text/plain": [
       "array([[[  -1.99,   -1.99,   -1.99, ...,   -1.99,   -1.99,   -1.99],\n",
       "        [  -1.99,   -1.99,   -1.99, ...,   -1.99,   -1.99,   -1.99],\n",
       "        [  -1.99,   -1.99,   -1.99, ...,   -1.99,   -1.99,   -1.99],\n",
       "        ...,\n",
       "        [  -1.99,   -1.99,   -1.99, ...,   -1.99,   -1.99,   -1.99],\n",
       "        [  -1.99,   -1.99,   -1.99, ...,   -1.99,   -1.99,   -1.99],\n",
       "        [  -1.99,   -1.99,   -1.99, ...,   -1.99,   -1.99,   -1.99]],\n",
       "\n",
       "       [[  -3.99,   -3.99,   -3.99, ...,   -3.99,   -3.99,   -3.99],\n",
       "        [  -3.99,   -3.99,   -3.99, ...,   -3.99,   -3.99,   -3.99],\n",
       "        [  -3.99,   -3.99,   -3.99, ...,   -3.99,   -3.99,   -3.99],\n",
       "        ...,\n",
       "        [  -3.99,   -3.99,   -3.99, ...,   -3.99,   -3.99,   -3.99],\n",
       "        [  -3.99,   -3.99,   -3.99, ...,   -3.99,   -3.99,   -3.99],\n",
       "        [  -3.99,   -3.99,   -3.99, ...,   -3.99,   -3.99,   -3.99]],\n",
       "\n",
       "       [[  -5.99,   -5.99,   -5.99, ...,   -5.99,   -5.99,   -5.99],\n",
       "        [  -5.99,   -5.99,   -5.99, ...,   -5.99,   -5.99,   -5.99],\n",
       "        [  -5.99,   -5.99,   -5.99, ...,   -5.99,   -5.99,   -5.99],\n",
       "        ...,\n",
       "        [  -5.99,   -5.99,   -5.99, ...,   -5.99,   -5.99,   -5.99],\n",
       "        [  -5.99,   -5.99,   -5.99, ...,   -5.99,   -5.99,   -5.99],\n",
       "        [  -5.99,   -5.99,   -5.99, ...,   -5.99,   -5.99,   -5.99]],\n",
       "\n",
       "       ...,\n",
       "\n",
       "       [[-195.99, -195.99, -195.99, ..., -195.99, -195.99, -195.99],\n",
       "        [-195.99, -195.99, -195.99, ..., -195.99, -195.99, -195.99],\n",
       "        [-195.99, -195.99, -195.99, ..., -195.99, -195.99, -195.99],\n",
       "        ...,\n",
       "        [-195.99, -195.99, -195.99, ..., -195.99, -195.99, -195.99],\n",
       "        [-195.99, -195.99, -195.99, ..., -195.99, -195.99, -195.99],\n",
       "        [-195.99, -195.99, -195.99, ..., -195.99, -195.99, -195.99]],\n",
       "\n",
       "       [[-197.99, -197.99, -197.99, ..., -197.99, -197.99, -197.99],\n",
       "        [-197.99, -197.99, -197.99, ..., -197.99, -197.99, -197.99],\n",
       "        [-197.99, -197.99, -197.99, ..., -197.99, -197.99, -197.99],\n",
       "        ...,\n",
       "        [-197.99, -197.99, -197.99, ..., -197.99, -197.99, -197.99],\n",
       "        [-197.99, -197.99, -197.99, ..., -197.99, -197.99, -197.99],\n",
       "        [-197.99, -197.99, -197.99, ..., -197.99, -197.99, -197.99]],\n",
       "\n",
       "       [[-199.99, -199.99, -199.99, ..., -199.99, -199.99, -199.99],\n",
       "        [-199.99, -199.99, -199.99, ..., -199.99, -199.99, -199.99],\n",
       "        [-199.99, -199.99, -199.99, ..., -199.99, -199.99, -199.99],\n",
       "        ...,\n",
       "        [-199.99, -199.99, -199.99, ..., -199.99, -199.99, -199.99],\n",
       "        [-199.99, -199.99, -199.99, ..., -199.99, -199.99, -199.99],\n",
       "        [-199.99, -199.99, -199.99, ..., -199.99, -199.99, -199.99]]])"
      ]
     },
     "execution_count": 81,
     "metadata": {},
     "output_type": "execute_result"
    }
   ],
   "source": [
    "z_mi = np.broadcast_to(zd-zwd, (100, *(zd.shape)))\n",
    "n = np.arange(1,101).reshape(100,1,1)\n",
    "(z_mi - 2*n)"
   ]
  },
  {
   "cell_type": "code",
   "execution_count": 79,
   "metadata": {},
   "outputs": [
    {
     "data": {
      "text/plain": [
       "(100, 40, 40)"
      ]
     },
     "execution_count": 79,
     "metadata": {},
     "output_type": "execute_result"
    }
   ],
   "source": []
  },
  {
   "cell_type": "code",
   "execution_count": null,
   "metadata": {},
   "outputs": [],
   "source": []
  }
 ],
 "metadata": {
  "kernelspec": {
   "display_name": "Python [conda env:cython] *",
   "language": "python",
   "name": "conda-env-cython-py"
  },
  "language_info": {
   "codemirror_mode": {
    "name": "ipython",
    "version": 3
   },
   "file_extension": ".py",
   "mimetype": "text/x-python",
   "name": "python",
   "nbconvert_exporter": "python",
   "pygments_lexer": "ipython3",
   "version": "3.7.3"
  }
 },
 "nbformat": 4,
 "nbformat_minor": 2
}
