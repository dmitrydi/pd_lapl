{
 "cells": [
  {
   "cell_type": "code",
   "execution_count": 1,
   "metadata": {
    "collapsed": true
   },
   "outputs": [],
   "source": [
    "import numpy as np\n",
    "import matplotlib.pyplot as plt\n",
    "from scipy.integrate import quad\n",
    "from scipy.special import k0, iti0k0\n",
    "import matplotlib.pyplot as plt\n",
    "%matplotlib inline\n",
    "from time import time\n",
    "from new_struct.well import Well as NewWell"
   ]
  },
  {
   "cell_type": "code",
   "execution_count": 2,
   "metadata": {
    "collapsed": true
   },
   "outputs": [],
   "source": [
    "top_bound = \"imp\"\n",
    "bottom_bound = \"imp\"\n",
    "wtype = \"frac\"\n",
    "n_stehf = 10\n",
    "xwd = 2.5\n",
    "xed = 5.\n",
    "ywd = 5.\n",
    "yed = 10.\n",
    "N = 20\n",
    "Fcd = 10\n",
    "new_well_nnnn_5 = NewWell(\"nnnn\", top_bound, bottom_bound, \"frac\", N, 5, [xwd, xwd, xwd, xwd, xwd], [ywd-2, ywd-1, ywd, ywd+1, ywd+2], x_lengths = 1,\n",
    "                     xed = xed, yed = yed, attrs = {\"Fcd\":Fcd})\n",
    "new_well_nnnn_1 = NewWell(\"nnnn\", top_bound, bottom_bound, \"frac\", N, 1, [xwd], [ywd], x_lengths = 1,\n",
    "                     xed = xed, yed = yed, attrs = {\"Fcd\":Fcd})\n",
    "new_well_inf = NewWell(\"inf\", top_bound, bottom_bound, \"frac\", N, 1, [0.], [0.], x_lengths = 1,\n",
    "                     xed = xed, yed = yed, attrs = {\"Fcd\":Fcd})"
   ]
  },
  {
   "cell_type": "code",
   "execution_count": 3,
   "metadata": {},
   "outputs": [
    {
     "name": "stdout",
     "output_type": "stream",
     "text": [
      "0.608048854488\n",
      "0.123320014012\n"
     ]
    }
   ],
   "source": [
    "t = 0.1\n",
    "print(new_well_nnnn_1.pw(t))\n",
    "print(new_well_nnnn_5.pw(t))"
   ]
  },
  {
   "cell_type": "code",
   "execution_count": 4,
   "metadata": {
    "collapsed": true
   },
   "outputs": [],
   "source": [
    "sources = new_well_nnnn_5.lapl_well.sources_\n",
    "matrixizer = new_well_nnnn_5.lapl_well.matrixizer\n",
    "u=7"
   ]
  },
  {
   "cell_type": "code",
   "execution_count": 5,
   "metadata": {
    "collapsed": true
   },
   "outputs": [],
   "source": [
    "from new_struct.integrators.frac_nnnn import integrate_matrix"
   ]
  },
  {
   "cell_type": "code",
   "execution_count": 6,
   "metadata": {},
   "outputs": [],
   "source": [
    "m_old = integrate_matrix(u, matrixizer, sources)\n",
    "m_new = integrate_matrix(u, matrixizer, sources, 'new')"
   ]
  },
  {
   "cell_type": "code",
   "execution_count": 7,
   "metadata": {},
   "outputs": [
    {
     "data": {
      "text/plain": [
       "True"
      ]
     },
     "execution_count": 7,
     "metadata": {},
     "output_type": "execute_result"
    }
   ],
   "source": [
    "np.allclose(m_old, m_new)"
   ]
  },
  {
   "cell_type": "code",
   "execution_count": 10,
   "metadata": {},
   "outputs": [
    {
     "name": "stdout",
     "output_type": "stream",
     "text": [
      "2 loops, best of 10: 211 ms per loop\n",
      "2 loops, best of 10: 63.7 ms per loop\n"
     ]
    }
   ],
   "source": [
    "%timeit -n2 -r10 integrate_matrix(u, matrixizer, sources)\n",
    "%timeit -n2 -r10 integrate_matrix(u, matrixizer, sources, 'new')"
   ]
  },
  {
   "cell_type": "code",
   "execution_count": 11,
   "metadata": {},
   "outputs": [
    {
     "data": {
      "text/plain": [
       "4.22"
      ]
     },
     "execution_count": 11,
     "metadata": {},
     "output_type": "execute_result"
    }
   ],
   "source": [
    "20*0.211"
   ]
  },
  {
   "cell_type": "code",
   "execution_count": 12,
   "metadata": {},
   "outputs": [
    {
     "data": {
      "text/plain": [
       "1.274"
      ]
     },
     "execution_count": 12,
     "metadata": {},
     "output_type": "execute_result"
    }
   ],
   "source": [
    "20*0.0637"
   ]
  },
  {
   "cell_type": "code",
   "execution_count": null,
   "metadata": {
    "collapsed": true
   },
   "outputs": [],
   "source": []
  }
 ],
 "metadata": {
  "kernelspec": {
   "display_name": "Python 3",
   "language": "python",
   "name": "python3"
  },
  "language_info": {
   "codemirror_mode": {
    "name": "ipython",
    "version": 3
   },
   "file_extension": ".py",
   "mimetype": "text/x-python",
   "name": "python",
   "nbconvert_exporter": "python",
   "pygments_lexer": "ipython3",
   "version": "3.6.1"
  }
 },
 "nbformat": 4,
 "nbformat_minor": 2
}
