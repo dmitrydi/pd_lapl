{
 "cells": [
  {
   "cell_type": "code",
   "execution_count": 1,
   "metadata": {
    "collapsed": true
   },
   "outputs": [],
   "source": [
    "import numpy as np\n",
    "from source_helper import *\n",
    "import matplotlib.pyplot as plt\n",
    "% matplotlib inline\n",
    "from time import time\n",
    "from lapl_well import LaplWell"
   ]
  },
  {
   "cell_type": "code",
   "execution_count": 2,
   "metadata": {
    "collapsed": true
   },
   "outputs": [],
   "source": [
    "xwd = 0\n",
    "ywd = 0\n",
    "zwd = 0\n",
    "outer_bound = \"infinite\"\n",
    "top_bound = \"imp\"\n",
    "bottom_bound = \"imp\"\n",
    "wtype = \"frac\"\n",
    "params = {\"nseg\": 10, \"kx\": 1., \"ky\": 1., \"kz\": 1., \"omega\": 1, \"lambda\": 1, \"Fcd\":1}"
   ]
  },
  {
   "cell_type": "code",
   "execution_count": 3,
   "metadata": {
    "collapsed": true
   },
   "outputs": [],
   "source": [
    "well = LaplWell(xwd, ywd, zwd, outer_bound, top_bound, bottom_bound, wtype, params)"
   ]
  },
  {
   "cell_type": "code",
   "execution_count": 4,
   "metadata": {
    "collapsed": true
   },
   "outputs": [],
   "source": [
    "from helper import Helper"
   ]
  },
  {
   "cell_type": "code",
   "execution_count": 5,
   "metadata": {
    "collapsed": true
   },
   "outputs": [],
   "source": [
    "helper = Helper()"
   ]
  },
  {
   "cell_type": "code",
   "execution_count": 6,
   "metadata": {},
   "outputs": [
    {
     "data": {
      "text/plain": [
       "array([[ 1.,  0.,  0.,  0.,  0.,  0.,  0.,  0.,  0.,  0.,  0.,  0.,  0.,\n",
       "         0.,  0.,  0.,  0.,  0.,  0.,  0.,  0.],\n",
       "       [ 1.,  0.,  0.,  0.,  0.,  0.,  0.,  0.,  0.,  0.,  0.,  0.,  0.,\n",
       "         0.,  0.,  0.,  0.,  0.,  0.,  0.,  0.],\n",
       "       [ 1.,  0.,  0.,  0.,  0.,  0.,  0.,  0.,  0.,  0.,  0.,  0.,  0.,\n",
       "         0.,  0.,  0.,  0.,  0.,  0.,  0.,  0.],\n",
       "       [ 1.,  0.,  0.,  0.,  0.,  0.,  0.,  0.,  0.,  0.,  0.,  0.,  0.,\n",
       "         0.,  0.,  0.,  0.,  0.,  0.,  0.,  0.],\n",
       "       [ 1.,  0.,  0.,  0.,  0.,  0.,  0.,  0.,  0.,  0.,  0.,  0.,  0.,\n",
       "         0.,  0.,  0.,  0.,  0.,  0.,  0.,  0.],\n",
       "       [ 1.,  0.,  0.,  0.,  0.,  0.,  0.,  0.,  0.,  0.,  0.,  0.,  0.,\n",
       "         0.,  0.,  0.,  0.,  0.,  0.,  0.,  0.],\n",
       "       [ 1.,  0.,  0.,  0.,  0.,  0.,  0.,  0.,  0.,  0.,  0.,  0.,  0.,\n",
       "         0.,  0.,  0.,  0.,  0.,  0.,  0.,  0.],\n",
       "       [ 1.,  0.,  0.,  0.,  0.,  0.,  0.,  0.,  0.,  0.,  0.,  0.,  0.,\n",
       "         0.,  0.,  0.,  0.,  0.,  0.,  0.,  0.],\n",
       "       [ 1.,  0.,  0.,  0.,  0.,  0.,  0.,  0.,  0.,  0.,  0.,  0.,  0.,\n",
       "         0.,  0.,  0.,  0.,  0.,  0.,  0.,  0.],\n",
       "       [ 1.,  0.,  0.,  0.,  0.,  0.,  0.,  0.,  0.,  0.,  0.,  0.,  0.,\n",
       "         0.,  0.,  0.,  0.,  0.,  0.,  0.,  0.],\n",
       "       [ 1.,  0.,  0.,  0.,  0.,  0.,  0.,  0.,  0.,  0.,  0.,  0.,  0.,\n",
       "         0.,  0.,  0.,  0.,  0.,  0.,  0.,  0.],\n",
       "       [ 1.,  0.,  0.,  0.,  0.,  0.,  0.,  0.,  0.,  0.,  0.,  0.,  0.,\n",
       "         0.,  0.,  0.,  0.,  0.,  0.,  0.,  0.],\n",
       "       [ 1.,  0.,  0.,  0.,  0.,  0.,  0.,  0.,  0.,  0.,  0.,  0.,  0.,\n",
       "         0.,  0.,  0.,  0.,  0.,  0.,  0.,  0.],\n",
       "       [ 1.,  0.,  0.,  0.,  0.,  0.,  0.,  0.,  0.,  0.,  0.,  0.,  0.,\n",
       "         0.,  0.,  0.,  0.,  0.,  0.,  0.,  0.],\n",
       "       [ 1.,  0.,  0.,  0.,  0.,  0.,  0.,  0.,  0.,  0.,  0.,  0.,  0.,\n",
       "         0.,  0.,  0.,  0.,  0.,  0.,  0.,  0.],\n",
       "       [ 1.,  0.,  0.,  0.,  0.,  0.,  0.,  0.,  0.,  0.,  0.,  0.,  0.,\n",
       "         0.,  0.,  0.,  0.,  0.,  0.,  0.,  0.],\n",
       "       [ 1.,  0.,  0.,  0.,  0.,  0.,  0.,  0.,  0.,  0.,  0.,  0.,  0.,\n",
       "         0.,  0.,  0.,  0.,  0.,  0.,  0.,  0.],\n",
       "       [ 1.,  0.,  0.,  0.,  0.,  0.,  0.,  0.,  0.,  0.,  0.,  0.,  0.,\n",
       "         0.,  0.,  0.,  0.,  0.,  0.,  0.,  0.],\n",
       "       [ 1.,  0.,  0.,  0.,  0.,  0.,  0.,  0.,  0.,  0.,  0.,  0.,  0.,\n",
       "         0.,  0.,  0.,  0.,  0.,  0.,  0.,  0.],\n",
       "       [ 1.,  0.,  0.,  0.,  0.,  0.,  0.,  0.,  0.,  0.,  0.,  0.,  0.,\n",
       "         0.,  0.,  0.,  0.,  0.,  0.,  0.,  0.],\n",
       "       [ 0.,  1.,  1.,  1.,  1.,  1.,  1.,  1.,  1.,  1.,  1.,  1.,  1.,\n",
       "         1.,  1.,  1.,  1.,  1.,  1.,  1.,  1.]])"
      ]
     },
     "execution_count": 6,
     "metadata": {},
     "output_type": "execute_result"
    }
   ],
   "source": [
    "dummy_matrix = helper.get_dummy_matrix(well)\n",
    "dummy_matrix"
   ]
  },
  {
   "cell_type": "code",
   "execution_count": 7,
   "metadata": {},
   "outputs": [
    {
     "data": {
      "text/plain": [
       "array([[ 0.        ,  0.34216444,  0.20495201,  0.15484761,  0.12362887,\n",
       "         0.10150959,  0.08480333,  0.07169213,  0.06113654,  0.052483  ,\n",
       "         0.04529233,  0.03925463,  0.03414294,  0.02978613,  0.02605207,\n",
       "         0.02283685,  0.0200574 ,  0.01764651,  0.01554911,  0.01371974,\n",
       "         0.0121205 ],\n",
       "       [ 0.        ,  0.34216444,  0.34216444,  0.20495201,  0.15484761,\n",
       "         0.12362887,  0.10150959,  0.08480333,  0.07169213,  0.06113654,\n",
       "         0.052483  ,  0.04529233,  0.03925463,  0.03414294,  0.02978613,\n",
       "         0.02605207,  0.02283685,  0.0200574 ,  0.01764651,  0.01554911,\n",
       "         0.01371974],\n",
       "       [ 0.        ,  0.20495201,  0.34216444,  0.34216444,  0.20495201,\n",
       "         0.15484761,  0.12362887,  0.10150959,  0.08480333,  0.07169213,\n",
       "         0.06113654,  0.052483  ,  0.04529233,  0.03925463,  0.03414294,\n",
       "         0.02978613,  0.02605207,  0.02283685,  0.0200574 ,  0.01764651,\n",
       "         0.01554911],\n",
       "       [ 0.        ,  0.15484761,  0.20495201,  0.34216444,  0.34216444,\n",
       "         0.20495201,  0.15484761,  0.12362887,  0.10150959,  0.08480333,\n",
       "         0.07169213,  0.06113654,  0.052483  ,  0.04529233,  0.03925463,\n",
       "         0.03414294,  0.02978613,  0.02605207,  0.02283685,  0.0200574 ,\n",
       "         0.01764651],\n",
       "       [ 0.        ,  0.12362887,  0.15484761,  0.20495201,  0.34216444,\n",
       "         0.34216444,  0.20495201,  0.15484761,  0.12362887,  0.10150959,\n",
       "         0.08480333,  0.07169213,  0.06113654,  0.052483  ,  0.04529233,\n",
       "         0.03925463,  0.03414294,  0.02978613,  0.02605207,  0.02283685,\n",
       "         0.0200574 ],\n",
       "       [ 0.        ,  0.10150959,  0.12362887,  0.15484761,  0.20495201,\n",
       "         0.34216444,  0.34216444,  0.20495201,  0.15484761,  0.12362887,\n",
       "         0.10150959,  0.08480333,  0.07169213,  0.06113654,  0.052483  ,\n",
       "         0.04529233,  0.03925463,  0.03414294,  0.02978613,  0.02605207,\n",
       "         0.02283685],\n",
       "       [ 0.        ,  0.08480333,  0.10150959,  0.12362887,  0.15484761,\n",
       "         0.20495201,  0.34216444,  0.34216444,  0.20495201,  0.15484761,\n",
       "         0.12362887,  0.10150959,  0.08480333,  0.07169213,  0.06113654,\n",
       "         0.052483  ,  0.04529233,  0.03925463,  0.03414294,  0.02978613,\n",
       "         0.02605207],\n",
       "       [ 0.        ,  0.07169213,  0.08480333,  0.10150959,  0.12362887,\n",
       "         0.15484761,  0.20495201,  0.34216444,  0.34216444,  0.20495201,\n",
       "         0.15484761,  0.12362887,  0.10150959,  0.08480333,  0.07169213,\n",
       "         0.06113654,  0.052483  ,  0.04529233,  0.03925463,  0.03414294,\n",
       "         0.02978613],\n",
       "       [ 0.        ,  0.06113654,  0.07169213,  0.08480333,  0.10150959,\n",
       "         0.12362887,  0.15484761,  0.20495201,  0.34216444,  0.34216444,\n",
       "         0.20495201,  0.15484761,  0.12362887,  0.10150959,  0.08480333,\n",
       "         0.07169213,  0.06113654,  0.052483  ,  0.04529233,  0.03925463,\n",
       "         0.03414294],\n",
       "       [ 0.        ,  0.052483  ,  0.06113654,  0.07169213,  0.08480333,\n",
       "         0.10150959,  0.12362887,  0.15484761,  0.20495201,  0.34216444,\n",
       "         0.34216444,  0.20495201,  0.15484761,  0.12362887,  0.10150959,\n",
       "         0.08480333,  0.07169213,  0.06113654,  0.052483  ,  0.04529233,\n",
       "         0.03925463],\n",
       "       [ 0.        ,  0.03925463,  0.04529233,  0.052483  ,  0.06113654,\n",
       "         0.07169213,  0.08480333,  0.10150959,  0.12362887,  0.15484761,\n",
       "         0.20495201,  0.34216444,  0.34216444,  0.20495201,  0.15484761,\n",
       "         0.12362887,  0.10150959,  0.08480333,  0.07169213,  0.06113654,\n",
       "         0.052483  ],\n",
       "       [ 0.        ,  0.03414294,  0.03925463,  0.04529233,  0.052483  ,\n",
       "         0.06113654,  0.07169213,  0.08480333,  0.10150959,  0.12362887,\n",
       "         0.15484761,  0.20495201,  0.34216444,  0.34216444,  0.20495201,\n",
       "         0.15484761,  0.12362887,  0.10150959,  0.08480333,  0.07169213,\n",
       "         0.06113654],\n",
       "       [ 0.        ,  0.02978613,  0.03414294,  0.03925463,  0.04529233,\n",
       "         0.052483  ,  0.06113654,  0.07169213,  0.08480333,  0.10150959,\n",
       "         0.12362887,  0.15484761,  0.20495201,  0.34216444,  0.34216444,\n",
       "         0.20495201,  0.15484761,  0.12362887,  0.10150959,  0.08480333,\n",
       "         0.07169213],\n",
       "       [ 0.        ,  0.02605207,  0.02978613,  0.03414294,  0.03925463,\n",
       "         0.04529233,  0.052483  ,  0.06113654,  0.07169213,  0.08480333,\n",
       "         0.10150959,  0.12362887,  0.15484761,  0.20495201,  0.34216444,\n",
       "         0.34216444,  0.20495201,  0.15484761,  0.12362887,  0.10150959,\n",
       "         0.08480333],\n",
       "       [ 0.        ,  0.02283685,  0.02605207,  0.02978613,  0.03414294,\n",
       "         0.03925463,  0.04529233,  0.052483  ,  0.06113654,  0.07169213,\n",
       "         0.08480333,  0.10150959,  0.12362887,  0.15484761,  0.20495201,\n",
       "         0.34216444,  0.34216444,  0.20495201,  0.15484761,  0.12362887,\n",
       "         0.10150959],\n",
       "       [ 0.        ,  0.0200574 ,  0.02283685,  0.02605207,  0.02978613,\n",
       "         0.03414294,  0.03925463,  0.04529233,  0.052483  ,  0.06113654,\n",
       "         0.07169213,  0.08480333,  0.10150959,  0.12362887,  0.15484761,\n",
       "         0.20495201,  0.34216444,  0.34216444,  0.20495201,  0.15484761,\n",
       "         0.12362887],\n",
       "       [ 0.        ,  0.01764651,  0.0200574 ,  0.02283685,  0.02605207,\n",
       "         0.02978613,  0.03414294,  0.03925463,  0.04529233,  0.052483  ,\n",
       "         0.06113654,  0.07169213,  0.08480333,  0.10150959,  0.12362887,\n",
       "         0.15484761,  0.20495201,  0.34216444,  0.34216444,  0.20495201,\n",
       "         0.15484761],\n",
       "       [ 0.        ,  0.01554911,  0.01764651,  0.0200574 ,  0.02283685,\n",
       "         0.02605207,  0.02978613,  0.03414294,  0.03925463,  0.04529233,\n",
       "         0.052483  ,  0.06113654,  0.07169213,  0.08480333,  0.10150959,\n",
       "         0.12362887,  0.15484761,  0.20495201,  0.34216444,  0.34216444,\n",
       "         0.20495201],\n",
       "       [ 0.        ,  0.01371974,  0.01554911,  0.01764651,  0.0200574 ,\n",
       "         0.02283685,  0.02605207,  0.02978613,  0.03414294,  0.03925463,\n",
       "         0.04529233,  0.052483  ,  0.06113654,  0.07169213,  0.08480333,\n",
       "         0.10150959,  0.12362887,  0.15484761,  0.20495201,  0.34216444,\n",
       "         0.34216444],\n",
       "       [ 0.        ,  0.0121205 ,  0.01371974,  0.01554911,  0.01764651,\n",
       "         0.0200574 ,  0.02283685,  0.02605207,  0.02978613,  0.03414294,\n",
       "         0.03925463,  0.04529233,  0.052483  ,  0.06113654,  0.07169213,\n",
       "         0.08480333,  0.10150959,  0.12362887,  0.15484761,  0.20495201,\n",
       "         0.34216444],\n",
       "       [ 0.        ,  0.        ,  0.        ,  0.        ,  0.        ,\n",
       "         0.        ,  0.        ,  0.        ,  0.        ,  0.        ,\n",
       "         0.        ,  0.        ,  0.        ,  0.        ,  0.        ,\n",
       "         0.        ,  0.        ,  0.        ,  0.        ,  0.        ,\n",
       "         0.        ]])"
      ]
     },
     "execution_count": 7,
     "metadata": {},
     "output_type": "execute_result"
    }
   ],
   "source": [
    "s = 1\n",
    "green_matrix = helper.get_green_matrix(well, s)\n",
    "green_matrix"
   ]
  },
  {
   "cell_type": "code",
   "execution_count": 8,
   "metadata": {},
   "outputs": [
    {
     "data": {
      "text/plain": [
       "array([[ 0.        ,  0.03141593,  0.06283185,  0.09424778,  0.12566371,\n",
       "         0.15707963,  0.18849556,  0.21991149,  0.25132741,  0.28274334,\n",
       "         0.31415927,  0.        ,  0.        ,  0.        ,  0.        ,\n",
       "         0.        ,  0.        ,  0.        ,  0.        ,  0.        ,\n",
       "         0.        ],\n",
       "       [ 0.        ,  0.        ,  0.03141593,  0.06283185,  0.09424778,\n",
       "         0.12566371,  0.15707963,  0.18849556,  0.21991149,  0.25132741,\n",
       "         0.28274334,  0.        ,  0.        ,  0.        ,  0.        ,\n",
       "         0.        ,  0.        ,  0.        ,  0.        ,  0.        ,\n",
       "         0.        ],\n",
       "       [ 0.        ,  0.        ,  0.        ,  0.03141593,  0.06283185,\n",
       "         0.09424778,  0.12566371,  0.15707963,  0.18849556,  0.21991149,\n",
       "         0.25132741,  0.        ,  0.        ,  0.        ,  0.        ,\n",
       "         0.        ,  0.        ,  0.        ,  0.        ,  0.        ,\n",
       "         0.        ],\n",
       "       [ 0.        ,  0.        ,  0.        ,  0.        ,  0.03141593,\n",
       "         0.06283185,  0.09424778,  0.12566371,  0.15707963,  0.18849556,\n",
       "         0.21991149,  0.        ,  0.        ,  0.        ,  0.        ,\n",
       "         0.        ,  0.        ,  0.        ,  0.        ,  0.        ,\n",
       "         0.        ],\n",
       "       [ 0.        ,  0.        ,  0.        ,  0.        ,  0.        ,\n",
       "         0.03141593,  0.06283185,  0.09424778,  0.12566371,  0.15707963,\n",
       "         0.18849556,  0.        ,  0.        ,  0.        ,  0.        ,\n",
       "         0.        ,  0.        ,  0.        ,  0.        ,  0.        ,\n",
       "         0.        ],\n",
       "       [ 0.        ,  0.        ,  0.        ,  0.        ,  0.        ,\n",
       "         0.        ,  0.03141593,  0.06283185,  0.09424778,  0.12566371,\n",
       "         0.15707963,  0.        ,  0.        ,  0.        ,  0.        ,\n",
       "         0.        ,  0.        ,  0.        ,  0.        ,  0.        ,\n",
       "         0.        ],\n",
       "       [ 0.        ,  0.        ,  0.        ,  0.        ,  0.        ,\n",
       "         0.        ,  0.        ,  0.03141593,  0.06283185,  0.09424778,\n",
       "         0.12566371,  0.        ,  0.        ,  0.        ,  0.        ,\n",
       "         0.        ,  0.        ,  0.        ,  0.        ,  0.        ,\n",
       "         0.        ],\n",
       "       [ 0.        ,  0.        ,  0.        ,  0.        ,  0.        ,\n",
       "         0.        ,  0.        ,  0.        ,  0.03141593,  0.06283185,\n",
       "         0.09424778,  0.        ,  0.        ,  0.        ,  0.        ,\n",
       "         0.        ,  0.        ,  0.        ,  0.        ,  0.        ,\n",
       "         0.        ],\n",
       "       [ 0.        ,  0.        ,  0.        ,  0.        ,  0.        ,\n",
       "         0.        ,  0.        ,  0.        ,  0.        ,  0.03141593,\n",
       "         0.06283185,  0.        ,  0.        ,  0.        ,  0.        ,\n",
       "         0.        ,  0.        ,  0.        ,  0.        ,  0.        ,\n",
       "         0.        ],\n",
       "       [ 0.        ,  0.        ,  0.        ,  0.        ,  0.        ,\n",
       "         0.        ,  0.        ,  0.        ,  0.        ,  0.        ,\n",
       "         0.03141593,  0.        ,  0.        ,  0.        ,  0.        ,\n",
       "         0.        ,  0.        ,  0.        ,  0.        ,  0.        ,\n",
       "         0.        ],\n",
       "       [ 0.        ,  0.        ,  0.        ,  0.        ,  0.        ,\n",
       "         0.        ,  0.        ,  0.        ,  0.        ,  0.        ,\n",
       "         0.        ,  0.03141593,  0.        ,  0.        ,  0.        ,\n",
       "         0.        ,  0.        ,  0.        ,  0.        ,  0.        ,\n",
       "         0.        ],\n",
       "       [ 0.        ,  0.        ,  0.        ,  0.        ,  0.        ,\n",
       "         0.        ,  0.        ,  0.        ,  0.        ,  0.        ,\n",
       "         0.        ,  0.06283185,  0.03141593,  0.        ,  0.        ,\n",
       "         0.        ,  0.        ,  0.        ,  0.        ,  0.        ,\n",
       "         0.        ],\n",
       "       [ 0.        ,  0.        ,  0.        ,  0.        ,  0.        ,\n",
       "         0.        ,  0.        ,  0.        ,  0.        ,  0.        ,\n",
       "         0.        ,  0.09424778,  0.06283185,  0.03141593,  0.        ,\n",
       "         0.        ,  0.        ,  0.        ,  0.        ,  0.        ,\n",
       "         0.        ],\n",
       "       [ 0.        ,  0.        ,  0.        ,  0.        ,  0.        ,\n",
       "         0.        ,  0.        ,  0.        ,  0.        ,  0.        ,\n",
       "         0.        ,  0.12566371,  0.09424778,  0.06283185,  0.03141593,\n",
       "         0.        ,  0.        ,  0.        ,  0.        ,  0.        ,\n",
       "         0.        ],\n",
       "       [ 0.        ,  0.        ,  0.        ,  0.        ,  0.        ,\n",
       "         0.        ,  0.        ,  0.        ,  0.        ,  0.        ,\n",
       "         0.        ,  0.15707963,  0.12566371,  0.09424778,  0.06283185,\n",
       "         0.03141593,  0.        ,  0.        ,  0.        ,  0.        ,\n",
       "         0.        ],\n",
       "       [ 0.        ,  0.        ,  0.        ,  0.        ,  0.        ,\n",
       "         0.        ,  0.        ,  0.        ,  0.        ,  0.        ,\n",
       "         0.        ,  0.18849556,  0.15707963,  0.12566371,  0.09424778,\n",
       "         0.06283185,  0.03141593,  0.        ,  0.        ,  0.        ,\n",
       "         0.        ],\n",
       "       [ 0.        ,  0.        ,  0.        ,  0.        ,  0.        ,\n",
       "         0.        ,  0.        ,  0.        ,  0.        ,  0.        ,\n",
       "         0.        ,  0.21991149,  0.18849556,  0.15707963,  0.12566371,\n",
       "         0.09424778,  0.06283185,  0.03141593,  0.        ,  0.        ,\n",
       "         0.        ],\n",
       "       [ 0.        ,  0.        ,  0.        ,  0.        ,  0.        ,\n",
       "         0.        ,  0.        ,  0.        ,  0.        ,  0.        ,\n",
       "         0.        ,  0.25132741,  0.21991149,  0.18849556,  0.15707963,\n",
       "         0.12566371,  0.09424778,  0.06283185,  0.03141593,  0.        ,\n",
       "         0.        ],\n",
       "       [ 0.        ,  0.        ,  0.        ,  0.        ,  0.        ,\n",
       "         0.        ,  0.        ,  0.        ,  0.        ,  0.        ,\n",
       "         0.        ,  0.28274334,  0.25132741,  0.21991149,  0.18849556,\n",
       "         0.15707963,  0.12566371,  0.09424778,  0.06283185,  0.03141593,\n",
       "         0.        ],\n",
       "       [ 0.        ,  0.        ,  0.        ,  0.        ,  0.        ,\n",
       "         0.        ,  0.        ,  0.        ,  0.        ,  0.        ,\n",
       "         0.        ,  0.31415927,  0.28274334,  0.25132741,  0.21991149,\n",
       "         0.18849556,  0.15707963,  0.12566371,  0.09424778,  0.06283185,\n",
       "         0.03141593],\n",
       "       [ 0.        ,  0.        ,  0.        ,  0.        ,  0.        ,\n",
       "         0.        ,  0.        ,  0.        ,  0.        ,  0.        ,\n",
       "         0.        ,  0.        ,  0.        ,  0.        ,  0.        ,\n",
       "         0.        ,  0.        ,  0.        ,  0.        ,  0.        ,\n",
       "         0.        ]])"
      ]
     },
     "execution_count": 8,
     "metadata": {},
     "output_type": "execute_result"
    }
   ],
   "source": [
    "source_matrix = helper.get_source_matrix(well, s)\n",
    "source_matrix"
   ]
  },
  {
   "cell_type": "code",
   "execution_count": 9,
   "metadata": {
    "collapsed": true
   },
   "outputs": [],
   "source": [
    "right_part = helper.get_right_part(well,10)"
   ]
  },
  {
   "cell_type": "code",
   "execution_count": 10,
   "metadata": {},
   "outputs": [
    {
     "data": {
      "text/plain": [
       "array([ 0.31415927,  0.28274334,  0.25132741,  0.21991149,  0.18849556,\n",
       "        0.15707963,  0.12566371,  0.09424778,  0.06283185,  0.03141593,\n",
       "        0.03141593,  0.06283185,  0.09424778,  0.12566371,  0.15707963,\n",
       "        0.18849556,  0.21991149,  0.25132741,  0.28274334,  0.31415927,\n",
       "        0.5       ])"
      ]
     },
     "execution_count": 10,
     "metadata": {},
     "output_type": "execute_result"
    }
   ],
   "source": [
    "right_part"
   ]
  },
  {
   "cell_type": "code",
   "execution_count": 11,
   "metadata": {
    "collapsed": true
   },
   "outputs": [],
   "source": [
    "s=1000\n",
    "well.recalc(s)"
   ]
  },
  {
   "cell_type": "code",
   "execution_count": 12,
   "metadata": {},
   "outputs": [
    {
     "data": {
      "text/plain": [
       "0.0038066340725172849"
      ]
     },
     "execution_count": 12,
     "metadata": {},
     "output_type": "execute_result"
    }
   ],
   "source": [
    "well.p_lapl"
   ]
  },
  {
   "cell_type": "code",
   "execution_count": 13,
   "metadata": {},
   "outputs": [
    {
     "data": {
      "text/plain": [
       "[<matplotlib.lines.Line2D at 0x71f1170>]"
      ]
     },
     "execution_count": 13,
     "metadata": {},
     "output_type": "execute_result"
    },
    {
     "data": {
      "image/png": "[encoded data removed]",
      "text/plain": [
       "<matplotlib.figure.Figure at 0x71778d0>"
      ]
     },
     "metadata": {},
     "output_type": "display_data"
    }
   ],
   "source": [
    "plt.plot(well.source_distrib)"
   ]
  },
  {
   "cell_type": "code",
   "execution_count": 14,
   "metadata": {
    "collapsed": true
   },
   "outputs": [],
   "source": [
    "from well import Well"
   ]
  },
  {
   "cell_type": "code",
   "execution_count": 15,
   "metadata": {
    "collapsed": true
   },
   "outputs": [],
   "source": [
    "params[\"ref_length\"] = 1\n",
    "params[\"z_ref_length\"] = 1\n",
    "real_well = Well(0,0,\"infinite\",\"imp\", \"imp\", \"frac\", params)"
   ]
  },
  {
   "cell_type": "code",
   "execution_count": 16,
   "metadata": {},
   "outputs": [
    {
     "data": {
      "text/plain": [
       "3.8066340725166037"
      ]
     },
     "execution_count": 16,
     "metadata": {},
     "output_type": "execute_result"
    }
   ],
   "source": [
    "real_well.get_pw(1)"
   ]
  },
  {
   "cell_type": "code",
   "execution_count": 17,
   "metadata": {
    "collapsed": true
   },
   "outputs": [],
   "source": [
    "tds = np.logspace(-3, 0, 30)"
   ]
  },
  {
   "cell_type": "code",
   "execution_count": 18,
   "metadata": {
    "collapsed": true
   },
   "outputs": [],
   "source": [
    "pws = []\n",
    "for t in tds:\n",
    "    pws.append(real_well.get_pw(t))"
   ]
  },
  {
   "cell_type": "code",
   "execution_count": 19,
   "metadata": {},
   "outputs": [
    {
     "data": {
      "text/plain": [
       "[<matplotlib.lines.Line2D at 0x83976f0>]"
      ]
     },
     "execution_count": 19,
     "metadata": {},
     "output_type": "execute_result"
    },
    {
     "data": {
      "image/png": "[encoded data removed]",
      "text/plain": [
       "<matplotlib.figure.Figure at 0x8344cb0>"
      ]
     },
     "metadata": {},
     "output_type": "display_data"
    }
   ],
   "source": [
    "plt.plot(tds, pws)"
   ]
  },
  {
   "cell_type": "markdown",
   "metadata": {
    "collapsed": true
   },
   "source": [
    "## Testing old_helper"
   ]
  },
  {
   "cell_type": "code",
   "execution_count": 20,
   "metadata": {
    "collapsed": true
   },
   "outputs": [],
   "source": [
    "from source_helper import calc_bessel_integrals"
   ]
  },
  {
   "cell_type": "code",
   "execution_count": 21,
   "metadata": {
    "collapsed": true
   },
   "outputs": [],
   "source": [
    "s = 1\n",
    "omega = 1\n",
    "l = 1\n",
    "N = 10\n",
    "bsls = calc_bessel_integrals(s, omega, l, N)"
   ]
  },
  {
   "cell_type": "code",
   "execution_count": 22,
   "metadata": {},
   "outputs": [
    {
     "data": {
      "text/plain": [
       "array([ 0.        ,  0.34216444,  0.20495201,  0.15484761,  0.12362887,\n",
       "        0.10150959,  0.08480333,  0.07169213,  0.06113654,  0.052483  ,\n",
       "        0.04529233,  0.03925463,  0.03414294,  0.02978613,  0.02605207,\n",
       "        0.02283685,  0.0200574 ,  0.01764651,  0.01554911,  0.01371974,\n",
       "        0.0121205 ])"
      ]
     },
     "execution_count": 22,
     "metadata": {},
     "output_type": "execute_result"
    }
   ],
   "source": [
    "bsls"
   ]
  },
  {
   "cell_type": "code",
   "execution_count": 23,
   "metadata": {},
   "outputs": [],
   "source": [
    "from old_helper import OldHelper"
   ]
  },
  {
   "cell_type": "code",
   "execution_count": 24,
   "metadata": {
    "collapsed": true
   },
   "outputs": [],
   "source": [
    "old_helper = OldHelper()"
   ]
  },
  {
   "cell_type": "code",
   "execution_count": 25,
   "metadata": {},
   "outputs": [],
   "source": [
    "grn_old = old_helper.get_green_matrix(well, s)"
   ]
  },
  {
   "cell_type": "code",
   "execution_count": 26,
   "metadata": {},
   "outputs": [
    {
     "data": {
      "text/plain": [
       "array([[ 0.        ,  0.27355822,  0.24850603,  0.16429044,  0.1281786 ,\n",
       "         0.1042161 ,  0.08660086,  0.07296994,  0.06208756,  0.05321443,\n",
       "         0.04586881],\n",
       "       [ 0.        ,  0.17989981,  0.23289666,  0.22183702,  0.14487767,\n",
       "         0.11326987,  0.09238271,  0.07699629,  0.06504783,  0.05547338,\n",
       "         0.04763974],\n",
       "       [ 0.        ,  0.13923824,  0.1532308 ,  0.21348389,  0.20692829,\n",
       "         0.13304427,  0.1036653 ,  0.0844606 ,  0.07038211,  0.05947314,\n",
       "         0.05073913],\n",
       "       [ 0.        ,  0.11256923,  0.11982547,  0.13832207,  0.20165049,\n",
       "         0.19732372,  0.12512217,  0.09705112,  0.07888591,  0.06564786,\n",
       "         0.0554277 ],\n",
       "       [ 0.        ,  0.09315646,  0.0976605 ,  0.10799208,  0.1287175 ,\n",
       "         0.19372838,  0.19070954,  0.11954747,  0.09231687,  0.07484047,\n",
       "         0.06217322],\n",
       "       [ 0.        ,  0.07824773,  0.08132306,  0.08805594,  0.10006997,\n",
       "         0.12210332,  0.18815369,  0.18597529,  0.11550204,  0.08884223,\n",
       "         0.07184314],\n",
       "       [ 0.        ,  0.06641433,  0.06864317,  0.07340096,  0.08144175,\n",
       "         0.09449528,  0.11736907,  0.18410826,  0.18250064,  0.1125047 ,\n",
       "         0.08624706],\n",
       "       [ 0.        ,  0.05680977,  0.05849223,  0.06202898,  0.06782627,\n",
       "         0.0767075 ,  0.09044984,  0.11389443,  0.18111092,  0.17990548,\n",
       "         0.11025056],\n",
       "       [ 0.        ,  0.04888766,  0.05019558,  0.05291754,  0.05729473,\n",
       "         0.06378083,  0.07323286,  0.08745251,  0.11129926,  0.17885678,\n",
       "         0.17794209],\n",
       "       [ 0.        ,  0.04227348,  0.04331297,  0.04546133,  0.0488721 ,\n",
       "         0.05382009,  0.0607835 ,  0.07063769,  0.08519836,  0.10933587,\n",
       "         0.17714247],\n",
       "       [ 0.        ,  0.        ,  0.        ,  0.        ,  0.        ,\n",
       "         0.        ,  0.        ,  0.        ,  0.        ,  0.        ,\n",
       "         0.        ]])"
      ]
     },
     "execution_count": 26,
     "metadata": {},
     "output_type": "execute_result"
    }
   ],
   "source": [
    "grn_old"
   ]
  },
  {
   "cell_type": "code",
   "execution_count": 27,
   "metadata": {
    "collapsed": true
   },
   "outputs": [],
   "source": [
    "src_old = old_helper.get_source_matrix(well, s)"
   ]
  },
  {
   "cell_type": "code",
   "execution_count": 28,
   "metadata": {},
   "outputs": [
    {
     "data": {
      "text/plain": [
       "array([[ 0.        ,  0.03141593,  0.        ,  0.        ,  0.        ,\n",
       "         0.        ,  0.        ,  0.        ,  0.        ,  0.        ,\n",
       "         0.        ],\n",
       "       [ 0.        ,  0.06283185,  0.03141593,  0.        ,  0.        ,\n",
       "         0.        ,  0.        ,  0.        ,  0.        ,  0.        ,\n",
       "         0.        ],\n",
       "       [ 0.        ,  0.09424778,  0.06283185,  0.03141593,  0.        ,\n",
       "         0.        ,  0.        ,  0.        ,  0.        ,  0.        ,\n",
       "         0.        ],\n",
       "       [ 0.        ,  0.12566371,  0.09424778,  0.06283185,  0.03141593,\n",
       "         0.        ,  0.        ,  0.        ,  0.        ,  0.        ,\n",
       "         0.        ],\n",
       "       [ 0.        ,  0.15707963,  0.12566371,  0.09424778,  0.06283185,\n",
       "         0.03141593,  0.        ,  0.        ,  0.        ,  0.        ,\n",
       "         0.        ],\n",
       "       [ 0.        ,  0.18849556,  0.15707963,  0.12566371,  0.09424778,\n",
       "         0.06283185,  0.03141593,  0.        ,  0.        ,  0.        ,\n",
       "         0.        ],\n",
       "       [ 0.        ,  0.21991149,  0.18849556,  0.15707963,  0.12566371,\n",
       "         0.09424778,  0.06283185,  0.03141593,  0.        ,  0.        ,\n",
       "         0.        ],\n",
       "       [ 0.        ,  0.25132741,  0.21991149,  0.18849556,  0.15707963,\n",
       "         0.12566371,  0.09424778,  0.06283185,  0.03141593,  0.        ,\n",
       "         0.        ],\n",
       "       [ 0.        ,  0.28274334,  0.25132741,  0.21991149,  0.18849556,\n",
       "         0.15707963,  0.12566371,  0.09424778,  0.06283185,  0.03141593,\n",
       "         0.        ],\n",
       "       [ 0.        ,  0.31415927,  0.28274334,  0.25132741,  0.21991149,\n",
       "         0.18849556,  0.15707963,  0.12566371,  0.09424778,  0.06283185,\n",
       "         0.03141593],\n",
       "       [ 0.        ,  0.        ,  0.        ,  0.        ,  0.        ,\n",
       "         0.        ,  0.        ,  0.        ,  0.        ,  0.        ,\n",
       "         0.        ]])"
      ]
     },
     "execution_count": 28,
     "metadata": {},
     "output_type": "execute_result"
    }
   ],
   "source": [
    "src_old"
   ]
  },
  {
   "cell_type": "code",
   "execution_count": 29,
   "metadata": {
    "collapsed": true
   },
   "outputs": [],
   "source": [
    "right_old = old_helper.get_right_part(well, s=7)"
   ]
  },
  {
   "cell_type": "code",
   "execution_count": 30,
   "metadata": {},
   "outputs": [
    {
     "data": {
      "text/plain": [
       "array([ 0.0448799 ,  0.08975979,  0.13463969,  0.17951958,  0.22439948,\n",
       "        0.26927937,  0.31415927,  0.35903916,  0.40391906,  0.44879895,\n",
       "        1.42857143])"
      ]
     },
     "execution_count": 30,
     "metadata": {},
     "output_type": "execute_result"
    }
   ],
   "source": [
    "right_old"
   ]
  },
  {
   "cell_type": "code",
   "execution_count": 31,
   "metadata": {},
   "outputs": [
    {
     "data": {
      "text/plain": [
       "array([[ 1.,  0.,  0.,  0.,  0.,  0.,  0.,  0.,  0.,  0.,  0.],\n",
       "       [ 1.,  0.,  0.,  0.,  0.,  0.,  0.,  0.,  0.,  0.,  0.],\n",
       "       [ 1.,  0.,  0.,  0.,  0.,  0.,  0.,  0.,  0.,  0.,  0.],\n",
       "       [ 1.,  0.,  0.,  0.,  0.,  0.,  0.,  0.,  0.,  0.,  0.],\n",
       "       [ 1.,  0.,  0.,  0.,  0.,  0.,  0.,  0.,  0.,  0.,  0.],\n",
       "       [ 1.,  0.,  0.,  0.,  0.,  0.,  0.,  0.,  0.,  0.,  0.],\n",
       "       [ 1.,  0.,  0.,  0.,  0.,  0.,  0.,  0.,  0.,  0.,  0.],\n",
       "       [ 1.,  0.,  0.,  0.,  0.,  0.,  0.,  0.,  0.,  0.,  0.],\n",
       "       [ 1.,  0.,  0.,  0.,  0.,  0.,  0.,  0.,  0.,  0.,  0.],\n",
       "       [ 1.,  0.,  0.,  0.,  0.,  0.,  0.,  0.,  0.,  0.,  0.],\n",
       "       [ 0.,  1.,  1.,  1.,  1.,  1.,  1.,  1.,  1.,  1.,  1.]])"
      ]
     },
     "execution_count": 31,
     "metadata": {},
     "output_type": "execute_result"
    }
   ],
   "source": [
    "old_helper.get_dummy_matrix(well)"
   ]
  },
  {
   "cell_type": "code",
   "execution_count": 32,
   "metadata": {
    "collapsed": true
   },
   "outputs": [],
   "source": [
    "from lapl_well import LaplWell"
   ]
  },
  {
   "cell_type": "code",
   "execution_count": 33,
   "metadata": {
    "collapsed": true
   },
   "outputs": [],
   "source": [
    "lapl_well = LaplWell(xwd, ywd, zwd, outer_bound, top_bound, bottom_bound, wtype, params)"
   ]
  },
  {
   "cell_type": "code",
   "execution_count": 34,
   "metadata": {
    "collapsed": true
   },
   "outputs": [],
   "source": [
    "lapl_well.recalc(1)"
   ]
  },
  {
   "cell_type": "code",
   "execution_count": 35,
   "metadata": {},
   "outputs": [
    {
     "data": {
      "text/plain": [
       "3.8066340725172876"
      ]
     },
     "execution_count": 35,
     "metadata": {},
     "output_type": "execute_result"
    }
   ],
   "source": [
    "lapl_well.p_lapl"
   ]
  },
  {
   "cell_type": "code",
   "execution_count": 36,
   "metadata": {},
   "outputs": [
    {
     "data": {
      "text/plain": [
       "1"
      ]
     },
     "execution_count": 36,
     "metadata": {},
     "output_type": "execute_result"
    }
   ],
   "source": []
  },
  {
   "cell_type": "code",
   "execution_count": null,
   "metadata": {
    "collapsed": true
   },
   "outputs": [],
   "source": []
  }
 ],
 "metadata": {
  "kernelspec": {
   "display_name": "Python 3",
   "language": "python",
   "name": "python3"
  },
  "language_info": {
   "codemirror_mode": {
    "name": "ipython",
    "version": 3
   },
   "file_extension": ".py",
   "mimetype": "text/x-python",
   "name": "python",
   "nbconvert_exporter": "python",
   "pygments_lexer": "ipython3",
   "version": "3.6.1"
  }
 },
 "nbformat": 4,
 "nbformat_minor": 2
}
