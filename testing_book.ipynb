{
 "cells": [
  {
   "cell_type": "code",
   "execution_count": 1,
   "metadata": {
    "collapsed": true
   },
   "outputs": [],
   "source": [
    "import numpy as np\n",
    "from source_helper import *\n",
    "import matplotlib.pyplot as plt\n",
    "% matplotlib inline\n",
    "from time import time"
   ]
  },
  {
   "cell_type": "code",
   "execution_count": 2,
   "metadata": {},
   "outputs": [
    {
     "name": "stdout",
     "output_type": "stream",
     "text": [
      "1.8851079940795898\n"
     ]
    }
   ],
   "source": [
    "N = 20\n",
    "m = np.zeros((2*N, 2*N))\n",
    "coords = np.zeros((2*N, 2*N))\n",
    "dx = 1./N\n",
    "c = 1\n",
    "xwd = 0\n",
    "ywd = 0\n",
    "\n",
    "t = time()\n",
    "for cntr in range(10):\n",
    "    u = float(cntr+1)\n",
    "    for i in range(2*N):\n",
    "        if i < N:\n",
    "            xd = xwd - 1 + i*dx\n",
    "        else:\n",
    "            xd = xwd - 1 + (i+1)*dx\n",
    "        yd = 1\n",
    "        zd = 0\n",
    "        for j in range(2*N):\n",
    "            int_lim1 = xwd - 1 + j*dx\n",
    "            int_lim2 = int_lim1+dx\n",
    "            m[i,j] = frac_inf_imp_imp(xd, yd, xwd, ywd, u, c, int_lim1, int_lim2)\n",
    "            coords[i,j] = xd\n",
    "print(time()-t)"
   ]
  },
  {
   "cell_type": "code",
   "execution_count": 23,
   "metadata": {},
   "outputs": [
    {
     "data": {
      "text/plain": [
       "[<matplotlib.lines.Line2D at 0x832b390>]"
      ]
     },
     "execution_count": 23,
     "metadata": {},
     "output_type": "execute_result"
    },
    {
     "data": {
      "image/png": "[encoded data removed]",
      "text/plain": [
       "<matplotlib.figure.Figure at 0x76e8b30>"
      ]
     },
     "metadata": {},
     "output_type": "display_data"
    }
   ],
   "source": [
    "plt.plot(m[19,:])"
   ]
  },
  {
   "cell_type": "code",
   "execution_count": 24,
   "metadata": {},
   "outputs": [
    {
     "data": {
      "text/plain": [
       "array([ 0.01280669,  0.01338841,  0.01398013,  0.01457907,  0.01518194,\n",
       "        0.01578486,  0.01638339,  0.0169725 ,  0.01754659,  0.01809956,\n",
       "        0.01862487,  0.01911569,  0.01956504,  0.019966  ,  0.02031199,\n",
       "        0.02059694,  0.02081561,  0.02096384,  0.02103869,  0.02103869,\n",
       "        0.02096384,  0.02081561,  0.02059694,  0.02031199,  0.019966  ,\n",
       "        0.01956504,  0.01911569,  0.01862487,  0.01809956,  0.01754659,\n",
       "        0.0169725 ,  0.01638339,  0.01578486,  0.01518194,  0.01457907,\n",
       "        0.01398013,  0.01338841,  0.01280669,  0.01223725,  0.01168194])"
      ]
     },
     "execution_count": 24,
     "metadata": {},
     "output_type": "execute_result"
    }
   ],
   "source": [
    "m[19,:]"
   ]
  },
  {
   "cell_type": "code",
   "execution_count": 26,
   "metadata": {},
   "outputs": [
    {
     "data": {
      "text/plain": [
       "40"
      ]
     },
     "execution_count": 26,
     "metadata": {},
     "output_type": "execute_result"
    }
   ],
   "source": [
    "len(coords[20,:])"
   ]
  },
  {
   "cell_type": "code",
   "execution_count": null,
   "metadata": {
    "collapsed": true
   },
   "outputs": [],
   "source": []
  }
 ],
 "metadata": {
  "kernelspec": {
   "display_name": "Python 3",
   "language": "python",
   "name": "python3"
  },
  "language_info": {
   "codemirror_mode": {
    "name": "ipython",
    "version": 3
   },
   "file_extension": ".py",
   "mimetype": "text/x-python",
   "name": "python",
   "nbconvert_exporter": "python",
   "pygments_lexer": "ipython3",
   "version": "3.6.1"
  }
 },
 "nbformat": 4,
 "nbformat_minor": 2
}
