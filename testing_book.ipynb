{
 "cells": [
  {
   "cell_type": "code",
   "execution_count": 1,
   "metadata": {},
   "outputs": [],
   "source": [
    "import numpy as np\n",
    "from source_helper import *\n",
    "import matplotlib.pyplot as plt\n",
    "% matplotlib inline\n",
    "from time import time\n",
    "from lapl_well import LaplWell"
   ]
  },
  {
   "cell_type": "code",
   "execution_count": 2,
   "metadata": {
    "collapsed": true
   },
   "outputs": [],
   "source": [
    "xwd = 0\n",
    "ywd = 0\n",
    "zwd = 0\n",
    "outer_bound = \"infinite\"\n",
    "top_bound = \"imp\"\n",
    "bottom_bound = \"imp\"\n",
    "wtype = \"frac\"\n",
    "params = {\"nseg\": 40, \"kx\": 1., \"ky\": 1., \"kz\": 1., \"omega\": 1, \"lambda\": 1, \"Fcd\":1}"
   ]
  },
  {
   "cell_type": "code",
   "execution_count": 3,
   "metadata": {},
   "outputs": [],
   "source": [
    "well = LaplWell(xwd, ywd, zwd, outer_bound, top_bound, bottom_bound, wtype, params)"
   ]
  },
  {
   "cell_type": "code",
   "execution_count": 4,
   "metadata": {
    "collapsed": true
   },
   "outputs": [],
   "source": [
    "from helper import Helper"
   ]
  },
  {
   "cell_type": "code",
   "execution_count": 5,
   "metadata": {
    "collapsed": true
   },
   "outputs": [],
   "source": [
    "helper = Helper()"
   ]
  },
  {
   "cell_type": "code",
   "execution_count": 6,
   "metadata": {},
   "outputs": [
    {
     "data": {
      "text/plain": [
       "array([[ 1.,  0.,  0., ...,  0.,  0.,  0.],\n",
       "       [ 1.,  0.,  0., ...,  0.,  0.,  0.],\n",
       "       [ 1.,  0.,  0., ...,  0.,  0.,  0.],\n",
       "       ..., \n",
       "       [ 1.,  0.,  0., ...,  0.,  0.,  0.],\n",
       "       [ 1.,  0.,  0., ...,  0.,  0.,  0.],\n",
       "       [ 0.,  1.,  1., ...,  1.,  1.,  1.]])"
      ]
     },
     "execution_count": 6,
     "metadata": {},
     "output_type": "execute_result"
    }
   ],
   "source": [
    "dummy_matrix = helper.get_dummy_matrix(well)\n",
    "dummy_matrix"
   ]
  },
  {
   "cell_type": "code",
   "execution_count": 7,
   "metadata": {},
   "outputs": [
    {
     "data": {
      "text/plain": [
       "array([[ 0.        ,  0.12012696,  0.08550253, ...,  0.00307527,\n",
       "         0.00298189,  0.00289154],\n",
       "       [ 0.        ,  0.12012696,  0.12012696, ...,  0.0031718 ,\n",
       "         0.00307527,  0.00298189],\n",
       "       [ 0.        ,  0.08550253,  0.12012696, ...,  0.0032716 ,\n",
       "         0.0031718 ,  0.00307527],\n",
       "       ..., \n",
       "       [ 0.        ,  0.00298189,  0.00307527, ...,  0.08550253,\n",
       "         0.12012696,  0.12012696],\n",
       "       [ 0.        ,  0.00289154,  0.00298189, ...,  0.07247745,\n",
       "         0.08550253,  0.12012696],\n",
       "       [ 0.        ,  0.        ,  0.        , ...,  0.        ,\n",
       "         0.        ,  0.        ]])"
      ]
     },
     "execution_count": 7,
     "metadata": {},
     "output_type": "execute_result"
    }
   ],
   "source": [
    "s = 1\n",
    "green_matrix = helper.get_green_matrix(well, s)\n",
    "green_matrix"
   ]
  },
  {
   "cell_type": "code",
   "execution_count": 8,
   "metadata": {},
   "outputs": [
    {
     "data": {
      "text/plain": [
       "array([[ 0.        ,  0.0019635 ,  0.00392699, ...,  0.        ,\n",
       "         0.        ,  0.        ],\n",
       "       [ 0.        ,  0.        ,  0.0019635 , ...,  0.        ,\n",
       "         0.        ,  0.        ],\n",
       "       [ 0.        ,  0.        ,  0.        , ...,  0.        ,\n",
       "         0.        ,  0.        ],\n",
       "       ..., \n",
       "       [ 0.        ,  0.        ,  0.        , ...,  0.00392699,\n",
       "         0.0019635 ,  0.        ],\n",
       "       [ 0.        ,  0.        ,  0.        , ...,  0.00589049,\n",
       "         0.00392699,  0.0019635 ],\n",
       "       [ 0.        ,  0.        ,  0.        , ...,  0.        ,\n",
       "         0.        ,  0.        ]])"
      ]
     },
     "execution_count": 8,
     "metadata": {},
     "output_type": "execute_result"
    }
   ],
   "source": [
    "source_matrix = helper.get_source_matrix(well, s)\n",
    "source_matrix"
   ]
  },
  {
   "cell_type": "code",
   "execution_count": 9,
   "metadata": {
    "collapsed": true
   },
   "outputs": [],
   "source": [
    "right_part = helper.get_right_part(well,10)"
   ]
  },
  {
   "cell_type": "code",
   "execution_count": 10,
   "metadata": {},
   "outputs": [
    {
     "data": {
      "text/plain": [
       "array([ 0.31415927,  0.30630528,  0.2984513 ,  0.29059732,  0.28274334,\n",
       "        0.27488936,  0.26703538,  0.25918139,  0.25132741,  0.24347343,\n",
       "        0.23561945,  0.22776547,  0.21991149,  0.2120575 ,  0.20420352,\n",
       "        0.19634954,  0.18849556,  0.18064158,  0.1727876 ,  0.16493361,\n",
       "        0.15707963,  0.14922565,  0.14137167,  0.13351769,  0.12566371,\n",
       "        0.11780972,  0.10995574,  0.10210176,  0.09424778,  0.0863938 ,\n",
       "        0.07853982,  0.07068583,  0.06283185,  0.05497787,  0.04712389,\n",
       "        0.03926991,  0.03141593,  0.02356194,  0.01570796,  0.00785398,\n",
       "        0.00785398,  0.01570796,  0.02356194,  0.03141593,  0.03926991,\n",
       "        0.04712389,  0.05497787,  0.06283185,  0.07068583,  0.07853982,\n",
       "        0.0863938 ,  0.09424778,  0.10210176,  0.10995574,  0.11780972,\n",
       "        0.12566371,  0.13351769,  0.14137167,  0.14922565,  0.15707963,\n",
       "        0.16493361,  0.1727876 ,  0.18064158,  0.18849556,  0.19634954,\n",
       "        0.20420352,  0.2120575 ,  0.21991149,  0.22776547,  0.23561945,\n",
       "        0.24347343,  0.25132741,  0.25918139,  0.26703538,  0.27488936,\n",
       "        0.28274334,  0.29059732,  0.2984513 ,  0.30630528,  0.31415927,  4.        ])"
      ]
     },
     "execution_count": 10,
     "metadata": {},
     "output_type": "execute_result"
    }
   ],
   "source": [
    "right_part"
   ]
  },
  {
   "cell_type": "code",
   "execution_count": 11,
   "metadata": {},
   "outputs": [],
   "source": [
    "s=1000\n",
    "well.recalc(s)"
   ]
  },
  {
   "cell_type": "code",
   "execution_count": 12,
   "metadata": {},
   "outputs": [
    {
     "data": {
      "text/plain": [
       "0.00028157156920288615"
      ]
     },
     "execution_count": 12,
     "metadata": {},
     "output_type": "execute_result"
    }
   ],
   "source": [
    "well.p_lapl"
   ]
  },
  {
   "cell_type": "code",
   "execution_count": 13,
   "metadata": {},
   "outputs": [
    {
     "data": {
      "text/plain": [
       "[<matplotlib.lines.Line2D at 0x6120090>]"
      ]
     },
     "execution_count": 13,
     "metadata": {},
     "output_type": "execute_result"
    },
    {
     "data": {
      "image/png": "[encoded data removed]",
      "text/plain": [
       "<matplotlib.figure.Figure at 0x60a9730>"
      ]
     },
     "metadata": {},
     "output_type": "display_data"
    }
   ],
   "source": [
    "plt.plot(well.source_distrib)"
   ]
  },
  {
   "cell_type": "code",
   "execution_count": 14,
   "metadata": {},
   "outputs": [],
   "source": [
    "from well import Well"
   ]
  },
  {
   "cell_type": "code",
   "execution_count": 15,
   "metadata": {},
   "outputs": [],
   "source": [
    "params[\"ref_length\"] = 1\n",
    "params[\"z_ref_length\"] = 1\n",
    "real_well = Well(0,0,\"infinite\",\"imp\", \"imp\", \"frac\", params)"
   ]
  },
  {
   "cell_type": "code",
   "execution_count": 16,
   "metadata": {},
   "outputs": [
    {
     "data": {
      "text/plain": [
       "1.2565697840139798"
      ]
     },
     "execution_count": 16,
     "metadata": {},
     "output_type": "execute_result"
    }
   ],
   "source": [
    "real_well.get_pw(1)"
   ]
  },
  {
   "cell_type": "code",
   "execution_count": 23,
   "metadata": {},
   "outputs": [],
   "source": [
    "tds = np.logspace(-3, 0, 30)"
   ]
  },
  {
   "cell_type": "code",
   "execution_count": 25,
   "metadata": {},
   "outputs": [],
   "source": [
    "pws = []\n",
    "for t in tds:\n",
    "    pws.append(real_well.get_pw(t))"
   ]
  },
  {
   "cell_type": "code",
   "execution_count": 27,
   "metadata": {},
   "outputs": [
    {
     "data": {
      "text/plain": [
       "[<matplotlib.lines.Line2D at 0x73297f0>]"
      ]
     },
     "execution_count": 27,
     "metadata": {},
     "output_type": "execute_result"
    },
    {
     "data": {
      "image/png": "[encoded data removed]",
      "text/plain": [
       "<matplotlib.figure.Figure at 0x7291910>"
      ]
     },
     "metadata": {},
     "output_type": "display_data"
    }
   ],
   "source": [
    "plt.plot(tds, pws)"
   ]
  },
  {
   "cell_type": "code",
   "execution_count": null,
   "metadata": {
    "collapsed": true
   },
   "outputs": [],
   "source": []
  }
 ],
 "metadata": {
  "kernelspec": {
   "display_name": "Python 3",
   "language": "python",
   "name": "python3"
  },
  "language_info": {
   "codemirror_mode": {
    "name": "ipython",
    "version": 3
   },
   "file_extension": ".py",
   "mimetype": "text/x-python",
   "name": "python",
   "nbconvert_exporter": "python",
   "pygments_lexer": "ipython3",
   "version": "3.6.1"
  }
 },
 "nbformat": 4,
 "nbformat_minor": 2
}
