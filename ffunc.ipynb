{
 "cells": [
  {
   "cell_type": "code",
   "execution_count": 2,
   "metadata": {},
   "outputs": [],
   "source": [
    "import cython\n",
    "import numpy as np\n",
    "import matplotlib.pyplot as plt\n",
    "%matplotlib inline"
   ]
  },
  {
   "cell_type": "code",
   "execution_count": 63,
   "metadata": {},
   "outputs": [],
   "source": [
    "%load_ext Cython"
   ]
  },
  {
   "cell_type": "code",
   "execution_count": 64,
   "metadata": {},
   "outputs": [],
   "source": [
    "%%cython\n",
    "\n",
    "import numpy as np\n",
    "cimport numpy as np\n",
    "ctypedef np.double_t DTYPE_t\n",
    "from libc.math cimport exp, sqrt, fabs, log\n",
    "from scipy.special import iti0k0, k0\n",
    "from scipy.integrate import quad\n",
    "\n",
    "###############################to-be-deleted##########################\n",
    "cpdef double sexp(double e, double yed):\n",
    "    cdef double EPS = 1e-12, d, sum_\n",
    "    cdef int m, MAXITER = 100\n",
    "    for m in range(1, MAXITER):\n",
    "        d = exp(-2*m*yed*e)\n",
    "        sum_ += d\n",
    "        if d < sum_*EPS:\n",
    "            return sum_\n",
    "    return sum_\n",
    "######################################################################\n",
    "cdef double bessi0(double x):\n",
    "    cdef double ax, ans, y\n",
    "    ax = fabs(x)\n",
    "    if ax < 3.75:\n",
    "        y = x/3.75\n",
    "        y*=y\n",
    "        ans=1.0+y*(3.5156229+y*(3.0899424+y*1.2067492+y*(0.2659732+y*(0.360768e-1+y*0.45813e-2))))\n",
    "    else:\n",
    "        y = 3.75/ax\n",
    "        ans = y*(-0.1647633e-1+y*0.392377e-2)\n",
    "        ans = 0.916281e-2+y*(-0.2057706e-1+y*(0.2635537e-1+ans))\n",
    "        ans = 0.225319e-2+y*(-0.157565e-2+y*ans)\n",
    "        ans = 0.39894228+y*(0.1328592e-1+y*ans)\n",
    "        ans *= (exp(ax)/sqrt(ax))\n",
    "    return ans\n",
    "        \n",
    "cdef double bessk0(double x):\n",
    "    cdef double y, ans\n",
    "    if x <= 2.:\n",
    "        y = x*x/4.0\n",
    "        ans=(-log(x/2.0)*bessi0(x))+(-0.57721566+y*(0.42278420+\\\n",
    "            y*(0.23069756+y*(0.3488590e-1+y*(0.262698e-2+\\\n",
    "            y*(0.10750e-3+y*0.74e-5))))))\n",
    "    else:\n",
    "        y=2./x\n",
    "        ans=(exp(-x)/sqrt(x))*(1.25331414+y*(-0.7832358e-1+\\\n",
    "            y*(0.2189568e-1+y*(-0.1062446e-1+y*(0.587872e-2+\\\n",
    "            y*(-0.251540e-2+y*0.53208e-3))))))\n",
    "    return ans\n",
    "\n",
    "def F1(u, yd, ywd, yed):\n",
    "    sum_ = 0\n",
    "    su = np.sqrt(u)\n",
    "    u_sexp = sexp(su, yed)\n",
    "    ans = np.exp(-su*(2*yed-(yd+ywd))) + np.exp(-su*(yd+ywd)) + np.exp(-su*(2*yed-np.abs(yd-ywd))) +\\\n",
    "            np.exp(-su*np.abs(yd-ywd))\n",
    "    ans *= (1+u_sexp)/su\n",
    "    return ans\n",
    "\n",
    "def iF1(x1, x2, u, yd, ywd, yed):\n",
    "    return (x2-x1)*F1(u, yd, ywd, yed)\n",
    "\n",
    "def F2E(buf, u, ksid, ksiwd, ksied, ksiede, a, yd, ywd, yed):\n",
    "    EPS = 1e-12\n",
    "    blk_size = 10\n",
    "    MAXITER = 100\n",
    "    TINY = 1e-12\n",
    "    mshape = ksid.shape\n",
    "    assert ksiwd.shape == yd.shape == ywd.shape == mshape\n",
    "    sum_ = np.zeros(mshape, dtype=np.double)\n",
    "    for i in range(1, MAXITER):\n",
    "        d = np.zeros(mshape, dtype=np.double)\n",
    "        for k in range(i*blk_size, (i+1)*blk_size):\n",
    "            d += F2E_k(k, buf, u, ksid, ksiwd, ksied, ksiede, a, yd, ywd, yed)\n",
    "        sum_ += d\n",
    "        if np.linalg.norm(d) < EPS*(np.linalg.norm(sum_)+TINY):\n",
    "            return sum_\n",
    "            \n",
    "def F2E_k(k, buf, u, ksid, ksiwd, ksied, ksiede, a, yd, ywd, yed):\n",
    "    if buf is None:\n",
    "        yd_ywd = np.abs(yd-ywd)\n",
    "        _yed_yd_ywd = 2*yed - yd_ywd\n",
    "        yd_p_ywd = yd+ywd\n",
    "        _yed_yd_p_ywd = 2*yed-yd_p_ywd\n",
    "        a_ksid = np.pi*ksid/ksied\n",
    "        a_ksiwd = np.pi*ksiwd/ksied\n",
    "        buf = (a_ksid, a_ksiwd, yd_ywd, _yed_yd_ywd, yd_p_ywd, _yed_yd_p_ywd)\n",
    "    else:\n",
    "        a_ksid, a_ksiwd, yd_ywd, _yed_yd_ywd, yd_p_ywd, _yed_yd_p_ywd = buf\n",
    "    ek = np.sqrt(u+np.square(k*np.pi/ksiede)+np.square(a))\n",
    "    ek_sexp = sexp(ek, yed)\n",
    "    ans = np.cos(k*a_ksid)*np.cos(k*a_ksiwd)/ek\n",
    "    ans *= np.exp(-ek*_yed_yd_ywd)*(1+ek_sexp)+np.exp(-ek*yd_ywd)*ek_sexp +\\\n",
    "            (np.exp(-ek*_yed_yd_p_ywd)+np.exp(-ek*yd_p_ywd))*(1+ek_sexp)\n",
    "    return ans\n",
    "\n",
    "def iF2E(buf, x1, x2, u, ksid, ksiwd, ksied, ksiede, a, yd, ywd, yed):\n",
    "    EPS = 1e-12\n",
    "    blk_size = 10\n",
    "    MAXITER = 100\n",
    "    mshape = ksid.shape\n",
    "    sum_ = np.zeros(mshape, dtype=np.double)\n",
    "    for i in range(MAXITER):\n",
    "        d = np.zeros(mshape, dtype=np.double)\n",
    "        for k in range(1+i*blk_size, 1+(i+1)*blk_size):\n",
    "            d += iF2E_k(k, buf, x1, x2, u, ksid, ksiwd, ksied, ksiede, a, yd, ywd, yed)\n",
    "        sum_ += d\n",
    "        if np.linalg.norm(d) < EPS*np.linalg.norm(sum_):\n",
    "            return sum_\n",
    "    return sum_\n",
    "        \n",
    "def iF2E_k(k, buf, x1, x2, u, ksid, ksiwd, ksied, ksiede, a, yd, ywd, yed):\n",
    "    yd_ywd = np.abs(yd-ywd)\n",
    "    _yed_yd_ywd = 2*yed - yd_ywd\n",
    "    yd_p_ywd = yd+ywd\n",
    "    _yed_yd_p_ywd = 2*yed-yd_p_ywd\n",
    "    a_ksid = np.pi*ksid/ksied\n",
    "    a_ksiwd = np.pi*ksiwd/ksied\n",
    "    ek = np.sqrt(u+np.square(k*np.pi/ksiede)+np.square(a))\n",
    "    ek_sexp = sexp(ek, yed)\n",
    "    pi=np.pi\n",
    "    ans = ksied*np.cos(k*a_ksid)/(np.pi*k*ek)\n",
    "    ans *= (np.sin(k*pi/ksied*(ksiwd+x2))-np.sin(k*pi/ksied*(ksiwd+x1)))\n",
    "    ans *= np.exp(-ek*_yed_yd_ywd)*(1+ek_sexp)+np.exp(-ek*yd_ywd)*ek_sexp +\\\n",
    "           (np.exp(-ek*_yed_yd_p_ywd)+np.exp(-ek*yd_p_ywd))*(1+ek_sexp)\n",
    "    return ans\n",
    "\n",
    "def i1F2H(buf_yd0, buf_yd_nnz, x1, x2, u, ksid, ksiwd, ksied, ksiede, a, yd, ywd):\n",
    "    mshape = x1.shape\n",
    "    assert x2.shape == mshape\n",
    "    sum_ = i1F2Hk(buf_yd0, buf_yd_nnz, 0, 1, x1, x2, u, ksid, ksiwd, ksied, ksiede, a, yd, ywd)\n",
    "    sum_ += i1F2Hk(buf_yd0, buf_yd_nnz, 0, -1, x1, x2, u, ksid, ksiwd, ksied, ksiede, a, yd, ywd)\n",
    "    EPS = 1e-12\n",
    "    blk_size = 3\n",
    "    MAXITER = 100\n",
    "    for i in range(MAXITER):\n",
    "        d = np.zeros(mshape, dtype = np.double)\n",
    "        for k in range(1+i*blk_size, 1+(i+1)*blk_size):\n",
    "            d+= i1F2Hk(buf_yd0, buf_yd_nnz, k, 1, x1, x2, u, ksid, ksiwd, ksied, ksiede, a, yd, ywd)\n",
    "            d+= i1F2Hk(buf_yd0, buf_yd_nnz, -k, 1, x1, x2, u, ksid, ksiwd, ksied, ksiede, a, yd, ywd)\n",
    "            d+= i1F2Hk(buf_yd0, buf_yd_nnz, k, -1, x1, x2, u, ksid, ksiwd, ksied, ksiede, a, yd, ywd)\n",
    "            d+= i1F2Hk(buf_yd0, buf_yd_nnz, -k, -1, x1, x2, u, ksid, ksiwd, ksied, ksiede, a, yd, ywd)\n",
    "        sum_ += d\n",
    "        if np.linalg.norm(d) < EPS*np.linalg.norm(sum_):\n",
    "            return sum_\n",
    "\n",
    "def i1F2Hk(buf_yd0, buf_yd_nnz, k, b, x1, x2, u, ksid, ksiwd, ksied, ksiede, a, yd, ywd):\n",
    "    NDIGITS = 6\n",
    "    mshape = x1.shape\n",
    "    assert x2.shape == mshape\n",
    "    m = np.zeros(mshape, dtype=np.double)\n",
    "    inds_dyd0 = np.isclose(yd,ywd)\n",
    "    inds_dyd_nnz = np.logical_not(inds_dyd0)\n",
    "    su = np.sqrt(u+np.square(a))\n",
    "    if np.any(inds_dyd0):\n",
    "        if str(k)+str(b) not in buf_yd0.keys():\n",
    "            t1 = ksiede*((ksiwd[inds_dyd0]+x1[inds_dyd0])/ksied+b*ksid[inds_dyd0]/ksied-2*k)\n",
    "            t2 = ksiede*((ksiwd[inds_dyd0]+x2[inds_dyd0])/ksied+b*ksid[inds_dyd0]/ksied-2*k)\n",
    "            mask1 = np.ones_like(t1) - 2*(t1>0)\n",
    "            mask2 = np.ones_like(t1) - 2*(t2<0)\n",
    "            t1 = np.round(np.abs(t1), decimals=NDIGITS).flatten()\n",
    "            t2 = np.round(np.abs(t2), decimals=NDIGITS).flatten()\n",
    "            nt = len(t1)\n",
    "            t = np.append(t1,t2)\n",
    "            ut, inv_t = np.unique(t, return_inverse=True)\n",
    "            buf_yd0[str(k)+str(b)] = (ut, inv_t, nt, mask1, mask2)\n",
    "        else:\n",
    "            ut, inv_t, nt, mask1, mask2 = buf_yd0[str(k)+str(b)]\n",
    "        uv = ksied/ksiede/su*iti0k0(ut*su)[1]\n",
    "        v = uv[inv_t]\n",
    "        v1 = v[:nt]\n",
    "        v2 = v[nt:]\n",
    "        m[inds_dyd0] = v1*mask1+v2*mask2\n",
    "    if np.any(inds_dyd_nnz):\n",
    "        if str(k)+str(b) not in buf_yd_nnz.keys():\n",
    "            t1 = ksiede*((ksiwd[inds_dyd_nnz]+x1[inds_dyd_nnz])/ksied+b*ksid[inds_dyd_nnz]/ksied-2*k)\n",
    "            t2 = ksiede*((ksiwd[inds_dyd_nnz]+x2[inds_dyd_nnz])/ksied+b*ksid[inds_dyd_nnz]/ksied-2*k)\n",
    "            dyd = np.round(np.abs(yd-ywd)[inds_dyd_nnz], decimals=NDIGITS).flatten()\n",
    "            t1 = np.round(t1, decimals=NDIGITS).flatten()\n",
    "            t2 = np.round(t2, decimals=NDIGITS).flatten()\n",
    "            t = np.vstack([t1,t2]).T\n",
    "            t = np.sort(t, axis=1)\n",
    "            #print(t.shape)\n",
    "            #print(dyd[np.newaxis].T.shape)\n",
    "            t = np.hstack([t,dyd[np.newaxis].T])\n",
    "            ut, inv_t = np.unique(t, axis=0, return_inverse=True)\n",
    "            buf_yd_nnz[str(k)+str(b)] = (ut, inv_t)\n",
    "        else:\n",
    "            (ut, inv_t) = buf_yd_nnz[str(k)+str(b)]\n",
    "        g = lambda x: ksied/ksiede*(quad(m_bessk0, x[0], x[1], args=(x[2], su))[0])\n",
    "        uv = np.apply_along_axis(g, 1, ut).flatten()\n",
    "        m[inds_dyd_nnz] = uv[inv_t]\n",
    "    return m\n",
    "\n",
    "def m_bessk0(x, dyd, su):\n",
    "    return k0(su*np.sqrt(np.square(x)+np.square(dyd)))\n",
    "\n",
    "def i2F2H(x1,x2,u,a,yd,ywd):\n",
    "    su = np.sqrt(u+a*a)\n",
    "    return -0.5*np.exp(-su*np.abs(yd-ywd))/su*(x2-x1)\n",
    "\n",
    "def matr_pd_frac_nnnn(u, x1, x2, xd, xwd, xed, yd, ywd, yed):\n",
    "    pi = np.pi\n",
    "    buf_if2e = None\n",
    "    buf_yd0, buf_yd_nnz = {}, {}\n",
    "    ans = pi/xed*(0*0.5*iF1(x1, x2, u, yd, ywd, yed)+\\\n",
    "                  1*iF2E(buf_if2e, x1, x2, u, xd, xwd, xed, xed, 0, yd, ywd, yed)+\\\n",
    "                  0*0.5*xed/pi*i1F2H(buf_yd0, buf_yd_nnz, x1, x2, u, xd, xwd, xed, xed, 0, yd, ywd)+\\\n",
    "                  0*i2F2H(x1,x2,u,0,yd,ywd))\n",
    "    return ans\n",
    "    "
   ]
  },
  {
   "cell_type": "code",
   "execution_count": 137,
   "metadata": {},
   "outputs": [],
   "source": [
    "import numpy as np\n",
    "import matplotlib.pyplot as plt\n",
    "%matplotlib inline\n",
    "from scipy.special import iti0k0, k0\n",
    "from scipy.integrate import quad\n",
    "from scipy.integrate import fixed_quad\n",
    "\n",
    "def sexp(e_, yed):\n",
    "    TINY = 1e-20\n",
    "    EPS = 1e-9\n",
    "    MAXITER = 10000\n",
    "    BLK_SIZE = 100\n",
    "    if isinstance(e_, np.ndarray):\n",
    "        e = e_.flatten().reshape(-1,1)\n",
    "        sum_ = np.zeros_like(e_.flatten())\n",
    "    else:\n",
    "        e = e_\n",
    "        sum_ = 0\n",
    "    for i in range(MAXITER):\n",
    "        m = np.arange(1+i*BLK_SIZE, 1+(i+1)*BLK_SIZE)\n",
    "        d = np.sum(np.exp(-2*m*yed*e), axis=-1)\n",
    "        sum_ += d\n",
    "        if np.all(d < sum_*EPS) or np.all(sum_<TINY):\n",
    "            return sum_\n",
    "    return sum_\n",
    "\n",
    "def F1(u, yd, ywd, yed):\n",
    "    sum_ = 0\n",
    "    su = np.sqrt(u)\n",
    "    u_sexp = sexp(su, yed)\n",
    "    ans = np.exp(-su*(2*yed-(yd+ywd))) + np.exp(-su*(yd+ywd)) + np.exp(-su*(2*yed-np.abs(yd-ywd))) +\\\n",
    "            np.exp(-su*np.abs(yd-ywd))\n",
    "    ans *= (1+u_sexp)/su\n",
    "    return ans\n",
    "\n",
    "def iF1(x1, x2, u, yd, ywd, yed):\n",
    "    return (x2-x1)*F1(u, yd, ywd, yed)\n",
    "\n",
    "def iF2E(x1, x2, u, ksid, ksiwd, ksied, ksiede, a, yd, ywd, yed):\n",
    "    EPS = 1e-12\n",
    "    TINY = 1e-20\n",
    "    blk_size = 10\n",
    "    MAXITER = 1000\n",
    "    mshape = ksid.shape\n",
    "    sum_ = np.zeros(mshape, dtype=np.double)\n",
    "    buf = []\n",
    "    for i in range(MAXITER):\n",
    "        d = np.zeros(mshape, dtype=np.double)\n",
    "        k = np.arange(1+i*blk_size, 1+(i+1)*blk_size)\n",
    "        d = np.sum(iF2Ek(k, buf, x1, x2, u, ksid, ksiwd, ksied, ksiede, a, yd, ywd, yed), axis=0)\n",
    "        sum_ += d\n",
    "        ns = np.linalg.norm(sum_) \n",
    "        if np.linalg.norm(d) < EPS*ns or ns < TINY :\n",
    "            return sum_\n",
    "    return sum_\n",
    "        \n",
    "def iF2Ek(k_, buf, x1, x2, u, ksid, ksiwd, ksied, ksiede, a, yd, ywd, yed):\n",
    "    pi = np.pi\n",
    "    if len(buf)==0:\n",
    "        argx1 = pi*ksid/ksied\n",
    "        argx2 = 0.5*pi/ksied*(x2-x1)\n",
    "        argx3 = 0.5*pi/ksied*(2*ksiwd+x1+x2)\n",
    "        argy1 = 2*yed-(yd+ywd)\n",
    "        argy2 = yd+ywd\n",
    "        argy3 = 2*yed - np.abs(yd-ywd)\n",
    "        argy4 = np.abs(yd-ywd)\n",
    "        buf = argx1, argx2, argx3, argy1, argy2, argy3, argy4\n",
    "    elif len(buf) == 7:\n",
    "        argx1, argx2, argx3, argy1, argy2, argy3, argy4 = buf\n",
    "    else:\n",
    "        raise RuntimeError(\"There is a problem with buffer in iF2Ek\")\n",
    "    ek_ = np.sqrt(u+np.square(k_*np.pi/ksiede)+np.square(a))\n",
    "    _sexp_ = sexp(ek_, yed)\n",
    "    if isinstance(k_, np.ndarray):\n",
    "        _sexp_ = _sexp_.reshape(-1,1,1)\n",
    "        k = k_.reshape(-1,1,1)\n",
    "        ek = ek_.reshape(-1,1,1)\n",
    "    else:\n",
    "        k = k_\n",
    "        ek = ek_\n",
    "    ans = 2.*ksied/(pi*k*ek)*np.cos(k*argx1)*np.sin(k*argx2)*np.cos(k*argx3)\n",
    "    ans *= (1+_sexp_)*(np.exp(-ek*argy1)+np.exp(-ek*argy2)+np.exp(-ek*argy3))+_sexp_*np.exp(-ek*argy4)\n",
    "    return ans\n",
    "\n",
    "def i1F2H(buf_yd0, buf_yd_nnz, x1, x2, u, ksid, ksiwd, ksied, ksiede, a, yd, ywd):\n",
    "    mshape = x1.shape\n",
    "    assert x2.shape == mshape\n",
    "    sum_ = i1F2Hk(buf_yd0, buf_yd_nnz, 0, 1, x1, x2, u, ksid, ksiwd, ksied, ksiede, a, yd, ywd)\n",
    "    sum_ += i1F2Hk(buf_yd0, buf_yd_nnz, 0, -1, x1, x2, u, ksid, ksiwd, ksied, ksiede, a, yd, ywd)\n",
    "    EPS = 1e-12\n",
    "    blk_size = 3\n",
    "    MAXITER = 100\n",
    "    for i in range(MAXITER):\n",
    "        d = np.zeros(mshape, dtype = np.double)\n",
    "        for k in range(1+i*blk_size, 1+(i+1)*blk_size):\n",
    "            d+= i1F2Hk(buf_yd0, buf_yd_nnz, k, 1, x1, x2, u, ksid, ksiwd, ksied, ksiede, a, yd, ywd)\n",
    "            d+= i1F2Hk(buf_yd0, buf_yd_nnz, -k, 1, x1, x2, u, ksid, ksiwd, ksied, ksiede, a, yd, ywd)\n",
    "            d+= i1F2Hk(buf_yd0, buf_yd_nnz, k, -1, x1, x2, u, ksid, ksiwd, ksied, ksiede, a, yd, ywd)\n",
    "            d+= i1F2Hk(buf_yd0, buf_yd_nnz, -k, -1, x1, x2, u, ksid, ksiwd, ksied, ksiede, a, yd, ywd)\n",
    "        sum_ += d\n",
    "        if np.linalg.norm(d) < EPS*np.linalg.norm(sum_):\n",
    "            return sum_\n",
    "\n",
    "def i1F2Hk(buf_yd0, buf_yd_nnz, k, b, x1, x2, u, ksid, ksiwd, ksied, ksiede, a, yd, ywd):\n",
    "    NDIGITS = 6\n",
    "    mshape = x1.shape\n",
    "    assert x2.shape == mshape\n",
    "    m = np.zeros(mshape, dtype=np.double)\n",
    "    inds_dyd0 = np.isclose(yd,ywd)\n",
    "    inds_dyd_nnz = np.logical_not(inds_dyd0)\n",
    "    su = np.sqrt(u+np.square(a))\n",
    "    if np.any(inds_dyd0):\n",
    "        if str(k)+str(b) not in buf_yd0.keys():\n",
    "            t1 = ksiede*((ksiwd[inds_dyd0]+x1[inds_dyd0])/ksied+b*ksid[inds_dyd0]/ksied-2*k)\n",
    "            t2 = ksiede*((ksiwd[inds_dyd0]+x2[inds_dyd0])/ksied+b*ksid[inds_dyd0]/ksied-2*k)\n",
    "            mask1 = np.ones_like(t1) - 2*(t1>0)\n",
    "            mask2 = np.ones_like(t1) - 2*(t2<0)\n",
    "            t1 = np.round(np.abs(t1), decimals=NDIGITS).flatten()\n",
    "            t2 = np.round(np.abs(t2), decimals=NDIGITS).flatten()\n",
    "            nt = len(t1)\n",
    "            t = np.append(t1,t2)\n",
    "            ut, inv_t = np.unique(t, return_inverse=True)\n",
    "            buf_yd0[str(k)+str(b)] = (ut, inv_t, nt, mask1, mask2)\n",
    "        else:\n",
    "            ut, inv_t, nt, mask1, mask2 = buf_yd0[str(k)+str(b)]\n",
    "        uv = ksied/ksiede/su*iti0k0(ut*su)[1]\n",
    "        v = uv[inv_t]\n",
    "        v1 = v[:nt]\n",
    "        v2 = v[nt:]\n",
    "        m[inds_dyd0] = v1*mask1+v2*mask2\n",
    "    if np.any(inds_dyd_nnz):\n",
    "        if str(k)+str(b) not in buf_yd_nnz.keys():\n",
    "            t1 = ksiede*((ksiwd[inds_dyd_nnz]+x1[inds_dyd_nnz])/ksied+b*ksid[inds_dyd_nnz]/ksied-2*k)\n",
    "            t2 = ksiede*((ksiwd[inds_dyd_nnz]+x2[inds_dyd_nnz])/ksied+b*ksid[inds_dyd_nnz]/ksied-2*k)\n",
    "            dyd = np.round(np.abs(yd-ywd)[inds_dyd_nnz], decimals=NDIGITS).flatten()\n",
    "            t1 = np.round(t1, decimals=NDIGITS).flatten()\n",
    "            t2 = np.round(t2, decimals=NDIGITS).flatten()\n",
    "            t = np.vstack([t1,t2]).T\n",
    "            t = np.sort(t, axis=1)\n",
    "            t = np.hstack([t,dyd[np.newaxis].T])\n",
    "            ut, inv_t = np.unique(t, axis=0, return_inverse=True)\n",
    "            buf_yd_nnz[str(k)+str(b)] = (ut, inv_t)\n",
    "        else:\n",
    "            (ut, inv_t) = buf_yd_nnz[str(k)+str(b)]\n",
    "        g = lambda x: ksied/ksiede*(fixed_quad(m_bessk0, x[0], x[1], args=(x[2], su))[0])\n",
    "        uv = np.apply_along_axis(g, 1, ut).flatten()\n",
    "        m[inds_dyd_nnz] = uv[inv_t]\n",
    "    return m\n",
    "\n",
    "def m_bessk0(x, dyd, su):\n",
    "    return k0(su*np.sqrt(np.square(x)+np.square(dyd)))\n",
    "\n",
    "def i2F2H(x1,x2,u,a,yd,ywd):\n",
    "    su = np.sqrt(u+a*a)\n",
    "    return -0.5*np.exp(-su*np.abs(yd-ywd))/su*(x2-x1)\n",
    "\n",
    "def matr_pd_frac_nnnn(u, x1, x2, xd, xwd, xed, yd, ywd, yed):\n",
    "    pi = np.pi\n",
    "    buf_if2e = None\n",
    "    buf_yd0, buf_yd_nnz = {}, {}\n",
    "    ans = pi/xed*(0.5*iF1(x1, x2, u, yd, ywd, yed)+\\\n",
    "                  iF2E(buf_if2e, x1, x2, u, xd, xwd, xed, xed, 0, yd, ywd, yed)+\\\n",
    "                  0.5*xed/pi*i1F2H(buf_yd0, buf_yd_nnz, x1, x2, u, xd, xwd, xed, xed, 0, yd, ywd)+\\\n",
    "                  i2F2H(x1,x2,u,0,yd,ywd))\n",
    "    return ans"
   ]
  },
  {
   "cell_type": "markdown",
   "metadata": {},
   "source": [
    "# Test for single frac"
   ]
  },
  {
   "cell_type": "code",
   "execution_count": 70,
   "metadata": {},
   "outputs": [],
   "source": [
    "N = 20\n",
    "nwells = 1\n",
    "xwds = [xed/2]\n",
    "ywds = [yed/2]\n",
    "xed = 10\n",
    "xwd_ = xed/2\n",
    "yed = 10\n",
    "ywd_ = yed/2\n",
    "xd = np.tile(np.linspace(xwd_-1+0.5/N, xwd_+1-0.5/N, 2*N).reshape(-1,1), (1,2*N))\n",
    "xwd = xwd_*np.ones_like(xd)\n",
    "x1 = np.tile(np.arange(-N,N)/N, (2*N,1))\n",
    "x2 = x1 + 1/N\n",
    "yd = ywd_*np.ones_like(xd)\n",
    "ywd = ywd_*np.ones_like(xd)\n",
    "\n",
    "from new_struct.lapl_well import LaplWell\n",
    "from new_struct.integrator import integrate_sources_for_green_matrix\n",
    "outer_bound = \"nnnn\"\n",
    "top_bound = \"imp\"\n",
    "bottom_bound = \"imp\"\n",
    "wtype = \"frac\"\n",
    "attrs = {\"Fcd\": 10}\n",
    "lwell = LaplWell(outer_bound, top_bound, bottom_bound,\n",
    "        wtype, N, nwells, xwds=xwds, ywds=ywds, x_lengths = 1,\n",
    "        xed = xed, yed = yed, zwds = None, hd = 0, attrs = attrs)\n",
    "xis, xjs, xj1s, yws, yds, zws, zds = lwell.matrixizer.raw\n",
    "\n",
    "from new_struct.integrators.frac_nnnn import *\n",
    "lwell.matrixizer.make_matr_for_fb_1_2_nnnn(lwell.sources_)\n",
    "arg_x_0, arg_x_1, arg_x_2, arg_x_3, arg_y_1, arg_y_2, arg_y_3, arg_y_4 = lwell.matrixizer.m_cache[\"fb_1_2_nnnn\"]"
   ]
  },
  {
   "cell_type": "code",
   "execution_count": 76,
   "metadata": {},
   "outputs": [
    {
     "data": {
      "text/plain": [
       "False"
      ]
     },
     "execution_count": 76,
     "metadata": {},
     "output_type": "execute_result"
    }
   ],
   "source": [
    "u = 0.1\n",
    "buf = []\n",
    "m1 = np.pi/xed*iF2E(x1, x2, u, xd, xwd, xed, xed, 0, yd, ywd, yed)\n",
    "m2 = ifb2(u, arg_x_1, arg_x_2, arg_x_3, arg_y_1, arg_y_2, arg_y_3, arg_y_4, xed, yed)\n",
    "np.allclose(m1,m2)"
   ]
  },
  {
   "cell_type": "code",
   "execution_count": 77,
   "metadata": {},
   "outputs": [
    {
     "name": "stdout",
     "output_type": "stream",
     "text": [
      "1.03 ms ± 41.1 µs per loop (mean ± std. dev. of 10 runs, 10 loops each)\n",
      "4.62 ms ± 16.9 µs per loop (mean ± std. dev. of 10 runs, 10 loops each)\n"
     ]
    }
   ],
   "source": [
    "%timeit -n10 -r10 np.pi/xed*iF2E(x1, x2, u, xd, xwd, xed, xed, 0, yd, ywd, yed)\n",
    "%timeit -n10 -r10 ifb2(u, arg_x_1, arg_x_2, arg_x_3, arg_y_1, arg_y_2, arg_y_3, arg_y_4, xed, yed)"
   ]
  },
  {
   "cell_type": "code",
   "execution_count": 79,
   "metadata": {},
   "outputs": [
    {
     "name": "stdout",
     "output_type": "stream",
     "text": [
      "True\n",
      "160 µs ± 13.7 µs per loop (mean ± std. dev. of 10 runs, 10 loops each)\n",
      "123 µs ± 6.06 µs per loop (mean ± std. dev. of 10 runs, 10 loops each)\n"
     ]
    }
   ],
   "source": [
    "m1 = 0.5*np.pi/xed*iF1(x1, x2, u, yd, ywd, yed)\n",
    "m2 = ifb1(u, arg_x_0, arg_y_1, arg_y_2, arg_y_3, arg_y_4, xed, yed)\n",
    "print(np.allclose(m1,m2))\n",
    "%timeit -n10 -r10 0.5*np.pi/xed*iF1(x1, x2, u, yd, ywd, yed)\n",
    "%timeit -n10 -r10 ifb1(u, arg_x_0, arg_y_1, arg_y_2, arg_y_3, arg_y_4, xed, yed)"
   ]
  },
  {
   "cell_type": "code",
   "execution_count": 84,
   "metadata": {},
   "outputs": [
    {
     "name": "stdout",
     "output_type": "stream",
     "text": [
      "True\n",
      "3.08 ms ± 18.8 µs per loop (mean ± std. dev. of 10 runs, 10 loops each)\n",
      "1.05 ms ± 16.8 µs per loop (mean ± std. dev. of 10 runs, 10 loops each)\n"
     ]
    }
   ],
   "source": [
    "buf_yd0 = {}\n",
    "buf_yd_nnz = {}\n",
    "m1 = 0.5*i1F2H(buf_yd0, buf_yd_nnz, x1, x2, u, xd, xwd, xed, xed, 0, yd, ywd)\n",
    "m2 = ifb3_1(u, lwell.matrixizer, lwell.sources_)\n",
    "print(np.allclose(m1,m2))\n",
    "%timeit -n10 -r10 0.5*i1F2H(buf_yd0, buf_yd_nnz, x1, x2, u, xd, xwd, xed, xed, 0, yd, ywd)\n",
    "%timeit -n10 -r10 ifb3_1(u, lwell.matrixizer, lwell.sources_)"
   ]
  },
  {
   "cell_type": "code",
   "execution_count": 89,
   "metadata": {},
   "outputs": [
    {
     "name": "stdout",
     "output_type": "stream",
     "text": [
      "True\n",
      "26.4 µs ± 7.31 µs per loop (mean ± std. dev. of 10 runs, 10 loops each)\n",
      "14.6 µs ± 4.21 µs per loop (mean ± std. dev. of 10 runs, 10 loops each)\n"
     ]
    }
   ],
   "source": [
    "m1 = pi/xed*i2F2H(x1,x2,u,0,yd,ywd)\n",
    "m2 = ifb3_2(u, arg_x_0, arg_y_4, xed)\n",
    "print(np.allclose(m1,m2))\n",
    "%timeit -n10 -r10 pi/xed*i2F2H(x1,x2,u,0,yd,ywd)\n",
    "%timeit -n10 -r10 ifb3_2(u, arg_x_0, arg_y_4, xed)"
   ]
  },
  {
   "cell_type": "markdown",
   "metadata": {},
   "source": [
    "### Only iF2E and fb_2 do not coincide. The difference is because in iF2E integration over xwd' while in fb_2 over (xwd-x')"
   ]
  },
  {
   "cell_type": "code",
   "execution_count": 100,
   "metadata": {},
   "outputs": [
    {
     "data": {
      "text/plain": [
       "[<matplotlib.lines.Line2D at 0x7f1c738fa4e0>]"
      ]
     },
     "execution_count": 100,
     "metadata": {},
     "output_type": "execute_result"
    },
    {
     "data": {
      "image/png": "[encoded data removed]",
      "text/plain": [
       "<Figure size 432x288 with 1 Axes>"
      ]
     },
     "metadata": {
      "needs_background": "light"
     },
     "output_type": "display_data"
    }
   ],
   "source": [
    "N = 20\n",
    "nwells = 2\n",
    "xed = 10\n",
    "xwd__ = [xed/2, xed/2]\n",
    "yed = 10\n",
    "ywd__ = [yed/2-1, yed/2+1]\n",
    "xd = np.tile(np.linspace(xwd_-1+0.5/N, xwd_+1-0.5/N, 2*N).reshape(-1,1), (nwells,2*N))\n",
    "xwd = None\n",
    "for xwd_ in xwd__:\n",
    "    if xwd is None:\n",
    "        xwd = xwd_*np.ones((2*N*nwells, 2*N))\n",
    "    else:\n",
    "        xwd = np.hstack([xwd, xwd_*np.ones((2*N*nwells, 2*N))])\n",
    "ywd = None\n",
    "for ywd_ in ywd__:\n",
    "    if ywd is None:\n",
    "        ywd = ywd_*np.ones((2*N*nwells, 2*N))\n",
    "    else:\n",
    "        ywd = np.hstack([ywd, ywd_*np.ones((2*N*nwells, 2*N))])\n",
    "x1 = np.tile(np.arange(-N,N)/N, (2*N,nwells))\n",
    "x2 = x1 + 1/N\n",
    "plt.plot(x1[0])\n",
    "plt.plot(x2[0])"
   ]
  },
  {
   "cell_type": "markdown",
   "metadata": {},
   "source": [
    "# Test for multifrac"
   ]
  },
  {
   "cell_type": "code",
   "execution_count": 111,
   "metadata": {},
   "outputs": [],
   "source": [
    "N = 20\n",
    "nwells = 2\n",
    "xed = 10\n",
    "yed = 10\n",
    "xwds = [xed/2, xed/2]\n",
    "ywds = [yed/2-1, yed/2+1]\n",
    "#init for new well\n",
    "xd = None\n",
    "for xwd_ in xwds:\n",
    "    if xd is None:\n",
    "        xd = np.tile(np.linspace(xwd_-1+0.5/N, xwd_+1-0.5/N, 2*N).reshape(-1,1), (1,2*N*nwells))\n",
    "    else:\n",
    "        xd = np.vstack([xd, np.tile(np.linspace(xwd_-1+0.5/N, xwd_+1-0.5/N, 2*N).reshape(-1,1), (1,2*N*nwells))])\n",
    "xwd = None\n",
    "for xwd_ in xwds:\n",
    "    if xwd is None:\n",
    "        xwd = xwd_*np.ones((2*N*nwells, 2*N))\n",
    "    else:\n",
    "        xwd = np.hstack([xwd, xwd_*np.ones((2*N*nwells, 2*N))])\n",
    "ywd = None\n",
    "for ywd_ in ywds:\n",
    "    if ywd is None:\n",
    "        ywd = ywd_*np.ones((2*N*nwells, 2*N))\n",
    "    else:\n",
    "        ywd = np.hstack([ywd, ywd_*np.ones((2*N*nwells, 2*N))])\n",
    "yd = ywd.T\n",
    "        \n",
    "x1 = np.tile(np.arange(-N,N)/N, (2*N*nwells,nwells))\n",
    "x2 = x1 + 1/N\n",
    "\n",
    "#init for old well\n",
    "from new_struct.lapl_well import LaplWell\n",
    "from new_struct.integrator import integrate_sources_for_green_matrix\n",
    "outer_bound = \"nnnn\"\n",
    "top_bound = \"imp\"\n",
    "bottom_bound = \"imp\"\n",
    "wtype = \"frac\"\n",
    "attrs = {\"Fcd\": 10}\n",
    "lwell = LaplWell(outer_bound, top_bound, bottom_bound,\n",
    "        wtype, N, nwells, xwds=xwds, ywds=ywds, x_lengths = 1,\n",
    "        xed = xed, yed = yed, zwds = None, hd = 0, attrs = attrs)\n",
    "xis, xjs, xj1s, yws, yds, zws, zds = lwell.matrixizer.raw\n",
    "from new_struct.integrators.frac_nnnn import *\n",
    "lwell.matrixizer.make_matr_for_fb_1_2_nnnn(lwell.sources_)\n",
    "arg_x_0, arg_x_1, arg_x_2, arg_x_3, arg_y_1, arg_y_2, arg_y_3, arg_y_4 = lwell.matrixizer.m_cache[\"fb_1_2_nnnn\"]"
   ]
  },
  {
   "cell_type": "code",
   "execution_count": 113,
   "metadata": {},
   "outputs": [
    {
     "name": "stdout",
     "output_type": "stream",
     "text": [
      "True\n",
      "489 µs ± 12.8 µs per loop (mean ± std. dev. of 10 runs, 10 loops each)\n",
      "409 µs ± 8.37 µs per loop (mean ± std. dev. of 10 runs, 10 loops each)\n"
     ]
    }
   ],
   "source": [
    "m1 = 0.5*np.pi/xed*iF1(x1, x2, u, yd, ywd, yed)\n",
    "m2 = ifb1(u, arg_x_0, arg_y_1, arg_y_2, arg_y_3, arg_y_4, xed, yed)\n",
    "print(np.allclose(m1,m2))\n",
    "%timeit -n10 -r10 0.5*np.pi/xed*iF1(x1, x2, u, yd, ywd, yed)\n",
    "%timeit -n10 -r10 ifb1(u, arg_x_0, arg_y_1, arg_y_2, arg_y_3, arg_y_4, xed, yed)"
   ]
  },
  {
   "cell_type": "code",
   "execution_count": 114,
   "metadata": {},
   "outputs": [
    {
     "data": {
      "text/plain": [
       "False"
      ]
     },
     "execution_count": 114,
     "metadata": {},
     "output_type": "execute_result"
    }
   ],
   "source": [
    "u = 0.1\n",
    "buf = []\n",
    "m1 = np.pi/xed*iF2E(x1, x2, u, xd, xwd, xed, xed, 0, yd, ywd, yed)\n",
    "m2 = ifb2(u, arg_x_1, arg_x_2, arg_x_3, arg_y_1, arg_y_2, arg_y_3, arg_y_4, xed, yed)\n",
    "np.allclose(m1,m2)"
   ]
  },
  {
   "cell_type": "code",
   "execution_count": 138,
   "metadata": {},
   "outputs": [
    {
     "name": "stdout",
     "output_type": "stream",
     "text": [
      "True\n",
      "69.3 ms ± 1.12 ms per loop (mean ± std. dev. of 10 runs, 10 loops each)\n",
      "75.8 ms ± 74.4 µs per loop (mean ± std. dev. of 10 runs, 10 loops each)\n"
     ]
    }
   ],
   "source": [
    "buf_yd0 = {}\n",
    "buf_yd_nnz = {}\n",
    "m1 = 0.5*i1F2H(buf_yd0, buf_yd_nnz, x1, x2, u, xd, xwd, xed, xed, 0, yd, ywd)\n",
    "m2 = ifb3_1(u, lwell.matrixizer, lwell.sources_)\n",
    "print(np.allclose(m1,m2))\n",
    "%timeit -n10 -r10 0.5*i1F2H(buf_yd0, buf_yd_nnz, x1, x2, u, xd, xwd, xed, xed, 0, yd, ywd)\n",
    "%timeit -n10 -r10 ifb3_1(u, lwell.matrixizer, lwell.sources_)"
   ]
  },
  {
   "cell_type": "code",
   "execution_count": 119,
   "metadata": {},
   "outputs": [
    {
     "name": "stdout",
     "output_type": "stream",
     "text": [
      "True\n",
      "103 µs ± 9.78 µs per loop (mean ± std. dev. of 10 runs, 10 loops each)\n",
      "73.6 µs ± 845 ns per loop (mean ± std. dev. of 10 runs, 10 loops each)\n"
     ]
    }
   ],
   "source": [
    "m1 = pi/xed*i2F2H(x1,x2,u,0,yd,ywd)\n",
    "m2 = ifb3_2(u, arg_x_0, arg_y_4, xed)\n",
    "print(np.allclose(m1,m2))\n",
    "%timeit -n10 -r10 pi/xed*i2F2H(x1,x2,u,0,yd,ywd)\n",
    "%timeit -n10 -r10 ifb3_2(u, arg_x_0, arg_y_4, xed)"
   ]
  },
  {
   "cell_type": "markdown",
   "metadata": {},
   "source": [
    "## The same result for multifrac"
   ]
  }
 ],
 "metadata": {
  "kernelspec": {
   "display_name": "Python 3",
   "language": "python",
   "name": "python3"
  },
  "language_info": {
   "codemirror_mode": {
    "name": "ipython",
    "version": 3
   },
   "file_extension": ".py",
   "mimetype": "text/x-python",
   "name": "python",
   "nbconvert_exporter": "python",
   "pygments_lexer": "ipython3",
   "version": "3.7.3"
  }
 },
 "nbformat": 4,
 "nbformat_minor": 2
}
