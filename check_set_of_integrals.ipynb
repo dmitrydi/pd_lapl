{
 "cells": [
  {
   "cell_type": "markdown",
   "metadata": {},
   "source": [
    "### Here I'm trying to check necessary number of integrals"
   ]
  },
  {
   "cell_type": "code",
   "execution_count": 1,
   "metadata": {
    "collapsed": true
   },
   "outputs": [],
   "source": [
    "import numpy as np\n",
    "from source_helper import *\n",
    "import matplotlib.pyplot as plt\n",
    "% matplotlib inline\n",
    "from time import time\n",
    "from lapl_well import LaplWell\n",
    "from helper import Helper\n",
    "from well import Well\n",
    "import pandas as pd"
   ]
  },
  {
   "cell_type": "code",
   "execution_count": 2,
   "metadata": {},
   "outputs": [],
   "source": [
    "# define a well in real space\n",
    "xwd = 0.\n",
    "ywd = 0.\n",
    "outer_bound = \"infinite\"\n",
    "top_bound = \"imp\"\n",
    "bottom_bound = \"imp\"\n",
    "wtype = \"frac\"\n",
    "n_stehf = 12\n",
    "params = {\"nseg\": 20, \"kx\": 1., \"ky\": 1., \"kz\": 1., \"omega\": 1, \"lambda\": 1, \"Fcd\":10, \"ref_length\":1.,\n",
    "         \"z_ref_length\": 1}\n",
    "real_well = Well(xwd, ywd, outer_bound, top_bound, bottom_bound, wtype, params, n_stehf)\n",
    "well = real_well.lapl_well"
   ]
  },
  {
   "cell_type": "code",
   "execution_count": 3,
   "metadata": {
    "collapsed": true
   },
   "outputs": [],
   "source": [
    "helper = Helper()"
   ]
  },
  {
   "cell_type": "code",
   "execution_count": 25,
   "metadata": {},
   "outputs": [],
   "source": [
    "h_lims, h_ulims = helper.get_limits(well)"
   ]
  },
  {
   "cell_type": "code",
   "execution_count": 30,
   "metadata": {},
   "outputs": [],
   "source": [
    "low_alims = well.geokeeper.matrices[\"low_alims\"]\n",
    "high_alims = well.geokeeper.matrices[\"high_alims\"]\n",
    "u_ulims = well.geokeeper.matrices[\"ulims\"]"
   ]
  },
  {
   "cell_type": "code",
   "execution_count": 31,
   "metadata": {},
   "outputs": [
    {
     "data": {
      "text/plain": [
       "array([ 0.025,  0.075,  0.125,  0.175,  0.225,  0.275,  0.325,  0.375,\n",
       "        0.425,  0.475,  0.525,  0.575,  0.625,  0.675,  0.725,  0.775,\n",
       "        0.825,  0.875,  0.925,  0.975,  1.025,  1.075,  1.125,  1.175,\n",
       "        1.225,  1.275,  1.325,  1.375,  1.425,  1.475,  1.525,  1.575,\n",
       "        1.625,  1.675,  1.725,  1.775,  1.825,  1.875,  1.925,  1.975])"
      ]
     },
     "execution_count": 31,
     "metadata": {},
     "output_type": "execute_result"
    }
   ],
   "source": [
    "u_ulims"
   ]
  },
  {
   "cell_type": "code",
   "execution_count": 32,
   "metadata": {},
   "outputs": [
    {
     "data": {
      "text/plain": [
       "array([ 0.025,  0.075,  0.125,  0.175,  0.225,  0.275,  0.325,  0.375,\n",
       "        0.425,  0.475,  0.525,  0.575,  0.625,  0.675,  0.725,  0.775,\n",
       "        0.825,  0.875,  0.925,  0.975,  1.025,  1.075,  1.125,  1.175,\n",
       "        1.225,  1.275,  1.325,  1.375,  1.425,  1.475,  1.525,  1.575,\n",
       "        1.625,  1.675,  1.725,  1.775,  1.825,  1.875,  1.925,  1.975])"
      ]
     },
     "execution_count": 32,
     "metadata": {},
     "output_type": "execute_result"
    }
   ],
   "source": [
    "h_ulims"
   ]
  },
  {
   "cell_type": "code",
   "execution_count": 33,
   "metadata": {},
   "outputs": [
    {
     "data": {
      "text/plain": [
       "array([ True,  True,  True,  True,  True,  True,  True,  True,  True,\n",
       "        True,  True,  True,  True,  True,  True,  True,  True,  True,\n",
       "        True,  True,  True,  True,  True,  True,  True,  True,  True,\n",
       "        True,  True,  True,  True,  True,  True,  True,  True,  True,\n",
       "        True,  True,  True,  True], dtype=bool)"
      ]
     },
     "execution_count": 33,
     "metadata": {},
     "output_type": "execute_result"
    }
   ],
   "source": [
    "u_ulims == h_ulims"
   ]
  },
  {
   "cell_type": "code",
   "execution_count": 198,
   "metadata": {
    "collapsed": true
   },
   "outputs": [],
   "source": [
    "def get_limits(well, s):\n",
    "    N = well.params[\"nseg\"] # number of elements in half-length\n",
    "    m = -1*np.ones((2*N, 2*N, 2))\n",
    "    dx = 1./N\n",
    "    su = s**0.5\n",
    "    c = 1\n",
    "    xwd = well.xwd\n",
    "    if well.wtype in [\"frac\", \"vertical\"]:\n",
    "        zd = 0\n",
    "    for i in range(-N, N):\n",
    "        xd = well.xwd + dx*(i + 0.5)\n",
    "        for j in range(-N, N):\n",
    "            int_lim1 = well.xwd + j*dx\n",
    "            int_lim2 = well.xwd + (j + 1)*dx\n",
    "            if (xd - xwd - c*int_lim2) >=0:\n",
    "                m[i+N,j+N,0] = su*(xd-xwd-c*int_lim1)\n",
    "                m[i+N,j+N,1] = su*(xd-xwd-c*int_lim2)\n",
    "            elif (xd - xwd - c*int_lim1) <0:\n",
    "                m[i+N,j+N,0] = su*(c*int_lim2+xwd-xd)\n",
    "                m[i+N,j+N,1] = su*(c*int_lim1+xwd-xd)\n",
    "            else:\n",
    "                m[i+N,j+N,0] = su*(xd-xwd-c*int_lim1)\n",
    "                m[i+N,j+N,1] = su*(c*int_lim2+xwd-xd)\n",
    "    return np.around(m, decimals=6)"
   ]
  },
  {
   "cell_type": "code",
   "execution_count": 199,
   "metadata": {},
   "outputs": [
    {
     "data": {
      "text/plain": [
       "(40,)"
      ]
     },
     "execution_count": 199,
     "metadata": {},
     "output_type": "execute_result"
    }
   ],
   "source": [
    "lims = get_limits(well, 1)\n",
    "ulims = np.unique(lims0)\n",
    "ints = iti0k0(ulims)[1]\n",
    "lims0 = lims[...,0]\n",
    "lims0.shape\n",
    "ulims.shape"
   ]
  },
  {
   "cell_type": "code",
   "execution_count": 200,
   "metadata": {},
   "outputs": [
    {
     "name": "stdout",
     "output_type": "stream",
     "text": [
      "114.5485520362854 175.59004306793213\n"
     ]
    }
   ],
   "source": [
    "base_lims = get_limits(well, 1)[...,0]\n",
    "base_ulims = np.unique(base_lims)\n",
    "N = well.params[\"nseg\"]\n",
    "for i in range(1):\n",
    "    ss = 1000*np.random.sample(10000)\n",
    "    ss = ss[ss != 0.]\n",
    "    t1 = time()\n",
    "    for s in ss:\n",
    "        lims = (s**0.5)*base_lims\n",
    "        x = iti0k0(lims)[1]\n",
    "    slow_time = time() - t1\n",
    "    t1 = time()\n",
    "    for s in ss:\n",
    "        ulims = (s**0.5)*base_ulims\n",
    "        ints = iti0k0(ulims)[1]\n",
    "        x = ints[np.argwhere(base_ulims == base_lims.reshape(4*N*N,1))[:,1]].reshape(2*N,2*N)\n",
    "    fast_time = time()-t1\n",
    "    print(slow_time, fast_time)"
   ]
  },
  {
   "cell_type": "code",
   "execution_count": 201,
   "metadata": {},
   "outputs": [
    {
     "ename": "NameError",
     "evalue": "name 'l' is not defined",
     "output_type": "error",
     "traceback": [
      "\u001b[1;31m---------------------------------------------------------------------------\u001b[0m",
      "\u001b[1;31mNameError\u001b[0m                                 Traceback (most recent call last)",
      "\u001b[1;32m<ipython-input-201-12f54a96f644>\u001b[0m in \u001b[0;36m<module>\u001b[1;34m()\u001b[0m\n\u001b[1;32m----> 1\u001b[1;33m \u001b[0ml\u001b[0m\u001b[1;33m\u001b[0m\u001b[0m\n\u001b[0m",
      "\u001b[1;31mNameError\u001b[0m: name 'l' is not defined"
     ]
    }
   ],
   "source": [
    "l"
   ]
  },
  {
   "cell_type": "code",
   "execution_count": 183,
   "metadata": {},
   "outputs": [
    {
     "data": {
      "text/plain": [
       "array([[ 0.12012696,  0.27810695,  0.39999634, ...,  1.45828363,\n",
       "         1.46472704,  1.4707842 ],\n",
       "       [ 0.27810695,  0.12012696,  0.27810695, ...,  1.45142734,\n",
       "         1.45828363,  1.46472704],\n",
       "       [ 0.39999634,  0.27810695,  0.12012696, ...,  1.44412948,\n",
       "         1.45142734,  1.45828363],\n",
       "       ..., \n",
       "       [ 1.45828363,  1.45142734,  1.44412948, ...,  0.12012696,\n",
       "         0.27810695,  0.39999634],\n",
       "       [ 1.46472704,  1.45828363,  1.45142734, ...,  0.27810695,\n",
       "         0.12012696,  0.27810695],\n",
       "       [ 1.4707842 ,  1.46472704,  1.45828363, ...,  0.39999634,\n",
       "         0.27810695,  0.12012696]])"
      ]
     },
     "execution_count": 183,
     "metadata": {},
     "output_type": "execute_result"
    }
   ],
   "source": [
    "ints[np.argwhere(ulims == lims0.reshape(1600,1))[:,1]].reshape(40,40)"
   ]
  },
  {
   "cell_type": "code",
   "execution_count": 179,
   "metadata": {},
   "outputs": [
    {
     "data": {
      "text/plain": [
       "array([[ 0.12012696,  0.27810695,  0.39999634, ...,  1.45828363,\n",
       "         1.46472704,  1.4707842 ],\n",
       "       [ 0.27810695,  0.12012696,  0.27810695, ...,  1.45142734,\n",
       "         1.45828363,  1.46472704],\n",
       "       [ 0.39999634,  0.27810695,  0.12012696, ...,  1.44412948,\n",
       "         1.45142734,  1.45828363],\n",
       "       ..., \n",
       "       [ 1.45828363,  1.45142734,  1.44412948, ...,  0.12012696,\n",
       "         0.27810695,  0.39999634],\n",
       "       [ 1.46472704,  1.45828363,  1.45142734, ...,  0.27810695,\n",
       "         0.12012696,  0.27810695],\n",
       "       [ 1.4707842 ,  1.46472704,  1.45828363, ...,  0.39999634,\n",
       "         0.27810695,  0.12012696]])"
      ]
     },
     "execution_count": 179,
     "metadata": {},
     "output_type": "execute_result"
    }
   ],
   "source": [
    "iti0k0(lims0)[1]"
   ]
  },
  {
   "cell_type": "code",
   "execution_count": 148,
   "metadata": {},
   "outputs": [
    {
     "data": {
      "text/plain": [
       "array([[ True, False, False, False, False],\n",
       "       [False, False, False, False,  True],\n",
       "       [False, False, False,  True, False],\n",
       "       [False, False,  True, False, False],\n",
       "       [ True, False, False, False, False],\n",
       "       [False,  True, False, False, False]], dtype=bool)"
      ]
     },
     "execution_count": 148,
     "metadata": {},
     "output_type": "execute_result"
    }
   ],
   "source": [
    "a = np.array([1,2,3,4,5])\n",
    "c = 0.3*a\n",
    "b = np.array([[1], [5], [4], [3], [1], [2]])\n",
    "a == b"
   ]
  },
  {
   "cell_type": "code",
   "execution_count": 143,
   "metadata": {},
   "outputs": [
    {
     "data": {
      "text/plain": [
       "array([[0, 0],\n",
       "       [1, 4]], dtype=int32)"
      ]
     },
     "execution_count": 143,
     "metadata": {},
     "output_type": "execute_result"
    }
   ],
   "source": [
    "np.argwhere(a == b)"
   ]
  },
  {
   "cell_type": "code",
   "execution_count": 149,
   "metadata": {},
   "outputs": [
    {
     "data": {
      "text/plain": [
       "array([ 0.3,  1.5,  1.2,  0.9,  0.3,  0.6])"
      ]
     },
     "execution_count": 149,
     "metadata": {},
     "output_type": "execute_result"
    }
   ],
   "source": [
    "c[np.argwhere(a == b)[:,1]]"
   ]
  },
  {
   "cell_type": "code",
   "execution_count": 152,
   "metadata": {},
   "outputs": [
    {
     "name": "stderr",
     "output_type": "stream",
     "text": [
      "C:\\data_sci\\lib\\site-packages\\ipykernel_launcher.py:4: DeprecationWarning: elementwise == comparison failed; this will raise an error in the future.\n",
      "  after removing the cwd from sys.path.\n"
     ]
    },
    {
     "data": {
      "text/plain": [
       "False"
      ]
     },
     "execution_count": 152,
     "metadata": {},
     "output_type": "execute_result"
    }
   ],
   "source": [
    "a = np.array([1,2,3,4,5])\n",
    "c = 0.3*a\n",
    "b = np.array([[1,5], [4,3], [1,2]])\n",
    "a[...,np.newaxis] == b"
   ]
  },
  {
   "cell_type": "code",
   "execution_count": 151,
   "metadata": {},
   "outputs": [
    {
     "data": {
      "text/plain": [
       "array([[1],\n",
       "       [2],\n",
       "       [3],\n",
       "       [4],\n",
       "       [5]])"
      ]
     },
     "execution_count": 151,
     "metadata": {},
     "output_type": "execute_result"
    }
   ],
   "source": [
    "a[...,np.newaxis]"
   ]
  },
  {
   "cell_type": "code",
   "execution_count": null,
   "metadata": {
    "collapsed": true
   },
   "outputs": [],
   "source": []
  },
  {
   "cell_type": "code",
   "execution_count": null,
   "metadata": {
    "collapsed": true
   },
   "outputs": [],
   "source": []
  },
  {
   "cell_type": "code",
   "execution_count": 101,
   "metadata": {},
   "outputs": [
    {
     "data": {
      "text/plain": [
       "array([[ 0.025,  0.075,  0.125, ...,  1.875,  1.925,  1.975],\n",
       "       [ 0.075,  0.025,  0.075, ...,  1.825,  1.875,  1.925],\n",
       "       [ 0.125,  0.075,  0.025, ...,  1.775,  1.825,  1.875],\n",
       "       ..., \n",
       "       [ 1.875,  1.825,  1.775, ...,  0.025,  0.075,  0.125],\n",
       "       [ 1.925,  1.875,  1.825, ...,  0.075,  0.025,  0.075],\n",
       "       [ 1.975,  1.925,  1.875, ...,  0.125,  0.075,  0.025]])"
      ]
     },
     "execution_count": 101,
     "metadata": {},
     "output_type": "execute_result"
    }
   ],
   "source": [
    "lims0"
   ]
  },
  {
   "cell_type": "code",
   "execution_count": 104,
   "metadata": {},
   "outputs": [
    {
     "data": {
      "text/plain": [
       "array([[ 0.025,  0.075,  0.125,  0.175,  0.225,  0.275,  0.325,  0.375,\n",
       "         0.425,  0.475,  0.525,  0.575,  0.625,  0.675,  0.725,  0.775,\n",
       "         0.825,  0.875,  0.925,  0.975,  1.025,  1.075,  1.125,  1.175,\n",
       "         1.225,  1.275,  1.325,  1.375,  1.425,  1.475,  1.525,  1.575,\n",
       "         1.625,  1.675,  1.725,  1.775,  1.825,  1.875,  1.925,  1.975]])"
      ]
     },
     "execution_count": 104,
     "metadata": {},
     "output_type": "execute_result"
    }
   ],
   "source": [
    "ulims[np.newaxis,...]"
   ]
  },
  {
   "cell_type": "code",
   "execution_count": 29,
   "metadata": {
    "collapsed": true
   },
   "outputs": [],
   "source": [
    "s = 7\n",
    "slow_green = helper.get_green_matrix(well, s)\n",
    "fast_green = helper.get_green_matrix_fast(well, s)\n",
    "limits = helper.get_limits(well)"
   ]
  },
  {
   "cell_type": "code",
   "execution_count": 16,
   "metadata": {
    "collapsed": true
   },
   "outputs": [],
   "source": [
    "from time import time"
   ]
  },
  {
   "cell_type": "code",
   "execution_count": 26,
   "metadata": {},
   "outputs": [
    {
     "name": "stdout",
     "output_type": "stream",
     "text": [
      "44.02051782608032 40.57732081413269\n"
     ]
    }
   ],
   "source": [
    "ss = 1000*np.random.sample(1000)\n",
    "ss = ss[ss != 0.]\n",
    "t1 = time()\n",
    "for s in ss:\n",
    "    slow_green = helper.get_green_matrix(well, s)\n",
    "slow_time = time() - t1\n",
    "t1 = time()\n",
    "for s in ss:\n",
    "    fast_green = helper.get_green_matrix_fast(well ,s)\n",
    "fast_time = time()-t1\n",
    "print(slow_time, fast_time)"
   ]
  },
  {
   "cell_type": "code",
   "execution_count": 74,
   "metadata": {
    "collapsed": true
   },
   "outputs": [],
   "source": [
    "from scipy.special import kn, k0, k1, iti0k0"
   ]
  },
  {
   "cell_type": "code",
   "execution_count": 33,
   "metadata": {},
   "outputs": [
    {
     "name": "stdout",
     "output_type": "stream",
     "text": [
      "0.4000229835510254\n"
     ]
    }
   ],
   "source": [
    "ss = 1000*np.random.sample(10000)\n",
    "ss = ss[ss != 0.]\n",
    "t1 = time()\n",
    "for s in ss:\n",
    "    slimits = s**0.5*limits\n",
    "    x = iti0k0(slimits)\n",
    "print(time()-t1)"
   ]
  },
  {
   "cell_type": "code",
   "execution_count": 35,
   "metadata": {},
   "outputs": [
    {
     "name": "stdout",
     "output_type": "stream",
     "text": [
      "54.9381422996521\n"
     ]
    }
   ],
   "source": [
    "ss = 1000*np.random.sample(10000)\n",
    "ss = ss[ss != 0.]\n",
    "t1 = time()\n",
    "for s in ss:\n",
    "    ls = get_limits(well, s)\n",
    "print(time()-t1)"
   ]
  },
  {
   "cell_type": "code",
   "execution_count": 42,
   "metadata": {},
   "outputs": [
    {
     "name": "stdout",
     "output_type": "stream",
     "text": [
      "80.23558926582336\n"
     ]
    }
   ],
   "source": [
    "ss = 1000*np.random.sample(10000)\n",
    "ss = ss[ss != 0.]\n",
    "t1 = time()\n",
    "for s in ss:\n",
    "    ls = get_limits(well, s)\n",
    "    x = iti0k0(ls)\n",
    "print(time()-t1)"
   ]
  },
  {
   "cell_type": "code",
   "execution_count": 37,
   "metadata": {
    "collapsed": true
   },
   "outputs": [],
   "source": [
    "a = np.arange(100).reshape(10,10)"
   ]
  },
  {
   "cell_type": "code",
   "execution_count": 40,
   "metadata": {},
   "outputs": [
    {
     "ename": "AttributeError",
     "evalue": "'numpy.ndarray' object has no attribute 'index'",
     "output_type": "error",
     "traceback": [
      "\u001b[1;31m---------------------------------------------------------------------------\u001b[0m",
      "\u001b[1;31mAttributeError\u001b[0m                            Traceback (most recent call last)",
      "\u001b[1;32m<ipython-input-40-bc646406e49b>\u001b[0m in \u001b[0;36m<module>\u001b[1;34m()\u001b[0m\n\u001b[1;32m----> 1\u001b[1;33m \u001b[0ma\u001b[0m\u001b[1;33m.\u001b[0m\u001b[0mindex\u001b[0m\u001b[1;33m\u001b[0m\u001b[0m\n\u001b[0m",
      "\u001b[1;31mAttributeError\u001b[0m: 'numpy.ndarray' object has no attribute 'index'"
     ]
    }
   ],
   "source": [
    "a.r"
   ]
  },
  {
   "cell_type": "code",
   "execution_count": 80,
   "metadata": {},
   "outputs": [],
   "source": [
    "s = 7\n",
    "def try_matrix(well, s):\n",
    "    N = well.params[\"nseg\"]\n",
    "    xwd = well.xwd\n",
    "    dx = 1./N\n",
    "    c = 1\n",
    "    su = s**0.5\n",
    "    m_xd = xwd + dx*np.matrix(np.arange(-N+0.5, N+0.5), dtype=np.float).transpose()*np.matrix(np.ones(2*N, dtype=np.float))\n",
    "    m_xj1 = xwd + dx*np.matrix(np.ones(2*N, dtype=np.float)).transpose()*np.matrix(np.arange(-N, N), dtype=np.float)\n",
    "    m_xj2 = dx + m_xj1\n",
    "    lims1 = m_xd - c*m_xj1 - xwd\n",
    "    lims2 = m_xd - c*m_xj2 - xwd\n",
    "    mask_int_1 = np.matrix(np.ones((2*N, 2*N)), dtype=np.float) - 2*(lims1 < 0)\n",
    "    mask_int_2 = np.matrix(np.ones((2*N, 2*N)), dtype=np.float) - 2*(lims2 >= 0)\n",
    "    alims1 = np.abs(lims1)\n",
    "    alims2 = np.abs(lims2)\n",
    "    i1 = iti0k0(alims1)[1]\n",
    "    i2 = iti0k0(alims2)[1]\n",
    "    return np.multiply(i1, mask_int_1) + np.multiply(i2, mask_int_2)"
   ]
  },
  {
   "cell_type": "code",
   "execution_count": 81,
   "metadata": {},
   "outputs": [
    {
     "name": "stdout",
     "output_type": "stream",
     "text": [
      "19.245100736618042\n"
     ]
    }
   ],
   "source": [
    "ss = 1000*np.random.sample(10000)\n",
    "ss = ss[ss != 0.]\n",
    "t1 = time()\n",
    "for s in ss:\n",
    "    ints = try_matrix(well, s)\n",
    "print(time()-t1)"
   ]
  },
  {
   "cell_type": "code",
   "execution_count": 70,
   "metadata": {},
   "outputs": [],
   "source": [
    "m = np.matrix(np.arange(1,10).reshape(3,3))\n",
    "b = np.matrix(np.ones((3,3)))\n",
    "b[0,0], b[2,1] = -1 ,-1"
   ]
  },
  {
   "cell_type": "code",
   "execution_count": 209,
   "metadata": {},
   "outputs": [],
   "source": [
    "a = np.array([1,2,3])"
   ]
  },
  {
   "cell_type": "code",
   "execution_count": 213,
   "metadata": {},
   "outputs": [
    {
     "data": {
      "text/plain": [
       "14"
      ]
     },
     "execution_count": 213,
     "metadata": {},
     "output_type": "execute_result"
    }
   ],
   "source": [
    "a.T@a"
   ]
  },
  {
   "cell_type": "code",
   "execution_count": 73,
   "metadata": {},
   "outputs": [
    {
     "data": {
      "text/plain": [
       "matrix([[-1.,  2.,  3.],\n",
       "        [ 4.,  5.,  6.],\n",
       "        [ 7., -8.,  9.]])"
      ]
     },
     "execution_count": 73,
     "metadata": {},
     "output_type": "execute_result"
    }
   ],
   "source": [
    "np.multiply(m,b)"
   ]
  },
  {
   "cell_type": "code",
   "execution_count": 65,
   "metadata": {
    "collapsed": true
   },
   "outputs": [],
   "source": [
    "np.matrix.prod?"
   ]
  },
  {
   "cell_type": "code",
   "execution_count": 208,
   "metadata": {},
   "outputs": [
    {
     "data": {
      "text/plain": [
       "True"
      ]
     },
     "execution_count": 208,
     "metadata": {},
     "output_type": "execute_result"
    }
   ],
   "source": [
    "type(well) == LaplWell"
   ]
  },
  {
   "cell_type": "code",
   "execution_count": null,
   "metadata": {
    "collapsed": true
   },
   "outputs": [],
   "source": []
  }
 ],
 "metadata": {
  "kernelspec": {
   "display_name": "Python 3",
   "language": "python",
   "name": "python3"
  },
  "language_info": {
   "codemirror_mode": {
    "name": "ipython",
    "version": 3
   },
   "file_extension": ".py",
   "mimetype": "text/x-python",
   "name": "python",
   "nbconvert_exporter": "python",
   "pygments_lexer": "ipython3",
   "version": "3.6.1"
  }
 },
 "nbformat": 4,
 "nbformat_minor": 2
}
