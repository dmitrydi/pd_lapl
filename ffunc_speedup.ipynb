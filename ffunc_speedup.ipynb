{
 "cells": [
  {
   "cell_type": "code",
   "execution_count": 1,
   "metadata": {},
   "outputs": [],
   "source": [
    "from fwell.flapl_well import FLaplWell\n",
    "import pstats, cProfile\n",
    "import numpy as np\n",
    "from time import time"
   ]
  },
  {
   "cell_type": "code",
   "execution_count": 2,
   "metadata": {},
   "outputs": [
    {
     "data": {
      "text/plain": [
       "'\\ndef __init__(self, outer_bound, top_bound, bottom_bound,\\n        wtype, N, nwells, xwds, ywds, x_lengths = 1,\\n        xed = 0, yed = 0, zwds = None, hd = 0, attrs = {})\\n'"
      ]
     },
     "execution_count": 2,
     "metadata": {},
     "output_type": "execute_result"
    }
   ],
   "source": [
    "'''\n",
    "def __init__(self, outer_bound, top_bound, bottom_bound,\n",
    "        wtype, N, nwells, xwds, ywds, x_lengths = 1,\n",
    "        xed = 0, yed = 0, zwds = None, hd = 0, attrs = {})\n",
    "'''"
   ]
  },
  {
   "cell_type": "code",
   "execution_count": 2,
   "metadata": {},
   "outputs": [],
   "source": [
    "outer_bound = \"nnnn\"\n",
    "top_bound = \"imp\"\n",
    "bottom_bound = \"imp\"\n",
    "wtype = \"frac\"\n",
    "N = 20\n",
    "nwells = 3\n",
    "xed = 10.\n",
    "yed = 10.\n",
    "xwds = [xed/2, xed/2, xed/2]\n",
    "ywds = [yed/2-1, yed/2, yed/2+1]\n",
    "attrs = {\"Fcd\": 10}\n",
    "lwell = FLaplWell(outer_bound, top_bound, bottom_bound,\n",
    "                  wtype, N, nwells, xwds, ywds,\n",
    "                  xed=xed, yed=yed, attrs=attrs)"
   ]
  },
  {
   "cell_type": "code",
   "execution_count": 4,
   "metadata": {},
   "outputs": [
    {
     "name": "stdout",
     "output_type": "stream",
     "text": [
      "287 ms ± 0 ns per loop (mean ± std. dev. of 1 run, 10 loops each)\n"
     ]
    }
   ],
   "source": [
    "s = 0.0001\n",
    "%timeit -n10 -r1 lwell.recalc(s)"
   ]
  },
  {
   "cell_type": "code",
   "execution_count": 5,
   "metadata": {},
   "outputs": [
    {
     "name": "stdout",
     "output_type": "stream",
     "text": [
      "Mon Jun 10 14:06:48 2019    Profile.prof\n",
      "\n",
      "         35726 function calls in 0.382 seconds\n",
      "\n",
      "   Ordered by: internal time\n",
      "\n",
      "   ncalls  tottime  percall  cumtime  percall filename:lineno(function)\n",
      "     5180    0.147    0.000    0.147    0.000 ffuncs.py:153(m_bessk0)\n",
      "      518    0.088    0.000    0.348    0.001 ffuncs.py:104(i1F2Hk)\n",
      "      518    0.039    0.000    0.188    0.000 integrate.py:3(qgaus)\n",
      "      518    0.026    0.000    0.041    0.000 numeric.py:2508(within_tol)\n",
      "        3    0.020    0.007    0.021    0.007 ffuncs.py:56(iF2Ek)\n",
      "      518    0.010    0.000    0.061    0.000 numeric.py:2431(isclose)\n",
      "        1    0.009    0.009    0.358    0.358 ffuncs.py:83(i1F2H)\n",
      "     2094    0.008    0.000    0.008    0.000 {method 'reduce' of 'numpy.ufunc' objects}\n",
      "     1036    0.007    0.000    0.007    0.000 {built-in method builtins.abs}\n",
      "     2684    0.004    0.000    0.004    0.000 {built-in method numpy.array}\n",
      "     2094    0.003    0.000    0.012    0.000 fromnumeric.py:69(_wrapreduction)\n",
      "      569    0.003    0.000    0.003    0.000 {built-in method numpy.zeros}\n",
      "     1036    0.003    0.000    0.006    0.000 numeric.py:2656(seterr)\n",
      "     1036    0.002    0.000    0.002    0.000 numeric.py:2758(geterr)\n",
      "     1048    0.001    0.000    0.007    0.000 fromnumeric.py:2171(all)\n",
      "     1036    0.001    0.000    0.007    0.000 fromnumeric.py:2083(any)\n",
      "     2083    0.001    0.000    0.001    0.000 {built-in method builtins.getattr}\n",
      "     1036    0.001    0.000    0.001    0.000 {built-in method numpy.seterrobj}\n",
      "     2094    0.001    0.000    0.001    0.000 fromnumeric.py:70(<dictcomp>)\n",
      "       92    0.001    0.000    0.001    0.000 {built-in method numpy.dot}\n",
      "        1    0.001    0.001    0.001    0.001 ffuncs.py:210(F1)\n",
      "      518    0.001    0.000    0.001    0.000 numeric.py:3054(__init__)\n",
      "      518    0.001    0.000    0.003    0.000 numeric.py:3063(__exit__)\n",
      "      518    0.001    0.000    0.004    0.000 numeric.py:3058(__enter__)\n",
      "       92    0.001    0.000    0.002    0.000 linalg.py:2293(norm)\n",
      "        1    0.001    0.001    0.022    0.022 ffuncs.py:39(iF2E)\n",
      "     2072    0.001    0.000    0.001    0.000 {built-in method numpy.geterrobj}\n",
      "      518    0.001    0.000    0.001    0.000 {built-in method numpy.result_type}\n",
      "     1036    0.000    0.000    0.001    0.000 numeric.py:541(asanyarray)\n",
      "     2094    0.000    0.000    0.000    0.000 {method 'items' of 'dict' objects}\n",
      "     2075    0.000    0.000    0.000    0.000 {method 'keys' of 'dict' objects}\n",
      "        4    0.000    0.000    0.001    0.000 ffuncs.py:9(sexp)\n",
      "        1    0.000    0.000    0.000    0.000 linalg.py:327(solve)\n",
      "      518    0.000    0.000    0.000    0.000 {method 'pop' of 'dict' objects}\n",
      "        1    0.000    0.000    0.001    0.001 ffuncs.py:32(iF1)\n",
      "        1    0.000    0.000    0.000    0.000 ffuncs.py:160(i2F2H)\n",
      "       92    0.000    0.000    0.000    0.000 {method 'ravel' of 'numpy.ndarray' objects}\n",
      "        1    0.000    0.000    0.381    0.381 frac.py:4(matr_pd_frac_nnnn)\n",
      "        1    0.000    0.000    0.382    0.382 flapl_well.py:23(recalc)\n",
      "       95    0.000    0.000    0.000    0.000 linalg.py:121(isComplexType)\n",
      "      189    0.000    0.000    0.000    0.000 {built-in method builtins.issubclass}\n",
      "       10    0.000    0.000    0.000    0.000 {built-in method numpy.arange}\n",
      "       94    0.000    0.000    0.000    0.000 numeric.py:469(asarray)\n",
      "       10    0.000    0.000    0.001    0.000 fromnumeric.py:1966(sum)\n",
      "        3    0.000    0.000    0.000    0.000 numeric.py:112(zeros_like)\n",
      "        1    0.000    0.000    0.382    0.382 {built-in method builtins.exec}\n",
      "        2    0.000    0.000    0.000    0.000 linalg.py:134(_realType)\n",
      "       12    0.000    0.000    0.000    0.000 {method 'reshape' of 'numpy.ndarray' objects}\n",
      "        1    0.000    0.000    0.000    0.000 helper.py:45(make_offset)\n",
      "       17    0.000    0.000    0.000    0.000 {built-in method builtins.isinstance}\n",
      "        5    0.000    0.000    0.000    0.000 {method 'all' of 'numpy.generic' objects}\n",
      "        3    0.000    0.000    0.000    0.000 {built-in method numpy.empty_like}\n",
      "        1    0.000    0.000    0.000    0.000 linalg.py:144(_commonType)\n",
      "        6    0.000    0.000    0.000    0.000 {method 'flatten' of 'numpy.ndarray' objects}\n",
      "        3    0.000    0.000    0.000    0.000 {built-in method numpy.copyto}\n",
      "        1    0.000    0.000    0.000    0.000 buffer.py:9(to_list)\n",
      "        1    0.000    0.000    0.382    0.382 <string>:1(<module>)\n",
      "        1    0.000    0.000    0.000    0.000 {method 'astype' of 'numpy.ndarray' objects}\n",
      "        2    0.000    0.000    0.000    0.000 linalg.py:116(_makearray)\n",
      "        1    0.000    0.000    0.000    0.000 linalg.py:111(get_linalg_error_extobj)\n",
      "        1    0.000    0.000    0.000    0.000 {method '__array_prepare__' of 'numpy.ndarray' objects}\n",
      "        1    0.000    0.000    0.000    0.000 linalg.py:203(_assertRankAtLeast2)\n",
      "        1    0.000    0.000    0.000    0.000 linalg.py:209(_assertNdSquareness)\n",
      "        5    0.000    0.000    0.000    0.000 _methods.py:45(_all)\n",
      "        2    0.000    0.000    0.000    0.000 {method 'get' of 'dict' objects}\n",
      "        1    0.000    0.000    0.000    0.000 {method 'append' of 'list' objects}\n",
      "        1    0.000    0.000    0.000    0.000 {method 'disable' of '_lsprof.Profiler' objects}\n",
      "\n",
      "\n"
     ]
    },
    {
     "data": {
      "text/plain": [
       "<pstats.Stats at 0x7f288220bdd8>"
      ]
     },
     "execution_count": 5,
     "metadata": {},
     "output_type": "execute_result"
    }
   ],
   "source": [
    "s = 1e-4\n",
    "cProfile.runctx(\"lwell.recalc(s)\", globals(), locals(), \"Profile.prof\")\n",
    "\n",
    "s = pstats.Stats(\"Profile.prof\")\n",
    "s.strip_dirs().sort_stats(\"time\").print_stats()"
   ]
  },
  {
   "cell_type": "code",
   "execution_count": null,
   "metadata": {},
   "outputs": [],
   "source": []
  }
 ],
 "metadata": {
  "kernelspec": {
   "display_name": "Python [conda env:cython] *",
   "language": "python",
   "name": "conda-env-cython-py"
  },
  "language_info": {
   "codemirror_mode": {
    "name": "ipython",
    "version": 3
   },
   "file_extension": ".py",
   "mimetype": "text/x-python",
   "name": "python",
   "nbconvert_exporter": "python",
   "pygments_lexer": "ipython3",
   "version": "3.7.3"
  }
 },
 "nbformat": 4,
 "nbformat_minor": 2
}
