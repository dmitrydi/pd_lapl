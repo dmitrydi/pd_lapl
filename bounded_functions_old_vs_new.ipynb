{
 "cells": [
  {
   "cell_type": "code",
   "execution_count": 1,
   "metadata": {
    "collapsed": true
   },
   "outputs": [],
   "source": [
    "import numpy as np\n",
    "import matplotlib.pyplot as plt\n",
    "from well import Well\n",
    "from geometry_keeper import GeometryKeeper\n",
    "from scipy.integrate import quad\n",
    "from scipy.special import k0, iti0k0\n",
    "import matplotlib.pyplot as plt\n",
    "% matplotlib inline\n",
    "from time import time"
   ]
  },
  {
   "cell_type": "code",
   "execution_count": 2,
   "metadata": {
    "collapsed": true
   },
   "outputs": [],
   "source": [
    "top_bound = \"imp\"\n",
    "bottom_bound = \"imp\"\n",
    "wtype = \"frac\"\n",
    "n_stehf = 10\n",
    "xwd = 2.5\n",
    "xed = 5.\n",
    "ywd = 2.5\n",
    "yed = 5.\n",
    "N = 20\n",
    "Fcd = 10\n",
    "\n",
    "params = {\"nseg\": N, \"kx\": 1., \"ky\": 1., \"kz\": 1., \"omega\": 1, \"lambda\": 1, \"Fcd\":Fcd, \"ref_length\":1.,\n",
    "         \"z_ref_length\": 1, \"xed\": xed, \"yed\": yed}\n",
    "nnnn_well = Well(xwd, ywd, \"nnnn\", top_bound, bottom_bound, wtype, params, n_stehf)\n",
    "inf_well = Well(xwd, ywd, \"infinite\", top_bound, bottom_bound, wtype, params, n_stehf)"
   ]
  },
  {
   "cell_type": "code",
   "execution_count": 3,
   "metadata": {},
   "outputs": [],
   "source": [
    "from new_struct.well import Well as NewWell"
   ]
  },
  {
   "cell_type": "code",
   "execution_count": 4,
   "metadata": {},
   "outputs": [],
   "source": [
    "new_well_nnnn = NewWell(\"nnnn\", top_bound, bottom_bound, \"frac\", N, 1, [xwd], [ywd], x_lengths = 1,\n",
    "                     xed = xed, yed = yed, attrs = {\"Fcd\":Fcd})\n",
    "new_well_inf = NewWell(\"inf\", top_bound, bottom_bound, \"frac\", N, 1, [0.], [0.], x_lengths = 1,\n",
    "                     xed = xed, yed = yed, attrs = {\"Fcd\":Fcd})"
   ]
  },
  {
   "cell_type": "code",
   "execution_count": 5,
   "metadata": {
    "collapsed": true
   },
   "outputs": [],
   "source": [
    "ts = np.logspace(-3, 1, 41)"
   ]
  },
  {
   "cell_type": "code",
   "execution_count": 6,
   "metadata": {
    "collapsed": true
   },
   "outputs": [],
   "source": [
    "p_inf_old = []\n",
    "p_inf_new = []\n",
    "for t in ts:\n",
    "    p_inf_old.append(inf_well.get_pw(t))\n",
    "    p_inf_new.append(new_well_inf.pw(t))"
   ]
  },
  {
   "cell_type": "code",
   "execution_count": 7,
   "metadata": {},
   "outputs": [
    {
     "data": {
      "text/plain": [
       "[<matplotlib.lines.Line2D at 0x71e1050>]"
      ]
     },
     "execution_count": 7,
     "metadata": {},
     "output_type": "execute_result"
    },
    {
     "data": {
      "image/png": "[encoded data removed]",
      "text/plain": [
       "<matplotlib.figure.Figure at 0x616fd70>"
      ]
     },
     "metadata": {},
     "output_type": "display_data"
    }
   ],
   "source": [
    "plt.plot(ts, p_inf_old)\n",
    "plt.plot(ts, p_inf_new)"
   ]
  },
  {
   "cell_type": "code",
   "execution_count": 16,
   "metadata": {},
   "outputs": [
    {
     "name": "stdout",
     "output_type": "stream",
     "text": [
      "23.72435688972473\n"
     ]
    }
   ],
   "source": [
    "t1 = time()\n",
    "p_nnnn_old = []\n",
    "for t in ts:\n",
    "    p_nnnn_old.append(nnnn_well.get_pw(t))\n",
    "print(time() - t1)"
   ]
  },
  {
   "cell_type": "code",
   "execution_count": 17,
   "metadata": {},
   "outputs": [
    {
     "name": "stdout",
     "output_type": "stream",
     "text": [
      "6.1653525829315186\n"
     ]
    }
   ],
   "source": [
    "t1 = time()\n",
    "p_nnnn_new = []\n",
    "for t in ts:\n",
    "    p_nnnn_new.append(new_well_nnnn.pw(t))\n",
    "print(time() - t1)"
   ]
  },
  {
   "cell_type": "code",
   "execution_count": 18,
   "metadata": {},
   "outputs": [
    {
     "data": {
      "text/plain": [
       "[<matplotlib.lines.Line2D at 0x737ffd0>]"
      ]
     },
     "execution_count": 18,
     "metadata": {},
     "output_type": "execute_result"
    },
    {
     "data": {
      "image/png": "[encoded data removed]",
      "text/plain": [
       "<matplotlib.figure.Figure at 0x7347130>"
      ]
     },
     "metadata": {},
     "output_type": "display_data"
    }
   ],
   "source": [
    "plt.plot(ts, p_nnnn_old)\n",
    "plt.plot(ts, p_nnnn_new)"
   ]
  },
  {
   "cell_type": "code",
   "execution_count": 12,
   "metadata": {
    "collapsed": true
   },
   "outputs": [],
   "source": [
    "arg_x_0, arg_x_1, arg_x_2, arg_x_3, arg_y_1, arg_y_2, arg_y_3, arg_y_4 = new_well_nnnn.lapl_well.matrixizer.m_cache[\"fb_1_2_nnnn\"]"
   ]
  },
  {
   "cell_type": "code",
   "execution_count": 10,
   "metadata": {
    "collapsed": true
   },
   "outputs": [],
   "source": [
    "ss = 1/ts"
   ]
  },
  {
   "cell_type": "code",
   "execution_count": 14,
   "metadata": {
    "collapsed": true
   },
   "outputs": [],
   "source": [
    "from new_struct.integrators.frac_nnnn import ifb2"
   ]
  },
  {
   "cell_type": "code",
   "execution_count": 15,
   "metadata": {
    "collapsed": true
   },
   "outputs": [],
   "source": [
    "fb2s = []\n",
    "for s in ss:\n",
    "    fb2s.append(ifb2(s, arg_x_1, arg_x_2, arg_x_3, arg_y_1, arg_y_2, arg_y_3, arg_y_4, xed, yed))"
   ]
  },
  {
   "cell_type": "code",
   "execution_count": 19,
   "metadata": {},
   "outputs": [],
   "source": [
    "fb2s = np.array(fb2s)"
   ]
  },
  {
   "cell_type": "code",
   "execution_count": 23,
   "metadata": {},
   "outputs": [
    {
     "data": {
      "text/plain": [
       "array([  1.03437132e-70,   3.32713333e-63,   1.64955245e-56,\n",
       "         1.54446767e-50,   3.27256467e-45,   1.84368009e-40,\n",
       "         3.18793253e-36,   1.92257293e-32,   4.53173307e-29,\n",
       "         4.62093924e-26,   2.23126361e-23,   5.53022136e-21,\n",
       "         7.56018068e-19,   6.07819870e-17,   3.04314536e-15,\n",
       "         9.98507921e-14,   2.24725250e-12,   3.61317076e-11,\n",
       "         4.30360519e-10,   3.92254195e-09,   2.81624956e-08,\n",
       "         1.63442738e-07,   7.84588229e-07,   3.17946473e-06,\n",
       "         1.10738270e-05,   3.36731367e-05,   9.06199337e-05,\n",
       "         2.18393156e-04,   4.76193118e-04,   9.47920675e-04,\n",
       "         1.73661883e-03,   2.94961131e-03,   4.67631292e-03,\n",
       "         6.96464486e-03,   9.80389661e-03,   1.31203209e-02,\n",
       "         1.67872431e-02,   2.06462476e-02,   2.45326207e-02,\n",
       "         2.82979939e-02,   3.18255076e-02])"
      ]
     },
     "execution_count": 23,
     "metadata": {},
     "output_type": "execute_result"
    }
   ],
   "source": [
    "np.linalg.norm(fb2s, axis=(1,2))"
   ]
  },
  {
   "cell_type": "code",
   "execution_count": 8,
   "metadata": {
    "collapsed": true
   },
   "outputs": [],
   "source": [
    "xis, xjs, xj1s, yws, yds, zws, zds = new_well_nnnn.lapl_well.matrixizer.raw"
   ]
  },
  {
   "cell_type": "code",
   "execution_count": 14,
   "metadata": {},
   "outputs": [],
   "source": [
    "fb2s_old = []\n",
    "for s in ss:\n",
    "    fb2s_old.append(nnnn_well.lapl_well.source.ifb2(s, xis, xjs, xj1s, xed, yds, yws, yed))"
   ]
  },
  {
   "cell_type": "code",
   "execution_count": 15,
   "metadata": {},
   "outputs": [
    {
     "data": {
      "text/plain": [
       "array([  1.03289453e-70,   3.32411397e-63,   1.64865072e-56,\n",
       "         1.54398747e-50,   3.27202048e-45,   1.84352657e-40,\n",
       "         3.18780863e-36,   1.92254054e-32,   4.53173307e-29,\n",
       "         4.62093924e-26,   2.23126361e-23,   5.53022136e-21,\n",
       "         7.56018068e-19,   6.07819870e-17,   3.04314536e-15,\n",
       "         9.98507921e-14,   2.24725250e-12,   3.61317076e-11,\n",
       "         4.30360519e-10,   3.92254195e-09,   2.81624956e-08,\n",
       "         1.63442738e-07,   7.84588229e-07,   3.17946473e-06,\n",
       "         1.10738270e-05,   3.36731367e-05,   9.06199337e-05,\n",
       "         2.18393156e-04,   4.76193118e-04,   9.47920675e-04,\n",
       "         1.73661883e-03,   2.94961131e-03,   4.67631292e-03,\n",
       "         6.96464486e-03,   9.80389661e-03,   1.31203209e-02,\n",
       "         1.67872431e-02,   2.06462476e-02,   2.45326207e-02,\n",
       "         2.82979939e-02,   3.18255076e-02])"
      ]
     },
     "execution_count": 15,
     "metadata": {},
     "output_type": "execute_result"
    }
   ],
   "source": [
    "fb2s_old = np.array(fb2s_old)\n",
    "np.linalg.norm(fb2s_old, axis=(1,2))"
   ]
  },
  {
   "cell_type": "code",
   "execution_count": 20,
   "metadata": {},
   "outputs": [],
   "source": [
    "mf_well_nnnn = NewWell(\"nnnn\", top_bound, bottom_bound, \"frac\", N, 3, [xwd, xwd, xwd], [ywd-1, ywd, ywd+1], x_lengths = 1,\n",
    "                     xed = xed, yed = yed, attrs = {\"Fcd\":Fcd})\n",
    "mf_well_inf = NewWell(\"inf\", top_bound, bottom_bound, \"frac\", N, 3, [0., 0., 0.], [-1., 0., 1.], x_lengths = 1,\n",
    "                     xed = xed, yed = yed, attrs = {\"Fcd\":Fcd})"
   ]
  },
  {
   "cell_type": "code",
   "execution_count": 21,
   "metadata": {
    "collapsed": true
   },
   "outputs": [],
   "source": [
    "p_mf_inf = []\n",
    "for t in ts:\n",
    "    p_mf_inf.append(mf_well_inf.pw(t))"
   ]
  },
  {
   "cell_type": "code",
   "execution_count": 22,
   "metadata": {
    "collapsed": true
   },
   "outputs": [],
   "source": [
    "p_mf_nnnn = []\n",
    "for t in ts:\n",
    "    p_mf_nnnn.append(mf_well_nnnn.pw(t))"
   ]
  },
  {
   "cell_type": "code",
   "execution_count": 23,
   "metadata": {},
   "outputs": [
    {
     "data": {
      "text/plain": [
       "[<matplotlib.lines.Line2D at 0x6742ad90>]"
      ]
     },
     "execution_count": 23,
     "metadata": {},
     "output_type": "execute_result"
    },
    {
     "data": {
      "image/png": "[encoded data removed]",
      "text/plain": [
       "<matplotlib.figure.Figure at 0x673e7fd0>"
      ]
     },
     "metadata": {},
     "output_type": "display_data"
    }
   ],
   "source": [
    "plt.plot(ts, p_mf_inf)\n",
    "plt.plot(ts, p_mf_nnnn)"
   ]
  },
  {
   "cell_type": "code",
   "execution_count": null,
   "metadata": {
    "collapsed": true
   },
   "outputs": [],
   "source": []
  }
 ],
 "metadata": {
  "kernelspec": {
   "display_name": "Python 3",
   "language": "python",
   "name": "python3"
  },
  "language_info": {
   "codemirror_mode": {
    "name": "ipython",
    "version": 3
   },
   "file_extension": ".py",
   "mimetype": "text/x-python",
   "name": "python",
   "nbconvert_exporter": "python",
   "pygments_lexer": "ipython3",
   "version": "3.6.1"
  }
 },
 "nbformat": 4,
 "nbformat_minor": 2
}
