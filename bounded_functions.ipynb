{
 "cells": [
  {
   "cell_type": "code",
   "execution_count": 1,
   "metadata": {},
   "outputs": [],
   "source": [
    "import numpy as np\n",
    "import matplotlib.pyplot as plt\n",
    "from well import Well\n",
    "from geometry_keeper import GeometryKeeper\n",
    "from scipy.integrate import quad\n",
    "from scipy.special import k0, iti0k0\n",
    "import matplotlib.pyplot as plt\n",
    "% matplotlib inline"
   ]
  },
  {
   "cell_type": "code",
   "execution_count": 2,
   "metadata": {
    "collapsed": true
   },
   "outputs": [],
   "source": [
    "top_bound = \"imp\"\n",
    "bottom_bound = \"imp\"\n",
    "wtype = \"frac\"\n",
    "n_stehf = 10\n",
    "xwd = 2.5\n",
    "xed = 5.\n",
    "ywd = 2.5\n",
    "yed = 5.\n",
    "N = 20\n",
    "s = 7\n",
    "su = s**0.5\n",
    "\n",
    "params = {\"nseg\": N, \"kx\": 1., \"ky\": 1., \"kz\": 1., \"omega\": 1, \"lambda\": 1, \"Fcd\":100, \"ref_length\":1.,\n",
    "         \"z_ref_length\": 1, \"xed\": xed, \"yed\": yed}\n",
    "nnnn_well = Well(xwd, ywd, \"nnnn\", top_bound, bottom_bound, wtype, params, n_stehf)\n",
    "inf_well = Well(xwd, ywd, \"infinite\", top_bound, bottom_bound, wtype, params, n_stehf)"
   ]
  },
  {
   "cell_type": "code",
   "execution_count": 3,
   "metadata": {},
   "outputs": [
    {
     "data": {
      "text/plain": [
       "True"
      ]
     },
     "execution_count": 3,
     "metadata": {},
     "output_type": "execute_result"
    }
   ],
   "source": [
    "# for inf_well:\n",
    "alims1 = inf_well.lapl_well.gk[\"alims1\"]\n",
    "alims2 = inf_well.lapl_well.gk[\"alims2\"]\n",
    "mask1 = np.array(inf_well.lapl_well.gk[\"mask_int_1\"])\n",
    "mask2 = np.array(inf_well.lapl_well.gk[\"mask_int_2\"])\n",
    "green_inf_ref = inf_well.lapl_well.get_green_matrix(s)\n",
    "green_inf_constructed = 0.5/su*iti0k0(su*alims1)[1]*mask1 + 0.5/su*iti0k0(su*alims2)[1]*mask2\n",
    "np.allclose(green_inf_constructed, green_inf_ref)"
   ]
  },
  {
   "cell_type": "code",
   "execution_count": 4,
   "metadata": {},
   "outputs": [],
   "source": [
    "xis = nnnn_well.lapl_well.gk[\"mxd\"]\n",
    "xjs = nnnn_well.lapl_well.gk[\"mxj\"]\n",
    "xj1s = nnnn_well.lapl_well.gk[\"mxj1\"]\n",
    "yds = nnnn_well.lapl_well.gk[\"myd_\"]\n",
    "green_nnnn_native_k0 = nnnn_well.lapl_well.source.ifb3_k(s, 0, xis, xjs, xj1s, xed, np.abs(yds-ywd))\n",
    "green_nnnn_native = nnnn_well.lapl_well.source.ifb3_1(s, xis, xjs, xj1s, xed, np.abs(yds-ywd))"
   ]
  },
  {
   "cell_type": "code",
   "execution_count": 5,
   "metadata": {},
   "outputs": [
    {
     "data": {
      "text/plain": [
       "matrix([[  9.58343681e-02,   5.49574082e-02,   3.74892892e-02, ...,\n",
       "           1.03673559e-04,   8.96746373e-05,   7.75907670e-05],\n",
       "        [  5.49574082e-02,   9.58343681e-02,   5.49574082e-02, ...,\n",
       "           1.19898163e-04,   1.03673559e-04,   8.96746373e-05],\n",
       "        [  3.74892892e-02,   5.49574082e-02,   9.58343681e-02, ...,\n",
       "           1.38711075e-04,   1.19898163e-04,   1.03673559e-04],\n",
       "        ..., \n",
       "        [  1.03673559e-04,   1.19898163e-04,   1.38711075e-04, ...,\n",
       "           9.58343681e-02,   5.49574082e-02,   3.74892892e-02],\n",
       "        [  8.96746373e-05,   1.03673559e-04,   1.19898163e-04, ...,\n",
       "           5.49574082e-02,   9.58343681e-02,   5.49574082e-02],\n",
       "        [  7.75907670e-05,   8.96746373e-05,   1.03673559e-04, ...,\n",
       "           3.74892892e-02,   5.49574082e-02,   9.58343681e-02]])"
      ]
     },
     "execution_count": 5,
     "metadata": {},
     "output_type": "execute_result"
    }
   ],
   "source": [
    "green_inf_ref"
   ]
  },
  {
   "cell_type": "code",
   "execution_count": 6,
   "metadata": {},
   "outputs": [
    {
     "data": {
      "text/plain": [
       "array([[  9.58380052e-02,   5.49601348e-02,   3.74919981e-02, ...,\n",
       "          1.03694106e-04,   8.96918739e-05,   7.76063890e-05],\n",
       "       [  5.49601348e-02,   9.58371731e-02,   5.49594122e-02, ...,\n",
       "          1.19915253e-04,   1.03689254e-04,   8.96876452e-05],\n",
       "       [  3.74919981e-02,   5.49594122e-02,   9.58365454e-02, ...,\n",
       "          1.38726862e-04,   1.19911024e-04,   1.03685568e-04],\n",
       "       ..., \n",
       "       [  1.03694106e-04,   1.19915253e-04,   1.38726862e-04, ...,\n",
       "          9.58346011e-02,   5.49571760e-02,   3.74894260e-02],\n",
       "       [  8.96918739e-05,   1.03689254e-04,   1.19911024e-04, ...,\n",
       "          5.49571760e-02,   9.58346011e-02,   5.49571760e-02],\n",
       "       [  7.76063890e-05,   8.96876452e-05,   1.03685568e-04, ...,\n",
       "          3.74894260e-02,   5.49571760e-02,   9.58346010e-02]])"
      ]
     },
     "execution_count": 6,
     "metadata": {},
     "output_type": "execute_result"
    }
   ],
   "source": [
    "green_nnnn_native_k0"
   ]
  },
  {
   "cell_type": "code",
   "execution_count": 7,
   "metadata": {},
   "outputs": [
    {
     "data": {
      "text/plain": [
       "array([[  9.58380053e-02,   5.49601349e-02,   3.74919982e-02, ...,\n",
       "          1.03705786e-04,   8.97052702e-05,   7.76217548e-05],\n",
       "       [  5.49601349e-02,   9.58371732e-02,   5.49594123e-02, ...,\n",
       "          1.19928648e-04,   1.03704619e-04,   8.97052702e-05],\n",
       "       [  3.74919982e-02,   5.49594123e-02,   9.58365455e-02, ...,\n",
       "          1.38742226e-04,   1.19928648e-04,   1.03705786e-04],\n",
       "       ..., \n",
       "       [  1.03705786e-04,   1.19928648e-04,   1.38742226e-04, ...,\n",
       "          9.58365455e-02,   5.49594123e-02,   3.74919982e-02],\n",
       "       [  8.97052702e-05,   1.03704619e-04,   1.19928648e-04, ...,\n",
       "          5.49594123e-02,   9.58371732e-02,   5.49601349e-02],\n",
       "       [  7.76217548e-05,   8.97052702e-05,   1.03705786e-04, ...,\n",
       "          3.74919982e-02,   5.49601349e-02,   9.58380053e-02]])"
      ]
     },
     "execution_count": 7,
     "metadata": {},
     "output_type": "execute_result"
    }
   ],
   "source": [
    "green_nnnn_native"
   ]
  },
  {
   "cell_type": "code",
   "execution_count": 8,
   "metadata": {},
   "outputs": [
    {
     "data": {
      "text/plain": [
       "array([[-0.00593705, -0.00593705, -0.00593705, ..., -0.00593705,\n",
       "        -0.00593705, -0.00593705],\n",
       "       [-0.00593705, -0.00593705, -0.00593705, ..., -0.00593705,\n",
       "        -0.00593705, -0.00593705],\n",
       "       [-0.00593705, -0.00593705, -0.00593705, ..., -0.00593705,\n",
       "        -0.00593705, -0.00593705],\n",
       "       ..., \n",
       "       [-0.00593705, -0.00593705, -0.00593705, ..., -0.00593705,\n",
       "        -0.00593705, -0.00593705],\n",
       "       [-0.00593705, -0.00593705, -0.00593705, ..., -0.00593705,\n",
       "        -0.00593705, -0.00593705],\n",
       "       [-0.00593705, -0.00593705, -0.00593705, ..., -0.00593705,\n",
       "        -0.00593705, -0.00593705]])"
      ]
     },
     "execution_count": 8,
     "metadata": {},
     "output_type": "execute_result"
    }
   ],
   "source": [
    "nnnn_well.lapl_well.source.ifb3_2(s, xjs, xj1s, xed, np.abs(yds-ywd))"
   ]
  },
  {
   "cell_type": "code",
   "execution_count": null,
   "metadata": {
    "collapsed": true
   },
   "outputs": [],
   "source": []
  },
  {
   "cell_type": "code",
   "execution_count": null,
   "metadata": {
    "collapsed": true
   },
   "outputs": [],
   "source": []
  },
  {
   "cell_type": "code",
   "execution_count": null,
   "metadata": {
    "collapsed": true
   },
   "outputs": [],
   "source": []
  },
  {
   "cell_type": "code",
   "execution_count": null,
   "metadata": {
    "collapsed": true
   },
   "outputs": [],
   "source": []
  },
  {
   "cell_type": "code",
   "execution_count": 9,
   "metadata": {
    "collapsed": true
   },
   "outputs": [],
   "source": [
    "outer_bound = \"nnnn\"\n",
    "top_bound = \"imp\"\n",
    "bottom_bound = \"imp\"\n",
    "wtype = \"frac\"\n",
    "n_stehf = 10\n",
    "xwd = 2.5\n",
    "xed = 5.\n",
    "ywd = 2.5\n",
    "yed = 5.\n",
    "N = 20\n",
    "s = 7.\n",
    "\n",
    "params = {\"nseg\": N, \"kx\": 1., \"ky\": 1., \"kz\": 1., \"omega\": 1, \"lambda\": 1, \"Fcd\":100, \"ref_length\":1.,\n",
    "         \"z_ref_length\": 1, \"xed\": xed, \"yed\": yed}\n",
    "real_well = Well(xwd, ywd, outer_bound, top_bound, bottom_bound, wtype, params, n_stehf)\n",
    "well = real_well.lapl_well"
   ]
  },
  {
   "cell_type": "code",
   "execution_count": 10,
   "metadata": {},
   "outputs": [
    {
     "data": {
      "text/plain": [
       "1.2235602114810717"
      ]
     },
     "execution_count": 10,
     "metadata": {},
     "output_type": "execute_result"
    }
   ],
   "source": [
    "real_well.get_pw(1)"
   ]
  },
  {
   "cell_type": "code",
   "execution_count": 9,
   "metadata": {},
   "outputs": [
    {
     "data": {
      "text/plain": [
       "array([[ 0.12094685,  0.07976397,  0.06167542, ...,  0.00353113,\n",
       "         0.00331919,  0.00312087],\n",
       "       [ 0.07976397,  0.12085769,  0.07967996, ...,  0.00374642,\n",
       "         0.00352043,  0.00330907],\n",
       "       [ 0.06167542,  0.07967996,  0.12077853, ...,  0.00397748,\n",
       "         0.0037363 ,  0.00351086],\n",
       "       ..., \n",
       "       [ 0.00353113,  0.00374642,  0.00397748, ...,  0.12014084,\n",
       "         0.07900315,  0.06095716],\n",
       "       [ 0.00331919,  0.00352043,  0.0037363 , ...,  0.07900315,\n",
       "         0.12013943,  0.07900181],\n",
       "       [ 0.00312087,  0.00330907,  0.00351086, ...,  0.06095716,\n",
       "         0.07900181,  0.12013817]])"
      ]
     },
     "execution_count": 9,
     "metadata": {},
     "output_type": "execute_result"
    }
   ],
   "source": [
    "s = 1\n",
    "xis = well.gk[\"mxd\"]\n",
    "xjs = well.gk[\"mxj\"]\n",
    "xj1s = well.gk[\"mxj1\"]\n",
    "yds = well.gk[\"myd_\"]\n",
    "well.source.ifb3_k(s, 0, xis, xjs, xj1s, xed, np.abs(yds-ywd))"
   ]
  },
  {
   "cell_type": "code",
   "execution_count": 10,
   "metadata": {
    "collapsed": true
   },
   "outputs": [],
   "source": [
    "a1_ = (xjs + xis)\n",
    "b1_ = (xj1s + xis)\n",
    "a2_ = (xjs - xis)\n",
    "b2_ = (xj1s - xis)"
   ]
  },
  {
   "cell_type": "code",
   "execution_count": 11,
   "metadata": {},
   "outputs": [
    {
     "data": {
      "text/plain": [
       "array([[-0.025,  0.025,  0.075, ...,  1.825,  1.875,  1.925],\n",
       "       [-0.075, -0.025,  0.025, ...,  1.775,  1.825,  1.875],\n",
       "       [-0.125, -0.075, -0.025, ...,  1.725,  1.775,  1.825],\n",
       "       ..., \n",
       "       [-1.875, -1.825, -1.775, ..., -0.025,  0.025,  0.075],\n",
       "       [-1.925, -1.875, -1.825, ..., -0.075, -0.025,  0.025],\n",
       "       [-1.975, -1.925, -1.875, ..., -0.125, -0.075, -0.025]])"
      ]
     },
     "execution_count": 11,
     "metadata": {},
     "output_type": "execute_result"
    }
   ],
   "source": [
    "a2_"
   ]
  },
  {
   "cell_type": "code",
   "execution_count": 12,
   "metadata": {},
   "outputs": [
    {
     "data": {
      "text/plain": [
       "array([[ 0.025,  0.075,  0.125, ...,  1.875,  1.925,  1.975],\n",
       "       [-0.025,  0.025,  0.075, ...,  1.825,  1.875,  1.925],\n",
       "       [-0.075, -0.025,  0.025, ...,  1.775,  1.825,  1.875],\n",
       "       ..., \n",
       "       [-1.825, -1.775, -1.725, ...,  0.025,  0.075,  0.125],\n",
       "       [-1.875, -1.825, -1.775, ..., -0.025,  0.025,  0.075],\n",
       "       [-1.925, -1.875, -1.825, ..., -0.075, -0.025,  0.025]])"
      ]
     },
     "execution_count": 12,
     "metadata": {},
     "output_type": "execute_result"
    }
   ],
   "source": [
    "b2_"
   ]
  },
  {
   "cell_type": "code",
   "execution_count": 13,
   "metadata": {},
   "outputs": [
    {
     "ename": "AttributeError",
     "evalue": "'Well' object has no attribute 'gk'",
     "output_type": "error",
     "traceback": [
      "\u001b[1;31m---------------------------------------------------------------------------\u001b[0m",
      "\u001b[1;31mAttributeError\u001b[0m                            Traceback (most recent call last)",
      "\u001b[1;32m<ipython-input-13-08e71c4be3e3>\u001b[0m in \u001b[0;36m<module>\u001b[1;34m()\u001b[0m\n\u001b[1;32m----> 1\u001b[1;33m \u001b[0minf_well\u001b[0m\u001b[1;33m.\u001b[0m\u001b[0mgk\u001b[0m\u001b[1;33m[\u001b[0m\u001b[1;34m\"alims1\"\u001b[0m\u001b[1;33m]\u001b[0m\u001b[1;33m\u001b[0m\u001b[0m\n\u001b[0m",
      "\u001b[1;31mAttributeError\u001b[0m: 'Well' object has no attribute 'gk'"
     ]
    }
   ],
   "source": [
    "inf_well.gk[\"alims1\"]"
   ]
  },
  {
   "cell_type": "code",
   "execution_count": null,
   "metadata": {},
   "outputs": [],
   "source": [
    "inf_well.gk[\"alims2\"]"
   ]
  },
  {
   "cell_type": "code",
   "execution_count": 14,
   "metadata": {},
   "outputs": [
    {
     "data": {
      "text/plain": [
       "array([[ 3.025,  3.075,  3.125, ...,  4.875,  4.925,  4.975],\n",
       "       [ 3.075,  3.125,  3.175, ...,  4.925,  4.975,  5.025],\n",
       "       [ 3.125,  3.175,  3.225, ...,  4.975,  5.025,  5.075],\n",
       "       ..., \n",
       "       [ 4.875,  4.925,  4.975, ...,  6.725,  6.775,  6.825],\n",
       "       [ 4.925,  4.975,  5.025, ...,  6.775,  6.825,  6.875],\n",
       "       [ 4.975,  5.025,  5.075, ...,  6.825,  6.875,  6.925]])"
      ]
     },
     "execution_count": 14,
     "metadata": {},
     "output_type": "execute_result"
    }
   ],
   "source": [
    "a1_"
   ]
  },
  {
   "cell_type": "code",
   "execution_count": 15,
   "metadata": {},
   "outputs": [
    {
     "ename": "AttributeError",
     "evalue": "'Well' object has no attribute 'get_green_matrix'",
     "output_type": "error",
     "traceback": [
      "\u001b[1;31m---------------------------------------------------------------------------\u001b[0m",
      "\u001b[1;31mAttributeError\u001b[0m                            Traceback (most recent call last)",
      "\u001b[1;32m<ipython-input-15-f829163e9fc8>\u001b[0m in \u001b[0;36m<module>\u001b[1;34m()\u001b[0m\n\u001b[1;32m----> 1\u001b[1;33m \u001b[0minf_well\u001b[0m\u001b[1;33m.\u001b[0m\u001b[0mget_green_matrix\u001b[0m\u001b[1;33m(\u001b[0m\u001b[0ms\u001b[0m\u001b[1;33m)\u001b[0m\u001b[1;33m\u001b[0m\u001b[0m\n\u001b[0m",
      "\u001b[1;31mAttributeError\u001b[0m: 'Well' object has no attribute 'get_green_matrix'"
     ]
    }
   ],
   "source": [
    "inf_well.get_green_matrix(s)"
   ]
  },
  {
   "cell_type": "code",
   "execution_count": 16,
   "metadata": {},
   "outputs": [
    {
     "data": {
      "text/plain": [
       "array([[ 1.525,  1.525,  1.525, ...,  1.525,  1.525,  1.525],\n",
       "       [ 1.575,  1.575,  1.575, ...,  1.575,  1.575,  1.575],\n",
       "       [ 1.625,  1.625,  1.625, ...,  1.625,  1.625,  1.625],\n",
       "       ..., \n",
       "       [ 3.375,  3.375,  3.375, ...,  3.375,  3.375,  3.375],\n",
       "       [ 3.425,  3.425,  3.425, ...,  3.425,  3.425,  3.425],\n",
       "       [ 3.475,  3.475,  3.475, ...,  3.475,  3.475,  3.475]])"
      ]
     },
     "execution_count": 16,
     "metadata": {},
     "output_type": "execute_result"
    }
   ],
   "source": [
    "xis"
   ]
  },
  {
   "cell_type": "code",
   "execution_count": 11,
   "metadata": {
    "collapsed": true
   },
   "outputs": [],
   "source": [
    "top_bound = \"imp\"\n",
    "bottom_bound = \"imp\"\n",
    "wtype = \"frac\"\n",
    "n_stehf = 10\n",
    "xwd = 2.5\n",
    "xed = 5.\n",
    "ywd = 2.5\n",
    "yed = 5.\n",
    "N = 20\n",
    "s = 7.\n",
    "\n",
    "params = {\"nseg\": N, \"kx\": 1., \"ky\": 1., \"kz\": 1., \"omega\": 1, \"lambda\": 1, \"Fcd\":100, \"ref_length\":1.,\n",
    "         \"z_ref_length\": 1, \"xed\": xed, \"yed\": yed}\n",
    "real_inf = Well(xwd, ywd, \"infinite\", top_bound, bottom_bound, wtype, params, n_stehf)\n",
    "inf_well = real_inf.lapl_well"
   ]
  },
  {
   "cell_type": "code",
   "execution_count": 12,
   "metadata": {},
   "outputs": [
    {
     "data": {
      "text/plain": [
       "1.2288552155946491"
      ]
     },
     "execution_count": 12,
     "metadata": {},
     "output_type": "execute_result"
    }
   ],
   "source": [
    "real_inf.get_pw(1)"
   ]
  },
  {
   "cell_type": "code",
   "execution_count": 13,
   "metadata": {},
   "outputs": [
    {
     "data": {
      "text/plain": [
       "1.2235602114810717"
      ]
     },
     "execution_count": 13,
     "metadata": {},
     "output_type": "execute_result"
    }
   ],
   "source": [
    "real_well.get_pw(1)"
   ]
  },
  {
   "cell_type": "code",
   "execution_count": 16,
   "metadata": {
    "collapsed": true
   },
   "outputs": [],
   "source": [
    "ts = np.logspace(-3, 1, 30)\n",
    "bnd = np.array([])\n",
    "inf = np.array([])\n",
    "for t in ts:\n",
    "    bnd = np.append(bnd, real_well.get_pw(t))\n",
    "    inf = np.append(inf, real_inf.get_pw(t))"
   ]
  },
  {
   "cell_type": "code",
   "execution_count": 18,
   "metadata": {},
   "outputs": [
    {
     "data": {
      "text/plain": [
       "[<matplotlib.lines.Line2D at 0x7ca6a10>]"
      ]
     },
     "execution_count": 18,
     "metadata": {},
     "output_type": "execute_result"
    },
    {
     "data": {
      "image/png": "[encoded data removed]",
      "text/plain": [
       "<matplotlib.figure.Figure at 0x7901670>"
      ]
     },
     "metadata": {},
     "output_type": "display_data"
    }
   ],
   "source": [
    "plt.plot(ts, inf)\n",
    "plt.plot(ts, bnd)"
   ]
  },
  {
   "cell_type": "code",
   "execution_count": 8,
   "metadata": {},
   "outputs": [
    {
     "data": {
      "text/plain": [
       "[<matplotlib.lines.Line2D at 0x7325530>]"
      ]
     },
     "execution_count": 8,
     "metadata": {},
     "output_type": "execute_result"
    },
    {
     "data": {
      "image/png": "[encoded data removed]",
      "text/plain": [
       "<matplotlib.figure.Figure at 0x7294bb0>"
      ]
     },
     "metadata": {},
     "output_type": "display_data"
    }
   ],
   "source": [
    "plt.plot(ts, inf/bnd)"
   ]
  },
  {
   "cell_type": "code",
   "execution_count": 3,
   "metadata": {
    "collapsed": true
   },
   "outputs": [],
   "source": [
    "def ifb3_k(s, k, xis, xjs, xj1s, xed, dyds):\n",
    "    su = (s)**0.5\n",
    "    orig_shape = xis.shape\n",
    "    fxis, fxjs, fxj1s, fdyds = xis.reshape(-1), xjs.reshape(-1), xj1s.reshape(-1), dyds.reshape(-1)\n",
    "    ans = np.zeros_like(fxis)\n",
    "    inds_0 = np.argwhere(np.isclose(fdyds, 0.)).flatten()\n",
    "    inds_nnz = np.argwhere(fdyds != 0.).flatten()\n",
    "    xis_0, xjs_0, xj1s_0 = fxis[inds_0], fxjs[inds_0], fxj1s[inds_0]\n",
    "    xis_nnz, xjs_nnz, xj1s_nnz = fxis[inds_nnz], fxjs[inds_nnz], fxj1s[inds_nnz]\n",
    "    if len(inds_0) > 0:\n",
    "        a1 = su*(xjs_0 + xis_0 - 2*k*xed)\n",
    "        b1 = su*(xj1s_0 + xis_0 - 2*k*xed)\n",
    "        a2 = su*(xjs_0 - xis_0 - 2*k*xed)\n",
    "        b2 = su*(xj1s_0 - xis_0 - 2*k*xed)\n",
    "        s1 = 1 - 2*(a1 > 0.)\n",
    "        s2 = 1 - 2*(b1 < 0.)\n",
    "        s3 = 1 - 2*(a2 > 0.)\n",
    "        s4 = 1 - 2*(b2 < 0.)\n",
    "        a1 = np.round(np.abs(a1), decimals=6)\n",
    "        b1 = np.round(np.abs(b1), decimals=6)\n",
    "        a2 = np.round(np.abs(a2), decimals=6)\n",
    "        b2 = np.round(np.abs(b2), decimals=6)\n",
    "        u1, i1 = np.unique(a1, return_inverse = True)\n",
    "        u2, i2 = np.unique(b1, return_inverse = True)\n",
    "        u3, i3 = np.unique(a2, return_inverse = True)\n",
    "        u4, i4 = np.unique(b2, return_inverse = True)\n",
    "        ua = np.concatenate((u1, u2, u3, u4))\n",
    "        u, i = np.unique(ua, return_inverse = True)\n",
    "        va = 1./su/xed*iti0k0(u)[1][i]\n",
    "        v1 = va[:len(u1)][i1]\n",
    "        v2 = va[len(u1):len(u1)+len(u2)][i2]\n",
    "        v3 = va[len(u1)+len(u2):len(u1)+len(u2)+len(u3)][i3]\n",
    "        v4 = va[len(u1)+len(u2)+len(u3):][i4]\n",
    "        ans[inds_0] = v1*s1 + v2*s2 + v3*s3 + v4*s4\n",
    "    if len(inds_nnz) > 0:\n",
    "        raise NotImplementedError\n",
    "    return ans.reshape(orig_shape)\n",
    "\n",
    "def ifb3_1(s, xis, xjs, xj1s, xed, dyds, debug=False):\n",
    "    KMAX = 100\n",
    "    EPS = 1e-12\n",
    "    TINY = 1e-20\n",
    "    sum_ = ifb3_k(s, 0, xis, xjs, xj1s, xed, dyds)\n",
    "    try:\n",
    "        for k in range(1, KMAX):\n",
    "            d = ifb3_k(s, k, xis, xjs, xj1s, xed, dyds)\n",
    "            d += ifb3_k(s, -k, xis, xjs, xj1s, xed, dyds)\n",
    "            sum_ += d\n",
    "            if np.max(d)/(np.min(sum_) + TINY) < EPS:\n",
    "                if debug:\n",
    "                    return (0.5*sum_, k)\n",
    "                else:\n",
    "                    return 0.5*sum_\n",
    "        raise RuntimeWarning(\"ifb3_1 did not converge in {} steps\".format(KMAX))\n",
    "    except RuntimeWarning:\n",
    "        return 0.5*sum_\n",
    "    \n",
    "def ifb3_2(s, xjs, xj1s, xed, dyds):\n",
    "    su = s**0.5\n",
    "    return -0.5*np.pi/xed/su*(xj1s - xjs)*np.exp(-su*dyds)\n",
    "\n",
    "def ifb3(s, xis, xjs, xj1s, xed, dyds):\n",
    "    return ifb3_1(s, xis, xjs, xj1s, xed, dyds) + ifb3_2(s, xjs, xj1s, xed, dyds)"
   ]
  },
  {
   "cell_type": "code",
   "execution_count": 4,
   "metadata": {
    "collapsed": true
   },
   "outputs": [],
   "source": [
    "xis = well.gk[\"mxd\"]\n",
    "xjs = well.gk[\"mxj\"]\n",
    "xj1s = well.gk[\"mxj1\"]\n",
    "dyds = well.gk[\"myd\"]\n",
    "yds = well.gk[\"myd_\"]"
   ]
  },
  {
   "cell_type": "code",
   "execution_count": 5,
   "metadata": {
    "collapsed": true
   },
   "outputs": [],
   "source": [
    "ans = ifb3_k(s, 0, xis, xjs, xj1s, xed, dyds)"
   ]
  },
  {
   "cell_type": "code",
   "execution_count": 6,
   "metadata": {},
   "outputs": [
    {
     "data": {
      "text/plain": [
       "array([[ 2.5,  2.5,  2.5, ...,  2.5,  2.5,  2.5],\n",
       "       [ 2.5,  2.5,  2.5, ...,  2.5,  2.5,  2.5],\n",
       "       [ 2.5,  2.5,  2.5, ...,  2.5,  2.5,  2.5],\n",
       "       ..., \n",
       "       [ 2.5,  2.5,  2.5, ...,  2.5,  2.5,  2.5],\n",
       "       [ 2.5,  2.5,  2.5, ...,  2.5,  2.5,  2.5],\n",
       "       [ 2.5,  2.5,  2.5, ...,  2.5,  2.5,  2.5]])"
      ]
     },
     "execution_count": 6,
     "metadata": {},
     "output_type": "execute_result"
    }
   ],
   "source": [
    "yds"
   ]
  },
  {
   "cell_type": "code",
   "execution_count": 7,
   "metadata": {},
   "outputs": [
    {
     "data": {
      "text/plain": [
       "(array([[  1.91676011e-02,   1.09920270e-02,   7.49839964e-03, ...,\n",
       "           2.07411571e-05,   1.79410540e-05,   1.55243510e-05],\n",
       "        [  1.09920270e-02,   1.91674346e-02,   1.09918825e-02, ...,\n",
       "           2.39857296e-05,   2.07409237e-05,   1.79410540e-05],\n",
       "        [  7.49839964e-03,   1.09918825e-02,   1.91673091e-02, ...,\n",
       "           2.77484452e-05,   2.39857296e-05,   2.07411571e-05],\n",
       "        ..., \n",
       "        [  2.07411571e-05,   2.39857296e-05,   2.77484452e-05, ...,\n",
       "           1.91673091e-02,   1.09918825e-02,   7.49839964e-03],\n",
       "        [  1.79410540e-05,   2.07409237e-05,   2.39857296e-05, ...,\n",
       "           1.09918825e-02,   1.91674346e-02,   1.09920270e-02],\n",
       "        [  1.55243510e-05,   1.79410540e-05,   2.07411571e-05, ...,\n",
       "           7.49839964e-03,   1.09920270e-02,   1.91676011e-02]]), 2)"
      ]
     },
     "execution_count": 7,
     "metadata": {},
     "output_type": "execute_result"
    }
   ],
   "source": [
    "ifb3_1(s, xis, xjs, xj1s, xed, dyds, debug=True)"
   ]
  },
  {
   "cell_type": "code",
   "execution_count": 8,
   "metadata": {},
   "outputs": [
    {
     "data": {
      "text/plain": [
       "(array([[  1.91676011e-02,   1.09920270e-02,   7.49839964e-03, ...,\n",
       "           2.07411571e-05,   1.79410540e-05,   1.55243510e-05],\n",
       "        [  1.09920270e-02,   1.91674346e-02,   1.09918825e-02, ...,\n",
       "           2.39857296e-05,   2.07409237e-05,   1.79410540e-05],\n",
       "        [  7.49839964e-03,   1.09918825e-02,   1.91673091e-02, ...,\n",
       "           2.77484452e-05,   2.39857296e-05,   2.07411571e-05],\n",
       "        ..., \n",
       "        [  2.07411571e-05,   2.39857296e-05,   2.77484452e-05, ...,\n",
       "           1.91673091e-02,   1.09918825e-02,   7.49839964e-03],\n",
       "        [  1.79410540e-05,   2.07409237e-05,   2.39857296e-05, ...,\n",
       "           1.09918825e-02,   1.91674346e-02,   1.09920270e-02],\n",
       "        [  1.55243510e-05,   1.79410540e-05,   2.07411571e-05, ...,\n",
       "           7.49839964e-03,   1.09920270e-02,   1.91676011e-02]]), 2)"
      ]
     },
     "execution_count": 8,
     "metadata": {},
     "output_type": "execute_result"
    }
   ],
   "source": [
    "well.source.ifb3_1(s, xis, xjs, xj1s, xed, dyds, debug=True)"
   ]
  },
  {
   "cell_type": "code",
   "execution_count": 9,
   "metadata": {
    "collapsed": true
   },
   "outputs": [],
   "source": [
    "def ifb2_k(k, s, xis, xjs, xj1s, xed, yds, ywd, yed):\n",
    "    ek = (s + k*k*np.pi*np.pi/xed/xed)**0.5\n",
    "    yd1_w = yed - np.abs(yds-ywd)\n",
    "    yd2_w = yed - (yds+ywd)\n",
    "    sexp = calc_sexp(ek, yed)\n",
    "    p1 = 2./k/ek*np.cos(k*np.pi*xis/xed)\n",
    "    p1 *= np.sin(k*np.pi/2./xed*(xj1s-xjs))\n",
    "    p1 *= np.cos(k*np.pi/2./xed*(2*xis - (xjs + xj1s)))\n",
    "    p1 *= (np.exp(-ek*(yds+ywd)) + np.exp(-ek*(yed+yd1_w)) + np.exp(-ek*(yed+yd2_w)))*(1 + sexp) + np.exp(-ek*np.abs(yds-ywd))*sexp\n",
    "    return p1"
   ]
  },
  {
   "cell_type": "code",
   "execution_count": 10,
   "metadata": {
    "collapsed": true
   },
   "outputs": [],
   "source": [
    "def calc_sexp(ek, yed):\n",
    "    ek_ = ek*yed\n",
    "    MAXITER = 300\n",
    "    blk_size = 3\n",
    "    TINY = 1e-20\n",
    "    EPS = 1e-12\n",
    "    sum_ = 0.\n",
    "    for i in range(1, MAXITER):\n",
    "        blk = np.arange(1+i*blk_size, 1+(i+1)*blk_size)\n",
    "        d = np.sum(np.exp(-2*blk*ek_))\n",
    "        sum_ += d\n",
    "        if d/(sum_ + TINY) < EPS:\n",
    "            return sum_\n",
    "    raise RuntimeWarning(\"calc_sexp did not converge in {} steps\".format(MAXITER))"
   ]
  },
  {
   "cell_type": "code",
   "execution_count": 11,
   "metadata": {},
   "outputs": [],
   "source": [
    "def ifb2(s, xis, xjs, xj1s, xed, yds, ywd, yed, debug = False):\n",
    "    blk_size = 10\n",
    "    MAXITER = 1000\n",
    "    TINY = 1e-20\n",
    "    EPS = 1e-12\n",
    "    sum_ = np.zeros_like(xis)\n",
    "    for i in range(MAXITER):\n",
    "        blk = np.arange(1+i*blk_size, 1+(i+1)*blk_size)\n",
    "        d = np.zeros_like(xis)\n",
    "        for k in blk:\n",
    "            d += ifb2_k(k, s, xis, xjs, xj1s, xed, yds, ywd, yed)\n",
    "        sum_ += d\n",
    "        if np.mean(np.abs(d))/(np.mean(np.abs(sum_))+TINY) < EPS:\n",
    "            if debug:\n",
    "                return sum_, i*blk_size\n",
    "            else:\n",
    "                return sum_\n",
    "    raise RuntimeWarning(\"ifb2 did not converge in {} steps\".format(MAXITER))\n",
    "        "
   ]
  },
  {
   "cell_type": "code",
   "execution_count": 12,
   "metadata": {},
   "outputs": [
    {
     "data": {
      "text/plain": [
       "[<matplotlib.lines.Line2D at 0x728b610>]"
      ]
     },
     "execution_count": 12,
     "metadata": {},
     "output_type": "execute_result"
    },
    {
     "data": {
      "image/png": "[encoded data removed]",
      "text/plain": [
       "<matplotlib.figure.Figure at 0x6250090>"
      ]
     },
     "metadata": {},
     "output_type": "display_data"
    }
   ],
   "source": [
    "plt.plot(ifb2(s, xis, xjs, xj1s, xed, yds, ywd, yed)[0])\n",
    "plt.plot(ifb2(s, xis, xjs, xj1s, xed, yds, ywd, yed)[-1])"
   ]
  },
  {
   "cell_type": "code",
   "execution_count": 13,
   "metadata": {
    "collapsed": true
   },
   "outputs": [],
   "source": [
    "ans, steps = ifb2(1000, xis, xjs, xj1s, xed, yds, ywd, yed, debug=True)"
   ]
  },
  {
   "cell_type": "code",
   "execution_count": 14,
   "metadata": {},
   "outputs": [
    {
     "data": {
      "text/plain": [
       "0"
      ]
     },
     "execution_count": 14,
     "metadata": {},
     "output_type": "execute_result"
    }
   ],
   "source": [
    "steps"
   ]
  },
  {
   "cell_type": "code",
   "execution_count": 15,
   "metadata": {},
   "outputs": [
    {
     "data": {
      "text/plain": [
       "array([[ 0.02510471,  0.01692913,  0.01343551, ...,  0.00595785,\n",
       "         0.00595505,  0.00595263],\n",
       "       [ 0.01692913,  0.02510454,  0.01692899, ...,  0.00596109,\n",
       "         0.00595785,  0.00595505],\n",
       "       [ 0.0134355 ,  0.01692899,  0.02510441, ...,  0.00596485,\n",
       "         0.00596109,  0.00595785],\n",
       "       ..., \n",
       "       [ 0.00595783,  0.00596108,  0.00596484, ...,  0.02510439,\n",
       "         0.01692896,  0.01343548],\n",
       "       [ 0.00595503,  0.00595783,  0.00596107, ...,  0.01692896,\n",
       "         0.02510451,  0.0169291 ],\n",
       "       [ 0.00595261,  0.00595503,  0.00595783, ...,  0.01343548,\n",
       "         0.0169291 ,  0.02510468]])"
      ]
     },
     "execution_count": 15,
     "metadata": {},
     "output_type": "execute_result"
    }
   ],
   "source": [
    "well.source.integrate_source_functions_bounded(s, xis, xjs, xj1s, xed, yds, ywd, yed)"
   ]
  },
  {
   "cell_type": "code",
   "execution_count": null,
   "metadata": {
    "collapsed": true
   },
   "outputs": [],
   "source": []
  }
 ],
 "metadata": {
  "kernelspec": {
   "display_name": "Python 3",
   "language": "python",
   "name": "python3"
  },
  "language_info": {
   "codemirror_mode": {
    "name": "ipython",
    "version": 3
   },
   "file_extension": ".py",
   "mimetype": "text/x-python",
   "name": "python",
   "nbconvert_exporter": "python",
   "pygments_lexer": "ipython3",
   "version": "3.6.1"
  }
 },
 "nbformat": 4,
 "nbformat_minor": 2
}
