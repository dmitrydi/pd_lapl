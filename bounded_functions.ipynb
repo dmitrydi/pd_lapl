{
 "cells": [
  {
   "cell_type": "code",
   "execution_count": 1,
   "metadata": {},
   "outputs": [],
   "source": [
    "import numpy as np\n",
    "import matplotlib.pyplot as plt\n",
    "from well import Well\n",
    "from geometry_keeper import GeometryKeeper\n",
    "from scipy.integrate import quad\n",
    "from scipy.special import k0, iti0k0\n",
    "import matplotlib.pyplot as plt\n",
    "% matplotlib inline"
   ]
  },
  {
   "cell_type": "code",
   "execution_count": 2,
   "metadata": {
    "collapsed": true
   },
   "outputs": [],
   "source": [
    "outer_bound = \"nnnn\"\n",
    "top_bound = \"imp\"\n",
    "bottom_bound = \"imp\"\n",
    "wtype = \"frac\"\n",
    "n_stehf = 10\n",
    "xwd = 2.5\n",
    "xed = 5.\n",
    "ywd = 2.5\n",
    "yed = 5.\n",
    "N = 20\n",
    "s = 7.\n",
    "\n",
    "params = {\"nseg\": N, \"kx\": 1., \"ky\": 1., \"kz\": 1., \"omega\": 1, \"lambda\": 1, \"Fcd\":100, \"ref_length\":1.,\n",
    "         \"z_ref_length\": 1}\n",
    "real_well = Well(xwd, ywd, outer_bound, top_bound, bottom_bound, wtype, params, n_stehf)\n",
    "well = real_well.lapl_well"
   ]
  },
  {
   "cell_type": "code",
   "execution_count": 3,
   "metadata": {},
   "outputs": [],
   "source": [
    "def ifb3_k(s, k, xis, xjs, xj1s, xed, dyds):\n",
    "    su = (s)**0.5\n",
    "    orig_shape = xis.shape\n",
    "    fxis, fxjs, fxj1s, fdyds = xis.reshape(-1), xjs.reshape(-1), xj1s.reshape(-1), dyds.reshape(-1)\n",
    "    ans = np.zeros_like(fxis)\n",
    "    inds_0 = np.argwhere(np.isclose(fdyds, 0.)).flatten()\n",
    "    inds_nnz = np.argwhere(fdyds != 0.).flatten()\n",
    "    xis_0, xjs_0, xj1s_0 = fxis[inds_0], fxjs[inds_0], fxj1s[inds_0]\n",
    "    xis_nnz, xjs_nnz, xj1s_nnz = fxis[inds_nnz], fxjs[inds_nnz], fxj1s[inds_nnz]\n",
    "    if len(inds_0) > 0:\n",
    "        a1 = su*(xjs_0 + xis_0 - 2*k*xed)\n",
    "        b1 = su*(xj1s_0 + xis_0 - 2*k*xed)\n",
    "        a2 = su*(xjs_0 - xis_0 - 2*k*xed)\n",
    "        b2 = su*(xj1s_0 - xis_0 - 2*k*xed)\n",
    "        s1 = 1 - 2*(a1 > 0.)\n",
    "        s2 = 1 - 2*(b1 < 0.)\n",
    "        s3 = 1 - 2*(a2 > 0.)\n",
    "        s4 = 1 - 2*(b2 < 0.)\n",
    "        a1 = np.round(np.abs(a1), decimals=6)\n",
    "        b1 = np.round(np.abs(b1), decimals=6)\n",
    "        a2 = np.round(np.abs(a2), decimals=6)\n",
    "        b2 = np.round(np.abs(b2), decimals=6)\n",
    "        u1, i1 = np.unique(a1, return_inverse = True)\n",
    "        u2, i2 = np.unique(b1, return_inverse = True)\n",
    "        u3, i3 = np.unique(a2, return_inverse = True)\n",
    "        u4, i4 = np.unique(b2, return_inverse = True)\n",
    "        ua = np.concatenate((u1, u2, u3, u4))\n",
    "        u, i = np.unique(ua, return_inverse = True)\n",
    "        va = 1./su/xed*iti0k0(u)[1][i]\n",
    "        v1 = va[:len(u1)][i1]\n",
    "        v2 = va[len(u1):len(u1)+len(u2)][i2]\n",
    "        v3 = va[len(u1)+len(u2):len(u1)+len(u2)+len(u3)][i3]\n",
    "        v4 = va[len(u1)+len(u2)+len(u3):][i4]\n",
    "        ans[inds_0] = v1*s1 + v2*s2 + v3*s3 + v4*s4\n",
    "    if len(inds_nnz) > 0:\n",
    "        raise NotImplementedError\n",
    "    return ans.reshape(orig_shape)\n",
    "\n",
    "def ifb3_1(s, xis, xjs, xj1s, xed, dyds, debug=False):\n",
    "    KMAX = 100\n",
    "    EPS = 1e-12\n",
    "    TINY = 1e-20\n",
    "    sum_ = ifb3_k(s, 0, xis, xjs, xj1s, xed, dyds)\n",
    "    for k in range(1, KMAX):\n",
    "        d = ifb3_k(s, k, xis, xjs, xj1s, xed, dyds)\n",
    "        d += ifb3_k(s, -k, xis, xjs, xj1s, xed, dyds)\n",
    "        sum_ += d\n",
    "        if np.max(d)/(np.min(sum_) + TINY) < EPS:\n",
    "            if debug:\n",
    "                return (0.5*sum_, k)\n",
    "            else:\n",
    "                return 0.5*sum_\n",
    "    raise RuntimeWarning(\"ifb3_1 did not converge in {} steps\".format(KMAX))\n",
    "    \n",
    "def ifb3_2(s, xjs, xj1s, xed, dyds):\n",
    "    su = s**0.5\n",
    "    return -0.5*np.pi/xed/su*(xj1s - xjs)*np.exp(-su*dyds)\n",
    "\n",
    "def ifb3(s, xis, xjs, xj1s, xed, dyds):\n",
    "    return ifb3_1(s, xis, xjs, xj1s, xed, dyds) + ifb3_2(s, xjs, xj1s, xed, dyds)"
   ]
  },
  {
   "cell_type": "code",
   "execution_count": 4,
   "metadata": {
    "collapsed": true
   },
   "outputs": [],
   "source": [
    "xis = well.gk[\"mxd\"]\n",
    "xjs = well.gk[\"mxj\"]\n",
    "xj1s = well.gk[\"mxj1\"]\n",
    "dyds = well.gk[\"myd\"]"
   ]
  },
  {
   "cell_type": "code",
   "execution_count": 5,
   "metadata": {},
   "outputs": [],
   "source": [
    "ans = ifb3_k(s, 0, xis, xjs, xj1s, xed, dyds)"
   ]
  },
  {
   "cell_type": "code",
   "execution_count": 12,
   "metadata": {},
   "outputs": [
    {
     "data": {
      "text/plain": [
       "array([[  1.91676011e-02,   1.09920270e-02,   7.49839964e-03, ...,\n",
       "          2.07411571e-05,   1.79410540e-05,   1.55243510e-05],\n",
       "       [  1.09920270e-02,   1.91674346e-02,   1.09918825e-02, ...,\n",
       "          2.39857296e-05,   2.07409237e-05,   1.79410540e-05],\n",
       "       [  7.49839964e-03,   1.09918825e-02,   1.91673091e-02, ...,\n",
       "          2.77484452e-05,   2.39857296e-05,   2.07411571e-05],\n",
       "       ..., \n",
       "       [  2.07411571e-05,   2.39857296e-05,   2.77484452e-05, ...,\n",
       "          1.91673091e-02,   1.09918825e-02,   7.49839964e-03],\n",
       "       [  1.79410540e-05,   2.07409237e-05,   2.39857296e-05, ...,\n",
       "          1.09918825e-02,   1.91674346e-02,   1.09920270e-02],\n",
       "       [  1.55243510e-05,   1.79410540e-05,   2.07411571e-05, ...,\n",
       "          7.49839964e-03,   1.09920270e-02,   1.91676011e-02]])"
      ]
     },
     "execution_count": 12,
     "metadata": {},
     "output_type": "execute_result"
    }
   ],
   "source": [
    "ifb3_1(s, xis, xjs, xj1s, xed, dyds, debug=False)"
   ]
  },
  {
   "cell_type": "code",
   "execution_count": 13,
   "metadata": {},
   "outputs": [
    {
     "data": {
      "text/plain": [
       "array([[  1.91676011e-02,   1.09920270e-02,   7.49839964e-03, ...,\n",
       "          2.07411571e-05,   1.79410540e-05,   1.55243510e-05],\n",
       "       [  1.09920270e-02,   1.91674346e-02,   1.09918825e-02, ...,\n",
       "          2.39857296e-05,   2.07409237e-05,   1.79410540e-05],\n",
       "       [  7.49839964e-03,   1.09918825e-02,   1.91673091e-02, ...,\n",
       "          2.77484452e-05,   2.39857296e-05,   2.07411571e-05],\n",
       "       ..., \n",
       "       [  2.07411571e-05,   2.39857296e-05,   2.77484452e-05, ...,\n",
       "          1.91673091e-02,   1.09918825e-02,   7.49839964e-03],\n",
       "       [  1.79410540e-05,   2.07409237e-05,   2.39857296e-05, ...,\n",
       "          1.09918825e-02,   1.91674346e-02,   1.09920270e-02],\n",
       "       [  1.55243510e-05,   1.79410540e-05,   2.07411571e-05, ...,\n",
       "          7.49839964e-03,   1.09920270e-02,   1.91676011e-02]])"
      ]
     },
     "execution_count": 13,
     "metadata": {},
     "output_type": "execute_result"
    }
   ],
   "source": [
    "well.source.ifb3_1(s, xis, xjs, xj1s, xed, dyds)"
   ]
  },
  {
   "cell_type": "code",
   "execution_count": null,
   "metadata": {
    "collapsed": true
   },
   "outputs": [],
   "source": []
  }
 ],
 "metadata": {
  "kernelspec": {
   "display_name": "Python 3",
   "language": "python",
   "name": "python3"
  },
  "language_info": {
   "codemirror_mode": {
    "name": "ipython",
    "version": 3
   },
   "file_extension": ".py",
   "mimetype": "text/x-python",
   "name": "python",
   "nbconvert_exporter": "python",
   "pygments_lexer": "ipython3",
   "version": "3.6.1"
  }
 },
 "nbformat": 4,
 "nbformat_minor": 2
}
