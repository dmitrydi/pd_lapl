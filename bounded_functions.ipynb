{
 "cells": [
  {
   "cell_type": "code",
   "execution_count": 1,
   "metadata": {
    "collapsed": true
   },
   "outputs": [],
   "source": [
    "import numpy as np"
   ]
  },
  {
   "cell_type": "code",
   "execution_count": 170,
   "metadata": {
    "collapsed": true
   },
   "outputs": [],
   "source": [
    "def integers(start_val, blk_size=100, use_negatives = False):\n",
    "    x = np.arange(start_val, blk_size+start_val, dtype=np.float)\n",
    "    while True:\n",
    "        yield x\n",
    "        if use_negatives:\n",
    "            if start_val == 0:\n",
    "                yield -x -1\n",
    "            else:\n",
    "                yield -x\n",
    "        x += blk_size"
   ]
  },
  {
   "cell_type": "code",
   "execution_count": 171,
   "metadata": {},
   "outputs": [
    {
     "name": "stdout",
     "output_type": "stream",
     "text": [
      "[   1.    2.    3.    4.    5.    6.    7.    8.    9.   10.   11.   12.\n",
      "   13.   14.   15.   16.   17.   18.   19.   20.   21.   22.   23.   24.\n",
      "   25.   26.   27.   28.   29.   30.   31.   32.   33.   34.   35.   36.\n",
      "   37.   38.   39.   40.   41.   42.   43.   44.   45.   46.   47.   48.\n",
      "   49.   50.   51.   52.   53.   54.   55.   56.   57.   58.   59.   60.\n",
      "   61.   62.   63.   64.   65.   66.   67.   68.   69.   70.   71.   72.\n",
      "   73.   74.   75.   76.   77.   78.   79.   80.   81.   82.   83.   84.\n",
      "   85.   86.   87.   88.   89.   90.   91.   92.   93.   94.   95.   96.\n",
      "   97.   98.   99.  100.]\n",
      "[  -1.   -2.   -3.   -4.   -5.   -6.   -7.   -8.   -9.  -10.  -11.  -12.\n",
      "  -13.  -14.  -15.  -16.  -17.  -18.  -19.  -20.  -21.  -22.  -23.  -24.\n",
      "  -25.  -26.  -27.  -28.  -29.  -30.  -31.  -32.  -33.  -34.  -35.  -36.\n",
      "  -37.  -38.  -39.  -40.  -41.  -42.  -43.  -44.  -45.  -46.  -47.  -48.\n",
      "  -49.  -50.  -51.  -52.  -53.  -54.  -55.  -56.  -57.  -58.  -59.  -60.\n",
      "  -61.  -62.  -63.  -64.  -65.  -66.  -67.  -68.  -69.  -70.  -71.  -72.\n",
      "  -73.  -74.  -75.  -76.  -77.  -78.  -79.  -80.  -81.  -82.  -83.  -84.\n",
      "  -85.  -86.  -87.  -88.  -89.  -90.  -91.  -92.  -93.  -94.  -95.  -96.\n",
      "  -97.  -98.  -99. -100.]\n",
      "[ 101.  102.  103.  104.  105.  106.  107.  108.  109.  110.  111.  112.\n",
      "  113.  114.  115.  116.  117.  118.  119.  120.  121.  122.  123.  124.\n",
      "  125.  126.  127.  128.  129.  130.  131.  132.  133.  134.  135.  136.\n",
      "  137.  138.  139.  140.  141.  142.  143.  144.  145.  146.  147.  148.\n",
      "  149.  150.  151.  152.  153.  154.  155.  156.  157.  158.  159.  160.\n",
      "  161.  162.  163.  164.  165.  166.  167.  168.  169.  170.  171.  172.\n",
      "  173.  174.  175.  176.  177.  178.  179.  180.  181.  182.  183.  184.\n",
      "  185.  186.  187.  188.  189.  190.  191.  192.  193.  194.  195.  196.\n",
      "  197.  198.  199.  200.]\n",
      "[-101. -102. -103. -104. -105. -106. -107. -108. -109. -110. -111. -112.\n",
      " -113. -114. -115. -116. -117. -118. -119. -120. -121. -122. -123. -124.\n",
      " -125. -126. -127. -128. -129. -130. -131. -132. -133. -134. -135. -136.\n",
      " -137. -138. -139. -140. -141. -142. -143. -144. -145. -146. -147. -148.\n",
      " -149. -150. -151. -152. -153. -154. -155. -156. -157. -158. -159. -160.\n",
      " -161. -162. -163. -164. -165. -166. -167. -168. -169. -170. -171. -172.\n",
      " -173. -174. -175. -176. -177. -178. -179. -180. -181. -182. -183. -184.\n",
      " -185. -186. -187. -188. -189. -190. -191. -192. -193. -194. -195. -196.\n",
      " -197. -198. -199. -200.]\n"
     ]
    }
   ],
   "source": [
    "gen = integers(1, use_negatives=True)\n",
    "for i, x in enumerate(gen):\n",
    "    print(x)\n",
    "    if i == 3:\n",
    "        break"
   ]
  },
  {
   "cell_type": "code",
   "execution_count": 172,
   "metadata": {
    "collapsed": true
   },
   "outputs": [],
   "source": [
    "def f_s(s, w=1, l=1):\n",
    "    return (s*w*(1-w)+l)/(s*(1-w)+l)"
   ]
  },
  {
   "cell_type": "code",
   "execution_count": 32,
   "metadata": {
    "collapsed": true
   },
   "outputs": [],
   "source": [
    "def exp_m_k(s, m, k, xed, yed):\n",
    "    ek = (s*f_s(s) + k*k*np.pi*np.pi/xed/xed)**0.5\n",
    "    return np.exp(-2*m*yed*ek)"
   ]
  },
  {
   "cell_type": "code",
   "execution_count": 108,
   "metadata": {},
   "outputs": [],
   "source": [
    "m = np.arange(1,100)\n",
    "s = 7\n",
    "k = 1\n",
    "xed = 20\n",
    "yed = 10\n",
    "a = exp_m_k(s, m, k, xed, yed)"
   ]
  },
  {
   "cell_type": "code",
   "execution_count": 173,
   "metadata": {},
   "outputs": [],
   "source": [
    "def summator(f, start_val, block_size=10, axis=0, use_negatives=False, eps_rel=1e-6, max_iter=10):\n",
    "    gen = integers(start_val, blk_size=block_size, use_negatives=use_negatives)\n",
    "    inits = next(gen)\n",
    "    total = np.sum(f(inits))\n",
    "    if np.all(total == 0.):\n",
    "        return total\n",
    "    for i in range(max_iter):\n",
    "        x = next(gen)\n",
    "        diff = np.sum(f(x), axis=axis)\n",
    "        rel_diff = np.abs(np.linalg.norm(diff/total))\n",
    "        if rel_diff < eps_rel:\n",
    "            return total + diff, rel_diff, i+1\n",
    "        else:\n",
    "            total += diff\n",
    "    #raise RuntimeWarning(\"summator did no converge in {} steps\".format(max_iter))\n",
    "    return total, rel_diff, i"
   ]
  },
  {
   "cell_type": "code",
   "execution_count": 174,
   "metadata": {},
   "outputs": [],
   "source": [
    "mm = np.ones((len(m), len(m)))*m"
   ]
  },
  {
   "cell_type": "code",
   "execution_count": 175,
   "metadata": {},
   "outputs": [],
   "source": [
    "f = lambda x: exp_m_k(s, x, k, xed, yed)"
   ]
  },
  {
   "cell_type": "code",
   "execution_count": 176,
   "metadata": {},
   "outputs": [
    {
     "data": {
      "text/plain": [
       "(2.6848983510153794e-12, 1.9466079002537945e-116, 1)"
      ]
     },
     "execution_count": 176,
     "metadata": {},
     "output_type": "execute_result"
    }
   ],
   "source": [
    "summator(f, 1)"
   ]
  },
  {
   "cell_type": "code",
   "execution_count": 177,
   "metadata": {
    "collapsed": true
   },
   "outputs": [],
   "source": [
    "from numpy import cosh, sinh, sin, cos"
   ]
  },
  {
   "cell_type": "code",
   "execution_count": 178,
   "metadata": {},
   "outputs": [],
   "source": [
    "def g_k(xi, xi_1, s, k, xd, xwd, xed, yd, ywd, yed):\n",
    "    pi = np.pi\n",
    "    yd1 = yed - np.abs(yd-ywd)\n",
    "    yd2 = yed - (yd+ywd)\n",
    "    u = s*f_s(s)\n",
    "    ek = np.sqrt(u + k*k*pi*pi/xed/xed)\n",
    "    return 2.*xed/k/pi*sin(k*pi*(xi_1-xi)/xed)*cos(k*pi/xed*(2.*xwd-xi-xi_1))*cos(k*pi*xd/xed)*(cosh(ek*yd1)+cosh(ek*yd2))/ek/sinh(ek*yed)"
   ]
  },
  {
   "cell_type": "code",
   "execution_count": 179,
   "metadata": {},
   "outputs": [],
   "source": [
    "xends = 0.1*np.arange(-10,11)"
   ]
  },
  {
   "cell_type": "code",
   "execution_count": 197,
   "metadata": {},
   "outputs": [],
   "source": [
    "s = 0.1\n",
    "xed = 10.\n",
    "yed = 5.\n",
    "xwd = xed/2.\n",
    "ywd = yed/2.\n",
    "xd = xwd\n",
    "yd = ywd"
   ]
  },
  {
   "cell_type": "code",
   "execution_count": 198,
   "metadata": {},
   "outputs": [],
   "source": [
    "func = lambda k_: g_k(xends[0], xends[1], s, k_, xd, xwd, xed, yd, ywd, yed)"
   ]
  },
  {
   "cell_type": "code",
   "execution_count": 199,
   "metadata": {},
   "outputs": [
    {
     "data": {
      "text/plain": [
       "(-0.15205841538222017, 0.00017710640741620611, 39)"
      ]
     },
     "execution_count": 199,
     "metadata": {},
     "output_type": "execute_result"
    }
   ],
   "source": [
    "summator(func, 1, max_iter=40)"
   ]
  },
  {
   "cell_type": "code",
   "execution_count": 141,
   "metadata": {},
   "outputs": [
    {
     "data": {
      "text/plain": [
       "1.0"
      ]
     },
     "execution_count": 141,
     "metadata": {},
     "output_type": "execute_result"
    }
   ],
   "source": [
    "f_s(s)"
   ]
  },
  {
   "cell_type": "code",
   "execution_count": null,
   "metadata": {
    "collapsed": true
   },
   "outputs": [],
   "source": []
  }
 ],
 "metadata": {
  "kernelspec": {
   "display_name": "Python 3",
   "language": "python",
   "name": "python3"
  },
  "language_info": {
   "codemirror_mode": {
    "name": "ipython",
    "version": 3
   },
   "file_extension": ".py",
   "mimetype": "text/x-python",
   "name": "python",
   "nbconvert_exporter": "python",
   "pygments_lexer": "ipython3",
   "version": "3.6.1"
  }
 },
 "nbformat": 4,
 "nbformat_minor": 2
}
