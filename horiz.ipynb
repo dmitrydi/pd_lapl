{
 "cells": [
  {
   "cell_type": "code",
   "execution_count": 1,
   "metadata": {},
   "outputs": [],
   "source": [
    "from fwell.fwell import FWell\n",
    "import numpy as np\n",
    "import matplotlib.pyplot as plt\n",
    "%matplotlib inline\n",
    "import pandas as pd\n",
    "\n",
    "outer_bound = \"nnnn\"\n",
    "top_bound = \"imp\"\n",
    "bottom_bound = 'imp'\n",
    "wtype = 'hor'\n",
    "nseg = 20\n",
    "nwells = 1\n",
    "Xe = 1000\n",
    "Ye = 1000\n",
    "xw = Xe/2\n",
    "yw = Ye/2\n",
    "k = 10\n",
    "h = 10\n",
    "Lh = 500\n",
    "rw = 0.1\n",
    "xwds = [xw/(Lh/2)]\n",
    "ywds = [yw/(Lh/2)]\n",
    "xed = Xe/(Lh/2)\n",
    "yed = Ye/(Lh/2)\n",
    "hd = 2*h/Lh\n",
    "rwd = rw/h\n",
    "zwds = [0.5]\n",
    "ct = 1e-5\n",
    "mu = 1\n",
    "B = 1\n",
    "fi = 0.1\n",
    "Q = 100\n",
    "ts = np.logspace(-2,3, 100)\n",
    "CT = 0.00036*k/(fi*mu*ct*(Lh/2)*(Lh/2))\n",
    "CP = Q*18.42*mu*B/(k*h)\n",
    "tds = ts*CT\n",
    "fwell = FWell(outer_bound, top_bound, bottom_bound, wtype, nseg, nwells, xwds, ywds, xed=xed, yed=yed,\n",
    "              zwds=zwds, hd=hd, rwd=rwd, attrs={'Fcd': 1e+6})\n"
   ]
  },
  {
   "cell_type": "code",
   "execution_count": 2,
   "metadata": {},
   "outputs": [
    {
     "name": "stdout",
     "output_type": "stream",
     "text": [
      "255\n"
     ]
    }
   ],
   "source": [
    "df = pd.read_csv('./saphire/hor_test_1.txt', delim_whitespace=True, skiprows = 11)\n",
    "t_saph = np.array(df[\"(hr)\"])\n",
    "p_saph = np.array(df[\"(atm)\"])\n",
    "print(len(t_saph))"
   ]
  },
  {
   "cell_type": "code",
   "execution_count": 3,
   "metadata": {},
   "outputs": [
    {
     "name": "stdout",
     "output_type": "stream",
     "text": [
      "timestep 0.01 calculated\n",
      "timestep 0.02 calculated\n",
      "timestep 0.03 calculated\n",
      "timestep 0.04 calculated\n",
      "timestep 0.05 calculated\n",
      "timestep 0.06 calculated\n",
      "timestep 0.07 calculated\n",
      "timestep 0.08 calculated\n",
      "timestep 0.09 calculated\n",
      "timestep 0.1009816608871767 calculated\n",
      "timestep 0.11330328706147501 calculated\n",
      "timestep 0.1271283790160478 calculated\n",
      "timestep 0.1426403873215001 calculated\n",
      "timestep 0.16004514690350302 calculated\n",
      "timestep 0.17957360834719896 calculated\n",
      "timestep 0.2014849024711504 calculated\n",
      "timestep 0.2260697788358621 calculated\n",
      "timestep 0.2536544638138006 calculated\n",
      "timestep 0.2846049894151538 calculated\n",
      "timestep 0.3193320503102176 calculated\n",
      "timestep 0.3582964534981471 calculated\n",
      "timestep 0.4020152329358663 calculated\n",
      "timestep 0.4510685102645444 calculated\n",
      "timestep 0.5061071926713134 calculated\n",
      "timestep 0.5678616100321731 calculated\n",
      "timestep 0.637151205945723 calculated\n",
      "timestep 0.7148954112518521 calculated\n",
      "timestep 0.8021258443203695 calculated\n",
      "timestep 0.8999999999999984 calculated\n",
      "timestep 1.009816608871765 calculated\n",
      "timestep 1.1330328706147481 calculated\n",
      "timestep 1.2712837901604759 calculated\n",
      "timestep 1.426403873214999 calculated\n",
      "timestep 1.6004514690350267 calculated\n",
      "timestep 1.7957360834719869 calculated\n",
      "timestep 2.0148490247115003 calculated\n",
      "timestep 2.2606977883586157 calculated\n",
      "timestep 2.536544638138001 calculated\n",
      "timestep 2.846049894151533 calculated\n",
      "timestep 3.1933205031021696 calculated\n",
      "timestep 3.582964534981465 calculated\n",
      "timestep 4.0201523293586545 calculated\n",
      "timestep 4.510685102645437 calculated\n",
      "timestep 5.061071926713125 calculated\n",
      "timestep 5.67861610032172 calculated\n",
      "timestep 6.371512059457219 calculated\n",
      "timestep 7.148954112518507 calculated\n",
      "timestep 8.021258443203681 calculated\n",
      "timestep 8.999999999999966 calculated\n",
      "timestep 10.09816608871764 calculated\n",
      "timestep 11.33032870614746 calculated\n",
      "timestep 12.712837901604741 calculated\n",
      "timestep 14.26403873214997 calculated\n",
      "timestep 16.004514690350238 calculated\n",
      "timestep 17.95736083471984 calculated\n",
      "timestep 20.148490247114967 calculated\n",
      "timestep 22.606977883586122 calculated\n",
      "timestep 25.365446381379968 calculated\n",
      "timestep 28.46049894151529 calculated\n",
      "timestep 31.933205031021647 calculated\n",
      "timestep 35.82964534981459 calculated\n",
      "timestep 40.201523293586504 calculated\n",
      "timestep 45.10685102645429 calculated\n",
      "timestep 50.106851026454294 calculated\n",
      "timestep 55.10685102645429 calculated\n",
      "timestep 60.10685102645429 calculated\n",
      "timestep 65.1068510264543 calculated\n",
      "timestep 70.1068510264543 calculated\n",
      "timestep 75.1068510264543 calculated\n",
      "timestep 80.1068510264543 calculated\n",
      "timestep 85.1068510264543 calculated\n",
      "timestep 90.10685102645428 calculated\n",
      "timestep 95.10685102645428 calculated\n"
     ]
    }
   ],
   "source": [
    "fpds = []\n",
    "for t in t_saph:\n",
    "    if t == 0:\n",
    "        fpds.append(0)\n",
    "    else:\n",
    "        if t > 100:\n",
    "            break\n",
    "        fpds.append(fwell.pw(t*CT))\n",
    "        print(\"timestep {} calculated\".format(t))\n",
    "        \n",
    "fpds = np.array(fpds)\n",
    "dp_saph = np.abs(p_saph-p_saph[0])"
   ]
  },
  {
   "cell_type": "code",
   "execution_count": 5,
   "metadata": {},
   "outputs": [
    {
     "data": {
      "text/plain": [
       "[<matplotlib.lines.Line2D at 0x7f029f662940>]"
      ]
     },
     "execution_count": 5,
     "metadata": {},
     "output_type": "execute_result"
    },
    {
     "data": {
      "image/png": "[encoded data removed]",
      "text/plain": [
       "<Figure size 432x288 with 1 Axes>"
      ]
     },
     "metadata": {
      "needs_background": "light"
     },
     "output_type": "display_data"
    }
   ],
   "source": [
    "plt.plot(t_saph[:len(fpds)], dp_saph[:len(fpds)])\n",
    "plt.plot(t_saph[:len(fpds)],CP*fpds)"
   ]
  },
  {
   "cell_type": "code",
   "execution_count": 5,
   "metadata": {},
   "outputs": [
    {
     "data": {
      "text/plain": [
       "[<matplotlib.lines.Line2D at 0x7fc8452bde10>]"
      ]
     },
     "execution_count": 5,
     "metadata": {},
     "output_type": "execute_result"
    },
    {
     "data": {
      "image/png": "[encoded data removed]",
      "text/plain": [
       "<Figure size 432x288 with 1 Axes>"
      ]
     },
     "metadata": {
      "needs_background": "light"
     },
     "output_type": "display_data"
    }
   ],
   "source": [
    "plt.plot(t_saph[:len(fpds)], dp_saph[:len(fpds)]-CP*fpds)"
   ]
  },
  {
   "cell_type": "code",
   "execution_count": 2,
   "metadata": {},
   "outputs": [],
   "source": [
    "from fwell.ffunc.ffuncs import *\n",
    "from fwell.buffer import Buffer\n",
    "# ih1F2H(zd, zwd, x1, x2, u, ksid, ksiwd, ksied, ksiede, hd, yd, ywd, buf, fid)\n",
    "# ihF2E(zd, zwd, x1, x2, u, ksid, ksiwd, ksied, ksiede, hd, yd, ywd, yed, buf, fid)"
   ]
  },
  {
   "cell_type": "code",
   "execution_count": 3,
   "metadata": {},
   "outputs": [],
   "source": [
    "xd, xwd, yd, ywd, x1, x2 = fwell.lw.xd, fwell.lw.xwd, fwell.lw.yd, fwell.lw.ywd, fwell.lw.x1, fwell.lw.x2"
   ]
  },
  {
   "cell_type": "code",
   "execution_count": 4,
   "metadata": {},
   "outputs": [],
   "source": [
    "zd = 0.6*np.ones_like(xd)\n",
    "zwd = zd+0.01"
   ]
  },
  {
   "cell_type": "code",
   "execution_count": 5,
   "metadata": {},
   "outputs": [
    {
     "name": "stdout",
     "output_type": "stream",
     "text": [
      "80.4 ms ± 0 ns per loop (mean ± std. dev. of 1 run, 1 loop each)\n"
     ]
    }
   ],
   "source": [
    "s = 1\n",
    "u = s\n",
    "hd = 0.1\n",
    "buf = Buffer()\n",
    "%timeit -n1 -r1 ihF2E(zd, zwd, x1,x2,u,xd,xwd,xed,xed,hd,yd,ywd,yed,buf, \"1\")"
   ]
  },
  {
   "cell_type": "code",
   "execution_count": 6,
   "metadata": {},
   "outputs": [
    {
     "name": "stdout",
     "output_type": "stream",
     "text": [
      "65.6 ms ± 0 ns per loop (mean ± std. dev. of 1 run, 10 loops each)\n"
     ]
    }
   ],
   "source": [
    "%timeit -n10 -r1  ih1F2H(zd, zwd, x1, x2, u, xd, xwd, xed, xed, hd, yd, ywd, buf, \"3\")\n",
    "m = ih1F2H(zd, zwd, x1, x2, u, xd, xwd, xed, xed, hd, yd, ywd, buf, \"3\")"
   ]
  },
  {
   "cell_type": "code",
   "execution_count": 7,
   "metadata": {},
   "outputs": [
    {
     "data": {
      "text/plain": [
       "[<matplotlib.lines.Line2D at 0x7f8f187f8828>]"
      ]
     },
     "execution_count": 7,
     "metadata": {},
     "output_type": "execute_result"
    },
    {
     "data": {
      "image/png": "[encoded data removed]",
      "text/plain": [
       "<Figure size 432x288 with 1 Axes>"
      ]
     },
     "metadata": {
      "needs_background": "light"
     },
     "output_type": "display_data"
    }
   ],
   "source": [
    "plt.plot((m[0,:]))"
   ]
  },
  {
   "cell_type": "code",
   "execution_count": 9,
   "metadata": {},
   "outputs": [
    {
     "data": {
      "text/plain": [
       "[<matplotlib.lines.Line2D at 0x7f8f1872d048>]"
      ]
     },
     "execution_count": 9,
     "metadata": {},
     "output_type": "execute_result"
    },
    {
     "data": {
      "image/png": "[encoded data removed]",
      "text/plain": [
       "<Figure size 432x288 with 1 Axes>"
      ]
     },
     "metadata": {
      "needs_background": "light"
     },
     "output_type": "display_data"
    }
   ],
   "source": [
    "from fwell.ffunc.hor import matr_pd_hor_nnnn\n",
    "plt.plot(matr_pd_hor_nnnn(u, x1, x2, zd, zwd, hd, xd, xwd, xed, yd, ywd, yed, buf)[0,:])"
   ]
  },
  {
   "cell_type": "code",
   "execution_count": 10,
   "metadata": {},
   "outputs": [],
   "source": [
    "vals = []\n",
    "ary = None\n",
    "PI = np.pi\n",
    "blk_size = 10\n",
    "MAXITER = 10\n",
    "for i in range(MAXITER) :\n",
    "    for n in np.arange(1+i*blk_size, 1+(i+1)*blk_size):\n",
    "        v = i1F2H(x1, x2, u, xd, xwd, xed, xed, n*PI/hd, yd, ywd, buf, \"4\").flatten()\n",
    "        if ary is None:\n",
    "            ary = v\n",
    "        else:\n",
    "            ary = np.vstack([ary, v])"
   ]
  },
  {
   "cell_type": "code",
   "execution_count": 11,
   "metadata": {},
   "outputs": [],
   "source": [
    "vals1 = []\n",
    "PI = np.pi\n",
    "blk_size = 10\n",
    "MAXITER = 10\n",
    "ary1, ary2, ary3 = None, None, None\n",
    "for i in range(MAXITER) :\n",
    "    for n in np.arange(1+i*blk_size, 1+(i+1)*blk_size):\n",
    "        v = i1F2H_(x1, x2, u, xd, xwd, xed, xed, n*PI/hd, yd, ywd, buf, \"5\")\n",
    "        if ary1 is None:\n",
    "            ary1, ary2, ary3 = v[0].flatten(), v[1].flatten(), v[2].flatten()\n",
    "        else:\n",
    "            ary1 = np.vstack([ary1, v[0].flatten()])\n",
    "            ary2 = np.vstack([ary2, v[1].flatten()])\n",
    "            ary3 = np.vstack([ary3, v[2].flatten()])"
   ]
  },
  {
   "cell_type": "code",
   "execution_count": 12,
   "metadata": {},
   "outputs": [
    {
     "data": {
      "text/plain": [
       "array([[ 9.99493779e-02, -0.00000000e+00, -0.00000000e+00, ...,\n",
       "        -0.00000000e+00, -0.00000000e+00,  9.99493779e-02],\n",
       "       [ 4.99936686e-02, -0.00000000e+00, -0.00000000e+00, ...,\n",
       "        -0.00000000e+00, -0.00000000e+00,  4.99936686e-02],\n",
       "       [ 3.33314572e-02, -0.00000000e+00, -0.00000000e+00, ...,\n",
       "        -0.00000000e+00, -0.00000000e+00,  3.33314572e-02],\n",
       "       ...,\n",
       "       [ 1.00020004e-05, -0.00000000e+00, -0.00000000e+00, ...,\n",
       "        -0.00000000e+00, -0.00000000e+00,  1.00020004e-05],\n",
       "       [ 1.00010001e-05, -0.00000000e+00, -0.00000000e+00, ...,\n",
       "        -0.00000000e+00, -0.00000000e+00,  1.00010001e-05],\n",
       "       [ 1.00000000e-05, -0.00000000e+00, -0.00000000e+00, ...,\n",
       "        -0.00000000e+00, -0.00000000e+00,  1.00000000e-05]])"
      ]
     },
     "execution_count": 12,
     "metadata": {},
     "output_type": "execute_result"
    }
   ],
   "source": [
    "ary3"
   ]
  },
  {
   "cell_type": "code",
   "execution_count": 25,
   "metadata": {},
   "outputs": [
    {
     "name": "stdout",
     "output_type": "stream",
     "text": [
      "1.38 ms ± 42 µs per loop (mean ± std. dev. of 10 runs, 10 loops each)\n",
      "1.05 ms ± 16.3 µs per loop (mean ± std. dev. of 10 runs, 10 loops each)\n"
     ]
    }
   ],
   "source": [
    "%timeit -n10 -r10 i1F2H_(x1, x2, u, xd, xwd, xed, xed, 1*PI/hd, yd, ywd, buf, \"150\")\n",
    "%timeit -n10 -r10 i1F2H(x1, x2, u, xd, xwd, xed, xed, 1*PI/hd, yd, ywd, buf, \"151\")"
   ]
  },
  {
   "cell_type": "code",
   "execution_count": 29,
   "metadata": {},
   "outputs": [
    {
     "data": {
      "text/plain": [
       "array([[ 0.02499921, -0.        , -0.        , ..., -0.        ,\n",
       "        -0.        , -0.        ],\n",
       "       [-0.        ,  0.02499921, -0.        , ..., -0.        ,\n",
       "        -0.        , -0.        ],\n",
       "       [-0.        , -0.        ,  0.02499921, ..., -0.        ,\n",
       "        -0.        , -0.        ],\n",
       "       ...,\n",
       "       [-0.        , -0.        , -0.        , ...,  0.02499921,\n",
       "        -0.        , -0.        ],\n",
       "       [-0.        , -0.        , -0.        , ..., -0.        ,\n",
       "         0.02499921, -0.        ],\n",
       "       [-0.        , -0.        , -0.        , ..., -0.        ,\n",
       "        -0.        ,  0.02499921]])"
      ]
     },
     "execution_count": 29,
     "metadata": {},
     "output_type": "execute_result"
    }
   ],
   "source": [
    "ary3[3,:].reshape(40,40)"
   ]
  },
  {
   "cell_type": "code",
   "execution_count": 32,
   "metadata": {},
   "outputs": [
    {
     "data": {
      "text/plain": [
       "array([-1.  , -0.95, -0.9 , -0.85, -0.8 , -0.75, -0.7 , -0.65, -0.6 ,\n",
       "       -0.55, -0.5 , -0.45, -0.4 , -0.35, -0.3 , -0.25, -0.2 , -0.15,\n",
       "       -0.1 , -0.05,  0.  ,  0.05,  0.1 ,  0.15,  0.2 ,  0.25,  0.3 ,\n",
       "        0.35,  0.4 ,  0.45,  0.5 ,  0.55,  0.6 ,  0.65,  0.7 ,  0.75,\n",
       "        0.8 ,  0.85,  0.9 ,  0.95])"
      ]
     },
     "execution_count": 32,
     "metadata": {},
     "output_type": "execute_result"
    }
   ],
   "source": [
    "x1[ary3[3,:].reshape(40,40)>0]"
   ]
  },
  {
   "cell_type": "code",
   "execution_count": 39,
   "metadata": {},
   "outputs": [
    {
     "data": {
      "text/plain": [
       "array([[1.22068433, 0.        , 0.        , ..., 0.        , 0.        ,\n",
       "        0.        ],\n",
       "       [0.        , 1.19721752, 0.        , ..., 0.        , 0.        ,\n",
       "        0.        ],\n",
       "       [0.        , 0.        , 1.1719578 , ..., 0.        , 0.        ,\n",
       "        0.        ],\n",
       "       ...,\n",
       "       [0.        , 0.        , 0.        , ..., 1.19721752, 0.        ,\n",
       "        0.        ],\n",
       "       [0.        , 0.        , 0.        , ..., 0.        , 1.22068433,\n",
       "        0.        ],\n",
       "       [0.        , 0.        , 0.        , ..., 0.        , 0.        ,\n",
       "        1.24250985]])"
      ]
     },
     "execution_count": 39,
     "metadata": {},
     "output_type": "execute_result"
    }
   ],
   "source": [
    "xx=x2[ary3[3,:].reshape(40,40)>0]\n",
    "dum = np.zeros_like(x2)\n",
    "dum[ary3[3,:].reshape(40,40)>0] = iti0k0(abs(xx))[1]\n",
    "dum"
   ]
  },
  {
   "cell_type": "code",
   "execution_count": 28,
   "metadata": {},
   "outputs": [
    {
     "data": {
      "text/plain": [
       "(-0.013813374511612778, -0.013813374511612778)"
      ]
     },
     "execution_count": 28,
     "metadata": {},
     "output_type": "execute_result"
    }
   ],
   "source": [
    "ary1[0,0], ary2[0,0]"
   ]
  },
  {
   "cell_type": "code",
   "execution_count": 29,
   "metadata": {},
   "outputs": [
    {
     "data": {
      "text/plain": [
       "array([[7.23226288e-02, 1.17736582e-02, 1.69065388e-03, ...,\n",
       "        1.69065388e-03, 1.17736582e-02, 7.23226288e-02],\n",
       "       [4.48469106e-02, 2.49931444e-03, 7.14897087e-05, ...,\n",
       "        7.14897087e-05, 2.49931444e-03, 4.48469106e-02],\n",
       "       [3.19693702e-02, 6.77098763e-04, 3.91651693e-06, ...,\n",
       "        3.91651693e-06, 6.77098763e-04, 3.19693702e-02],\n",
       "       ...,\n",
       "       [1.00020004e-05, 0.00000000e+00, 0.00000000e+00, ...,\n",
       "        0.00000000e+00, 0.00000000e+00, 1.00020004e-05],\n",
       "       [1.00010001e-05, 0.00000000e+00, 0.00000000e+00, ...,\n",
       "        0.00000000e+00, 0.00000000e+00, 1.00010001e-05],\n",
       "       [1.00000000e-05, 0.00000000e+00, 0.00000000e+00, ...,\n",
       "        0.00000000e+00, 0.00000000e+00, 1.00000000e-05]])"
      ]
     },
     "execution_count": 29,
     "metadata": {},
     "output_type": "execute_result"
    }
   ],
   "source": [
    "ary"
   ]
  },
  {
   "cell_type": "code",
   "execution_count": 30,
   "metadata": {},
   "outputs": [
    {
     "data": {
      "text/plain": [
       "{'0_1': (array([ 8.025,  8.075,  8.125,  8.175,  8.225,  8.275,  8.325,  8.375,\n",
       "          8.425,  8.475,  8.525,  8.575,  8.625,  8.675,  8.725,  8.775,\n",
       "          8.825,  8.875,  8.925,  8.975,  9.025,  9.075,  9.125,  9.175,\n",
       "          9.225,  9.275,  9.325,  9.375,  9.425,  9.475,  9.525,  9.575,\n",
       "          9.625,  9.675,  9.725,  9.775,  9.825,  9.875,  9.925,  9.975,\n",
       "         10.025, 10.075, 10.125, 10.175, 10.225, 10.275, 10.325, 10.375,\n",
       "         10.425, 10.475, 10.525, 10.575, 10.625, 10.675, 10.725, 10.775,\n",
       "         10.825, 10.875, 10.925, 10.975, 11.025, 11.075, 11.125, 11.175,\n",
       "         11.225, 11.275, 11.325, 11.375, 11.425, 11.475, 11.525, 11.575,\n",
       "         11.625, 11.675, 11.725, 11.775, 11.825, 11.875, 11.925, 11.975]),\n",
       "  array([39, 38, 37, ..., 42, 41, 40]),\n",
       "  1600,\n",
       "  array([1., 1., 1., ..., 1., 1., 1.]),\n",
       "  array([-1., -1., -1., ..., -1., -1., -1.])),\n",
       " '0_-1': (array([0.025, 0.075, 0.125, 0.175, 0.225, 0.275, 0.325, 0.375, 0.425,\n",
       "         0.475, 0.525, 0.575, 0.625, 0.675, 0.725, 0.775, 0.825, 0.875,\n",
       "         0.925, 0.975, 1.025, 1.075, 1.125, 1.175, 1.225, 1.275, 1.325,\n",
       "         1.375, 1.425, 1.475, 1.525, 1.575, 1.625, 1.675, 1.725, 1.775,\n",
       "         1.825, 1.875, 1.925, 1.975]),\n",
       "  array([0, 1, 2, ..., 2, 1, 0]),\n",
       "  1600,\n",
       "  array([-1., -1., -1., ...,  1.,  1., -1.]),\n",
       "  array([-1.,  1.,  1., ..., -1., -1., -1.])),\n",
       " '-1_-1': (array([18.025, 18.075, 18.125, 18.175, 18.225, 18.275, 18.325, 18.375,\n",
       "         18.425, 18.475, 18.525, 18.575, 18.625, 18.675, 18.725, 18.775,\n",
       "         18.825, 18.875, 18.925, 18.975, 19.025, 19.075, 19.125, 19.175,\n",
       "         19.225, 19.275, 19.325, 19.375, 19.425, 19.475, 19.525, 19.575,\n",
       "         19.625, 19.675, 19.725, 19.775, 19.825, 19.875, 19.925, 19.975,\n",
       "         20.025, 20.075, 20.125, 20.175, 20.225, 20.275, 20.325, 20.375,\n",
       "         20.425, 20.475, 20.525, 20.575, 20.625, 20.675, 20.725, 20.775,\n",
       "         20.825, 20.875, 20.925, 20.975, 21.025, 21.075, 21.125, 21.175,\n",
       "         21.225, 21.275, 21.325, 21.375, 21.425, 21.475, 21.525, 21.575,\n",
       "         21.625, 21.675, 21.725, 21.775, 21.825, 21.875, 21.925, 21.975]),\n",
       "  array([39, 38, 37, ..., 42, 41, 40]),\n",
       "  1600,\n",
       "  array([1., 1., 1., ..., 1., 1., 1.]),\n",
       "  array([-1., -1., -1., ..., -1., -1., -1.])),\n",
       " '-1_1': (array([28.025, 28.075, 28.125, 28.175, 28.225, 28.275, 28.325, 28.375,\n",
       "         28.425, 28.475, 28.525, 28.575, 28.625, 28.675, 28.725, 28.775,\n",
       "         28.825, 28.875, 28.925, 28.975, 29.025, 29.075, 29.125, 29.175,\n",
       "         29.225, 29.275, 29.325, 29.375, 29.425, 29.475, 29.525, 29.575,\n",
       "         29.625, 29.675, 29.725, 29.775, 29.825, 29.875, 29.925, 29.975,\n",
       "         30.025, 30.075, 30.125, 30.175, 30.225, 30.275, 30.325, 30.375,\n",
       "         30.425, 30.475, 30.525, 30.575, 30.625, 30.675, 30.725, 30.775,\n",
       "         30.825, 30.875, 30.925, 30.975, 31.025, 31.075, 31.125, 31.175,\n",
       "         31.225, 31.275, 31.325, 31.375, 31.425, 31.475, 31.525, 31.575,\n",
       "         31.625, 31.675, 31.725, 31.775, 31.825, 31.875, 31.925, 31.975]),\n",
       "  array([39, 38, 37, ..., 42, 41, 40]),\n",
       "  1600,\n",
       "  array([1., 1., 1., ..., 1., 1., 1.]),\n",
       "  array([-1., -1., -1., ..., -1., -1., -1.])),\n",
       " '1_-1': (array([18.025, 18.075, 18.125, 18.175, 18.225, 18.275, 18.325, 18.375,\n",
       "         18.425, 18.475, 18.525, 18.575, 18.625, 18.675, 18.725, 18.775,\n",
       "         18.825, 18.875, 18.925, 18.975, 19.025, 19.075, 19.125, 19.175,\n",
       "         19.225, 19.275, 19.325, 19.375, 19.425, 19.475, 19.525, 19.575,\n",
       "         19.625, 19.675, 19.725, 19.775, 19.825, 19.875, 19.925, 19.975,\n",
       "         20.025, 20.075, 20.125, 20.175, 20.225, 20.275, 20.325, 20.375,\n",
       "         20.425, 20.475, 20.525, 20.575, 20.625, 20.675, 20.725, 20.775,\n",
       "         20.825, 20.875, 20.925, 20.975, 21.025, 21.075, 21.125, 21.175,\n",
       "         21.225, 21.275, 21.325, 21.375, 21.425, 21.475, 21.525, 21.575,\n",
       "         21.625, 21.675, 21.725, 21.775, 21.825, 21.875, 21.925, 21.975]),\n",
       "  array([40, 41, 42, ..., 37, 38, 39]),\n",
       "  1600,\n",
       "  array([-1., -1., -1., ..., -1., -1., -1.]),\n",
       "  array([1., 1., 1., ..., 1., 1., 1.])),\n",
       " '1_1': (array([ 8.025,  8.075,  8.125,  8.175,  8.225,  8.275,  8.325,  8.375,\n",
       "          8.425,  8.475,  8.525,  8.575,  8.625,  8.675,  8.725,  8.775,\n",
       "          8.825,  8.875,  8.925,  8.975,  9.025,  9.075,  9.125,  9.175,\n",
       "          9.225,  9.275,  9.325,  9.375,  9.425,  9.475,  9.525,  9.575,\n",
       "          9.625,  9.675,  9.725,  9.775,  9.825,  9.875,  9.925,  9.975,\n",
       "         10.025, 10.075, 10.125, 10.175, 10.225, 10.275, 10.325, 10.375,\n",
       "         10.425, 10.475, 10.525, 10.575, 10.625, 10.675, 10.725, 10.775,\n",
       "         10.825, 10.875, 10.925, 10.975, 11.025, 11.075, 11.125, 11.175,\n",
       "         11.225, 11.275, 11.325, 11.375, 11.425, 11.475, 11.525, 11.575,\n",
       "         11.625, 11.675, 11.725, 11.775, 11.825, 11.875, 11.925, 11.975]),\n",
       "  array([40, 41, 42, ..., 37, 38, 39]),\n",
       "  1600,\n",
       "  array([-1., -1., -1., ..., -1., -1., -1.]),\n",
       "  array([1., 1., 1., ..., 1., 1., 1.])),\n",
       " '-2_-1': (array([38.025, 38.075, 38.125, 38.175, 38.225, 38.275, 38.325, 38.375,\n",
       "         38.425, 38.475, 38.525, 38.575, 38.625, 38.675, 38.725, 38.775,\n",
       "         38.825, 38.875, 38.925, 38.975, 39.025, 39.075, 39.125, 39.175,\n",
       "         39.225, 39.275, 39.325, 39.375, 39.425, 39.475, 39.525, 39.575,\n",
       "         39.625, 39.675, 39.725, 39.775, 39.825, 39.875, 39.925, 39.975,\n",
       "         40.025, 40.075, 40.125, 40.175, 40.225, 40.275, 40.325, 40.375,\n",
       "         40.425, 40.475, 40.525, 40.575, 40.625, 40.675, 40.725, 40.775,\n",
       "         40.825, 40.875, 40.925, 40.975, 41.025, 41.075, 41.125, 41.175,\n",
       "         41.225, 41.275, 41.325, 41.375, 41.425, 41.475, 41.525, 41.575,\n",
       "         41.625, 41.675, 41.725, 41.775, 41.825, 41.875, 41.925, 41.975]),\n",
       "  array([39, 38, 37, ..., 42, 41, 40]),\n",
       "  1600,\n",
       "  array([1., 1., 1., ..., 1., 1., 1.]),\n",
       "  array([-1., -1., -1., ..., -1., -1., -1.])),\n",
       " '-2_1': (array([48.025, 48.075, 48.125, 48.175, 48.225, 48.275, 48.325, 48.375,\n",
       "         48.425, 48.475, 48.525, 48.575, 48.625, 48.675, 48.725, 48.775,\n",
       "         48.825, 48.875, 48.925, 48.975, 49.025, 49.075, 49.125, 49.175,\n",
       "         49.225, 49.275, 49.325, 49.375, 49.425, 49.475, 49.525, 49.575,\n",
       "         49.625, 49.675, 49.725, 49.775, 49.825, 49.875, 49.925, 49.975,\n",
       "         50.025, 50.075, 50.125, 50.175, 50.225, 50.275, 50.325, 50.375,\n",
       "         50.425, 50.475, 50.525, 50.575, 50.625, 50.675, 50.725, 50.775,\n",
       "         50.825, 50.875, 50.925, 50.975, 51.025, 51.075, 51.125, 51.175,\n",
       "         51.225, 51.275, 51.325, 51.375, 51.425, 51.475, 51.525, 51.575,\n",
       "         51.625, 51.675, 51.725, 51.775, 51.825, 51.875, 51.925, 51.975]),\n",
       "  array([39, 38, 37, ..., 42, 41, 40]),\n",
       "  1600,\n",
       "  array([1., 1., 1., ..., 1., 1., 1.]),\n",
       "  array([-1., -1., -1., ..., -1., -1., -1.])),\n",
       " '2_-1': (array([38.025, 38.075, 38.125, 38.175, 38.225, 38.275, 38.325, 38.375,\n",
       "         38.425, 38.475, 38.525, 38.575, 38.625, 38.675, 38.725, 38.775,\n",
       "         38.825, 38.875, 38.925, 38.975, 39.025, 39.075, 39.125, 39.175,\n",
       "         39.225, 39.275, 39.325, 39.375, 39.425, 39.475, 39.525, 39.575,\n",
       "         39.625, 39.675, 39.725, 39.775, 39.825, 39.875, 39.925, 39.975,\n",
       "         40.025, 40.075, 40.125, 40.175, 40.225, 40.275, 40.325, 40.375,\n",
       "         40.425, 40.475, 40.525, 40.575, 40.625, 40.675, 40.725, 40.775,\n",
       "         40.825, 40.875, 40.925, 40.975, 41.025, 41.075, 41.125, 41.175,\n",
       "         41.225, 41.275, 41.325, 41.375, 41.425, 41.475, 41.525, 41.575,\n",
       "         41.625, 41.675, 41.725, 41.775, 41.825, 41.875, 41.925, 41.975]),\n",
       "  array([40, 41, 42, ..., 37, 38, 39]),\n",
       "  1600,\n",
       "  array([-1., -1., -1., ..., -1., -1., -1.]),\n",
       "  array([1., 1., 1., ..., 1., 1., 1.])),\n",
       " '2_1': (array([28.025, 28.075, 28.125, 28.175, 28.225, 28.275, 28.325, 28.375,\n",
       "         28.425, 28.475, 28.525, 28.575, 28.625, 28.675, 28.725, 28.775,\n",
       "         28.825, 28.875, 28.925, 28.975, 29.025, 29.075, 29.125, 29.175,\n",
       "         29.225, 29.275, 29.325, 29.375, 29.425, 29.475, 29.525, 29.575,\n",
       "         29.625, 29.675, 29.725, 29.775, 29.825, 29.875, 29.925, 29.975,\n",
       "         30.025, 30.075, 30.125, 30.175, 30.225, 30.275, 30.325, 30.375,\n",
       "         30.425, 30.475, 30.525, 30.575, 30.625, 30.675, 30.725, 30.775,\n",
       "         30.825, 30.875, 30.925, 30.975, 31.025, 31.075, 31.125, 31.175,\n",
       "         31.225, 31.275, 31.325, 31.375, 31.425, 31.475, 31.525, 31.575,\n",
       "         31.625, 31.675, 31.725, 31.775, 31.825, 31.875, 31.925, 31.975]),\n",
       "  array([40, 41, 42, ..., 37, 38, 39]),\n",
       "  1600,\n",
       "  array([-1., -1., -1., ..., -1., -1., -1.]),\n",
       "  array([1., 1., 1., ..., 1., 1., 1.])),\n",
       " '-3_-1': (array([58.025, 58.075, 58.125, 58.175, 58.225, 58.275, 58.325, 58.375,\n",
       "         58.425, 58.475, 58.525, 58.575, 58.625, 58.675, 58.725, 58.775,\n",
       "         58.825, 58.875, 58.925, 58.975, 59.025, 59.075, 59.125, 59.175,\n",
       "         59.225, 59.275, 59.325, 59.375, 59.425, 59.475, 59.525, 59.575,\n",
       "         59.625, 59.675, 59.725, 59.775, 59.825, 59.875, 59.925, 59.975,\n",
       "         60.025, 60.075, 60.125, 60.175, 60.225, 60.275, 60.325, 60.375,\n",
       "         60.425, 60.475, 60.525, 60.575, 60.625, 60.675, 60.725, 60.775,\n",
       "         60.825, 60.875, 60.925, 60.975, 61.025, 61.075, 61.125, 61.175,\n",
       "         61.225, 61.275, 61.325, 61.375, 61.425, 61.475, 61.525, 61.575,\n",
       "         61.625, 61.675, 61.725, 61.775, 61.825, 61.875, 61.925, 61.975]),\n",
       "  array([39, 38, 37, ..., 42, 41, 40]),\n",
       "  1600,\n",
       "  array([1., 1., 1., ..., 1., 1., 1.]),\n",
       "  array([-1., -1., -1., ..., -1., -1., -1.])),\n",
       " '-3_1': (array([68.025, 68.075, 68.125, 68.175, 68.225, 68.275, 68.325, 68.375,\n",
       "         68.425, 68.475, 68.525, 68.575, 68.625, 68.675, 68.725, 68.775,\n",
       "         68.825, 68.875, 68.925, 68.975, 69.025, 69.075, 69.125, 69.175,\n",
       "         69.225, 69.275, 69.325, 69.375, 69.425, 69.475, 69.525, 69.575,\n",
       "         69.625, 69.675, 69.725, 69.775, 69.825, 69.875, 69.925, 69.975,\n",
       "         70.025, 70.075, 70.125, 70.175, 70.225, 70.275, 70.325, 70.375,\n",
       "         70.425, 70.475, 70.525, 70.575, 70.625, 70.675, 70.725, 70.775,\n",
       "         70.825, 70.875, 70.925, 70.975, 71.025, 71.075, 71.125, 71.175,\n",
       "         71.225, 71.275, 71.325, 71.375, 71.425, 71.475, 71.525, 71.575,\n",
       "         71.625, 71.675, 71.725, 71.775, 71.825, 71.875, 71.925, 71.975]),\n",
       "  array([39, 38, 37, ..., 42, 41, 40]),\n",
       "  1600,\n",
       "  array([1., 1., 1., ..., 1., 1., 1.]),\n",
       "  array([-1., -1., -1., ..., -1., -1., -1.])),\n",
       " '3_-1': (array([58.025, 58.075, 58.125, 58.175, 58.225, 58.275, 58.325, 58.375,\n",
       "         58.425, 58.475, 58.525, 58.575, 58.625, 58.675, 58.725, 58.775,\n",
       "         58.825, 58.875, 58.925, 58.975, 59.025, 59.075, 59.125, 59.175,\n",
       "         59.225, 59.275, 59.325, 59.375, 59.425, 59.475, 59.525, 59.575,\n",
       "         59.625, 59.675, 59.725, 59.775, 59.825, 59.875, 59.925, 59.975,\n",
       "         60.025, 60.075, 60.125, 60.175, 60.225, 60.275, 60.325, 60.375,\n",
       "         60.425, 60.475, 60.525, 60.575, 60.625, 60.675, 60.725, 60.775,\n",
       "         60.825, 60.875, 60.925, 60.975, 61.025, 61.075, 61.125, 61.175,\n",
       "         61.225, 61.275, 61.325, 61.375, 61.425, 61.475, 61.525, 61.575,\n",
       "         61.625, 61.675, 61.725, 61.775, 61.825, 61.875, 61.925, 61.975]),\n",
       "  array([40, 41, 42, ..., 37, 38, 39]),\n",
       "  1600,\n",
       "  array([-1., -1., -1., ..., -1., -1., -1.]),\n",
       "  array([1., 1., 1., ..., 1., 1., 1.])),\n",
       " '3_1': (array([48.025, 48.075, 48.125, 48.175, 48.225, 48.275, 48.325, 48.375,\n",
       "         48.425, 48.475, 48.525, 48.575, 48.625, 48.675, 48.725, 48.775,\n",
       "         48.825, 48.875, 48.925, 48.975, 49.025, 49.075, 49.125, 49.175,\n",
       "         49.225, 49.275, 49.325, 49.375, 49.425, 49.475, 49.525, 49.575,\n",
       "         49.625, 49.675, 49.725, 49.775, 49.825, 49.875, 49.925, 49.975,\n",
       "         50.025, 50.075, 50.125, 50.175, 50.225, 50.275, 50.325, 50.375,\n",
       "         50.425, 50.475, 50.525, 50.575, 50.625, 50.675, 50.725, 50.775,\n",
       "         50.825, 50.875, 50.925, 50.975, 51.025, 51.075, 51.125, 51.175,\n",
       "         51.225, 51.275, 51.325, 51.375, 51.425, 51.475, 51.525, 51.575,\n",
       "         51.625, 51.675, 51.725, 51.775, 51.825, 51.875, 51.925, 51.975]),\n",
       "  array([40, 41, 42, ..., 37, 38, 39]),\n",
       "  1600,\n",
       "  array([-1., -1., -1., ..., -1., -1., -1.]),\n",
       "  array([1., 1., 1., ..., 1., 1., 1.]))}"
      ]
     },
     "execution_count": 30,
     "metadata": {},
     "output_type": "execute_result"
    }
   ],
   "source": [
    "buf.yd0s_5"
   ]
  },
  {
   "cell_type": "code",
   "execution_count": 31,
   "metadata": {},
   "outputs": [
    {
     "data": {
      "text/plain": [
       "array([[ 2., -0., -0., ..., -0., -0.,  2.],\n",
       "       [ 2., -0., -0., ..., -0., -0.,  2.],\n",
       "       [ 2., -0., -0., ..., -0., -0.,  2.],\n",
       "       ...,\n",
       "       [ 2., -0., -0., ..., -0., -0.,  2.],\n",
       "       [ 2., -0., -0., ..., -0., -0.,  2.],\n",
       "       [ 2., -0., -0., ..., -0., -0.,  2.]])"
      ]
     },
     "execution_count": 31,
     "metadata": {},
     "output_type": "execute_result"
    }
   ],
   "source": [
    "ary3"
   ]
  },
  {
   "cell_type": "code",
   "execution_count": 32,
   "metadata": {},
   "outputs": [
    {
     "data": {
      "text/plain": [
       "0.24025392940873147"
      ]
     },
     "execution_count": 32,
     "metadata": {},
     "output_type": "execute_result"
    }
   ],
   "source": [
    "dx = 0.025\n",
    "2*iti0k0(dx)[1]"
   ]
  },
  {
   "cell_type": "code",
   "execution_count": 33,
   "metadata": {},
   "outputs": [],
   "source": [
    "from fwell.ffunc.ffuncs import ki1"
   ]
  },
  {
   "cell_type": "code",
   "execution_count": 34,
   "metadata": {},
   "outputs": [
    {
     "data": {
      "text/plain": [
       "0.24025392940873136"
      ]
     },
     "execution_count": 34,
     "metadata": {},
     "output_type": "execute_result"
    }
   ],
   "source": [
    "np.pi - 2*ki1(dx)"
   ]
  },
  {
   "cell_type": "code",
   "execution_count": 35,
   "metadata": {},
   "outputs": [
    {
     "data": {
      "text/plain": [
       "1.4506693620905309"
      ]
     },
     "execution_count": 35,
     "metadata": {},
     "output_type": "execute_result"
    }
   ],
   "source": [
    "ki1(dx)"
   ]
  },
  {
   "cell_type": "code",
   "execution_count": 36,
   "metadata": {},
   "outputs": [
    {
     "data": {
      "text/plain": [
       "array([[-1.38133745e-02, -2.03971627e-03, -3.49062391e-04, ...,\n",
       "         2.03971627e-03,  1.38133745e-02, -1.38133745e-02],\n",
       "       [-2.57337903e-03, -7.40645862e-05, -2.57487748e-06, ...,\n",
       "         7.40645862e-05,  2.57337903e-03, -2.57337903e-03],\n",
       "       [-6.81043499e-04, -3.94473611e-06, -2.82191820e-08, ...,\n",
       "         3.94473611e-06,  6.81043499e-04, -6.81043499e-04],\n",
       "       ...,\n",
       "       [ 0.00000000e+00,  0.00000000e+00,  0.00000000e+00, ...,\n",
       "         0.00000000e+00,  0.00000000e+00,  0.00000000e+00],\n",
       "       [ 0.00000000e+00,  0.00000000e+00,  0.00000000e+00, ...,\n",
       "         0.00000000e+00,  0.00000000e+00,  0.00000000e+00],\n",
       "       [ 0.00000000e+00,  0.00000000e+00,  0.00000000e+00, ...,\n",
       "         0.00000000e+00,  0.00000000e+00,  0.00000000e+00]])"
      ]
     },
     "execution_count": 36,
     "metadata": {},
     "output_type": "execute_result"
    }
   ],
   "source": [
    "ary1"
   ]
  },
  {
   "cell_type": "code",
   "execution_count": 37,
   "metadata": {},
   "outputs": [
    {
     "data": {
      "text/plain": [
       "array([[7.23226288e-02, 1.17736582e-02, 1.69065388e-03, ...,\n",
       "        1.69065388e-03, 1.17736582e-02, 7.23226288e-02],\n",
       "       [4.48469106e-02, 2.49931444e-03, 7.14897087e-05, ...,\n",
       "        7.14897087e-05, 2.49931444e-03, 4.48469106e-02],\n",
       "       [3.19693702e-02, 6.77098763e-04, 3.91651693e-06, ...,\n",
       "        3.91651693e-06, 6.77098763e-04, 3.19693702e-02],\n",
       "       ...,\n",
       "       [1.00020004e-05, 0.00000000e+00, 0.00000000e+00, ...,\n",
       "        0.00000000e+00, 0.00000000e+00, 1.00020004e-05],\n",
       "       [1.00010001e-05, 0.00000000e+00, 0.00000000e+00, ...,\n",
       "        0.00000000e+00, 0.00000000e+00, 1.00010001e-05],\n",
       "       [1.00000000e-05, 0.00000000e+00, 0.00000000e+00, ...,\n",
       "        0.00000000e+00, 0.00000000e+00, 1.00000000e-05]])"
      ]
     },
     "execution_count": 37,
     "metadata": {},
     "output_type": "execute_result"
    }
   ],
   "source": [
    "ary"
   ]
  },
  {
   "cell_type": "code",
   "execution_count": 38,
   "metadata": {},
   "outputs": [
    {
     "data": {
      "text/plain": [
       "array([[-1.38133745e-02,  1.38133745e-02,  2.03971627e-03, ...,\n",
       "        -3.49062391e-04, -2.03971627e-03, -1.38133745e-02],\n",
       "       [-2.57337903e-03,  2.57337903e-03,  7.40645862e-05, ...,\n",
       "        -2.57487748e-06, -7.40645862e-05, -2.57337903e-03],\n",
       "       [-6.81043499e-04,  6.81043499e-04,  3.94473611e-06, ...,\n",
       "        -2.82191820e-08, -3.94473611e-06, -6.81043499e-04],\n",
       "       ...,\n",
       "       [ 0.00000000e+00,  0.00000000e+00,  0.00000000e+00, ...,\n",
       "         0.00000000e+00,  0.00000000e+00,  0.00000000e+00],\n",
       "       [ 0.00000000e+00,  0.00000000e+00,  0.00000000e+00, ...,\n",
       "         0.00000000e+00,  0.00000000e+00,  0.00000000e+00],\n",
       "       [ 0.00000000e+00,  0.00000000e+00,  0.00000000e+00, ...,\n",
       "         0.00000000e+00,  0.00000000e+00,  0.00000000e+00]])"
      ]
     },
     "execution_count": 38,
     "metadata": {},
     "output_type": "execute_result"
    }
   ],
   "source": [
    "ary2"
   ]
  },
  {
   "cell_type": "code",
   "execution_count": null,
   "metadata": {},
   "outputs": [],
   "source": []
  }
 ],
 "metadata": {
  "kernelspec": {
   "display_name": "Python [conda env:cython] *",
   "language": "python",
   "name": "conda-env-cython-py"
  },
  "language_info": {
   "codemirror_mode": {
    "name": "ipython",
    "version": 3
   },
   "file_extension": ".py",
   "mimetype": "text/x-python",
   "name": "python",
   "nbconvert_exporter": "python",
   "pygments_lexer": "ipython3",
   "version": "3.7.3"
  }
 },
 "nbformat": 4,
 "nbformat_minor": 2
}
