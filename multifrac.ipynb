{
 "cells": [
  {
   "cell_type": "code",
   "execution_count": 1,
   "metadata": {
    "collapsed": true
   },
   "outputs": [],
   "source": [
    "import numpy as np\n",
    "import matplotlib.pyplot as plt\n",
    "from well import Well\n",
    "from geometry_keeper import GeometryKeeper\n",
    "from scipy.integrate import quad\n",
    "from scipy.special import k0, iti0k0"
   ]
  },
  {
   "cell_type": "code",
   "execution_count": 2,
   "metadata": {
    "collapsed": true
   },
   "outputs": [],
   "source": [
    "from multifrac import Multifrac"
   ]
  },
  {
   "cell_type": "code",
   "execution_count": 3,
   "metadata": {},
   "outputs": [
    {
     "ename": "NameError",
     "evalue": "name 'params' is not defined",
     "output_type": "error",
     "traceback": [
      "\u001b[1;31m---------------------------------------------------------------------------\u001b[0m",
      "\u001b[1;31mNameError\u001b[0m                                 Traceback (most recent call last)",
      "\u001b[1;32m<ipython-input-3-9a2c881e6366>\u001b[0m in \u001b[0;36m<module>\u001b[1;34m()\u001b[0m\n\u001b[0;32m      1\u001b[0m \u001b[1;31m####\u001b[0m\u001b[1;33m\u001b[0m\u001b[1;33m\u001b[0m\u001b[0m\n\u001b[0;32m      2\u001b[0m \u001b[1;32mfrom\u001b[0m \u001b[0mtime\u001b[0m \u001b[1;32mimport\u001b[0m \u001b[0mtime\u001b[0m\u001b[1;33m\u001b[0m\u001b[0m\n\u001b[1;32m----> 3\u001b[1;33m \u001b[0mdx\u001b[0m \u001b[1;33m=\u001b[0m \u001b[1;36m1.\u001b[0m\u001b[1;33m/\u001b[0m\u001b[0mparams\u001b[0m\u001b[1;33m[\u001b[0m\u001b[1;34m\"nseg\"\u001b[0m\u001b[1;33m]\u001b[0m\u001b[1;33m\u001b[0m\u001b[0m\n\u001b[0m\u001b[0;32m      4\u001b[0m \u001b[1;33m\u001b[0m\u001b[0m\n\u001b[0;32m      5\u001b[0m \u001b[0msu\u001b[0m \u001b[1;33m=\u001b[0m \u001b[0ms\u001b[0m\u001b[1;33m**\u001b[0m\u001b[1;36m0.5\u001b[0m\u001b[1;33m\u001b[0m\u001b[0m\n",
      "\u001b[1;31mNameError\u001b[0m: name 'params' is not defined"
     ]
    }
   ],
   "source": [
    "####\n",
    "from time import time\n",
    "dx = 1./params[\"nseg\"]\n",
    "\n",
    "su = s**0.5\n",
    "orig_shape = (nwells*2*params[\"nseg\"], nwells*2*params[\"nseg\"])\n",
    "orig_geo = mf_lapl.geo.reshape(nwells*2*params[\"nseg\"], nwells*2*params[\"nseg\"],5)\n",
    "resh_geo = mf_lapl.geo.reshape(-1,5)\n",
    "ans = np.zeros(resh_geo.shape[0])\n",
    "def g(x_, dyd, su):\n",
    "    return 0.5*k0(su*(x_*x_+dyd*dyd)**0.5)\n",
    "def f(x):\n",
    "    return quad(g, x[0]-dx, x[0], args=(x[1], su))[0]\n",
    "t1 = time()\n",
    "## find elements where dyd == 0\n",
    "dyd_0_inds = np.argwhere(resh_geo[:,2] == 0).flatten()\n",
    "dyd_nnz_inds = np.argwhere(resh_geo[:,2] != 0).flatten()\n",
    "print(resh_geo.shape)\n",
    "## select these items from the all items\n",
    "dyd_0 = resh_geo[dyd_0_inds]\n",
    "## select values from the first and second columns:\n",
    "lims1 = dyd_0[:,0]\n",
    "n_lims1 = len(lims1)\n",
    "lims2 = dyd_0[:,1]\n",
    "mask1 = dyd_0[:,-2]\n",
    "mask2 = dyd_0[:,-1]\n",
    "lims = np.append(lims1, lims2)\n",
    "ulims, inds = np.unique(lims, return_inverse=True)\n",
    "print(len(ulims))\n",
    "uvals = 0.5/su*(iti0k0(su*ulims)[1])\n",
    "vals = uvals[inds]\n",
    "vals1 = vals[:n_lims1]\n",
    "vals2 = vals[n_lims1:]\n",
    "assert len(vals1) == len(vals2)\n",
    "true_vals = vals1*mask1 + vals2*mask2\n",
    "ans[dyd_0_inds] = true_vals\n",
    "print(\"t1: {}\".format(time()-t1))\n",
    "## calc items with dyd <> 0\n",
    "t1 = time()\n",
    "dyd_nnz = resh_geo[dyd_nnz_inds][:,:3]\n",
    "dyd_lims = dyd_nnz[:,:2]\n",
    "dyd_upper_lims = np.max(dyd_lims, axis=1).reshape(-1,1)\n",
    "dyd_upper_lims = np.hstack([dyd_upper_lims, dyd_nnz[:,-1].reshape(-1,1)])\n",
    "dyd_unique_items, indices = np.unique(dyd_upper_lims, axis=0, return_inverse=True)\n",
    "dyd_unique_vals = np.apply_along_axis(f, 1, dyd_unique_items)\n",
    "dyd_vals = dyd_unique_vals[indices]\n",
    "ans[dyd_nnz_inds] = dyd_vals\n",
    "ans = ans.reshape(orig_shape)\n",
    "print(\"t2: {}\".format(time()-t1))\n",
    "\n",
    "print(\"calculate simply\")\n",
    "def foo(x):\n",
    "    if x[2] == 0.:\n",
    "        return 0.5/su*(iti0k0(su*x[0])[1]*x[-2]+iti0k0(su*x[1])[1]*x[-1])\n",
    "    else:\n",
    "        ulim = max(x[0], x[1])\n",
    "        return quad(g, ulim-dx, ulim, args=(x[2], su))[0]\n",
    "\n",
    "t1 = time()\n",
    "straight_ans = np.apply_along_axis(foo, 2, orig_geo)\n",
    "print(\"t3: {}\".format(time()-t1))\n",
    "print(np.allclose(ans, straight_ans))"
   ]
  },
  {
   "cell_type": "code",
   "execution_count": 5,
   "metadata": {},
   "outputs": [
    {
     "name": "stdout",
     "output_type": "stream",
     "text": [
      "True\n",
      "True\n",
      "True\n",
      "######\n",
      "1.00977552514e-05\n",
      "5.04887762572e-05\n",
      "5.0\n"
     ]
    }
   ],
   "source": [
    "outer_bound = \"infinite\"\n",
    "top_bound = \"imp\"\n",
    "bottom_bound = \"imp\"\n",
    "wtype = \"frac\"\n",
    "n_stehf = 10\n",
    "xwd = 0.\n",
    "ywd = 0.\n",
    "N = 40\n",
    "\n",
    "params = {\"nseg\": N, \"kx\": 1., \"ky\": 1., \"kz\": 1., \"omega\": 1, \"lambda\": 1, \"Fcd\":100, \"ref_length\":1.,\n",
    "         \"z_ref_length\": 1}\n",
    "real_well = Well(xwd, ywd, outer_bound, top_bound, bottom_bound, wtype, params, n_stehf)\n",
    "well = real_well.lapl_well\n",
    "\n",
    "dyd = 1.\n",
    "xws = np.array([0., 0., 0., 0., 0.])\n",
    "yws = np.array([2*dyd, dyd, 0., -dyd, -2*dyd])\n",
    "nwells = 5\n",
    "mf = Multifrac(nwells, xws, yws, outer_bound, top_bound, bottom_bound, params, n_stehf)\n",
    "mf_lapl = mf.lapl_well \n",
    "######\n",
    "\n",
    "\n",
    "s = 1120\n",
    "\n",
    "orig_shape = (nwells*params[\"nseg\"]*2, nwells*params[\"nseg\"]*2)\n",
    "source_m  = mf_lapl.get_source_matrix(s)\n",
    "right_matrix = well.get_green_matrix(s)\n",
    "geo = mf_lapl.geo\n",
    "green_matrix = np.zeros(geo.shape[0])\n",
    "dyd_0_inds = np.argwhere(geo[:, 2] == 0.).flatten()\n",
    "items_dyd_0 = geo[dyd_0_inds]\n",
    "lims1 = items_dyd_0[:,0]\n",
    "lims2 = items_dyd_0[:,1]\n",
    "n_lims1 = len(lims1)\n",
    "lims = np.append(lims1, lims2)\n",
    "mask_1 = items_dyd_0[:,-2]\n",
    "mask_2 = items_dyd_0[:,-1]\n",
    "ulims, inds = np.unique(lims, return_inverse = True)\n",
    "uvals = well.source.integrate_source_functions(s,\n",
    "        np.zeros_like(ulims, dtype=np.float),\n",
    "        ulims,\n",
    "        np.zeros_like(ulims, dtype=np.float))\n",
    "vals = uvals[inds]\n",
    "vals1 = vals[:n_lims1]\n",
    "vals2 = vals[n_lims1:]\n",
    "vals = vals1*mask_1 + vals2*mask_2\n",
    "green_matrix[dyd_0_inds] = vals\n",
    "dyd_nnz_inds = np.argwhere(geo[:, 2] > 0.).flatten()\n",
    "items_dyd_nnz = geo[dyd_nnz_inds][:,:3]\n",
    "lims = items_dyd_nnz[:,:2]\n",
    "upper_lims = np.max(lims, axis=1).reshape(-1, 1)\n",
    "upper_lims_dyds = np.hstack([upper_lims, items_dyd_nnz[:,-1].reshape(-1, 1)])\n",
    "ulims_dyd_nnz, inds_dyd_nnz = np.unique(upper_lims_dyds, axis=0, return_inverse=True)\n",
    "uvals_dyd_nnz = well.source.integrate_source_functions(s,\n",
    "        ulims_dyd_nnz[:, 0] - 1./params[\"nseg\"],\n",
    "        ulims_dyd_nnz[:, 0],\n",
    "        ulims_dyd_nnz[:, 1])\n",
    "vals_dyd_nnz = uvals_dyd_nnz[inds_dyd_nnz]\n",
    "green_matrix[dyd_nnz_inds] = vals_dyd_nnz\n",
    "green_matrix = green_matrix.reshape(orig_shape)\n",
    "# green_matrix[:2*N, 2*N:] = 0.\n",
    "# green_matrix[2*N:4*N, :2*N] = 0.\n",
    "# green_matrix[2*N:4*N, 4*N:] = 0.\n",
    "# green_matrix[4*N:,:4*N] = 0.\n",
    "print(np.allclose(green_matrix[:2*params[\"nseg\"],:2*params[\"nseg\"]], right_matrix))\n",
    "print(np.allclose(green_matrix[2*params[\"nseg\"]:4*params[\"nseg\"],2*params[\"nseg\"]:4*params[\"nseg\"]], right_matrix))\n",
    "print(np.allclose(green_matrix[4*params[\"nseg\"]:6*params[\"nseg\"],4*params[\"nseg\"]:6*params[\"nseg\"]], right_matrix))\n",
    "source_matrix = mf_lapl.get_source_matrix(s)\n",
    "right_part = mf_lapl.get_right_part(s)\n",
    "right_part[-1] = right_part[-1]\n",
    "true_right_part = well.get_right_part(s)\n",
    "true_source_matrix = well.get_source_matrix(s)\n",
    "combined_matrix = np.zeros((1+nwells*params[\"nseg\"]*2, 1+nwells*params[\"nseg\"]*2), dtype = np.float)\n",
    "combined_matrix[:-1,0] = 1.\n",
    "combined_matrix[-1, 1:] = 1.\n",
    "combined_matrix[:-1, 1:] = source_matrix - green_matrix\n",
    "true_e_green_matrix = well.ext_green_matrix(right_matrix)\n",
    "true_dummy_matrix = well.get_dummy_matrix()\n",
    "true_combined_matrix = true_dummy_matrix - true_e_green_matrix + true_source_matrix\n",
    "print(\"######\")\n",
    "solution = np.linalg.solve(combined_matrix, right_part)\n",
    "true_solution = np.linalg.solve(true_combined_matrix, true_right_part)\n",
    "print(solution[0])\n",
    "print(true_solution[0])\n",
    "print(true_solution[0]/solution[0])"
   ]
  },
  {
   "cell_type": "code",
   "execution_count": 6,
   "metadata": {},
   "outputs": [
    {
     "name": "stdout",
     "output_type": "stream",
     "text": [
      "0.504305087508\n",
      "0.102464388687\n",
      "4.92175958859\n"
     ]
    }
   ],
   "source": [
    "t = .1\n",
    "print(real_well.get_pw(t))\n",
    "print(mf.get_pw(t))\n",
    "print(real_well.get_pw(t)/mf.get_pw(t))"
   ]
  },
  {
   "cell_type": "code",
   "execution_count": 7,
   "metadata": {
    "collapsed": true
   },
   "outputs": [],
   "source": [
    "ts = np.logspace(-3, 0, 30)"
   ]
  },
  {
   "cell_type": "code",
   "execution_count": 8,
   "metadata": {
    "collapsed": true
   },
   "outputs": [],
   "source": [
    "singles = []\n",
    "multi = []\n",
    "for t in ts:\n",
    "    singles.append(real_well.get_pw(t))\n",
    "    multi.append(mf.get_pw(t))"
   ]
  },
  {
   "cell_type": "code",
   "execution_count": 9,
   "metadata": {},
   "outputs": [],
   "source": [
    "import matplotlib.pyplot as plt\n",
    "% matplotlib inline"
   ]
  },
  {
   "cell_type": "code",
   "execution_count": 10,
   "metadata": {},
   "outputs": [
    {
     "data": {
      "text/plain": [
       "[<matplotlib.lines.Line2D at 0x889aef0>]"
      ]
     },
     "execution_count": 10,
     "metadata": {},
     "output_type": "execute_result"
    },
    {
     "data": {
      "image/png": "[encoded data removed]",
      "text/plain": [
       "<matplotlib.figure.Figure at 0x17995650>"
      ]
     },
     "metadata": {},
     "output_type": "display_data"
    }
   ],
   "source": [
    "plt.xscale(\"log\")\n",
    "plt.plot(ts, singles)\n",
    "plt.plot(ts, multi)"
   ]
  },
  {
   "cell_type": "code",
   "execution_count": 11,
   "metadata": {},
   "outputs": [
    {
     "data": {
      "text/plain": [
       "[<matplotlib.lines.Line2D at 0x8b77490>]"
      ]
     },
     "execution_count": 11,
     "metadata": {},
     "output_type": "execute_result"
    },
    {
     "data": {
      "image/png": "[encoded data removed]",
      "text/plain": [
       "<matplotlib.figure.Figure at 0x8ba2170>"
      ]
     },
     "metadata": {},
     "output_type": "display_data"
    }
   ],
   "source": [
    "plt.xscale(\"log\")\n",
    "singles = np.array(singles)\n",
    "multi = np.array(multi)\n",
    "plt.plot(ts, singles/multi)"
   ]
  },
  {
   "cell_type": "markdown",
   "metadata": {},
   "source": [
    "### Here I found that multifrac is Ok"
   ]
  },
  {
   "cell_type": "code",
   "execution_count": 99,
   "metadata": {},
   "outputs": [
    {
     "name": "stdout",
     "output_type": "stream",
     "text": [
      "4.09357843151e-05\n",
      "4.09357843151e-05\n",
      "###########\n",
      "1.36452614384e-05\n",
      "3.0\n"
     ]
    }
   ],
   "source": [
    "from scipy.linalg import block_diag\n",
    "s = 1300\n",
    "well = real_well.lapl_well\n",
    "green_matrix = well.get_green_matrix(s)\n",
    "source_matrix = well.get_source_matrix(s)[:-1, 1:]\n",
    "dummy_matrix = well.get_dummy_matrix()\n",
    "right_part = well.get_right_part(s)\n",
    "main_matrix = dummy_matrix.copy()\n",
    "main_matrix[:-1, 1:] = source_matrix - green_matrix\n",
    "solution = np.linalg.solve(main_matrix, right_part)\n",
    "print(solution[0])\n",
    "well.recalc(s)\n",
    "print(well.p_lapl)\n",
    "print(\"###########\")\n",
    "big_green_matrix = block_diag(green_matrix, green_matrix, green_matrix)\n",
    "big_source_matrix = block_diag(source_matrix, source_matrix, source_matrix)\n",
    "big_main_matrix = np.zeros((3*green_matrix.shape[0]+1, 3*green_matrix.shape[0]+1))\n",
    "big_main_matrix[:-1, 0] = 1.\n",
    "big_main_matrix[-1, 1:] = 1.\n",
    "big_main_matrix[:-1, 1:] = big_source_matrix - big_green_matrix\n",
    "big_right_part = np.array([])\n",
    "for  _ in range(3):\n",
    "    big_right_part = np.append(big_right_part, right_part[:-1]/3.)\n",
    "big_right_part = np.append(big_right_part, right_part[-1])\n",
    "big_solution = np.linalg.solve(big_main_matrix, big_right_part)\n",
    "print(big_solution[0])\n",
    "print(well.p_lapl/big_solution[0])"
   ]
  },
  {
   "cell_type": "code",
   "execution_count": 71,
   "metadata": {},
   "outputs": [
    {
     "data": {
      "text/plain": [
       "[<matplotlib.lines.Line2D at 0x13e74e70>]"
      ]
     },
     "execution_count": 71,
     "metadata": {},
     "output_type": "execute_result"
    },
    {
     "data": {
      "image/png": "[encoded data removed]",
      "text/plain": [
       "<matplotlib.figure.Figure at 0x13b551d0>"
      ]
     },
     "metadata": {},
     "output_type": "display_data"
    }
   ],
   "source": [
    "#plt.yscale(\"log\")\n",
    "plt.plot(big_right_part[:-1])"
   ]
  },
  {
   "cell_type": "code",
   "execution_count": 72,
   "metadata": {},
   "outputs": [
    {
     "data": {
      "text/plain": [
       "[<matplotlib.lines.Line2D at 0x13ecfdf0>]"
      ]
     },
     "execution_count": 72,
     "metadata": {},
     "output_type": "execute_result"
    },
    {
     "data": {
      "image/png": "[encoded data removed]",
      "text/plain": [
       "<matplotlib.figure.Figure at 0x13e831f0>"
      ]
     },
     "metadata": {},
     "output_type": "display_data"
    }
   ],
   "source": [
    "plt.plot(big_solution[1:])\n",
    "plt.plot(solution[1:])"
   ]
  },
  {
   "cell_type": "code",
   "execution_count": 73,
   "metadata": {},
   "outputs": [
    {
     "data": {
      "text/plain": [
       "[<matplotlib.lines.Line2D at 0x13f32290>]"
      ]
     },
     "execution_count": 73,
     "metadata": {},
     "output_type": "execute_result"
    },
    {
     "data": {
      "image/png": "[encoded data removed]",
      "text/plain": [
       "<matplotlib.figure.Figure at 0x13eab050>"
      ]
     },
     "metadata": {},
     "output_type": "display_data"
    }
   ],
   "source": [
    "plt.plot(solution[1:]/big_solution[1:81])"
   ]
  },
  {
   "cell_type": "code",
   "execution_count": 74,
   "metadata": {
    "collapsed": true
   },
   "outputs": [],
   "source": [
    "modified_solution = np.zeros_like(big_solution)\n",
    "modified_solution[0] = 1./3.*solution[0]\n",
    "for i in range(3):\n",
    "    modified_solution[i*2*N+1:(i+1)*2*N+1] = solution[1:]/3."
   ]
  },
  {
   "cell_type": "code",
   "execution_count": 78,
   "metadata": {},
   "outputs": [],
   "source": [
    "m_big_ma = np.matrix(big_main_matrix)\n",
    "m_modified_solution = np.matrix(modified_solution)"
   ]
  },
  {
   "cell_type": "code",
   "execution_count": 81,
   "metadata": {},
   "outputs": [
    {
     "data": {
      "text/plain": [
       "matrix([[  7.95467371e-06],\n",
       "        [  7.75328956e-06],\n",
       "        [  7.55190542e-06],\n",
       "        [  7.35052127e-06],\n",
       "        [  7.14913713e-06],\n",
       "        [  6.94775298e-06],\n",
       "        [  6.74636884e-06],\n",
       "        [  6.54498469e-06],\n",
       "        [  6.34360055e-06],\n",
       "        [  6.14221641e-06],\n",
       "        [  5.94083226e-06],\n",
       "        [  5.73944812e-06],\n",
       "        [  5.53806397e-06],\n",
       "        [  5.33667983e-06],\n",
       "        [  5.13529568e-06],\n",
       "        [  4.93391154e-06],\n",
       "        [  4.73252739e-06],\n",
       "        [  4.53114325e-06],\n",
       "        [  4.32975911e-06],\n",
       "        [  4.12837496e-06],\n",
       "        [  3.92699082e-06],\n",
       "        [  3.72560667e-06],\n",
       "        [  3.52422253e-06],\n",
       "        [  3.32283838e-06],\n",
       "        [  3.12145424e-06],\n",
       "        [  2.92007009e-06],\n",
       "        [  2.71868595e-06],\n",
       "        [  2.51730181e-06],\n",
       "        [  2.31591766e-06],\n",
       "        [  2.11453352e-06],\n",
       "        [  1.91314937e-06],\n",
       "        [  1.71176523e-06],\n",
       "        [  1.51038108e-06],\n",
       "        [  1.30899694e-06],\n",
       "        [  1.10761279e-06],\n",
       "        [  9.06228650e-07],\n",
       "        [  7.04844506e-07],\n",
       "        [  5.03460361e-07],\n",
       "        [  3.02076217e-07],\n",
       "        [  1.00692072e-07],\n",
       "        [  1.00692072e-07],\n",
       "        [  3.02076217e-07],\n",
       "        [  5.03460361e-07],\n",
       "        [  7.04844506e-07],\n",
       "        [  9.06228650e-07],\n",
       "        [  1.10761279e-06],\n",
       "        [  1.30899694e-06],\n",
       "        [  1.51038108e-06],\n",
       "        [  1.71176523e-06],\n",
       "        [  1.91314937e-06],\n",
       "        [  2.11453352e-06],\n",
       "        [  2.31591766e-06],\n",
       "        [  2.51730181e-06],\n",
       "        [  2.71868595e-06],\n",
       "        [  2.92007009e-06],\n",
       "        [  3.12145424e-06],\n",
       "        [  3.32283838e-06],\n",
       "        [  3.52422253e-06],\n",
       "        [  3.72560667e-06],\n",
       "        [  3.92699082e-06],\n",
       "        [  4.12837496e-06],\n",
       "        [  4.32975911e-06],\n",
       "        [  4.53114325e-06],\n",
       "        [  4.73252739e-06],\n",
       "        [  4.93391154e-06],\n",
       "        [  5.13529568e-06],\n",
       "        [  5.33667983e-06],\n",
       "        [  5.53806397e-06],\n",
       "        [  5.73944812e-06],\n",
       "        [  5.94083226e-06],\n",
       "        [  6.14221641e-06],\n",
       "        [  6.34360055e-06],\n",
       "        [  6.54498469e-06],\n",
       "        [  6.74636884e-06],\n",
       "        [  6.94775298e-06],\n",
       "        [  7.14913713e-06],\n",
       "        [  7.35052127e-06],\n",
       "        [  7.55190542e-06],\n",
       "        [  7.75328956e-06],\n",
       "        [  7.95467371e-06],\n",
       "        [  7.95467371e-06],\n",
       "        [  7.75328956e-06],\n",
       "        [  7.55190542e-06],\n",
       "        [  7.35052127e-06],\n",
       "        [  7.14913713e-06],\n",
       "        [  6.94775298e-06],\n",
       "        [  6.74636884e-06],\n",
       "        [  6.54498469e-06],\n",
       "        [  6.34360055e-06],\n",
       "        [  6.14221641e-06],\n",
       "        [  5.94083226e-06],\n",
       "        [  5.73944812e-06],\n",
       "        [  5.53806397e-06],\n",
       "        [  5.33667983e-06],\n",
       "        [  5.13529568e-06],\n",
       "        [  4.93391154e-06],\n",
       "        [  4.73252739e-06],\n",
       "        [  4.53114325e-06],\n",
       "        [  4.32975911e-06],\n",
       "        [  4.12837496e-06],\n",
       "        [  3.92699082e-06],\n",
       "        [  3.72560667e-06],\n",
       "        [  3.52422253e-06],\n",
       "        [  3.32283838e-06],\n",
       "        [  3.12145424e-06],\n",
       "        [  2.92007009e-06],\n",
       "        [  2.71868595e-06],\n",
       "        [  2.51730181e-06],\n",
       "        [  2.31591766e-06],\n",
       "        [  2.11453352e-06],\n",
       "        [  1.91314937e-06],\n",
       "        [  1.71176523e-06],\n",
       "        [  1.51038108e-06],\n",
       "        [  1.30899694e-06],\n",
       "        [  1.10761279e-06],\n",
       "        [  9.06228650e-07],\n",
       "        [  7.04844506e-07],\n",
       "        [  5.03460361e-07],\n",
       "        [  3.02076217e-07],\n",
       "        [  1.00692072e-07],\n",
       "        [  1.00692072e-07],\n",
       "        [  3.02076217e-07],\n",
       "        [  5.03460361e-07],\n",
       "        [  7.04844506e-07],\n",
       "        [  9.06228650e-07],\n",
       "        [  1.10761279e-06],\n",
       "        [  1.30899694e-06],\n",
       "        [  1.51038108e-06],\n",
       "        [  1.71176523e-06],\n",
       "        [  1.91314937e-06],\n",
       "        [  2.11453352e-06],\n",
       "        [  2.31591766e-06],\n",
       "        [  2.51730181e-06],\n",
       "        [  2.71868595e-06],\n",
       "        [  2.92007009e-06],\n",
       "        [  3.12145424e-06],\n",
       "        [  3.32283838e-06],\n",
       "        [  3.52422253e-06],\n",
       "        [  3.72560667e-06],\n",
       "        [  3.92699082e-06],\n",
       "        [  4.12837496e-06],\n",
       "        [  4.32975911e-06],\n",
       "        [  4.53114325e-06],\n",
       "        [  4.73252739e-06],\n",
       "        [  4.93391154e-06],\n",
       "        [  5.13529568e-06],\n",
       "        [  5.33667983e-06],\n",
       "        [  5.53806397e-06],\n",
       "        [  5.73944812e-06],\n",
       "        [  5.94083226e-06],\n",
       "        [  6.14221641e-06],\n",
       "        [  6.34360055e-06],\n",
       "        [  6.54498469e-06],\n",
       "        [  6.74636884e-06],\n",
       "        [  6.94775298e-06],\n",
       "        [  7.14913713e-06],\n",
       "        [  7.35052127e-06],\n",
       "        [  7.55190542e-06],\n",
       "        [  7.75328956e-06],\n",
       "        [  7.95467371e-06],\n",
       "        [  7.95467371e-06],\n",
       "        [  7.75328956e-06],\n",
       "        [  7.55190542e-06],\n",
       "        [  7.35052127e-06],\n",
       "        [  7.14913713e-06],\n",
       "        [  6.94775298e-06],\n",
       "        [  6.74636884e-06],\n",
       "        [  6.54498469e-06],\n",
       "        [  6.34360055e-06],\n",
       "        [  6.14221641e-06],\n",
       "        [  5.94083226e-06],\n",
       "        [  5.73944812e-06],\n",
       "        [  5.53806397e-06],\n",
       "        [  5.33667983e-06],\n",
       "        [  5.13529568e-06],\n",
       "        [  4.93391154e-06],\n",
       "        [  4.73252739e-06],\n",
       "        [  4.53114325e-06],\n",
       "        [  4.32975911e-06],\n",
       "        [  4.12837496e-06],\n",
       "        [  3.92699082e-06],\n",
       "        [  3.72560667e-06],\n",
       "        [  3.52422253e-06],\n",
       "        [  3.32283838e-06],\n",
       "        [  3.12145424e-06],\n",
       "        [  2.92007009e-06],\n",
       "        [  2.71868595e-06],\n",
       "        [  2.51730181e-06],\n",
       "        [  2.31591766e-06],\n",
       "        [  2.11453352e-06],\n",
       "        [  1.91314937e-06],\n",
       "        [  1.71176523e-06],\n",
       "        [  1.51038108e-06],\n",
       "        [  1.30899694e-06],\n",
       "        [  1.10761279e-06],\n",
       "        [  9.06228650e-07],\n",
       "        [  7.04844506e-07],\n",
       "        [  5.03460361e-07],\n",
       "        [  3.02076217e-07],\n",
       "        [  1.00692072e-07],\n",
       "        [  1.00692072e-07],\n",
       "        [  3.02076217e-07],\n",
       "        [  5.03460361e-07],\n",
       "        [  7.04844506e-07],\n",
       "        [  9.06228650e-07],\n",
       "        [  1.10761279e-06],\n",
       "        [  1.30899694e-06],\n",
       "        [  1.51038108e-06],\n",
       "        [  1.71176523e-06],\n",
       "        [  1.91314937e-06],\n",
       "        [  2.11453352e-06],\n",
       "        [  2.31591766e-06],\n",
       "        [  2.51730181e-06],\n",
       "        [  2.71868595e-06],\n",
       "        [  2.92007009e-06],\n",
       "        [  3.12145424e-06],\n",
       "        [  3.32283838e-06],\n",
       "        [  3.52422253e-06],\n",
       "        [  3.72560667e-06],\n",
       "        [  3.92699082e-06],\n",
       "        [  4.12837496e-06],\n",
       "        [  4.32975911e-06],\n",
       "        [  4.53114325e-06],\n",
       "        [  4.73252739e-06],\n",
       "        [  4.93391154e-06],\n",
       "        [  5.13529568e-06],\n",
       "        [  5.33667983e-06],\n",
       "        [  5.53806397e-06],\n",
       "        [  5.73944812e-06],\n",
       "        [  5.94083226e-06],\n",
       "        [  6.14221641e-06],\n",
       "        [  6.34360055e-06],\n",
       "        [  6.54498469e-06],\n",
       "        [  6.74636884e-06],\n",
       "        [  6.94775298e-06],\n",
       "        [  7.14913713e-06],\n",
       "        [  7.35052127e-06],\n",
       "        [  7.55190542e-06],\n",
       "        [  7.75328956e-06],\n",
       "        [  7.95467371e-06],\n",
       "        [  6.15384615e-02]])"
      ]
     },
     "execution_count": 81,
     "metadata": {},
     "output_type": "execute_result"
    }
   ],
   "source": [
    "m_big_ma*m_modified_solution.T"
   ]
  },
  {
   "cell_type": "code",
   "execution_count": 82,
   "metadata": {},
   "outputs": [
    {
     "data": {
      "text/plain": [
       "array([  2.38640211e-05,   2.32598687e-05,   2.26557163e-05,\n",
       "         2.20515638e-05,   2.14474114e-05,   2.08432590e-05,\n",
       "         2.02391065e-05,   1.96349541e-05,   1.90308017e-05,\n",
       "         1.84266492e-05,   1.78224968e-05,   1.72183444e-05,\n",
       "         1.66141919e-05,   1.60100395e-05,   1.54058871e-05,\n",
       "         1.48017346e-05,   1.41975822e-05,   1.35934298e-05,\n",
       "         1.29892773e-05,   1.23851249e-05,   1.17809725e-05,\n",
       "         1.11768200e-05,   1.05726676e-05,   9.96851515e-06,\n",
       "         9.36436272e-06,   8.76021028e-06,   8.15605785e-06,\n",
       "         7.55190542e-06,   6.94775298e-06,   6.34360055e-06,\n",
       "         5.73944812e-06,   5.13529568e-06,   4.53114325e-06,\n",
       "         3.92699082e-06,   3.32283838e-06,   2.71868595e-06,\n",
       "         2.11453352e-06,   1.51038108e-06,   9.06228650e-07,\n",
       "         3.02076217e-07,   3.02076217e-07,   9.06228650e-07,\n",
       "         1.51038108e-06,   2.11453352e-06,   2.71868595e-06,\n",
       "         3.32283838e-06,   3.92699082e-06,   4.53114325e-06,\n",
       "         5.13529568e-06,   5.73944812e-06,   6.34360055e-06,\n",
       "         6.94775298e-06,   7.55190542e-06,   8.15605785e-06,\n",
       "         8.76021028e-06,   9.36436272e-06,   9.96851515e-06,\n",
       "         1.05726676e-05,   1.11768200e-05,   1.17809725e-05,\n",
       "         1.23851249e-05,   1.29892773e-05,   1.35934298e-05,\n",
       "         1.41975822e-05,   1.48017346e-05,   1.54058871e-05,\n",
       "         1.60100395e-05,   1.66141919e-05,   1.72183444e-05,\n",
       "         1.78224968e-05,   1.84266492e-05,   1.90308017e-05,\n",
       "         1.96349541e-05,   2.02391065e-05,   2.08432590e-05,\n",
       "         2.14474114e-05,   2.20515638e-05,   2.26557163e-05,\n",
       "         2.32598687e-05,   2.38640211e-05,   2.38640211e-05,\n",
       "         2.32598687e-05,   2.26557163e-05,   2.20515638e-05,\n",
       "         2.14474114e-05,   2.08432590e-05,   2.02391065e-05,\n",
       "         1.96349541e-05,   1.90308017e-05,   1.84266492e-05,\n",
       "         1.78224968e-05,   1.72183444e-05,   1.66141919e-05,\n",
       "         1.60100395e-05,   1.54058871e-05,   1.48017346e-05,\n",
       "         1.41975822e-05,   1.35934298e-05,   1.29892773e-05,\n",
       "         1.23851249e-05,   1.17809725e-05,   1.11768200e-05,\n",
       "         1.05726676e-05,   9.96851515e-06,   9.36436272e-06,\n",
       "         8.76021028e-06,   8.15605785e-06,   7.55190542e-06,\n",
       "         6.94775298e-06,   6.34360055e-06,   5.73944812e-06,\n",
       "         5.13529568e-06,   4.53114325e-06,   3.92699082e-06,\n",
       "         3.32283838e-06,   2.71868595e-06,   2.11453352e-06,\n",
       "         1.51038108e-06,   9.06228650e-07,   3.02076217e-07,\n",
       "         3.02076217e-07,   9.06228650e-07,   1.51038108e-06,\n",
       "         2.11453352e-06,   2.71868595e-06,   3.32283838e-06,\n",
       "         3.92699082e-06,   4.53114325e-06,   5.13529568e-06,\n",
       "         5.73944812e-06,   6.34360055e-06,   6.94775298e-06,\n",
       "         7.55190542e-06,   8.15605785e-06,   8.76021028e-06,\n",
       "         9.36436272e-06,   9.96851515e-06,   1.05726676e-05,\n",
       "         1.11768200e-05,   1.17809725e-05,   1.23851249e-05,\n",
       "         1.29892773e-05,   1.35934298e-05,   1.41975822e-05,\n",
       "         1.48017346e-05,   1.54058871e-05,   1.60100395e-05,\n",
       "         1.66141919e-05,   1.72183444e-05,   1.78224968e-05,\n",
       "         1.84266492e-05,   1.90308017e-05,   1.96349541e-05,\n",
       "         2.02391065e-05,   2.08432590e-05,   2.14474114e-05,\n",
       "         2.20515638e-05,   2.26557163e-05,   2.32598687e-05,\n",
       "         2.38640211e-05,   2.38640211e-05,   2.32598687e-05,\n",
       "         2.26557163e-05,   2.20515638e-05,   2.14474114e-05,\n",
       "         2.08432590e-05,   2.02391065e-05,   1.96349541e-05,\n",
       "         1.90308017e-05,   1.84266492e-05,   1.78224968e-05,\n",
       "         1.72183444e-05,   1.66141919e-05,   1.60100395e-05,\n",
       "         1.54058871e-05,   1.48017346e-05,   1.41975822e-05,\n",
       "         1.35934298e-05,   1.29892773e-05,   1.23851249e-05,\n",
       "         1.17809725e-05,   1.11768200e-05,   1.05726676e-05,\n",
       "         9.96851515e-06,   9.36436272e-06,   8.76021028e-06,\n",
       "         8.15605785e-06,   7.55190542e-06,   6.94775298e-06,\n",
       "         6.34360055e-06,   5.73944812e-06,   5.13529568e-06,\n",
       "         4.53114325e-06,   3.92699082e-06,   3.32283838e-06,\n",
       "         2.71868595e-06,   2.11453352e-06,   1.51038108e-06,\n",
       "         9.06228650e-07,   3.02076217e-07,   3.02076217e-07,\n",
       "         9.06228650e-07,   1.51038108e-06,   2.11453352e-06,\n",
       "         2.71868595e-06,   3.32283838e-06,   3.92699082e-06,\n",
       "         4.53114325e-06,   5.13529568e-06,   5.73944812e-06,\n",
       "         6.34360055e-06,   6.94775298e-06,   7.55190542e-06,\n",
       "         8.15605785e-06,   8.76021028e-06,   9.36436272e-06,\n",
       "         9.96851515e-06,   1.05726676e-05,   1.11768200e-05,\n",
       "         1.17809725e-05,   1.23851249e-05,   1.29892773e-05,\n",
       "         1.35934298e-05,   1.41975822e-05,   1.48017346e-05,\n",
       "         1.54058871e-05,   1.60100395e-05,   1.66141919e-05,\n",
       "         1.72183444e-05,   1.78224968e-05,   1.84266492e-05,\n",
       "         1.90308017e-05,   1.96349541e-05,   2.02391065e-05,\n",
       "         2.08432590e-05,   2.14474114e-05,   2.20515638e-05,\n",
       "         2.26557163e-05,   2.32598687e-05,   2.38640211e-05,\n",
       "         6.15384615e-02])"
      ]
     },
     "execution_count": 82,
     "metadata": {},
     "output_type": "execute_result"
    }
   ],
   "source": [
    "big_right_part"
   ]
  },
  {
   "cell_type": "code",
   "execution_count": 88,
   "metadata": {},
   "outputs": [
    {
     "data": {
      "text/plain": [
       "[<matplotlib.lines.Line2D at 0x20fdcbd0>]"
      ]
     },
     "execution_count": 88,
     "metadata": {},
     "output_type": "execute_result"
    },
    {
     "data": {
      "image/png": "[encoded data removed]",
      "text/plain": [
       "<matplotlib.figure.Figure at 0x208ad2f0>"
      ]
     },
     "metadata": {},
     "output_type": "display_data"
    }
   ],
   "source": [
    "plt.plot((m_big_ma*m_modified_solution.T)[:-1])\n",
    "plt.plot(big_right_part[:-1])"
   ]
  },
  {
   "cell_type": "code",
   "execution_count": 91,
   "metadata": {
    "collapsed": true
   },
   "outputs": [],
   "source": [
    "tw = np.array(m_big_ma*m_modified_solution.T)[:-1].flatten()"
   ]
  },
  {
   "cell_type": "code",
   "execution_count": 93,
   "metadata": {},
   "outputs": [
    {
     "data": {
      "text/plain": [
       "[<matplotlib.lines.Line2D at 0x21036ef0>]"
      ]
     },
     "execution_count": 93,
     "metadata": {},
     "output_type": "execute_result"
    },
    {
     "data": {
      "image/png": "[encoded data removed]",
      "text/plain": [
       "<matplotlib.figure.Figure at 0x20fc9a10>"
      ]
     },
     "metadata": {},
     "output_type": "display_data"
    }
   ],
   "source": [
    "plt.plot(big_right_part[:-1]/tw)"
   ]
  },
  {
   "cell_type": "code",
   "execution_count": 96,
   "metadata": {},
   "outputs": [
    {
     "data": {
      "text/plain": [
       "array([  2.38640211e-05,   2.32598687e-05,   2.26557163e-05,\n",
       "         2.20515638e-05,   2.14474114e-05,   2.08432590e-05,\n",
       "         2.02391065e-05,   1.96349541e-05,   1.90308017e-05,\n",
       "         1.84266492e-05,   1.78224968e-05,   1.72183444e-05,\n",
       "         1.66141919e-05,   1.60100395e-05,   1.54058871e-05,\n",
       "         1.48017346e-05,   1.41975822e-05,   1.35934298e-05,\n",
       "         1.29892773e-05,   1.23851249e-05,   1.17809725e-05,\n",
       "         1.11768200e-05,   1.05726676e-05,   9.96851515e-06,\n",
       "         9.36436272e-06,   8.76021028e-06,   8.15605785e-06,\n",
       "         7.55190542e-06,   6.94775298e-06,   6.34360055e-06,\n",
       "         5.73944812e-06,   5.13529568e-06,   4.53114325e-06,\n",
       "         3.92699082e-06,   3.32283838e-06,   2.71868595e-06,\n",
       "         2.11453352e-06,   1.51038108e-06,   9.06228650e-07,\n",
       "         3.02076217e-07,   3.02076217e-07,   9.06228650e-07,\n",
       "         1.51038108e-06,   2.11453352e-06,   2.71868595e-06,\n",
       "         3.32283838e-06,   3.92699082e-06,   4.53114325e-06,\n",
       "         5.13529568e-06,   5.73944812e-06,   6.34360055e-06,\n",
       "         6.94775298e-06,   7.55190542e-06,   8.15605785e-06,\n",
       "         8.76021028e-06,   9.36436272e-06,   9.96851515e-06,\n",
       "         1.05726676e-05,   1.11768200e-05,   1.17809725e-05,\n",
       "         1.23851249e-05,   1.29892773e-05,   1.35934298e-05,\n",
       "         1.41975822e-05,   1.48017346e-05,   1.54058871e-05,\n",
       "         1.60100395e-05,   1.66141919e-05,   1.72183444e-05,\n",
       "         1.78224968e-05,   1.84266492e-05,   1.90308017e-05,\n",
       "         1.96349541e-05,   2.02391065e-05,   2.08432590e-05,\n",
       "         2.14474114e-05,   2.20515638e-05,   2.26557163e-05,\n",
       "         2.32598687e-05,   2.38640211e-05,   2.38640211e-05,\n",
       "         2.32598687e-05,   2.26557163e-05,   2.20515638e-05,\n",
       "         2.14474114e-05,   2.08432590e-05,   2.02391065e-05,\n",
       "         1.96349541e-05,   1.90308017e-05,   1.84266492e-05,\n",
       "         1.78224968e-05,   1.72183444e-05,   1.66141919e-05,\n",
       "         1.60100395e-05,   1.54058871e-05,   1.48017346e-05,\n",
       "         1.41975822e-05,   1.35934298e-05,   1.29892773e-05,\n",
       "         1.23851249e-05,   1.17809725e-05,   1.11768200e-05,\n",
       "         1.05726676e-05,   9.96851515e-06,   9.36436272e-06,\n",
       "         8.76021028e-06,   8.15605785e-06,   7.55190542e-06,\n",
       "         6.94775298e-06,   6.34360055e-06,   5.73944812e-06,\n",
       "         5.13529568e-06,   4.53114325e-06,   3.92699082e-06,\n",
       "         3.32283838e-06,   2.71868595e-06,   2.11453352e-06,\n",
       "         1.51038108e-06,   9.06228650e-07,   3.02076217e-07,\n",
       "         3.02076217e-07,   9.06228650e-07,   1.51038108e-06,\n",
       "         2.11453352e-06,   2.71868595e-06,   3.32283838e-06,\n",
       "         3.92699082e-06,   4.53114325e-06,   5.13529568e-06,\n",
       "         5.73944812e-06,   6.34360055e-06,   6.94775298e-06,\n",
       "         7.55190542e-06,   8.15605785e-06,   8.76021028e-06,\n",
       "         9.36436272e-06,   9.96851515e-06,   1.05726676e-05,\n",
       "         1.11768200e-05,   1.17809725e-05,   1.23851249e-05,\n",
       "         1.29892773e-05,   1.35934298e-05,   1.41975822e-05,\n",
       "         1.48017346e-05,   1.54058871e-05,   1.60100395e-05,\n",
       "         1.66141919e-05,   1.72183444e-05,   1.78224968e-05,\n",
       "         1.84266492e-05,   1.90308017e-05,   1.96349541e-05,\n",
       "         2.02391065e-05,   2.08432590e-05,   2.14474114e-05,\n",
       "         2.20515638e-05,   2.26557163e-05,   2.32598687e-05,\n",
       "         2.38640211e-05,   2.38640211e-05,   2.32598687e-05,\n",
       "         2.26557163e-05,   2.20515638e-05,   2.14474114e-05,\n",
       "         2.08432590e-05,   2.02391065e-05,   1.96349541e-05,\n",
       "         1.90308017e-05,   1.84266492e-05,   1.78224968e-05,\n",
       "         1.72183444e-05,   1.66141919e-05,   1.60100395e-05,\n",
       "         1.54058871e-05,   1.48017346e-05,   1.41975822e-05,\n",
       "         1.35934298e-05,   1.29892773e-05,   1.23851249e-05,\n",
       "         1.17809725e-05,   1.11768200e-05,   1.05726676e-05,\n",
       "         9.96851515e-06,   9.36436272e-06,   8.76021028e-06,\n",
       "         8.15605785e-06,   7.55190542e-06,   6.94775298e-06,\n",
       "         6.34360055e-06,   5.73944812e-06,   5.13529568e-06,\n",
       "         4.53114325e-06,   3.92699082e-06,   3.32283838e-06,\n",
       "         2.71868595e-06,   2.11453352e-06,   1.51038108e-06,\n",
       "         9.06228650e-07,   3.02076217e-07,   3.02076217e-07,\n",
       "         9.06228650e-07,   1.51038108e-06,   2.11453352e-06,\n",
       "         2.71868595e-06,   3.32283838e-06,   3.92699082e-06,\n",
       "         4.53114325e-06,   5.13529568e-06,   5.73944812e-06,\n",
       "         6.34360055e-06,   6.94775298e-06,   7.55190542e-06,\n",
       "         8.15605785e-06,   8.76021028e-06,   9.36436272e-06,\n",
       "         9.96851515e-06,   1.05726676e-05,   1.11768200e-05,\n",
       "         1.17809725e-05,   1.23851249e-05,   1.29892773e-05,\n",
       "         1.35934298e-05,   1.41975822e-05,   1.48017346e-05,\n",
       "         1.54058871e-05,   1.60100395e-05,   1.66141919e-05,\n",
       "         1.72183444e-05,   1.78224968e-05,   1.84266492e-05,\n",
       "         1.90308017e-05,   1.96349541e-05,   2.02391065e-05,\n",
       "         2.08432590e-05,   2.14474114e-05,   2.20515638e-05,\n",
       "         2.26557163e-05,   2.32598687e-05,   2.38640211e-05])"
      ]
     },
     "execution_count": 96,
     "metadata": {},
     "output_type": "execute_result"
    }
   ],
   "source": [
    "big_right_part[:-1]"
   ]
  },
  {
   "cell_type": "code",
   "execution_count": 98,
   "metadata": {},
   "outputs": [
    {
     "data": {
      "text/plain": [
       "array([ 0.33333333,  0.33333333,  0.33333333,  0.33333333,  0.33333333,\n",
       "        0.33333333,  0.33333333,  0.33333333,  0.33333333,  0.33333333,\n",
       "        0.33333333,  0.33333333,  0.33333333,  0.33333333,  0.33333333,\n",
       "        0.33333333,  0.33333333,  0.33333333,  0.33333333,  0.33333333,\n",
       "        0.33333333,  0.33333333,  0.33333333,  0.33333333,  0.33333333,\n",
       "        0.33333333,  0.33333333,  0.33333333,  0.33333333,  0.33333333,\n",
       "        0.33333333,  0.33333333,  0.33333333,  0.33333333,  0.33333333,\n",
       "        0.33333333,  0.33333333,  0.33333333,  0.33333333,  0.33333333,\n",
       "        0.33333333,  0.33333333,  0.33333333,  0.33333333,  0.33333333,\n",
       "        0.33333333,  0.33333333,  0.33333333,  0.33333333,  0.33333333,\n",
       "        0.33333333,  0.33333333,  0.33333333,  0.33333333,  0.33333333,\n",
       "        0.33333333,  0.33333333,  0.33333333,  0.33333333,  0.33333333,\n",
       "        0.33333333,  0.33333333,  0.33333333,  0.33333333,  0.33333333,\n",
       "        0.33333333,  0.33333333,  0.33333333,  0.33333333,  0.33333333,\n",
       "        0.33333333,  0.33333333,  0.33333333,  0.33333333,  0.33333333,\n",
       "        0.33333333,  0.33333333,  0.33333333,  0.33333333,  0.33333333,\n",
       "        0.33333333,  0.33333333,  0.33333333,  0.33333333,  0.33333333,\n",
       "        0.33333333,  0.33333333,  0.33333333,  0.33333333,  0.33333333,\n",
       "        0.33333333,  0.33333333,  0.33333333,  0.33333333,  0.33333333,\n",
       "        0.33333333,  0.33333333,  0.33333333,  0.33333333,  0.33333333,\n",
       "        0.33333333,  0.33333333,  0.33333333,  0.33333333,  0.33333333,\n",
       "        0.33333333,  0.33333333,  0.33333333,  0.33333333,  0.33333333,\n",
       "        0.33333333,  0.33333333,  0.33333333,  0.33333333,  0.33333333,\n",
       "        0.33333333,  0.33333333,  0.33333333,  0.33333333,  0.33333333,\n",
       "        0.33333333,  0.33333333,  0.33333333,  0.33333333,  0.33333333,\n",
       "        0.33333333,  0.33333333,  0.33333333,  0.33333333,  0.33333333,\n",
       "        0.33333333,  0.33333333,  0.33333333,  0.33333333,  0.33333333,\n",
       "        0.33333333,  0.33333333,  0.33333333,  0.33333333,  0.33333333,\n",
       "        0.33333333,  0.33333333,  0.33333333,  0.33333333,  0.33333333,\n",
       "        0.33333333,  0.33333333,  0.33333333,  0.33333333,  0.33333333,\n",
       "        0.33333333,  0.33333333,  0.33333333,  0.33333333,  0.33333333,\n",
       "        0.33333333,  0.33333333,  0.33333333,  0.33333333,  0.33333333,\n",
       "        0.33333333,  0.33333333,  0.33333333,  0.33333333,  0.33333333,\n",
       "        0.33333333,  0.33333333,  0.33333333,  0.33333333,  0.33333333,\n",
       "        0.33333333,  0.33333333,  0.33333333,  0.33333333,  0.33333333,\n",
       "        0.33333333,  0.33333333,  0.33333333,  0.33333333,  0.33333333,\n",
       "        0.33333333,  0.33333333,  0.33333333,  0.33333333,  0.33333333,\n",
       "        0.33333333,  0.33333333,  0.33333333,  0.33333333,  0.33333333,\n",
       "        0.33333333,  0.33333333,  0.33333333,  0.33333333,  0.33333333,\n",
       "        0.33333333,  0.33333333,  0.33333333,  0.33333333,  0.33333333,\n",
       "        0.33333333,  0.33333333,  0.33333333,  0.33333333,  0.33333333,\n",
       "        0.33333333,  0.33333333,  0.33333333,  0.33333333,  0.33333333,\n",
       "        0.33333333,  0.33333333,  0.33333333,  0.33333333,  0.33333333,\n",
       "        0.33333333,  0.33333333,  0.33333333,  0.33333333,  0.33333333,\n",
       "        0.33333333,  0.33333333,  0.33333333,  0.33333333,  0.33333333,\n",
       "        0.33333333,  0.33333333,  0.33333333,  0.33333333,  0.33333333,\n",
       "        0.33333333,  0.33333333,  0.33333333,  0.33333333,  0.33333333,\n",
       "        0.33333333,  0.33333333,  0.33333333,  0.33333333,  0.33333333])"
      ]
     },
     "execution_count": 98,
     "metadata": {},
     "output_type": "execute_result"
    }
   ],
   "source": [
    "tw/big_right_part[:-1]"
   ]
  },
  {
   "cell_type": "code",
   "execution_count": null,
   "metadata": {
    "collapsed": true
   },
   "outputs": [],
   "source": []
  }
 ],
 "metadata": {
  "kernelspec": {
   "display_name": "Python 3",
   "language": "python",
   "name": "python3"
  },
  "language_info": {
   "codemirror_mode": {
    "name": "ipython",
    "version": 3
   },
   "file_extension": ".py",
   "mimetype": "text/x-python",
   "name": "python",
   "nbconvert_exporter": "python",
   "pygments_lexer": "ipython3",
   "version": "3.6.1"
  }
 },
 "nbformat": 4,
 "nbformat_minor": 2
}
