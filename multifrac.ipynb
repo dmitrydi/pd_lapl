{
 "cells": [
  {
   "cell_type": "code",
   "execution_count": 1,
   "metadata": {
    "collapsed": true
   },
   "outputs": [],
   "source": [
    "import numpy as np\n",
    "import matplotlib.pyplot as plt\n",
    "from well import Well\n",
    "from geometry_keeper import GeometryKeeper\n",
    "from scipy.integrate import quad\n",
    "from scipy.special import k0, iti0k0\n",
    "% matplotlib inline"
   ]
  },
  {
   "cell_type": "code",
   "execution_count": 2,
   "metadata": {
    "collapsed": true
   },
   "outputs": [],
   "source": [
    "from multifrac import Multifrac"
   ]
  },
  {
   "cell_type": "code",
   "execution_count": 3,
   "metadata": {},
   "outputs": [
    {
     "name": "stdout",
     "output_type": "stream",
     "text": [
      "True\n",
      "True\n",
      "True\n",
      "######\n",
      "2.19127949561e-05\n",
      "0.000109563974781\n",
      "5.0\n"
     ]
    }
   ],
   "source": [
    "outer_bound = \"infinite\"\n",
    "top_bound = \"imp\"\n",
    "bottom_bound = \"imp\"\n",
    "wtype = \"frac\"\n",
    "n_stehf = 10\n",
    "xwd = 0.\n",
    "ywd = 0.\n",
    "N = 20\n",
    "\n",
    "params = {\"nseg\": N, \"kx\": 1., \"ky\": 1., \"kz\": 1., \"omega\": 1, \"lambda\": 1, \"Fcd\":10, \"ref_length\":1.,\n",
    "         \"z_ref_length\": 1}\n",
    "real_well = Well(xwd, ywd, outer_bound, top_bound, bottom_bound, wtype, params, n_stehf)\n",
    "well = real_well.lapl_well\n",
    "\n",
    "dyd = 1.\n",
    "xws = np.array([0., 0., 0., 0., 0.])\n",
    "yws = np.array([2*dyd, dyd, 0., -dyd, -2*dyd])\n",
    "nwells = 5\n",
    "mf = Multifrac(nwells, xws, yws, outer_bound, top_bound, bottom_bound, params, n_stehf)\n",
    "mf2 = Multifrac(nwells, xws, yws, outer_bound, top_bound, bottom_bound, params, n_stehf, \"fixed_quad\", 5)\n",
    "mf_lapl = mf.lapl_well \n",
    "######\n",
    "\n",
    "\n",
    "s = 1120\n",
    "\n",
    "orig_shape = (nwells*params[\"nseg\"]*2, nwells*params[\"nseg\"]*2)\n",
    "source_m  = mf_lapl.get_source_matrix(s)\n",
    "right_matrix = well.get_green_matrix(s)\n",
    "geo = mf_lapl.geo\n",
    "green_matrix = np.zeros(geo.shape[0])\n",
    "dyd_0_inds = np.argwhere(geo[:, 2] == 0.).flatten()\n",
    "items_dyd_0 = geo[dyd_0_inds]\n",
    "lims1 = items_dyd_0[:,0]\n",
    "lims2 = items_dyd_0[:,1]\n",
    "n_lims1 = len(lims1)\n",
    "lims = np.append(lims1, lims2)\n",
    "mask_1 = items_dyd_0[:,-2]\n",
    "mask_2 = items_dyd_0[:,-1]\n",
    "ulims, inds = np.unique(lims, return_inverse = True)\n",
    "uvals = well.source.integrate_source_functions(s,\n",
    "        np.zeros_like(ulims, dtype=np.float),\n",
    "        ulims,\n",
    "        np.zeros_like(ulims, dtype=np.float))\n",
    "vals = uvals[inds]\n",
    "vals1 = vals[:n_lims1]\n",
    "vals2 = vals[n_lims1:]\n",
    "vals = vals1*mask_1 + vals2*mask_2\n",
    "green_matrix[dyd_0_inds] = vals\n",
    "dyd_nnz_inds = np.argwhere(geo[:, 2] > 0.).flatten()\n",
    "items_dyd_nnz = geo[dyd_nnz_inds][:,:3]\n",
    "lims = items_dyd_nnz[:,:2]\n",
    "upper_lims = np.max(lims, axis=1).reshape(-1, 1)\n",
    "upper_lims_dyds = np.hstack([upper_lims, items_dyd_nnz[:,-1].reshape(-1, 1)])\n",
    "ulims_dyd_nnz, inds_dyd_nnz = np.unique(upper_lims_dyds, axis=0, return_inverse=True)\n",
    "uvals_dyd_nnz = well.source.integrate_source_functions(s,\n",
    "        ulims_dyd_nnz[:, 0] - 1./params[\"nseg\"],\n",
    "        ulims_dyd_nnz[:, 0],\n",
    "        ulims_dyd_nnz[:, 1])\n",
    "vals_dyd_nnz = uvals_dyd_nnz[inds_dyd_nnz]\n",
    "green_matrix[dyd_nnz_inds] = vals_dyd_nnz\n",
    "green_matrix = green_matrix.reshape(orig_shape)\n",
    "# green_matrix[:2*N, 2*N:] = 0.\n",
    "# green_matrix[2*N:4*N, :2*N] = 0.\n",
    "# green_matrix[2*N:4*N, 4*N:] = 0.\n",
    "# green_matrix[4*N:,:4*N] = 0.\n",
    "print(np.allclose(green_matrix[:2*params[\"nseg\"],:2*params[\"nseg\"]], right_matrix))\n",
    "print(np.allclose(green_matrix[2*params[\"nseg\"]:4*params[\"nseg\"],2*params[\"nseg\"]:4*params[\"nseg\"]], right_matrix))\n",
    "print(np.allclose(green_matrix[4*params[\"nseg\"]:6*params[\"nseg\"],4*params[\"nseg\"]:6*params[\"nseg\"]], right_matrix))\n",
    "source_matrix = mf_lapl.get_source_matrix(s)\n",
    "right_part = mf_lapl.get_right_part(s)\n",
    "right_part[-1] = right_part[-1]\n",
    "true_right_part = well.get_right_part(s)\n",
    "true_source_matrix = well.get_source_matrix(s)\n",
    "combined_matrix = np.zeros((1+nwells*params[\"nseg\"]*2, 1+nwells*params[\"nseg\"]*2), dtype = np.float)\n",
    "combined_matrix[:-1,0] = 1.\n",
    "combined_matrix[-1, 1:] = 1.\n",
    "combined_matrix[:-1, 1:] = source_matrix - green_matrix\n",
    "true_e_green_matrix = well.ext_green_matrix(right_matrix)\n",
    "true_dummy_matrix = well.get_dummy_matrix()\n",
    "true_combined_matrix = true_dummy_matrix - true_e_green_matrix + true_source_matrix\n",
    "print(\"######\")\n",
    "solution = np.linalg.solve(combined_matrix, right_part)\n",
    "true_solution = np.linalg.solve(true_combined_matrix, true_right_part)\n",
    "print(solution[0])\n",
    "print(true_solution[0])\n",
    "print(true_solution[0]/solution[0])"
   ]
  },
  {
   "cell_type": "code",
   "execution_count": 4,
   "metadata": {},
   "outputs": [
    {
     "name": "stdout",
     "output_type": "stream",
     "text": [
      "0.608048915865\n",
      "0.123320012417\n",
      "4.93065889266\n"
     ]
    }
   ],
   "source": [
    "t = .1\n",
    "print(real_well.get_pw(t))\n",
    "print(mf.get_pw(t))\n",
    "print(real_well.get_pw(t)/mf.get_pw(t))"
   ]
  },
  {
   "cell_type": "code",
   "execution_count": 5,
   "metadata": {
    "collapsed": true
   },
   "outputs": [],
   "source": [
    "ts = np.logspace(-3, 0, 30)"
   ]
  },
  {
   "cell_type": "code",
   "execution_count": 6,
   "metadata": {
    "collapsed": true
   },
   "outputs": [],
   "source": [
    "singles = []\n",
    "\n",
    "for t in ts:\n",
    "    singles.append(real_well.get_pw(t))\n"
   ]
  },
  {
   "cell_type": "code",
   "execution_count": 7,
   "metadata": {},
   "outputs": [
    {
     "name": "stdout",
     "output_type": "stream",
     "text": [
      "done in 28.24361538887024 s\n"
     ]
    }
   ],
   "source": [
    "from time import time\n",
    "multi = []\n",
    "t1 = time()\n",
    "for t in ts:\n",
    "    multi.append(mf.get_pw(t))\n",
    "print(\"done in {} s\".format(time()-t1))"
   ]
  },
  {
   "cell_type": "code",
   "execution_count": 8,
   "metadata": {
    "collapsed": true
   },
   "outputs": [],
   "source": [
    "import matplotlib.pyplot as plt\n",
    "% matplotlib inline"
   ]
  },
  {
   "cell_type": "code",
   "execution_count": 9,
   "metadata": {},
   "outputs": [
    {
     "data": {
      "text/plain": [
       "[<matplotlib.lines.Line2D at 0x7b97db0>]"
      ]
     },
     "execution_count": 9,
     "metadata": {},
     "output_type": "execute_result"
    },
    {
     "data": {
      "image/png": "[encoded data removed]",
      "text/plain": [
       "<matplotlib.figure.Figure at 0x66c9570>"
      ]
     },
     "metadata": {},
     "output_type": "display_data"
    }
   ],
   "source": [
    "plt.xscale(\"log\")\n",
    "plt.plot(ts, singles)\n",
    "plt.plot(ts, multi)"
   ]
  },
  {
   "cell_type": "code",
   "execution_count": 10,
   "metadata": {},
   "outputs": [
    {
     "data": {
      "text/plain": [
       "[<matplotlib.lines.Line2D at 0xef4a110>]"
      ]
     },
     "execution_count": 10,
     "metadata": {},
     "output_type": "execute_result"
    },
    {
     "data": {
      "image/png": "[encoded data removed]",
      "text/plain": [
       "<matplotlib.figure.Figure at 0xef07a50>"
      ]
     },
     "metadata": {},
     "output_type": "display_data"
    }
   ],
   "source": [
    "plt.xscale(\"log\")\n",
    "singles = np.array(singles)\n",
    "multi = np.array(multi)\n",
    "plt.plot(ts, singles/multi)"
   ]
  },
  {
   "cell_type": "markdown",
   "metadata": {},
   "source": [
    "### Here I found that multifrac is Ok"
   ]
  },
  {
   "cell_type": "code",
   "execution_count": 11,
   "metadata": {
    "collapsed": true
   },
   "outputs": [],
   "source": [
    "mf2 = Multifrac(nwells, xws, yws, outer_bound, top_bound, bottom_bound, params, n_stehf, \"fixed_quad\", 5)"
   ]
  },
  {
   "cell_type": "code",
   "execution_count": 12,
   "metadata": {},
   "outputs": [
    {
     "name": "stdout",
     "output_type": "stream",
     "text": [
      "done in 22.54128909111023 s\n"
     ]
    }
   ],
   "source": [
    "from time import time\n",
    "multi2 = []\n",
    "t1 = time()\n",
    "for t in ts:\n",
    "    multi2.append(mf2.get_pw(t))\n",
    "print(\"done in {} s\".format(time()-t1))"
   ]
  },
  {
   "cell_type": "code",
   "execution_count": 13,
   "metadata": {},
   "outputs": [
    {
     "data": {
      "text/plain": [
       "[<matplotlib.lines.Line2D at 0xf095110>]"
      ]
     },
     "execution_count": 13,
     "metadata": {},
     "output_type": "execute_result"
    },
    {
     "data": {
      "image/png": "[encoded data removed]",
      "text/plain": [
       "<matplotlib.figure.Figure at 0xefb5c10>"
      ]
     },
     "metadata": {},
     "output_type": "display_data"
    }
   ],
   "source": [
    "plt.xscale(\"log\")\n",
    "multi2 = np.array(multi2)\n",
    "plt.plot(ts, singles/multi2)"
   ]
  },
  {
   "cell_type": "code",
   "execution_count": 14,
   "metadata": {
    "collapsed": true
   },
   "outputs": [],
   "source": [
    "dxd = 1.\n",
    "xws = np.array([-2*dxd,  0.,  2*dxd])\n",
    "yws = np.array([0., 0., 0.])\n",
    "nwells = 3\n",
    "mf3 = Multifrac(nwells, xws, yws, outer_bound, top_bound, bottom_bound, params, n_stehf)"
   ]
  },
  {
   "cell_type": "code",
   "execution_count": 15,
   "metadata": {},
   "outputs": [
    {
     "name": "stdout",
     "output_type": "stream",
     "text": [
      "done in 1.57008957862854 s\n"
     ]
    }
   ],
   "source": [
    "multi3 = []\n",
    "t1 = time()\n",
    "for t in ts:\n",
    "    multi3.append(mf3.get_pw(t))\n",
    "print(\"done in {} s\".format(time()-t1))"
   ]
  },
  {
   "cell_type": "code",
   "execution_count": 16,
   "metadata": {},
   "outputs": [
    {
     "data": {
      "text/plain": [
       "[<matplotlib.lines.Line2D at 0xeee5a90>]"
      ]
     },
     "execution_count": 16,
     "metadata": {},
     "output_type": "execute_result"
    },
    {
     "data": {
      "image/png": "[encoded data removed]",
      "text/plain": [
       "<matplotlib.figure.Figure at 0xf0afab0>"
      ]
     },
     "metadata": {},
     "output_type": "display_data"
    }
   ],
   "source": [
    "multi3 = np.array(multi3)\n",
    "plt.xscale(\"log\")\n",
    "plt.plot(ts, singles/multi3)"
   ]
  },
  {
   "cell_type": "code",
   "execution_count": 17,
   "metadata": {},
   "outputs": [
    {
     "data": {
      "text/plain": [
       "[<matplotlib.lines.Line2D at 0x79078f0>]"
      ]
     },
     "execution_count": 17,
     "metadata": {},
     "output_type": "execute_result"
    },
    {
     "data": {
      "image/png": "[encoded data removed]",
      "text/plain": [
       "<matplotlib.figure.Figure at 0xf06e470>"
      ]
     },
     "metadata": {},
     "output_type": "display_data"
    }
   ],
   "source": [
    "plt.plot(mf3.get_source_distribution(1e-3))\n",
    "plt.plot(mf3.get_source_distribution(10))"
   ]
  },
  {
   "cell_type": "code",
   "execution_count": 3,
   "metadata": {
    "collapsed": true
   },
   "outputs": [],
   "source": [
    "outer_bound = \"infinite\"\n",
    "top_bound = \"imp\"\n",
    "bottom_bound = \"imp\"\n",
    "wtype = \"frac\"\n",
    "n_stehf = 10\n",
    "xwd = 0.\n",
    "ywd = 0.\n",
    "N = 10\n",
    "\n",
    "params = {\"nseg\": N, \"kx\": 1., \"ky\": 1., \"kz\": 1., \"omega\": 1, \"lambda\": 1, \"Fcd\":10, \"ref_length\":1.,\n",
    "         \"z_ref_length\": 1}\n",
    "dyd = 1.\n",
    "xws = np.array([0., 0., 0.])\n",
    "yws = np.array([dyd, 0., -dyd])\n",
    "nwells = 3\n",
    "mf = Multifrac(nwells, xws, yws, outer_bound, top_bound, bottom_bound, params, n_stehf)\n",
    "mf_lapl = mf.lapl_well "
   ]
  },
  {
   "cell_type": "code",
   "execution_count": 4,
   "metadata": {},
   "outputs": [],
   "source": [
    "s = 7\n",
    "old_green = mf_lapl.get_green_matrix(s)"
   ]
  },
  {
   "cell_type": "code",
   "execution_count": 21,
   "metadata": {},
   "outputs": [],
   "source": [
    "from new_struct.well import Well as NewWell\n",
    "outer_bound = \"inf\"\n",
    "top_bound = \"imp\"\n",
    "bottom_bound = \"imp\"\n",
    "wtype = \"frac\"\n",
    "nseg = 10\n",
    "nwells = 3\n",
    "xwds = [0, 0, 0]\n",
    "ywds = [-1, 0, 1]\n",
    "x_lengths = 1\n",
    "xed = None\n",
    "yed = None\n",
    "zwds = None\n",
    "hd = None\n",
    "mf_well_new = NewWell(outer_bound, top_bound, bottom_bound,\n",
    "                    wtype, nseg, nwells, xwds, ywds, attrs = {\"Fcd\": 10})\n",
    "mf_lapl_new = mf_well_new.lapl_well"
   ]
  },
  {
   "cell_type": "code",
   "execution_count": 6,
   "metadata": {
    "collapsed": true
   },
   "outputs": [],
   "source": [
    "mf_lapl_new.recalc(s)\n",
    "new_green = mf_lapl_new.green_matrix[:-1,1:]"
   ]
  },
  {
   "cell_type": "code",
   "execution_count": 7,
   "metadata": {},
   "outputs": [
    {
     "data": {
      "text/plain": [
       "True"
      ]
     },
     "execution_count": 7,
     "metadata": {},
     "output_type": "execute_result"
    }
   ],
   "source": [
    "np.allclose(old_green, new_green)"
   ]
  },
  {
   "cell_type": "code",
   "execution_count": 8,
   "metadata": {},
   "outputs": [
    {
     "data": {
      "text/plain": [
       "array([[  1.57188789e-01,   7.67651680e-02,   4.44560318e-02, ...,\n",
       "          2.25577507e-05,   1.87272867e-05,   1.54616792e-05],\n",
       "       [  7.67651680e-02,   1.57188789e-01,   7.67651680e-02, ...,\n",
       "          2.70096395e-05,   2.25577507e-05,   1.87272867e-05],\n",
       "       [  4.44560318e-02,   7.67651680e-02,   1.57188789e-01, ...,\n",
       "          3.21313292e-05,   2.70096395e-05,   2.25577507e-05],\n",
       "       ..., \n",
       "       [  2.25577507e-05,   2.70096395e-05,   3.21313292e-05, ...,\n",
       "          1.57188789e-01,   7.67651680e-02,   4.44560318e-02],\n",
       "       [  1.87272867e-05,   2.25577507e-05,   2.70096395e-05, ...,\n",
       "          7.67651680e-02,   1.57188789e-01,   7.67651680e-02],\n",
       "       [  1.54616792e-05,   1.87272867e-05,   2.25577507e-05, ...,\n",
       "          4.44560318e-02,   7.67651680e-02,   1.57188789e-01]])"
      ]
     },
     "execution_count": 8,
     "metadata": {},
     "output_type": "execute_result"
    }
   ],
   "source": [
    "old_green"
   ]
  },
  {
   "cell_type": "code",
   "execution_count": 9,
   "metadata": {},
   "outputs": [
    {
     "data": {
      "text/plain": [
       "array([[  1.57188789e-01,   7.67651680e-02,   4.44560318e-02, ...,\n",
       "          2.25577507e-05,   1.87272867e-05,   1.54616792e-05],\n",
       "       [  7.67651680e-02,   1.57188789e-01,   7.67651680e-02, ...,\n",
       "          2.70096395e-05,   2.25577507e-05,   1.87272867e-05],\n",
       "       [  4.44560318e-02,   7.67651680e-02,   1.57188789e-01, ...,\n",
       "          3.21313292e-05,   2.70096395e-05,   2.25577507e-05],\n",
       "       ..., \n",
       "       [  2.25577507e-05,   2.70096395e-05,   3.21313292e-05, ...,\n",
       "          1.57188789e-01,   7.67651680e-02,   4.44560318e-02],\n",
       "       [  1.87272867e-05,   2.25577507e-05,   2.70096395e-05, ...,\n",
       "          7.67651680e-02,   1.57188789e-01,   7.67651680e-02],\n",
       "       [  1.54616792e-05,   1.87272867e-05,   2.25577507e-05, ...,\n",
       "          4.44560318e-02,   7.67651680e-02,   1.57188789e-01]])"
      ]
     },
     "execution_count": 9,
     "metadata": {},
     "output_type": "execute_result"
    }
   ],
   "source": [
    "new_green"
   ]
  },
  {
   "cell_type": "code",
   "execution_count": 10,
   "metadata": {},
   "outputs": [
    {
     "data": {
      "text/plain": [
       "[<matplotlib.lines.Line2D at 0x81ac690>]"
      ]
     },
     "execution_count": 10,
     "metadata": {},
     "output_type": "execute_result"
    },
    {
     "data": {
      "image/png": "[encoded data removed]",
      "text/plain": [
       "<matplotlib.figure.Figure at 0x81560f0>"
      ]
     },
     "metadata": {},
     "output_type": "display_data"
    }
   ],
   "source": [
    "plt.plot(old_green[0,:])\n",
    "plt.plot(new_green[0,:])"
   ]
  },
  {
   "cell_type": "code",
   "execution_count": 19,
   "metadata": {
    "collapsed": true
   },
   "outputs": [],
   "source": [
    "ts = np.logspace(-3,1,41)"
   ]
  },
  {
   "cell_type": "code",
   "execution_count": 21,
   "metadata": {},
   "outputs": [],
   "source": [
    "\n"
   ]
  },
  {
   "cell_type": "code",
   "execution_count": 22,
   "metadata": {
    "collapsed": true
   },
   "outputs": [],
   "source": [
    "from time import time"
   ]
  },
  {
   "cell_type": "code",
   "execution_count": 25,
   "metadata": {},
   "outputs": [
    {
     "name": "stdout",
     "output_type": "stream",
     "text": [
      "4.890279769897461\n"
     ]
    }
   ],
   "source": [
    "p_old = []\n",
    "t1 =time()\n",
    "for t in ts:\n",
    "    p_old.append(mf.get_pw(t))\n",
    "print(time()-t1)"
   ]
  },
  {
   "cell_type": "code",
   "execution_count": 27,
   "metadata": {},
   "outputs": [
    {
     "name": "stdout",
     "output_type": "stream",
     "text": [
      "3.213183641433716\n"
     ]
    }
   ],
   "source": [
    "p_new = []\n",
    "t1 = time()\n",
    "for t in ts:\n",
    "    p_new.append(mf_well_new.pw(t))\n",
    "print(time()-t1)"
   ]
  },
  {
   "cell_type": "code",
   "execution_count": 28,
   "metadata": {},
   "outputs": [
    {
     "data": {
      "text/plain": [
       "[<matplotlib.lines.Line2D at 0x13a8cff0>]"
      ]
     },
     "execution_count": 28,
     "metadata": {},
     "output_type": "execute_result"
    },
    {
     "data": {
      "image/png": "[encoded data removed]",
      "text/plain": [
       "<matplotlib.figure.Figure at 0x11793bd0>"
      ]
     },
     "metadata": {},
     "output_type": "display_data"
    }
   ],
   "source": [
    "plt.plot(ts, p_old)\n",
    "plt.plot(ts, p_new)"
   ]
  },
  {
   "cell_type": "code",
   "execution_count": 18,
   "metadata": {
    "collapsed": true
   },
   "outputs": [],
   "source": [
    "dxd = 3.\n",
    "xws = np.array([-dxd, 0., dxd])\n",
    "yws = np.array([0, 0., 0])\n",
    "nwells = 3\n",
    "mf_2 = Multifrac(nwells, xws, yws, outer_bound, top_bound, bottom_bound, params, n_stehf)"
   ]
  },
  {
   "cell_type": "code",
   "execution_count": 22,
   "metadata": {
    "collapsed": true
   },
   "outputs": [],
   "source": [
    "xwds = [-dxd, 0, dxd]\n",
    "ywds = [0., 0., 0.]\n",
    "x_lengths = 1\n",
    "xed = None\n",
    "yed = None\n",
    "zwds = None\n",
    "hd = None\n",
    "mf_new_2 = NewWell(outer_bound, top_bound, bottom_bound,\n",
    "                    wtype, nseg, nwells, xwds, ywds, attrs = {\"Fcd\": 10})"
   ]
  },
  {
   "cell_type": "code",
   "execution_count": 19,
   "metadata": {},
   "outputs": [
    {
     "name": "stdout",
     "output_type": "stream",
     "text": [
      "1.5800902843475342\n"
     ]
    }
   ],
   "source": [
    "p_old_2 = []\n",
    "t1 =time()\n",
    "for t in ts:\n",
    "    p_old_2.append(mf_2.get_pw(t))\n",
    "print(time()-t1)"
   ]
  },
  {
   "cell_type": "code",
   "execution_count": 23,
   "metadata": {},
   "outputs": [
    {
     "name": "stdout",
     "output_type": "stream",
     "text": [
      "0.1520087718963623\n"
     ]
    }
   ],
   "source": [
    "p_new_2 = []\n",
    "t1 =time()\n",
    "for t in ts:\n",
    "    p_new_2.append(mf_new_2.pw(t))\n",
    "print(time()-t1)"
   ]
  },
  {
   "cell_type": "code",
   "execution_count": 24,
   "metadata": {},
   "outputs": [
    {
     "data": {
      "text/plain": [
       "[<matplotlib.lines.Line2D at 0x7916510>]"
      ]
     },
     "execution_count": 24,
     "metadata": {},
     "output_type": "execute_result"
    },
    {
     "data": {
      "image/png": "[encoded data removed]",
      "text/plain": [
       "<matplotlib.figure.Figure at 0xef08470>"
      ]
     },
     "metadata": {},
     "output_type": "display_data"
    }
   ],
   "source": [
    "plt.xscale(\"log\")\n",
    "plt.plot(ts, p_old_2)\n",
    "plt.plot(ts, p_new_2)"
   ]
  },
  {
   "cell_type": "code",
   "execution_count": 25,
   "metadata": {},
   "outputs": [
    {
     "data": {
      "text/plain": [
       "[0.046297795792128227,\n",
       " 0.049302481260824038,\n",
       " 0.052557354674874546,\n",
       " 0.056095458950480293,\n",
       " 0.059954402666647866,\n",
       " 0.064176557238198484,\n",
       " 0.068809213825943516,\n",
       " 0.073904709681102077,\n",
       " 0.079520520040915699,\n",
       " 0.085719308911677672,\n",
       " 0.09256892870757838,\n",
       " 0.1001423396392056,\n",
       " 0.10851740885942718,\n",
       " 0.11777656578925644,\n",
       " 0.12800624942650529,\n",
       " 0.13929606091488722,\n",
       " 0.1517375430854031,\n",
       " 0.16542284729590051,\n",
       " 0.18044375207824714,\n",
       " 0.19689217895040656,\n",
       " 0.21486325641154735,\n",
       " 0.23446159721254389,\n",
       " 0.25581047469967189,\n",
       " 0.27906239933906818,\n",
       " 0.30440857732492077,\n",
       " 0.33208416387662965,\n",
       " 0.36236718458792438,\n",
       " 0.39556992273969627,\n",
       " 0.43202439587457775,\n",
       " 0.47206525056265036]"
      ]
     },
     "execution_count": 25,
     "metadata": {},
     "output_type": "execute_result"
    }
   ],
   "source": [
    "p_old_2"
   ]
  },
  {
   "cell_type": "markdown",
   "metadata": {},
   "source": [
    "## Here I checked new class works OK"
   ]
  },
  {
   "cell_type": "code",
   "execution_count": 26,
   "metadata": {
    "collapsed": true
   },
   "outputs": [],
   "source": [
    "np.linalg.norm?"
   ]
  },
  {
   "cell_type": "code",
   "execution_count": null,
   "metadata": {
    "collapsed": true
   },
   "outputs": [],
   "source": []
  }
 ],
 "metadata": {
  "kernelspec": {
   "display_name": "Python 3",
   "language": "python",
   "name": "python3"
  },
  "language_info": {
   "codemirror_mode": {
    "name": "ipython",
    "version": 3
   },
   "file_extension": ".py",
   "mimetype": "text/x-python",
   "name": "python",
   "nbconvert_exporter": "python",
   "pygments_lexer": "ipython3",
   "version": "3.6.1"
  }
 },
 "nbformat": 4,
 "nbformat_minor": 2
}
