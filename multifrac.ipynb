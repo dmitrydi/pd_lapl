{
 "cells": [
  {
   "cell_type": "code",
   "execution_count": 1,
   "metadata": {},
   "outputs": [],
   "source": [
    "import numpy as np\n",
    "import matplotlib.pyplot as plt\n",
    "from well import Well\n",
    "from geometry_keeper import GeometryKeeper"
   ]
  },
  {
   "cell_type": "code",
   "execution_count": 2,
   "metadata": {},
   "outputs": [],
   "source": [
    "xwd = 1.\n",
    "ywd = 0.\n",
    "outer_bound = \"infinite\"\n",
    "top_bound = \"imp\"\n",
    "bottom_bound = \"imp\"\n",
    "wtype = \"frac\"\n",
    "n_stehf = 10\n",
    "params = {\"nseg\": 10, \"kx\": 1., \"ky\": 1., \"kz\": 1., \"omega\": 1, \"lambda\": 1, \"Fcd\":1000, \"ref_length\":1.,\n",
    "         \"z_ref_length\": 1}\n",
    "real_well = Well(xwd, ywd, outer_bound, top_bound, bottom_bound, wtype, params, n_stehf)\n",
    "well = real_well.lapl_well"
   ]
  },
  {
   "cell_type": "code",
   "execution_count": 3,
   "metadata": {},
   "outputs": [
    {
     "data": {
      "text/plain": [
       "1.2236057886748313"
      ]
     },
     "execution_count": 3,
     "metadata": {},
     "output_type": "execute_result"
    }
   ],
   "source": [
    "real_well.get_pw(1)"
   ]
  },
  {
   "cell_type": "code",
   "execution_count": 4,
   "metadata": {
    "collapsed": true
   },
   "outputs": [],
   "source": [
    "from multifrac import Multifrac"
   ]
  },
  {
   "cell_type": "code",
   "execution_count": 5,
   "metadata": {},
   "outputs": [],
   "source": [
    "xws = np.array([-3., 0., 3.])\n",
    "yws = np.array([1., 0., -1.])\n",
    "nwells = 3\n",
    "outer_bound = \"infinite\"\n",
    "top_bound = \"imp\"\n",
    "bottom_bound = \"imp\"\n",
    "n_stehf = 10\n",
    "params = {\"nseg\": 10, \"kx\": 1., \"ky\": 1., \"kz\": 1., \"omega\": 1, \"lambda\": 1, \"Fcd\":1000, \"ref_length\":1.,\n",
    "         \"z_ref_length\": 1}\n",
    "mf = Multifrac(nwells, xws, yws, outer_bound, top_bound, bottom_bound, params, n_stehf)"
   ]
  },
  {
   "cell_type": "code",
   "execution_count": 7,
   "metadata": {},
   "outputs": [
    {
     "data": {
      "text/plain": [
       "{'well_0': <lapl_well.LaplWell at 0x61d26d0>,\n",
       " 'well_1': <lapl_well.LaplWell at 0x61d2710>,\n",
       " 'well_2': <lapl_well.LaplWell at 0x61d2790>}"
      ]
     },
     "execution_count": 7,
     "metadata": {},
     "output_type": "execute_result"
    }
   ],
   "source": [
    "mf.lapl_well.lapl_wells"
   ]
  },
  {
   "cell_type": "code",
   "execution_count": 18,
   "metadata": {},
   "outputs": [],
   "source": [
    "N = 2\n",
    "dx = 1/N\n",
    "xd = -3\n",
    "m_xd = xd + dx*np.matrix(np.arange(-N+0.5, N+0.5), dtype=np.float).transpose()*np.matrix(np.ones(2*N, dtype=np.float))\n",
    "m_xj1 = dx*np.matrix(np.ones(2*N, dtype=np.float)).transpose()*np.matrix(np.arange(-N, N), dtype=np.float)\n",
    "m_xj2 = dx + m_xj1"
   ]
  },
  {
   "cell_type": "code",
   "execution_count": 19,
   "metadata": {},
   "outputs": [
    {
     "data": {
      "text/plain": [
       "matrix([[-3.75, -3.75, -3.75, -3.75],\n",
       "        [-3.25, -3.25, -3.25, -3.25],\n",
       "        [-2.75, -2.75, -2.75, -2.75],\n",
       "        [-2.25, -2.25, -2.25, -2.25]])"
      ]
     },
     "execution_count": 19,
     "metadata": {},
     "output_type": "execute_result"
    }
   ],
   "source": [
    "m_xd"
   ]
  },
  {
   "cell_type": "code",
   "execution_count": 20,
   "metadata": {},
   "outputs": [
    {
     "data": {
      "text/plain": [
       "matrix([[-1. , -0.5,  0. ,  0.5],\n",
       "        [-1. , -0.5,  0. ,  0.5],\n",
       "        [-1. , -0.5,  0. ,  0.5],\n",
       "        [-1. , -0.5,  0. ,  0.5]])"
      ]
     },
     "execution_count": 20,
     "metadata": {},
     "output_type": "execute_result"
    }
   ],
   "source": [
    "m_xj1"
   ]
  },
  {
   "cell_type": "code",
   "execution_count": 21,
   "metadata": {},
   "outputs": [
    {
     "data": {
      "text/plain": [
       "matrix([[-0.5,  0. ,  0.5,  1. ],\n",
       "        [-0.5,  0. ,  0.5,  1. ],\n",
       "        [-0.5,  0. ,  0.5,  1. ],\n",
       "        [-0.5,  0. ,  0.5,  1. ]])"
      ]
     },
     "execution_count": 21,
     "metadata": {},
     "output_type": "execute_result"
    }
   ],
   "source": [
    "m_xj2"
   ]
  },
  {
   "cell_type": "code",
   "execution_count": 22,
   "metadata": {
    "collapsed": true
   },
   "outputs": [],
   "source": [
    "yd = 1\n",
    "ywd = 0\n",
    "myd = np.matrix((yd - ywd)*np.ones_like(m_xd))"
   ]
  },
  {
   "cell_type": "code",
   "execution_count": 23,
   "metadata": {},
   "outputs": [
    {
     "data": {
      "text/plain": [
       "matrix([[ 1.,  1.,  1.,  1.],\n",
       "        [ 1.,  1.,  1.,  1.],\n",
       "        [ 1.,  1.,  1.,  1.],\n",
       "        [ 1.,  1.,  1.,  1.]])"
      ]
     },
     "execution_count": 23,
     "metadata": {},
     "output_type": "execute_result"
    }
   ],
   "source": [
    "myd"
   ]
  },
  {
   "cell_type": "code",
   "execution_count": 32,
   "metadata": {},
   "outputs": [],
   "source": [
    "init_ary = np.dstack([np.array(m_xd), np.array(myd), np.array(m_xj1), np.array(m_xj2)]).reshape(-1, 4)"
   ]
  },
  {
   "cell_type": "code",
   "execution_count": 33,
   "metadata": {
    "collapsed": true
   },
   "outputs": [],
   "source": [
    "abs_ary = np.abs(init_ary)"
   ]
  },
  {
   "cell_type": "code",
   "execution_count": 34,
   "metadata": {},
   "outputs": [
    {
     "data": {
      "text/plain": [
       "array([[ 3.75,  1.  ,  1.  ,  0.5 ],\n",
       "       [ 3.75,  1.  ,  0.5 ,  0.  ],\n",
       "       [ 3.75,  1.  ,  0.  ,  0.5 ],\n",
       "       [ 3.75,  1.  ,  0.5 ,  1.  ],\n",
       "       [ 3.25,  1.  ,  1.  ,  0.5 ],\n",
       "       [ 3.25,  1.  ,  0.5 ,  0.  ],\n",
       "       [ 3.25,  1.  ,  0.  ,  0.5 ],\n",
       "       [ 3.25,  1.  ,  0.5 ,  1.  ],\n",
       "       [ 2.75,  1.  ,  1.  ,  0.5 ],\n",
       "       [ 2.75,  1.  ,  0.5 ,  0.  ],\n",
       "       [ 2.75,  1.  ,  0.  ,  0.5 ],\n",
       "       [ 2.75,  1.  ,  0.5 ,  1.  ],\n",
       "       [ 2.25,  1.  ,  1.  ,  0.5 ],\n",
       "       [ 2.25,  1.  ,  0.5 ,  0.  ],\n",
       "       [ 2.25,  1.  ,  0.  ,  0.5 ],\n",
       "       [ 2.25,  1.  ,  0.5 ,  1.  ]])"
      ]
     },
     "execution_count": 34,
     "metadata": {},
     "output_type": "execute_result"
    }
   ],
   "source": [
    "abs_ary"
   ]
  },
  {
   "cell_type": "code",
   "execution_count": 35,
   "metadata": {},
   "outputs": [
    {
     "data": {
      "text/plain": [
       "array([[ 3.75,  1.  ,  1.  ,  0.5 ],\n",
       "       [ 3.75,  1.  ,  0.5 ,  0.  ],\n",
       "       [ 3.75,  1.  ,  0.  ,  0.5 ],\n",
       "       [ 3.75,  1.  ,  0.5 ,  1.  ],\n",
       "       [ 3.25,  1.  ,  1.  ,  0.5 ],\n",
       "       [ 3.25,  1.  ,  0.5 ,  0.  ],\n",
       "       [ 3.25,  1.  ,  0.  ,  0.5 ],\n",
       "       [ 3.25,  1.  ,  0.5 ,  1.  ],\n",
       "       [ 2.75,  1.  ,  1.  ,  0.5 ],\n",
       "       [ 2.75,  1.  ,  0.5 ,  0.  ],\n",
       "       [ 2.75,  1.  ,  0.  ,  0.5 ],\n",
       "       [ 2.75,  1.  ,  0.5 ,  1.  ],\n",
       "       [ 2.25,  1.  ,  1.  ,  0.5 ],\n",
       "       [ 2.25,  1.  ,  0.5 ,  0.  ],\n",
       "       [ 2.25,  1.  ,  0.  ,  0.5 ],\n",
       "       [ 2.25,  1.  ,  0.5 ,  1.  ],\n",
       "       [ 3.75,  1.  ,  1.  ,  0.5 ],\n",
       "       [ 3.75,  1.  ,  0.5 ,  0.  ],\n",
       "       [ 3.75,  1.  ,  0.  ,  0.5 ],\n",
       "       [ 3.75,  1.  ,  0.5 ,  1.  ],\n",
       "       [ 3.25,  1.  ,  1.  ,  0.5 ],\n",
       "       [ 3.25,  1.  ,  0.5 ,  0.  ],\n",
       "       [ 3.25,  1.  ,  0.  ,  0.5 ],\n",
       "       [ 3.25,  1.  ,  0.5 ,  1.  ],\n",
       "       [ 2.75,  1.  ,  1.  ,  0.5 ],\n",
       "       [ 2.75,  1.  ,  0.5 ,  0.  ],\n",
       "       [ 2.75,  1.  ,  0.  ,  0.5 ],\n",
       "       [ 2.75,  1.  ,  0.5 ,  1.  ],\n",
       "       [ 2.25,  1.  ,  1.  ,  0.5 ],\n",
       "       [ 2.25,  1.  ,  0.5 ,  0.  ],\n",
       "       [ 2.25,  1.  ,  0.  ,  0.5 ],\n",
       "       [ 2.25,  1.  ,  0.5 ,  1.  ]])"
      ]
     },
     "execution_count": 35,
     "metadata": {},
     "output_type": "execute_result"
    }
   ],
   "source": [
    "abs_ary_2 = np.vstack([abs_ary, abs_ary])\n",
    "abs_ary_2"
   ]
  },
  {
   "cell_type": "code",
   "execution_count": 37,
   "metadata": {},
   "outputs": [
    {
     "data": {
      "text/plain": [
       "array([[ 2.25,  1.  ,  0.  ,  0.5 ],\n",
       "       [ 2.25,  1.  ,  0.5 ,  0.  ],\n",
       "       [ 2.25,  1.  ,  0.5 ,  1.  ],\n",
       "       [ 2.25,  1.  ,  1.  ,  0.5 ],\n",
       "       [ 2.75,  1.  ,  0.  ,  0.5 ],\n",
       "       [ 2.75,  1.  ,  0.5 ,  0.  ],\n",
       "       [ 2.75,  1.  ,  0.5 ,  1.  ],\n",
       "       [ 2.75,  1.  ,  1.  ,  0.5 ],\n",
       "       [ 3.25,  1.  ,  0.  ,  0.5 ],\n",
       "       [ 3.25,  1.  ,  0.5 ,  0.  ],\n",
       "       [ 3.25,  1.  ,  0.5 ,  1.  ],\n",
       "       [ 3.25,  1.  ,  1.  ,  0.5 ],\n",
       "       [ 3.75,  1.  ,  0.  ,  0.5 ],\n",
       "       [ 3.75,  1.  ,  0.5 ,  0.  ],\n",
       "       [ 3.75,  1.  ,  0.5 ,  1.  ],\n",
       "       [ 3.75,  1.  ,  1.  ,  0.5 ]])"
      ]
     },
     "execution_count": 37,
     "metadata": {},
     "output_type": "execute_result"
    }
   ],
   "source": [
    "np.unique(abs_ary_2, axis=0)"
   ]
  },
  {
   "cell_type": "code",
   "execution_count": 38,
   "metadata": {},
   "outputs": [
    {
     "data": {
      "text/plain": [
       "array([[ 3.75,  1.  ,  1.  ,  0.5 ],\n",
       "       [ 3.75,  1.  ,  0.5 ,  0.  ],\n",
       "       [ 3.75,  1.  ,  0.  ,  0.5 ],\n",
       "       [ 3.75,  1.  ,  0.5 ,  1.  ],\n",
       "       [ 3.25,  1.  ,  1.  ,  0.5 ],\n",
       "       [ 3.25,  1.  ,  0.5 ,  0.  ],\n",
       "       [ 3.25,  1.  ,  0.  ,  0.5 ],\n",
       "       [ 3.25,  1.  ,  0.5 ,  1.  ],\n",
       "       [ 2.75,  1.  ,  1.  ,  0.5 ],\n",
       "       [ 2.75,  1.  ,  0.5 ,  0.  ],\n",
       "       [ 2.75,  1.  ,  0.  ,  0.5 ],\n",
       "       [ 2.75,  1.  ,  0.5 ,  1.  ],\n",
       "       [ 2.25,  1.  ,  1.  ,  0.5 ],\n",
       "       [ 2.25,  1.  ,  0.5 ,  0.  ],\n",
       "       [ 2.25,  1.  ,  0.  ,  0.5 ],\n",
       "       [ 2.25,  1.  ,  0.5 ,  1.  ]])"
      ]
     },
     "execution_count": 38,
     "metadata": {},
     "output_type": "execute_result"
    }
   ],
   "source": [
    "abs_ary"
   ]
  },
  {
   "cell_type": "code",
   "execution_count": 44,
   "metadata": {},
   "outputs": [
    {
     "data": {
      "text/plain": [
       "array([[ 2.25,  1.  ,  0.5 ,  0.  ],\n",
       "       [ 2.25,  1.  ,  1.  ,  0.5 ],\n",
       "       [ 2.25,  1.  ,  0.5 ,  0.  ],\n",
       "       [ 2.25,  1.  ,  0.5 ,  1.  ],\n",
       "       [ 2.25,  1.  ,  1.  ,  0.5 ],\n",
       "       [ 2.25,  1.  ,  0.5 ,  0.  ],\n",
       "       [ 2.25,  1.  ,  0.5 ,  0.  ],\n",
       "       [ 2.25,  1.  ,  0.5 ,  0.  ],\n",
       "       [ 2.25,  1.  ,  1.  ,  0.5 ],\n",
       "       [ 2.25,  1.  ,  0.5 ,  0.  ],\n",
       "       [ 2.25,  1.  ,  0.5 ,  1.  ],\n",
       "       [ 2.25,  1.  ,  1.  ,  0.5 ],\n",
       "       [ 2.25,  1.  ,  0.5 ,  0.  ],\n",
       "       [ 2.25,  1.  ,  0.5 ,  0.  ],\n",
       "       [ 2.25,  1.  ,  0.5 ,  0.  ],\n",
       "       [ 2.25,  1.  ,  1.  ,  0.5 ],\n",
       "       [ 2.25,  1.  ,  0.5 ,  0.  ],\n",
       "       [ 2.25,  1.  ,  0.5 ,  1.  ],\n",
       "       [ 2.25,  1.  ,  1.  ,  0.5 ],\n",
       "       [ 2.25,  1.  ,  0.5 ,  0.  ],\n",
       "       [ 2.25,  1.  ,  0.5 ,  0.  ],\n",
       "       [ 2.25,  1.  ,  0.5 ,  0.  ],\n",
       "       [ 2.25,  1.  ,  1.  ,  0.5 ],\n",
       "       [ 2.25,  1.  ,  0.5 ,  0.  ],\n",
       "       [ 2.25,  1.  ,  0.5 ,  1.  ],\n",
       "       [ 2.25,  1.  ,  1.  ,  0.5 ],\n",
       "       [ 2.25,  1.  ,  0.5 ,  0.  ],\n",
       "       [ 2.25,  1.  ,  0.5 ,  0.  ]])"
      ]
     },
     "execution_count": 44,
     "metadata": {},
     "output_type": "execute_result"
    }
   ],
   "source": [
    "np.unique(abs_ary_2, axis=0)[np.argwhere(abs_ary==np.unique(abs_ary_2, axis=0))[:,1]]"
   ]
  },
  {
   "cell_type": "code",
   "execution_count": null,
   "metadata": {
    "collapsed": true
   },
   "outputs": [],
   "source": []
  }
 ],
 "metadata": {
  "kernelspec": {
   "display_name": "Python 3",
   "language": "python",
   "name": "python3"
  },
  "language_info": {
   "codemirror_mode": {
    "name": "ipython",
    "version": 3
   },
   "file_extension": ".py",
   "mimetype": "text/x-python",
   "name": "python",
   "nbconvert_exporter": "python",
   "pygments_lexer": "ipython3",
   "version": "3.6.1"
  }
 },
 "nbformat": 4,
 "nbformat_minor": 2
}
