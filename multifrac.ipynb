{
 "cells": [
  {
   "cell_type": "code",
   "execution_count": 1,
   "metadata": {
    "collapsed": true
   },
   "outputs": [],
   "source": [
    "import numpy as np\n",
    "import matplotlib.pyplot as plt\n",
    "from well import Well\n",
    "from geometry_keeper import GeometryKeeper\n",
    "from scipy.integrate import quad\n",
    "from scipy.special import k0, iti0k0"
   ]
  },
  {
   "cell_type": "code",
   "execution_count": 2,
   "metadata": {
    "collapsed": true
   },
   "outputs": [],
   "source": [
    "from multifrac import Multifrac"
   ]
  },
  {
   "cell_type": "code",
   "execution_count": 3,
   "metadata": {},
   "outputs": [
    {
     "ename": "NameError",
     "evalue": "name 'params' is not defined",
     "output_type": "error",
     "traceback": [
      "\u001b[1;31m---------------------------------------------------------------------------\u001b[0m",
      "\u001b[1;31mNameError\u001b[0m                                 Traceback (most recent call last)",
      "\u001b[1;32m<ipython-input-3-9a2c881e6366>\u001b[0m in \u001b[0;36m<module>\u001b[1;34m()\u001b[0m\n\u001b[0;32m      1\u001b[0m \u001b[1;31m####\u001b[0m\u001b[1;33m\u001b[0m\u001b[1;33m\u001b[0m\u001b[0m\n\u001b[0;32m      2\u001b[0m \u001b[1;32mfrom\u001b[0m \u001b[0mtime\u001b[0m \u001b[1;32mimport\u001b[0m \u001b[0mtime\u001b[0m\u001b[1;33m\u001b[0m\u001b[0m\n\u001b[1;32m----> 3\u001b[1;33m \u001b[0mdx\u001b[0m \u001b[1;33m=\u001b[0m \u001b[1;36m1.\u001b[0m\u001b[1;33m/\u001b[0m\u001b[0mparams\u001b[0m\u001b[1;33m[\u001b[0m\u001b[1;34m\"nseg\"\u001b[0m\u001b[1;33m]\u001b[0m\u001b[1;33m\u001b[0m\u001b[0m\n\u001b[0m\u001b[0;32m      4\u001b[0m \u001b[1;33m\u001b[0m\u001b[0m\n\u001b[0;32m      5\u001b[0m \u001b[0msu\u001b[0m \u001b[1;33m=\u001b[0m \u001b[0ms\u001b[0m\u001b[1;33m**\u001b[0m\u001b[1;36m0.5\u001b[0m\u001b[1;33m\u001b[0m\u001b[0m\n",
      "\u001b[1;31mNameError\u001b[0m: name 'params' is not defined"
     ]
    }
   ],
   "source": [
    "####\n",
    "from time import time\n",
    "dx = 1./params[\"nseg\"]\n",
    "\n",
    "su = s**0.5\n",
    "orig_shape = (nwells*2*params[\"nseg\"], nwells*2*params[\"nseg\"])\n",
    "orig_geo = mf_lapl.geo.reshape(nwells*2*params[\"nseg\"], nwells*2*params[\"nseg\"],5)\n",
    "resh_geo = mf_lapl.geo.reshape(-1,5)\n",
    "ans = np.zeros(resh_geo.shape[0])\n",
    "def g(x_, dyd, su):\n",
    "    return 0.5*k0(su*(x_*x_+dyd*dyd)**0.5)\n",
    "def f(x):\n",
    "    return quad(g, x[0]-dx, x[0], args=(x[1], su))[0]\n",
    "t1 = time()\n",
    "## find elements where dyd == 0\n",
    "dyd_0_inds = np.argwhere(resh_geo[:,2] == 0).flatten()\n",
    "dyd_nnz_inds = np.argwhere(resh_geo[:,2] != 0).flatten()\n",
    "print(resh_geo.shape)\n",
    "## select these items from the all items\n",
    "dyd_0 = resh_geo[dyd_0_inds]\n",
    "## select values from the first and second columns:\n",
    "lims1 = dyd_0[:,0]\n",
    "n_lims1 = len(lims1)\n",
    "lims2 = dyd_0[:,1]\n",
    "mask1 = dyd_0[:,-2]\n",
    "mask2 = dyd_0[:,-1]\n",
    "lims = np.append(lims1, lims2)\n",
    "ulims, inds = np.unique(lims, return_inverse=True)\n",
    "print(len(ulims))\n",
    "uvals = 0.5/su*(iti0k0(su*ulims)[1])\n",
    "vals = uvals[inds]\n",
    "vals1 = vals[:n_lims1]\n",
    "vals2 = vals[n_lims1:]\n",
    "assert len(vals1) == len(vals2)\n",
    "true_vals = vals1*mask1 + vals2*mask2\n",
    "ans[dyd_0_inds] = true_vals\n",
    "print(\"t1: {}\".format(time()-t1))\n",
    "## calc items with dyd <> 0\n",
    "t1 = time()\n",
    "dyd_nnz = resh_geo[dyd_nnz_inds][:,:3]\n",
    "dyd_lims = dyd_nnz[:,:2]\n",
    "dyd_upper_lims = np.max(dyd_lims, axis=1).reshape(-1,1)\n",
    "dyd_upper_lims = np.hstack([dyd_upper_lims, dyd_nnz[:,-1].reshape(-1,1)])\n",
    "dyd_unique_items, indices = np.unique(dyd_upper_lims, axis=0, return_inverse=True)\n",
    "dyd_unique_vals = np.apply_along_axis(f, 1, dyd_unique_items)\n",
    "dyd_vals = dyd_unique_vals[indices]\n",
    "ans[dyd_nnz_inds] = dyd_vals\n",
    "ans = ans.reshape(orig_shape)\n",
    "print(\"t2: {}\".format(time()-t1))\n",
    "\n",
    "print(\"calculate simply\")\n",
    "def foo(x):\n",
    "    if x[2] == 0.:\n",
    "        return 0.5/su*(iti0k0(su*x[0])[1]*x[-2]+iti0k0(su*x[1])[1]*x[-1])\n",
    "    else:\n",
    "        ulim = max(x[0], x[1])\n",
    "        return quad(g, ulim-dx, ulim, args=(x[2], su))[0]\n",
    "\n",
    "t1 = time()\n",
    "straight_ans = np.apply_along_axis(foo, 2, orig_geo)\n",
    "print(\"t3: {}\".format(time()-t1))\n",
    "print(np.allclose(ans, straight_ans))"
   ]
  },
  {
   "cell_type": "code",
   "execution_count": 4,
   "metadata": {},
   "outputs": [
    {
     "name": "stdout",
     "output_type": "stream",
     "text": [
      "True\n",
      "True\n",
      "True\n",
      "######\n",
      "1.00977552514e-05\n",
      "5.04887762572e-05\n",
      "5.0\n"
     ]
    }
   ],
   "source": [
    "outer_bound = \"infinite\"\n",
    "top_bound = \"imp\"\n",
    "bottom_bound = \"imp\"\n",
    "wtype = \"frac\"\n",
    "n_stehf = 10\n",
    "xwd = 0.\n",
    "ywd = 0.\n",
    "N = 40\n",
    "\n",
    "params = {\"nseg\": N, \"kx\": 1., \"ky\": 1., \"kz\": 1., \"omega\": 1, \"lambda\": 1, \"Fcd\":100, \"ref_length\":1.,\n",
    "         \"z_ref_length\": 1}\n",
    "real_well = Well(xwd, ywd, outer_bound, top_bound, bottom_bound, wtype, params, n_stehf)\n",
    "well = real_well.lapl_well\n",
    "\n",
    "dyd = 1.\n",
    "xws = np.array([0., 0., 0., 0., 0.])\n",
    "yws = np.array([2*dyd, dyd, 0., -dyd, -2*dyd])\n",
    "nwells = 5\n",
    "mf = Multifrac(nwells, xws, yws, outer_bound, top_bound, bottom_bound, params, n_stehf)\n",
    "mf2 = Multifrac(nwells, xws, yws, outer_bound, top_bound, bottom_bound, params, n_stehf, \"fixed_quad\", 5)\n",
    "mf_lapl = mf.lapl_well \n",
    "######\n",
    "\n",
    "\n",
    "s = 1120\n",
    "\n",
    "orig_shape = (nwells*params[\"nseg\"]*2, nwells*params[\"nseg\"]*2)\n",
    "source_m  = mf_lapl.get_source_matrix(s)\n",
    "right_matrix = well.get_green_matrix(s)\n",
    "geo = mf_lapl.geo\n",
    "green_matrix = np.zeros(geo.shape[0])\n",
    "dyd_0_inds = np.argwhere(geo[:, 2] == 0.).flatten()\n",
    "items_dyd_0 = geo[dyd_0_inds]\n",
    "lims1 = items_dyd_0[:,0]\n",
    "lims2 = items_dyd_0[:,1]\n",
    "n_lims1 = len(lims1)\n",
    "lims = np.append(lims1, lims2)\n",
    "mask_1 = items_dyd_0[:,-2]\n",
    "mask_2 = items_dyd_0[:,-1]\n",
    "ulims, inds = np.unique(lims, return_inverse = True)\n",
    "uvals = well.source.integrate_source_functions(s,\n",
    "        np.zeros_like(ulims, dtype=np.float),\n",
    "        ulims,\n",
    "        np.zeros_like(ulims, dtype=np.float))\n",
    "vals = uvals[inds]\n",
    "vals1 = vals[:n_lims1]\n",
    "vals2 = vals[n_lims1:]\n",
    "vals = vals1*mask_1 + vals2*mask_2\n",
    "green_matrix[dyd_0_inds] = vals\n",
    "dyd_nnz_inds = np.argwhere(geo[:, 2] > 0.).flatten()\n",
    "items_dyd_nnz = geo[dyd_nnz_inds][:,:3]\n",
    "lims = items_dyd_nnz[:,:2]\n",
    "upper_lims = np.max(lims, axis=1).reshape(-1, 1)\n",
    "upper_lims_dyds = np.hstack([upper_lims, items_dyd_nnz[:,-1].reshape(-1, 1)])\n",
    "ulims_dyd_nnz, inds_dyd_nnz = np.unique(upper_lims_dyds, axis=0, return_inverse=True)\n",
    "uvals_dyd_nnz = well.source.integrate_source_functions(s,\n",
    "        ulims_dyd_nnz[:, 0] - 1./params[\"nseg\"],\n",
    "        ulims_dyd_nnz[:, 0],\n",
    "        ulims_dyd_nnz[:, 1])\n",
    "vals_dyd_nnz = uvals_dyd_nnz[inds_dyd_nnz]\n",
    "green_matrix[dyd_nnz_inds] = vals_dyd_nnz\n",
    "green_matrix = green_matrix.reshape(orig_shape)\n",
    "# green_matrix[:2*N, 2*N:] = 0.\n",
    "# green_matrix[2*N:4*N, :2*N] = 0.\n",
    "# green_matrix[2*N:4*N, 4*N:] = 0.\n",
    "# green_matrix[4*N:,:4*N] = 0.\n",
    "print(np.allclose(green_matrix[:2*params[\"nseg\"],:2*params[\"nseg\"]], right_matrix))\n",
    "print(np.allclose(green_matrix[2*params[\"nseg\"]:4*params[\"nseg\"],2*params[\"nseg\"]:4*params[\"nseg\"]], right_matrix))\n",
    "print(np.allclose(green_matrix[4*params[\"nseg\"]:6*params[\"nseg\"],4*params[\"nseg\"]:6*params[\"nseg\"]], right_matrix))\n",
    "source_matrix = mf_lapl.get_source_matrix(s)\n",
    "right_part = mf_lapl.get_right_part(s)\n",
    "right_part[-1] = right_part[-1]\n",
    "true_right_part = well.get_right_part(s)\n",
    "true_source_matrix = well.get_source_matrix(s)\n",
    "combined_matrix = np.zeros((1+nwells*params[\"nseg\"]*2, 1+nwells*params[\"nseg\"]*2), dtype = np.float)\n",
    "combined_matrix[:-1,0] = 1.\n",
    "combined_matrix[-1, 1:] = 1.\n",
    "combined_matrix[:-1, 1:] = source_matrix - green_matrix\n",
    "true_e_green_matrix = well.ext_green_matrix(right_matrix)\n",
    "true_dummy_matrix = well.get_dummy_matrix()\n",
    "true_combined_matrix = true_dummy_matrix - true_e_green_matrix + true_source_matrix\n",
    "print(\"######\")\n",
    "solution = np.linalg.solve(combined_matrix, right_part)\n",
    "true_solution = np.linalg.solve(true_combined_matrix, true_right_part)\n",
    "print(solution[0])\n",
    "print(true_solution[0])\n",
    "print(true_solution[0]/solution[0])"
   ]
  },
  {
   "cell_type": "code",
   "execution_count": 5,
   "metadata": {},
   "outputs": [
    {
     "name": "stdout",
     "output_type": "stream",
     "text": [
      "0.504305087508\n",
      "0.102464388687\n",
      "4.92175958859\n"
     ]
    }
   ],
   "source": [
    "t = .1\n",
    "print(real_well.get_pw(t))\n",
    "print(mf.get_pw(t))\n",
    "print(real_well.get_pw(t)/mf.get_pw(t))"
   ]
  },
  {
   "cell_type": "code",
   "execution_count": 6,
   "metadata": {
    "collapsed": true
   },
   "outputs": [],
   "source": [
    "ts = np.logspace(-3, 0, 30)"
   ]
  },
  {
   "cell_type": "code",
   "execution_count": 7,
   "metadata": {
    "collapsed": true
   },
   "outputs": [],
   "source": [
    "singles = []\n",
    "\n",
    "for t in ts:\n",
    "    singles.append(real_well.get_pw(t))\n"
   ]
  },
  {
   "cell_type": "code",
   "execution_count": 16,
   "metadata": {},
   "outputs": [
    {
     "name": "stdout",
     "output_type": "stream",
     "text": [
      "done in 104.1449568271637 s\n"
     ]
    }
   ],
   "source": [
    "from time import time\n",
    "multi = []\n",
    "t1 = time()\n",
    "for t in ts:\n",
    "    multi.append(mf.get_pw(t))\n",
    "print(\"done in {} s\".format(time()-t1))"
   ]
  },
  {
   "cell_type": "code",
   "execution_count": 11,
   "metadata": {},
   "outputs": [],
   "source": [
    "import matplotlib.pyplot as plt\n",
    "% matplotlib inline"
   ]
  },
  {
   "cell_type": "code",
   "execution_count": 11,
   "metadata": {},
   "outputs": [
    {
     "data": {
      "text/plain": [
       "[<matplotlib.lines.Line2D at 0x52defb0>]"
      ]
     },
     "execution_count": 11,
     "metadata": {},
     "output_type": "execute_result"
    },
    {
     "data": {
      "image/png": "[encoded data removed]",
      "text/plain": [
       "<matplotlib.figure.Figure at 0xa9d36f0>"
      ]
     },
     "metadata": {},
     "output_type": "display_data"
    }
   ],
   "source": [
    "plt.xscale(\"log\")\n",
    "plt.plot(ts, singles)\n",
    "plt.plot(ts, multi)"
   ]
  },
  {
   "cell_type": "code",
   "execution_count": 12,
   "metadata": {},
   "outputs": [
    {
     "data": {
      "text/plain": [
       "[<matplotlib.lines.Line2D at 0x932d590>]"
      ]
     },
     "execution_count": 12,
     "metadata": {},
     "output_type": "execute_result"
    },
    {
     "data": {
      "image/png": "[encoded data removed]",
      "text/plain": [
       "<matplotlib.figure.Figure at 0x92436d0>"
      ]
     },
     "metadata": {},
     "output_type": "display_data"
    }
   ],
   "source": [
    "plt.xscale(\"log\")\n",
    "singles = np.array(singles)\n",
    "multi = np.array(multi)\n",
    "plt.plot(ts, singles/multi)"
   ]
  },
  {
   "cell_type": "markdown",
   "metadata": {},
   "source": [
    "### Here I found that multifrac is Ok"
   ]
  },
  {
   "cell_type": "code",
   "execution_count": 13,
   "metadata": {},
   "outputs": [],
   "source": [
    "mf2 = Multifrac(nwells, xws, yws, outer_bound, top_bound, bottom_bound, params, n_stehf, \"fixed_quad\", 5)"
   ]
  },
  {
   "cell_type": "code",
   "execution_count": 15,
   "metadata": {},
   "outputs": [
    {
     "name": "stdout",
     "output_type": "stream",
     "text": [
      "done in 94.00137662887573 s\n"
     ]
    }
   ],
   "source": [
    "from time import time\n",
    "multi2 = []\n",
    "t1 = time()\n",
    "for t in ts:\n",
    "    multi2.append(mf2.get_pw(t))\n",
    "print(\"done in {} s\".format(time()-t1))"
   ]
  },
  {
   "cell_type": "code",
   "execution_count": 20,
   "metadata": {},
   "outputs": [
    {
     "data": {
      "text/plain": [
       "[<matplotlib.lines.Line2D at 0x261f5c50>]"
      ]
     },
     "execution_count": 20,
     "metadata": {},
     "output_type": "execute_result"
    },
    {
     "data": {
      "image/png": "[encoded data removed]",
      "text/plain": [
       "<matplotlib.figure.Figure at 0x7cfa770>"
      ]
     },
     "metadata": {},
     "output_type": "display_data"
    }
   ],
   "source": [
    "plt.xscale(\"log\")\n",
    "multi2 = np.array(multi2)\n",
    "plt.plot(ts, singles/multi2)"
   ]
  },
  {
   "cell_type": "code",
   "execution_count": 15,
   "metadata": {
    "collapsed": true
   },
   "outputs": [],
   "source": [
    "dxd = 1.\n",
    "xws = np.array([-2*dxd,  0.,  2*dxd])\n",
    "yws = np.array([0., 0., 0.])\n",
    "nwells = 3\n",
    "mf3 = Multifrac(nwells, xws, yws, outer_bound, top_bound, bottom_bound, params, n_stehf)"
   ]
  },
  {
   "cell_type": "code",
   "execution_count": 16,
   "metadata": {},
   "outputs": [
    {
     "name": "stdout",
     "output_type": "stream",
     "text": [
      "done in 7.515429973602295 s\n"
     ]
    }
   ],
   "source": [
    "multi3 = []\n",
    "t1 = time()\n",
    "for t in ts:\n",
    "    multi3.append(mf3.get_pw(t))\n",
    "print(\"done in {} s\".format(time()-t1))"
   ]
  },
  {
   "cell_type": "code",
   "execution_count": 17,
   "metadata": {},
   "outputs": [
    {
     "data": {
      "text/plain": [
       "[<matplotlib.lines.Line2D at 0x95752f0>]"
      ]
     },
     "execution_count": 17,
     "metadata": {},
     "output_type": "execute_result"
    },
    {
     "data": {
      "image/png": "[encoded data removed]",
      "text/plain": [
       "<matplotlib.figure.Figure at 0x96013b0>"
      ]
     },
     "metadata": {},
     "output_type": "display_data"
    }
   ],
   "source": [
    "multi3 = np.array(multi3)\n",
    "plt.xscale(\"log\")\n",
    "plt.plot(ts, singles/multi3)"
   ]
  },
  {
   "cell_type": "code",
   "execution_count": 19,
   "metadata": {},
   "outputs": [
    {
     "data": {
      "text/plain": [
       "[<matplotlib.lines.Line2D at 0x982c330>]"
      ]
     },
     "execution_count": 19,
     "metadata": {},
     "output_type": "execute_result"
    },
    {
     "data": {
      "image/png": "[encoded data removed]",
      "text/plain": [
       "<matplotlib.figure.Figure at 0x8e6d990>"
      ]
     },
     "metadata": {},
     "output_type": "display_data"
    }
   ],
   "source": [
    "plt.plot(mf3.get_source_distribution(1e-3))\n",
    "plt.plot(mf3.get_source_distribution(10))"
   ]
  },
  {
   "cell_type": "code",
   "execution_count": 22,
   "metadata": {},
   "outputs": [
    {
     "data": {
      "text/plain": [
       "array([[ 0.0125,  0.0125,  0.    ,  1.    ,  1.    ],\n",
       "       [ 0.0125,  0.0375,  0.    , -1.    ,  1.    ],\n",
       "       [ 0.0375,  0.0625,  0.    , -1.    ,  1.    ],\n",
       "       ..., \n",
       "       [ 0.0625,  0.0375,  0.    ,  1.    , -1.    ],\n",
       "       [ 0.0375,  0.0125,  0.    ,  1.    , -1.    ],\n",
       "       [ 0.0125,  0.0125,  0.    ,  1.    ,  1.    ]])"
      ]
     },
     "execution_count": 22,
     "metadata": {},
     "output_type": "execute_result"
    }
   ],
   "source": [
    "mf3.lapl_well.geo"
   ]
  },
  {
   "cell_type": "code",
   "execution_count": 27,
   "metadata": {
    "collapsed": true
   },
   "outputs": [],
   "source": [
    "np.vectorize?"
   ]
  },
  {
   "cell_type": "code",
   "execution_count": 24,
   "metadata": {
    "collapsed": true
   },
   "outputs": [],
   "source": [
    "from scipy.special import k0"
   ]
  },
  {
   "cell_type": "code",
   "execution_count": 25,
   "metadata": {
    "collapsed": true
   },
   "outputs": [],
   "source": [
    "def g(x, su, dyd):\n",
    "    return k0(su*(x*x+dyd*dyd)**0.5)"
   ]
  },
  {
   "cell_type": "code",
   "execution_count": 26,
   "metadata": {
    "collapsed": true
   },
   "outputs": [],
   "source": [
    "def f(lim1, lim2, su, dyd):\n",
    "    return quad(g, lim1, lim2, args=(su, dyd))"
   ]
  },
  {
   "cell_type": "code",
   "execution_count": 28,
   "metadata": {
    "collapsed": true
   },
   "outputs": [],
   "source": [
    "vf = np.vectorize(f)"
   ]
  },
  {
   "cell_type": "code",
   "execution_count": 31,
   "metadata": {
    "collapsed": true
   },
   "outputs": [],
   "source": [
    "lims1 = mf3.lapl_well.geo[:,0]\n",
    "lims2 = mf3.lapl_well.geo[:,1]\n",
    "dyds = mf3.lapl_well.geo[:,2]+1."
   ]
  },
  {
   "cell_type": "code",
   "execution_count": 46,
   "metadata": {},
   "outputs": [
    {
     "name": "stdout",
     "output_type": "stream",
     "text": [
      "5.363306760787964\n"
     ]
    }
   ],
   "source": [
    "t1 = time()\n",
    "vf(lims1, lims2, 1, dyds)[0]\n",
    "print(time()-t1)"
   ]
  },
  {
   "cell_type": "code",
   "execution_count": 37,
   "metadata": {},
   "outputs": [],
   "source": [
    "sub_ary = mf3.lapl_well.geo[:, :3]\n",
    "sub_ary[:,-1] += 1."
   ]
  },
  {
   "cell_type": "code",
   "execution_count": 38,
   "metadata": {},
   "outputs": [
    {
     "data": {
      "text/plain": [
       "array([[ 0.0125,  0.0125,  1.    ],\n",
       "       [ 0.0125,  0.0375,  1.    ],\n",
       "       [ 0.0375,  0.0625,  1.    ],\n",
       "       ..., \n",
       "       [ 0.0625,  0.0375,  1.    ],\n",
       "       [ 0.0375,  0.0125,  1.    ],\n",
       "       [ 0.0125,  0.0125,  1.    ]])"
      ]
     },
     "execution_count": 38,
     "metadata": {},
     "output_type": "execute_result"
    }
   ],
   "source": [
    "sub_ary"
   ]
  },
  {
   "cell_type": "code",
   "execution_count": 43,
   "metadata": {
    "collapsed": true
   },
   "outputs": [],
   "source": [
    "def ff(x, su=None):\n",
    "    return quad(g, x[0], x[1], args=(su, x[2]))[0]"
   ]
  },
  {
   "cell_type": "code",
   "execution_count": 47,
   "metadata": {},
   "outputs": [
    {
     "name": "stdout",
     "output_type": "stream",
     "text": [
      "9.569547414779663\n"
     ]
    }
   ],
   "source": [
    "t1 = time()\n",
    "np.apply_along_axis(ff, 1, sub_ary, su=1.)\n",
    "print(time()-t1)"
   ]
  },
  {
   "cell_type": "code",
   "execution_count": null,
   "metadata": {
    "collapsed": true
   },
   "outputs": [],
   "source": []
  }
 ],
 "metadata": {
  "kernelspec": {
   "display_name": "Python 3",
   "language": "python",
   "name": "python3"
  },
  "language_info": {
   "codemirror_mode": {
    "name": "ipython",
    "version": 3
   },
   "file_extension": ".py",
   "mimetype": "text/x-python",
   "name": "python",
   "nbconvert_exporter": "python",
   "pygments_lexer": "ipython3",
   "version": "3.6.1"
  }
 },
 "nbformat": 4,
 "nbformat_minor": 2
}
